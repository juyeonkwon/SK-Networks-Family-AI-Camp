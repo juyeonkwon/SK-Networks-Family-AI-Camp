{
 "cells": [
  {
   "cell_type": "code",
   "execution_count": 1,
   "id": "1a169c7c",
   "metadata": {},
   "outputs": [],
   "source": [
    "import requests"
   ]
  },
  {
   "cell_type": "code",
   "execution_count": 3,
   "id": "b2dac877",
   "metadata": {},
   "outputs": [],
   "source": [
    "url = \"https://gs25.gsretail.com/gscvs/ko/store-services/locationList?CSRFToken=5816286d-ac9c-408c-991f-966b09b1e6db\""
   ]
  },
  {
   "cell_type": "code",
   "execution_count": null,
   "id": "2b848c10",
   "metadata": {},
   "outputs": [],
   "source": [
    "payload['searchSido'] = '26'"
   ]
  },
  {
   "cell_type": "code",
   "execution_count": 2,
   "id": "a9b0601e",
   "metadata": {},
   "outputs": [],
   "source": [
    "payload= {\"pageNum\" : \"1\",\n",
    "\"pageSize\" : \"50000\",\n",
    "\"searchShopName\" : \"\",\n",
    "\"searchSido\" : \"11\",\n",
    "\"searchGugun\" : \"1168\",\n",
    "\"searchDong\" : \"\",\n",
    "\"searchType\" : \"\",\n",
    "\"searchTypeService\" : \"0\",\n",
    "\"searchTypeToto\" : \"0\",\n",
    "\"searchTypeCafe25\" : \"0\",\n",
    "\"searchTypeInstant\" : \"0\",\n",
    "\"searchTypeDrug\" : \"0\",\n",
    "\"searchTypeSelf25\" : \"0\",\n",
    "\"searchTypePost\" : \"0\",\n",
    "\"searchTypeATM\" : \"0\",\n",
    "\"searchTypeWithdrawal\" : \"0\",\n",
    "\"searchTypeTaxrefund\" : \"0\",\n",
    "\"searchTypeSmartAtm\" : \"0\",\n",
    "\"searchTypeSelfCookingUtensils\" : \"0\",\n",
    "\"searchTypeDeliveryService\" : \"0\",\n",
    "\"searchTypeParcelService\" : \"0\",\n",
    "\"searchTypePotatoes\" : \"0\",\n",
    "\"searchTypeCardiacDefi\" : \"0\",\n",
    "\"searchTypeFishShapedBun\" : \"0\",\n",
    "\"searchTypeWine25\" : \"0\",\n",
    "\"searchTypeGoPizza\" : \"0\",\n",
    "\"searchTypeSpiritWine\" : \"0\",\n",
    "\"searchTypeFreshGanghw\" : \"0\",\n",
    "\"searchTypeMusinsa\" : \"0\",\n",
    "\"searchTypePosa\" : \"0\",}"
   ]
  },
  {
   "cell_type": "code",
   "execution_count": 4,
   "id": "f39952b7",
   "metadata": {},
   "outputs": [
    {
     "data": {
      "text/plain": [
       "<Response [403]>"
      ]
     },
     "execution_count": 4,
     "metadata": {},
     "output_type": "execute_result"
    }
   ],
   "source": [
    "requests.post(url, data=payload)"
   ]
  },
  {
   "cell_type": "code",
   "execution_count": 5,
   "id": "94c8c542",
   "metadata": {},
   "outputs": [],
   "source": [
    "gs25_url = \"https://gs25.gsretail.com/gscvs/ko/store-services/locations#;\""
   ]
  },
  {
   "cell_type": "code",
   "execution_count": 6,
   "id": "b1992ea0",
   "metadata": {},
   "outputs": [],
   "source": [
    "r = requests.get(gs25_url)"
   ]
  },
  {
   "cell_type": "code",
   "execution_count": 9,
   "id": "fafad709",
   "metadata": {},
   "outputs": [],
   "source": [
    "from bs4 import BeautifulSoup\n",
    "bs = BeautifulSoup(r.text)"
   ]
  },
  {
   "cell_type": "code",
   "execution_count": 24,
   "id": "dd832dc3",
   "metadata": {},
   "outputs": [],
   "source": [
    "header = {\n",
    "    'host' : 'gs25.gsretail.com',\n",
    "    'origin' : 'https://gs25.gsretail.com',\n",
    "    'referer' : 'https://gs25.gsretail.com/gscvs/ko/store-services/locations'\n",
    "}"
   ]
  },
  {
   "cell_type": "code",
   "execution_count": 37,
   "id": "2e931e2d",
   "metadata": {},
   "outputs": [],
   "source": [
    "url = \"https://gs25.gsretail.com/gscvs/ko/store-services/locationList?CSRFToken={}\"\n",
    "with requests.Session() as s:\n",
    "    r = s.get(gs25_url)\n",
    "    bs = BeautifulSoup(r.text)\n",
    "    csrf = bs.find(\"form\", id='CSRFForm').find(\"input\")['value']\n",
    "    r2 = s.post(url.format(csrf), data=payload, headers=header)"
   ]
  },
  {
   "cell_type": "code",
   "execution_count": 42,
   "id": "c9214d9c",
   "metadata": {},
   "outputs": [],
   "source": [
    "import json"
   ]
  },
  {
   "cell_type": "code",
   "execution_count": 50,
   "id": "0375b7c8",
   "metadata": {},
   "outputs": [
    {
     "data": {
      "text/plain": [
       "{'offeringService': ['cafe25'],\n",
       " 'shopCode': 'VQ868',\n",
       " 'longs': '37.51427067',\n",
       " 'address': '서울 강남구 봉은사로지하 601, , 9호선봉은사역 내 (삼성동 111-8)',\n",
       " 'shopName': 'GS25S9봉은사역점',\n",
       " 'lat': '127.06020558'}"
      ]
     },
     "execution_count": 50,
     "metadata": {},
     "output_type": "execute_result"
    }
   ],
   "source": [
    "json.loads(r2.json())['results'][2]"
   ]
  },
  {
   "cell_type": "code",
   "execution_count": 52,
   "id": "1b29caf5",
   "metadata": {},
   "outputs": [],
   "source": [
    "a = {'sido' : 11}"
   ]
  },
  {
   "cell_type": "code",
   "execution_count": 53,
   "id": "94c616ad",
   "metadata": {},
   "outputs": [],
   "source": [
    "a['sido'] = 22"
   ]
  },
  {
   "cell_type": "code",
   "execution_count": 54,
   "id": "3349fce1",
   "metadata": {},
   "outputs": [
    {
     "data": {
      "text/plain": [
       "{'sido': 22}"
      ]
     },
     "execution_count": 54,
     "metadata": {},
     "output_type": "execute_result"
    }
   ],
   "source": [
    "a"
   ]
  },
  {
   "cell_type": "code",
   "execution_count": 76,
   "id": "77ba552e",
   "metadata": {},
   "outputs": [],
   "source": [
    "url = \"https://gs25.gsretail.com/gscvs/ko/store-services/locations#;\"\n",
    "master = {x.text : x['value'] for x in BeautifulSoup(requests.get(url).text).find(\"select\", id='stb1').find_all(\"option\")[1:]}\n",
    "dosi_url = \"https://gs25.gsretail.com/gscvs/ko/gsapi/gis/searchGungu?&stb1={}&_=1749085623800\"\n",
    "jeonkuk = [{x[1] : x[0] for x in requests.get(dosi_url.format(code)).json()['result']} for code in master.values()]"
   ]
  },
  {
   "cell_type": "code",
   "execution_count": 85,
   "id": "b7107111",
   "metadata": {},
   "outputs": [
    {
     "data": {
      "text/plain": [
       "17"
      ]
     },
     "execution_count": 85,
     "metadata": {},
     "output_type": "execute_result"
    }
   ],
   "source": [
    "master.values().__len__()"
   ]
  },
  {
   "cell_type": "code",
   "execution_count": 86,
   "id": "e82bdc10",
   "metadata": {},
   "outputs": [
    {
     "data": {
      "text/plain": [
       "17"
      ]
     },
     "execution_count": 86,
     "metadata": {},
     "output_type": "execute_result"
    }
   ],
   "source": [
    "jeonkuk.__len__()"
   ]
  },
  {
   "cell_type": "code",
   "execution_count": 87,
   "id": "f16849cc",
   "metadata": {},
   "outputs": [
    {
     "name": "stdout",
     "output_type": "stream",
     "text": [
      "11 -- {'강남구': '1168', '강동구': '1174', '강북구': '1130', '강서구': '1150', '관악구': '1162', '광진구': '1121', '구로구': '1153', '금천구': '1154', '노원구': '1135', '도봉구': '1132', '동대문구': '1123', '동작구': '1159', '마포구': '1144', '서대문구': '1141', '서초구': '1165', '성동구': '1120', '성북구': '1129', '송파구': '1171', '양천구': '1147', '영등포구': '1156', '용산구': '1117', '은평구': '1138', '종로구': '1111', '중구': '1114', '중랑구': '1126'}\n",
      "26 -- {'강서구': '2644', '금정구': '2641', '기장군': '2671', '남구': '2629', '동구': '2617', '동래구': '2626', '부산진구': '2623', '북구': '2632', '사상구': '2653', '사하구': '2638', '서구': '2614', '수영구': '2650', '연제구': '2647', '영도구': '2620', '중구': '2611', '해운대구': '2635'}\n",
      "27 -- {'군위군': '2772', '남구': '2720', '달서구': '2729', '달성군': '2771', '동구': '2714', '북구': '2723', '서구': '2717', '수성구': '2726', '중구': '2711'}\n",
      "29 -- {'광산구': '2920', '남구': '2915', '동구': '2911', '북구': '2917', '서구': '2914'}\n",
      "28 -- {'강화군': '2871', '계양구': '2824', '남동구': '2820', '동구': '2814', '미추홀구': '2817', '부평구': '2823', '서구': '2826', '연수구': '2818', '옹진군': '2872', '중구': '2811'}\n",
      "30 -- {'대덕구': '3023', '동구': '3011', '서구': '3017', '유성구': '3020', '중구': '3014'}\n",
      "31 -- {'남구': '3114', '동구': '3117', '북구': '3120', '울주군': '3171', '중구': '3111'}\n",
      "36 -- {'세종특별자치시': '3611'}\n",
      "41 -- {'가평군': '4182', '고양시': '4128', '과천시': '4129', '광명시': '4121', '광주시': '4161', '구리시': '4131', '군포시': '4141', '김포시': '4157', '남양주시': '4136', '동두천시': '4125', '부천시': '4119', '성남시': '4113', '수원시': '4111', '시흥시': '4139', '안산시': '4127', '안성시': '4155', '안양시': '4117', '양주시': '4163', '양평군': '4183', '여주시': '4167', '연천군': '4180', '오산시': '4137', '용인시': '4146', '의왕시': '4143', '의정부시': '4115', '이천시': '4150', '파주시': '4148', '평택시': '4122', '포천시': '4165', '하남시': '4145', '화성시': '4159'}\n",
      "51 -- {'강릉시': '5115', '고성군': '5182', '동해시': '5117', '삼척시': '5123', '속초시': '5121', '양구군': '5180', '양양군': '5183', '영월군': '5175', '원주시': '5113', '인제군': '5181', '정선군': '5177', '철원군': '5178', '춘천시': '5111', '태백시': '5119', '평창군': '5176', '홍천군': '5172', '화천군': '5179', '횡성군': '5173'}\n",
      "44 -- {'계룡시': '4425', '공주시': '4415', '금산군': '4471', '논산시': '4423', '당진시': '4427', '보령시': '4418', '부여군': '4476', '서산시': '4421', '서천군': '4477', '아산시': '4420', '예산군': '4481', '천안시': '4413', '청양군': '4479', '태안군': '4482', '홍성군': '4480'}\n",
      "43 -- {'괴산군': '4376', '단양군': '4380', '보은군': '4372', '영동군': '4374', '옥천군': '4373', '음성군': '4377', '제천시': '4315', '증평군': '4378', '진천군': '4375', '청주시': '4311', '충주시': '4313'}\n",
      "48 -- {'거제시': '4831', '거창군': '4888', '고성군': '4882', '김해시': '4825', '남해군': '4884', '밀양시': '4827', '사천시': '4824', '산청군': '4886', '양산시': '4833', '의령군': '4872', '진주시': '4817', '창녕군': '4874', '창원시': '4812', '통영시': '4822', '하동군': '4885', '함안군': '4873', '함양군': '4887', '합천군': '4889'}\n",
      "47 -- {'경산시': '4729', '경주시': '4713', '고령군': '4783', '구미시': '4719', '김천시': '4715', '문경시': '4728', '봉화군': '4792', '상주시': '4725', '성주군': '4784', '안동시': '4717', '영덕군': '4777', '영양군': '4776', '영주시': '4721', '영천시': '4723', '예천군': '4790', '울릉군': '4794', '울진군': '4793', '의성군': '4773', '청도군': '4782', '청송군': '4775', '칠곡군': '4785', '포항시': '4711'}\n",
      "46 -- {'강진군': '4681', '고흥군': '4677', '곡성군': '4672', '광양시': '4623', '구례군': '4673', '나주시': '4617', '담양군': '4671', '목포시': '4611', '무안군': '4684', '보성군': '4678', '순천시': '4615', '신안군': '4691', '여수시': '4613', '영광군': '4687', '영암군': '4683', '완도군': '4689', '장성군': '4688', '장흥군': '4680', '진도군': '4690', '함평군': '4686', '해남군': '4682', '화순군': '4679'}\n",
      "52 -- {'고창군': '5279', '군산시': '5213', '김제시': '5221', '남원시': '5219', '무주군': '5273', '부안군': '5280', '순창군': '5277', '완주군': '5271', '익산시': '5214', '임실군': '5275', '장수군': '5274', '전주시': '5211', '정읍시': '5218', '진안군': '5272'}\n",
      "50 -- {'서귀포시': '5013', '제주시': '5011'}\n"
     ]
    }
   ],
   "source": [
    "for sido, code in zip(master.values(), jeonkuk):\n",
    "    print(f\"{sido} -- {code}\")\n"
   ]
  }
 ],
 "metadata": {
  "kernelspec": {
   "display_name": "base",
   "language": "python",
   "name": "python3"
  },
  "language_info": {
   "codemirror_mode": {
    "name": "ipython",
    "version": 3
   },
   "file_extension": ".py",
   "mimetype": "text/x-python",
   "name": "python",
   "nbconvert_exporter": "python",
   "pygments_lexer": "ipython3",
   "version": "3.10.16"
  }
 },
 "nbformat": 4,
 "nbformat_minor": 5
}
