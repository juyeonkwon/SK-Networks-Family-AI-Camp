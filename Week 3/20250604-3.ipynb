{
 "cells": [
  {
   "cell_type": "code",
   "execution_count": 1,
   "id": "f8e90b66",
   "metadata": {},
   "outputs": [],
   "source": [
    "import requests \n",
    "from bs4 import BeautifulSoup"
   ]
  },
  {
   "cell_type": "code",
   "execution_count": 2,
   "id": "51d8bfb2",
   "metadata": {},
   "outputs": [],
   "source": [
    "url = \"https://www.koreabaseball.com/Record/Player/HitterDetail/Basic.aspx?playerId=52105\""
   ]
  },
  {
   "cell_type": "code",
   "execution_count": 6,
   "id": "15746dcc",
   "metadata": {},
   "outputs": [],
   "source": [
    "data = BeautifulSoup(requests.get(url).text, 'lxml').find(\"div\", class_='player_basic')"
   ]
  },
  {
   "cell_type": "code",
   "execution_count": 12,
   "id": "db03df64",
   "metadata": {},
   "outputs": [
    {
     "name": "stdout",
     "output_type": "stream",
     "text": [
      " 김성우\n"
     ]
    }
   ],
   "source": [
    "for x in data.find_all('li'):\n",
    "    print(x.text.split(\":\")[-1])\n",
    "    break"
   ]
  },
  {
   "cell_type": "code",
   "execution_count": 16,
   "id": "8d1b60a1",
   "metadata": {},
   "outputs": [],
   "source": [
    "tmp = {}\n",
    "for x in data.find_all('li'):\n",
    "    a, b = x.text.split(\":\")\n",
    "    tmp[a.strip()] = b.strip()\n",
    "    "
   ]
  },
  {
   "cell_type": "code",
   "execution_count": 19,
   "id": "50890694",
   "metadata": {},
   "outputs": [
    {
     "data": {
      "text/plain": [
       "{'선수명': '김성우',\n",
       " '등번호': 'No.44',\n",
       " '생년월일': '2003년 11월 15일',\n",
       " '포지션': '포수(우투우타)',\n",
       " '신장/체중': '180cm/85kg',\n",
       " '경력': '성동초-건대부중-배재고',\n",
       " '입단 계약금': '5000만원',\n",
       " '연봉': '3100만원',\n",
       " '지명순위': '22 LG 2차 7라운드 67순위',\n",
       " '입단년도': '24LG'}"
      ]
     },
     "execution_count": 19,
     "metadata": {},
     "output_type": "execute_result"
    }
   ],
   "source": [
    "{x.text.split(\":\")[0].strip() : x.text.split(\":\")[1].strip() for x in data.find_all('li')}"
   ]
  },
  {
   "cell_type": "code",
   "execution_count": null,
   "id": "4ccba16c",
   "metadata": {},
   "outputs": [],
   "source": []
  }
 ],
 "metadata": {
  "kernelspec": {
   "display_name": "base",
   "language": "python",
   "name": "python3"
  },
  "language_info": {
   "codemirror_mode": {
    "name": "ipython",
    "version": 3
   },
   "file_extension": ".py",
   "mimetype": "text/x-python",
   "name": "python",
   "nbconvert_exporter": "python",
   "pygments_lexer": "ipython3",
   "version": "3.10.16"
  }
 },
 "nbformat": 4,
 "nbformat_minor": 5
}
