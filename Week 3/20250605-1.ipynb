{
 "cells": [
  {
   "cell_type": "code",
   "execution_count": null,
   "id": "c1771d52",
   "metadata": {},
   "outputs": [],
   "source": [
    "import requests \n",
    "from bs4 import BeautifulSoup\n",
    "import pymysql\n",
    "# ip 변경할것!!!\n",
    "conn = pymysql.connect(host='172.30.24.115', user='play', passwd='123', database='sk17', port=3306)\n",
    "import pandas as pd "
   ]
  },
  {
   "cell_type": "code",
   "execution_count": 4,
   "id": "01ee9fdb",
   "metadata": {},
   "outputs": [],
   "source": [
    "def get_detail(id_):\n",
    "    url = f\"https://www.koreabaseball.com/Record/Player/HitterDetail/Basic.aspx?playerId={id_}\"\n",
    "    data = BeautifulSoup(requests.get(url).text, 'lxml').find(\"div\", class_='player_basic')\n",
    "    return {x.text.split(\":\")[0].strip() : x.text.split(\":\")[1].strip() for x in data.find_all('li')}"
   ]
  },
  {
   "cell_type": "code",
   "execution_count": 5,
   "id": "939d9dd4",
   "metadata": {},
   "outputs": [],
   "source": [
    "cursor = conn.cursor()"
   ]
  },
  {
   "cell_type": "code",
   "execution_count": 7,
   "id": "eaa16791",
   "metadata": {},
   "outputs": [
    {
     "data": {
      "text/plain": [
       "893"
      ]
     },
     "execution_count": 7,
     "metadata": {},
     "output_type": "execute_result"
    }
   ],
   "source": [
    "cursor.execute(\"select kbo_id from kbo_player\")"
   ]
  },
  {
   "cell_type": "code",
   "execution_count": 8,
   "id": "8f3eb8a6",
   "metadata": {},
   "outputs": [],
   "source": [
    "result = cursor.fetchall()"
   ]
  },
  {
   "cell_type": "code",
   "execution_count": null,
   "id": "54725728",
   "metadata": {},
   "outputs": [
    {
     "ename": "",
     "evalue": "",
     "output_type": "error",
     "traceback": [
      "\u001b[1;31mThe Kernel crashed while executing code in the current cell or a previous cell. \n",
      "\u001b[1;31mPlease review the code in the cell(s) to identify a possible cause of the failure. \n",
      "\u001b[1;31mClick <a href='https://aka.ms/vscodeJupyterKernelCrash'>here</a> for more info. \n",
      "\u001b[1;31mView Jupyter <a href='command:jupyter.viewOutput'>log</a> for further details."
     ]
    }
   ],
   "source": [
    "dir(result)"
   ]
  },
  {
   "cell_type": "code",
   "execution_count": null,
   "id": "58ae94c8",
   "metadata": {},
   "outputs": [
    {
     "name": "stderr",
     "output_type": "stream",
     "text": [
      "100%|██████████| 893/893 [02:05<00:00,  7.14it/s]\n"
     ]
    }
   ],
   "source": [
    "import tqdm\n",
    "#total = [get_detail(x[0]) for x in result]\n",
    "\n",
    "total = []\n",
    "for x in tqdm.tqdm(result):\n",
    "    total.append(get_detail(x[0]))"
   ]
  },
  {
   "cell_type": "code",
   "execution_count": null,
   "id": "e8a2b6e6",
   "metadata": {},
   "outputs": [],
   "source": [
    "total"
   ]
  },
  {
   "cell_type": "code",
   "execution_count": null,
   "id": "010ca7b5",
   "metadata": {},
   "outputs": [],
   "source": [
    "pd.DataFrame(total)"
   ]
  },
  {
   "cell_type": "code",
   "execution_count": null,
   "id": "87d729bb",
   "metadata": {},
   "outputs": [],
   "source": []
  }
 ],
 "metadata": {
  "kernelspec": {
   "display_name": "base",
   "language": "python",
   "name": "python3"
  },
  "language_info": {
   "codemirror_mode": {
    "name": "ipython",
    "version": 3
   },
   "file_extension": ".py",
   "mimetype": "text/x-python",
   "name": "python",
   "nbconvert_exporter": "python",
   "pygments_lexer": "ipython3",
   "version": "3.10.16"
  }
 },
 "nbformat": 4,
 "nbformat_minor": 5
}
