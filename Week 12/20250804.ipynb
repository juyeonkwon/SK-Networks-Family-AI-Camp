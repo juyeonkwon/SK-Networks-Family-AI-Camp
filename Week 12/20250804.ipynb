{
 "cells": [
  {
   "cell_type": "code",
   "execution_count": 2,
   "id": "6ce33460",
   "metadata": {},
   "outputs": [],
   "source": [
    "from operator import itemgetter\n",
    "\n",
    "my_list = ['a', 'b', 'c', 'd']\n",
    "my_dict = {'name' : 'Alice', 'age' : 30}"
   ]
  },
  {
   "cell_type": "code",
   "execution_count": 3,
   "id": "1022ba1e",
   "metadata": {},
   "outputs": [],
   "source": [
    "get_index_1 = itemgetter(1)"
   ]
  },
  {
   "cell_type": "code",
   "execution_count": 4,
   "id": "76befe94",
   "metadata": {},
   "outputs": [
    {
     "data": {
      "text/plain": [
       "'b'"
      ]
     },
     "execution_count": 4,
     "metadata": {},
     "output_type": "execute_result"
    }
   ],
   "source": [
    "get_index_1(my_list)"
   ]
  },
  {
   "cell_type": "code",
   "execution_count": null,
   "id": "476dc5f0",
   "metadata": {},
   "outputs": [
    {
     "data": {
      "text/plain": [
       "30"
      ]
     },
     "execution_count": 6,
     "metadata": {},
     "output_type": "execute_result"
    }
   ],
   "source": [
    "# 값을 꺼내옴\n",
    "get_age = itemgetter('age')\n",
    "get_age(my_dict)"
   ]
  },
  {
   "cell_type": "code",
   "execution_count": 7,
   "id": "3dccd3a2",
   "metadata": {},
   "outputs": [],
   "source": [
    "getter = itemgetter(my_dict)"
   ]
  },
  {
   "cell_type": "code",
   "execution_count": 8,
   "id": "3cf3047b",
   "metadata": {},
   "outputs": [
    {
     "data": {
      "text/plain": [
       "operator.itemgetter({'name': 'Alice', 'age': 30})"
      ]
     },
     "execution_count": 8,
     "metadata": {},
     "output_type": "execute_result"
    }
   ],
   "source": [
    "getter"
   ]
  },
  {
   "cell_type": "code",
   "execution_count": 10,
   "id": "f695d95e",
   "metadata": {},
   "outputs": [
    {
     "name": "stdout",
     "output_type": "stream",
     "text": [
      "010-9999-4567\n"
     ]
    }
   ],
   "source": [
    "import re\n",
    "\n",
    "text = \"안녕하세요! 제 번호는 010-9999-4567 입니다.\"\n",
    "\n",
    "match = re.search(r\"(\\d{3}-\\d{4}-\\d{4})\", text)\n",
    "\n",
    "\n",
    "if match:\n",
    "    phone_number = match.group(1)\n",
    "    print(phone_number)"
   ]
  },
  {
   "cell_type": "code",
   "execution_count": null,
   "id": "8516cf35",
   "metadata": {},
   "outputs": [
    {
     "name": "stdout",
     "output_type": "stream",
     "text": [
      "010-9999-4567\n"
     ]
    }
   ],
   "source": [
    "import re\n",
    "\n",
    "text = \"안녕하세요! 제 번호는 010-9999-4567 입니다.\"\n",
    "\n",
    "# python 3.8부터 지원 --> 바다 코끼리 연산자🐘\n",
    "if match :=  re.search(r\"(\\d{3}-\\d{4}-\\d{4})\", text):\n",
    "    phone_number = match.group(1)\n",
    "    print(phone_number)"
   ]
  },
  {
   "cell_type": "code",
   "execution_count": 12,
   "id": "ef1838db",
   "metadata": {},
   "outputs": [],
   "source": [
    "from langchain_core.output_parsers import StrOutputParser\n",
    "from langchain_core.prompts import ChatPromptTemplate\n",
    "from langchain_openai import ChatOpenAI"
   ]
  },
  {
   "cell_type": "code",
   "execution_count": 15,
   "id": "82a55ab4",
   "metadata": {},
   "outputs": [],
   "source": [
    "prompt = ChatPromptTemplate.from_messages(\n",
    "    [\n",
    "        (\"system\", \"사용자가 입력한 요리의 레시피를 생각하세요\"),\n",
    "        (\"human\", \"{dish}\")\n",
    "    ]\n",
    ")"
   ]
  },
  {
   "cell_type": "code",
   "execution_count": 16,
   "id": "af8bc553",
   "metadata": {},
   "outputs": [],
   "source": [
    "model = ChatOpenAI(model= 'gpt-4o-mini', temperature=0)"
   ]
  },
  {
   "cell_type": "code",
   "execution_count": 17,
   "id": "0ef46084",
   "metadata": {},
   "outputs": [],
   "source": [
    "chain = prompt | model | StrOutputParser()"
   ]
  },
  {
   "cell_type": "code",
   "execution_count": 18,
   "id": "3a679639",
   "metadata": {},
   "outputs": [
    {
     "data": {
      "text/plain": [
       "'라면은 간편하게 만들 수 있는 인기 있는 한국의 면 요리입니다. 기본적인 라면 레시피를 소개할게요.\\n\\n### 재료\\n- 라면 1봉지\\n- 물 550ml (약 2컵 반)\\n- 스프 (라면 봉지에 포함된 것)\\n- 선택 재료 (선택 사항)\\n  - 계란 1개\\n  - 대파 (썰어서)\\n  - 김치\\n  - 치즈\\n  - 채소 (시금치, 버섯 등)\\n\\n### 조리 방법\\n1. **물 끓이기**: 냄비에 물 550ml를 붓고 중불에서 끓입니다.\\n2. **면 넣기**: 물이 끓기 시작하면 라면 면을 넣습니다. 면이 풀어질 때까지 약 2-3분간 끓입니다.\\n3. **스프 추가**: 면이 익어가면 라면 봉지에 포함된 스프를 넣고 잘 저어줍니다.\\n4. **선택 재료 추가**: \\n   - 계란을 넣고 싶다면, 면이 거의 다 익었을 때 계란을 깨서 넣고 저어줍니다.\\n   - 대파, 김치, 치즈, 채소 등을 추가하고 싶다면 이 단계에서 함께 넣어줍니다.\\n5. **마무리**: 모든 재료가 잘 섞이고 면이 원하는 만큼 익으면 불을 끄고 그릇에 담아냅니다.\\n\\n### 팁\\n- 매운 맛을 원한다면 고추가루나 청양고추를 추가해보세요.\\n- 국물이 진한 맛을 원한다면 물의 양을 줄이거나 스프를 추가로 넣어도 좋습니다.\\n\\n맛있게 드세요!'"
      ]
     },
     "execution_count": 18,
     "metadata": {},
     "output_type": "execute_result"
    }
   ],
   "source": [
    "chain.invoke({'dish':'라면'})"
   ]
  },
  {
   "cell_type": "code",
   "execution_count": 19,
   "id": "64a8d847",
   "metadata": {},
   "outputs": [
    {
     "name": "stdout",
     "output_type": "stream",
     "text": [
      "마라탕은 중국 사천 지방의 매운 국물 요리로, 다양한 재료를 넣어 즐길 수 있는 요리입니다. 아래는 마라탕의 기본 레시피입니다.\n",
      "\n",
      "### 재료\n",
      "- **육수**: 물 1.5리터, 닭육수 또는 소고기 육수\n",
      "- **마라 소스**: \n",
      "  - 고추기름 3큰술\n",
      "  - 두반장 1큰술\n",
      "  - 마라 소스 2큰술 (사천식 마라 소스)\n",
      "- **주재료**:\n",
      "  - 소고기 또는 닭고기 (얇게 썬 것) 200g\n",
      "  - 두부 1모 (사각으로 썬 것)\n",
      "  - 버섯 (표고버섯, 느타리버섯 등) 100g\n",
      "  - 채소 (청경채, 시금치, 콩나물 등) 200g\n",
      "  - 면 (중국식 면 또는 우동면) 200g\n",
      "- **토핑**: \n",
      "  - 다진 마늘 1큰술\n",
      "  - 다진 생강 1작은술\n",
      "  - 고수 (선택사항)\n",
      "  - 깨소금 (선택사항)\n",
      "\n",
      "### 조리 방법\n",
      "1. **육수 준비**: 큰 냄비에 물과 육수를 넣고 끓입니다. 끓기 시작하면 불을 줄이고, 육수의 맛을 내기 위해 소금과 후추로 간을 맞춥니다.\n",
      "\n",
      "2. **마라 소스 만들기**: 다른 팬에 고추기름을 데우고, 다진 마늘과 생강을 넣어 볶습니다. 향이 올라오면 두반장과 마라 소스를 넣고 잘 섞어줍니다.\n",
      "\n",
      "3. **재료 준비**: 소고기 또는 닭고기를 얇게 썰고, 두부와 채소, 버섯도 준비합니다.\n",
      "\n",
      "4. **면 삶기**: 끓는 육수에 면을 넣고 삶아줍니다. 면이 익으면 건져내고, 찬물에 헹궈서 준비합니다.\n",
      "\n",
      "5. **재료 조리**: 육수에 준비한 고기, 두부, 버섯, 채소를 넣고 끓입니다. 재료가 익을 때까지 약 5-10분 정도 끓입니다.\n",
      "\n",
      "6. **마무리**: 끓인 재료에 마라 소스를 넣고 잘 섞어줍니다. 마지막으로 고수를 뿌리고, 깨소금을 뿌려서 완성합니다.\n",
      "\n",
      "7. **서빙**: 준비한 면을 그릇에 담고, 끓인 국물과 재료를 위에 부어줍니다. 원하시면 추가로 고추기름을 뿌려서 매운맛을 더할 수 있습니다.\n",
      "\n",
      "맛있게 드세요! 마라탕은 개인의 취향에 따라 다양한 재료를 추가하거나 조절할 수 있으니, 자신만의 레시피로 즐겨보세요."
     ]
    }
   ],
   "source": [
    "for chunk in chain.stream({'dish' : '마라탕'}):\n",
    "    print(chunk, end=\"\")"
   ]
  },
  {
   "cell_type": "code",
   "execution_count": 24,
   "id": "7a56e91c",
   "metadata": {},
   "outputs": [],
   "source": [
    "# batch --> 여러 개 사용 가능\n",
    "output = chain.batch([{'dish':'라면'}, {'dish' : '떡볶이'}])"
   ]
  },
  {
   "cell_type": "code",
   "execution_count": 25,
   "id": "53665515",
   "metadata": {},
   "outputs": [
    {
     "data": {
      "text/plain": [
       "['라면은 간편하게 만들 수 있는 인기 있는 한국의 면 요리입니다. 기본적인 라면 레시피를 소개할게요.\\n\\n### 재료\\n- 라면 1봉지\\n- 물 550ml (약 2컵 반)\\n- 스프 (라면 봉지에 포함된 것)\\n- 선택 재료 (선택 사항):\\n  - 계란 1개\\n  - 대파 (썰어서)\\n  - 김치\\n  - 채소 (시금치, 버섯 등)\\n  - 고추 (매운맛을 원할 경우)\\n\\n### 조리 방법\\n1. **물 끓이기**: 냄비에 물 550ml를 붓고 중불에서 끓입니다.\\n2. **면 넣기**: 물이 끓기 시작하면 라면 면을 넣습니다. 면이 풀어질 때까지 약 2-3분 정도 끓입니다.\\n3. **스프 추가**: 면이 익어가면 라면 봉지에 포함된 스프를 넣고 잘 저어줍니다.\\n4. **선택 재료 추가**: \\n   - 계란을 넣고 싶다면, 면이 거의 다 익었을 때 계란을 깨서 넣고 저어줍니다.\\n   - 대파, 김치, 채소, 고추 등을 추가하여 더욱 풍부한 맛을 낼 수 있습니다.\\n5. **마무리**: 모든 재료가 잘 섞이고 면이 원하는 만큼 익으면 불을 끄고 그릇에 담아냅니다.\\n\\n### 팁\\n- 매운맛을 원한다면 고추를 추가하거나 매운 라면 스프를 선택하세요.\\n- 치즈를 추가하면 고소한 맛이 더해집니다.\\n\\n이제 맛있는 라면을 즐기세요!',\n",
       " '떡볶이는 한국의 대표적인 길거리 음식으로, 매콤하고 달콤한 소스에 떡과 다양한 재료를 넣어 만든 요리입니다. 아래는 기본 떡볶이 레시피입니다.\\n\\n### 재료\\n- 떡볶이 떡 300g\\n- 어묵 100g (선택 사항)\\n- 대파 1대\\n- 양배추 1컵 (선택 사항)\\n- 물 2컵\\n- 고추장 2큰술\\n- 고춧가루 1큰술\\n- 설탕 1큰술\\n- 간장 1큰술\\n- 다진 마늘 1작은술\\n- 참기름 1작은술\\n- 통깨 (선택 사항)\\n\\n### 조리 방법\\n1. **재료 준비**: 떡은 물에 잠시 담가 두어 부드럽게 하고, 어묵은 먹기 좋은 크기로 자릅니다. 대파는 송송 썰고, 양배추는 적당한 크기로 자릅니다.\\n\\n2. **소스 만들기**: 냄비에 물을 붓고, 고추장, 고춧가루, 설탕, 간장, 다진 마늘을 넣고 잘 섞어줍니다.\\n\\n3. **떡 넣기**: 소스가 끓기 시작하면 떡을 넣고 중불에서 5-7분 정도 끓입니다. 떡이 부드러워질 때까지 끓여주세요.\\n\\n4. **재료 추가**: 떡이 어느 정도 익으면 어묵, 대파, 양배추를 넣고 3-5분 더 끓입니다. 재료가 잘 익고 소스가 걸쭉해질 때까지 조리합니다.\\n\\n5. **마무리**: 마지막에 참기름을 넣고 잘 섞은 후, 통깨를 뿌려서 완성합니다.\\n\\n6. **서빙**: 뜨거운 떡볶이를 그릇에 담아 맛있게 즐기세요!\\n\\n### 팁\\n- 매운 맛을 조절하고 싶다면 고춧가루의 양을 조절하세요.\\n- 치즈를 추가하면 더욱 고소하고 맛있는 떡볶이를 즐길 수 있습니다.\\n- 다양한 재료(계란, 쫄면 등)를 추가하여 나만의 떡볶이를 만들어 보세요!\\n\\n맛있게 만들어 드세요!']"
      ]
     },
     "execution_count": 25,
     "metadata": {},
     "output_type": "execute_result"
    }
   ],
   "source": [
    "output"
   ]
  },
  {
   "cell_type": "markdown",
   "id": "7eff9725",
   "metadata": {},
   "source": [
    "---\n",
    "### cot"
   ]
  },
  {
   "cell_type": "code",
   "execution_count": 32,
   "id": "b425d5f1",
   "metadata": {},
   "outputs": [],
   "source": [
    "from dotenv import load_dotenv"
   ]
  },
  {
   "cell_type": "code",
   "execution_count": 33,
   "id": "58483fbe",
   "metadata": {},
   "outputs": [
    {
     "data": {
      "text/plain": [
       "True"
      ]
     },
     "execution_count": 33,
     "metadata": {},
     "output_type": "execute_result"
    }
   ],
   "source": [
    "load_dotenv()"
   ]
  },
  {
   "cell_type": "code",
   "execution_count": null,
   "id": "e334538b",
   "metadata": {},
   "outputs": [
    {
     "data": {
      "text/plain": [
       "'https://api.smith.langchain.com'"
      ]
     },
     "execution_count": 34,
     "metadata": {},
     "output_type": "execute_result"
    }
   ],
   "source": [
    "# 환경변수 등록 완료\n",
    "import os\n",
    "\n",
    "os.environ['LANGCHAIN_ENDPOINT']"
   ]
  },
  {
   "cell_type": "code",
   "execution_count": null,
   "id": "3e5e7b7e",
   "metadata": {},
   "outputs": [],
   "source": [
    "cot_prompt = ChatPromptTemplate.from_messages(\n",
    "    [\n",
    "        (\"system\", \"사용자의 질문에 단계적으로 답변하세요\"),\n",
    "        (\"human\" , \"{question}\")\n",
    "    ]\n",
    ")\n",
    "\n",
    "cot_chain = cot_prompt | model | StrOutputParser()"
   ]
  },
  {
   "cell_type": "code",
   "execution_count": 37,
   "id": "a1f90602",
   "metadata": {},
   "outputs": [],
   "source": [
    "summarize_prompt = ChatPromptTemplate.from_messages(\n",
    "    [\n",
    "        (\"system\", \"단계적으로 생각한 답변에서 결론만 추출할 것\"),\n",
    "        (\"human\" , \"{text}\")\n",
    "    ]\n",
    ")\n",
    "\n",
    "summarize_chain = summarize_prompt | model | StrOutputParser()"
   ]
  },
  {
   "cell_type": "code",
   "execution_count": 38,
   "id": "de2a9ee5",
   "metadata": {},
   "outputs": [],
   "source": [
    "cot_summarize_chain = cot_chain | summarize_chain"
   ]
  },
  {
   "cell_type": "code",
   "execution_count": 39,
   "id": "29993f5c",
   "metadata": {},
   "outputs": [],
   "source": [
    "output = cot_summarize_chain.invoke({'question' : \"10 + 5 * 3\"})"
   ]
  },
  {
   "cell_type": "code",
   "execution_count": 40,
   "id": "eb08bd2b",
   "metadata": {},
   "outputs": [
    {
     "name": "stdout",
     "output_type": "stream",
     "text": [
      "결론: \\(10 + 5 * 3 = 25\\)입니다.\n"
     ]
    }
   ],
   "source": [
    "print(output)"
   ]
  },
  {
   "cell_type": "markdown",
   "id": "522924b6",
   "metadata": {},
   "source": [
    "---\n",
    "### RunnableLambda"
   ]
  },
  {
   "cell_type": "code",
   "execution_count": 41,
   "id": "08289ba6",
   "metadata": {},
   "outputs": [],
   "source": [
    "from langchain_core.runnables import RunnableLambda"
   ]
  },
  {
   "cell_type": "code",
   "execution_count": null,
   "id": "bd5d276d",
   "metadata": {},
   "outputs": [],
   "source": [
    "def upper(text):\n",
    "    return text.upper()\n",
    "\n",
    "\n",
    "# <권장> RunnableLambda --> 랭체인에 ~~~를 넣고싶을 때 사용\n",
    "# chain = prompt | model | StrOutputParser() | RunnableLambda(upper)\n",
    "\n",
    "chain = prompt | model | StrOutputParser() | RunnableLambda(lambda x : x.upper())"
   ]
  },
  {
   "cell_type": "code",
   "execution_count": 43,
   "id": "c1604538",
   "metadata": {},
   "outputs": [
    {
     "data": {
      "text/plain": [
       "'라면은 간편하게 만들 수 있는 인기 있는 일본식 면 요리입니다. 기본적인 라면 레시피를 소개할게요.\\n\\n### 재료\\n- 라면 면 (1인분)\\n- 물 (500ML)\\n- 라면 스프 (포장에 포함된 것)\\n- 선택 재료 (예: 계란, 파, 김, 채소, 고기 등)\\n\\n### 조리 방법\\n1. **물 끓이기**: 냄비에 500ML의 물을 붓고 끓입니다.\\n  \\n2. **면 삶기**: 물이 끓기 시작하면 라면 면을 넣고 3-4분간 삶습니다. 면의 익힘 정도는 개인 취향에 따라 조절하세요.\\n\\n3. **스프 추가**: 면이 익으면 라면 스프를 넣고 잘 저어줍니다. 스프가 고루 섞이도록 해주세요.\\n\\n4. **선택 재료 추가**: 원하는 경우, 계란을 풀어 넣거나, 미리 삶아둔 채소, 고기, 파 등을 추가합니다. 계란을 넣을 경우, 1-2분 더 끓여주세요.\\n\\n5. **완성**: 모든 재료가 잘 섞이고 익으면 불을 끄고 그릇에 담습니다. 원한다면 김이나 추가적인 고명을 올려서 서빙합니다.\\n\\n### 팁\\n- 매운 맛을 원한다면 고추가루나 고추기름을 추가해보세요.\\n- 더 풍부한 맛을 원한다면, 미소된장이나 간장을 추가할 수 있습니다.\\n\\n맛있게 드세요!'"
      ]
     },
     "execution_count": 43,
     "metadata": {},
     "output_type": "execute_result"
    }
   ],
   "source": [
    "chain.invoke({'dish':'ramen'})"
   ]
  },
  {
   "cell_type": "code",
   "execution_count": 44,
   "id": "873e6ca5",
   "metadata": {},
   "outputs": [],
   "source": [
    "chain = prompt | model | StrOutputParser() | upper"
   ]
  },
  {
   "cell_type": "code",
   "execution_count": 45,
   "id": "e8a7c5d4",
   "metadata": {},
   "outputs": [
    {
     "data": {
      "text/plain": [
       "'라면은 간편하게 만들 수 있는 인기 있는 일본식 면 요리입니다. 기본적인 라면 레시피를 소개할게요.\\n\\n### 재료\\n- 라면 면 (1인분)\\n- 물 (500ML)\\n- 라면 스프 (포장에 포함된 것)\\n- 추가 재료 (선택 사항):\\n  - 계란 (1개)\\n  - 대파 (다진 것)\\n  - 김 (조각으로 자른 것)\\n  - 숙주나물\\n  - 버섯 (표고버섯, 느타리버섯 등)\\n  - 고기 (돼지고기, 닭고기 등)\\n  - 채소 (시금치, 브로콜리 등)\\n\\n### 조리 방법\\n1. **물 끓이기**: 냄비에 물을 붓고 끓입니다.\\n2. **면 삶기**: 물이 끓으면 라면 면을 넣고 3-4분간 삶습니다. 면의 익힘 정도는 개인 취향에 따라 조절하세요.\\n3. **스프 추가**: 면이 익으면 라면 스프를 넣고 잘 저어줍니다.\\n4. **추가 재료 넣기**: 원하는 추가 재료를 넣습니다. 예를 들어, 계란을 넣고 싶다면, 계란을 깨서 넣고 1-2분 더 끓입니다. 대파, 김, 숙주나물 등도 함께 넣어주세요.\\n5. **완성**: 모든 재료가 잘 섞이고 익으면 불을 끄고 그릇에 담아냅니다.\\n\\n### 팁\\n- 매운 맛을 원한다면 고추가루나 고추기름을 추가해보세요.\\n- 국물의 깊은 맛을 원한다면, 미소된장이나 간장을 조금 넣어도 좋습니다.\\n\\n맛있게 드세요!'"
      ]
     },
     "execution_count": 45,
     "metadata": {},
     "output_type": "execute_result"
    }
   ],
   "source": [
    "chain.invoke({'dish' : 'ramen'})"
   ]
  },
  {
   "cell_type": "markdown",
   "id": "e48bfb82",
   "metadata": {},
   "source": [
    "---"
   ]
  },
  {
   "cell_type": "markdown",
   "id": "83b98b1b",
   "metadata": {},
   "source": [
    "### 낙관주의 vs 비관주의"
   ]
  },
  {
   "cell_type": "code",
   "execution_count": 51,
   "id": "5b0338b0",
   "metadata": {},
   "outputs": [],
   "source": [
    "from langchain_core.runnables import RunnableParallel"
   ]
  },
  {
   "cell_type": "code",
   "execution_count": 55,
   "id": "69c79aa8",
   "metadata": {},
   "outputs": [],
   "source": [
    "optimistic_prompt = ChatPromptTemplate.from_messages(\n",
    "    [\n",
    "        (\"system\", \"당신은 낙관주의자입니다. 사용자의 입력에 대해 낙관적인 의견을 제공하세요\"),\n",
    "        (\"human\", \"{topic}\")\n",
    "    ]\n",
    ")\n",
    "\n",
    "optim_chain = optimistic_prompt | model | StrOutputParser()"
   ]
  },
  {
   "cell_type": "code",
   "execution_count": 56,
   "id": "0e311410",
   "metadata": {},
   "outputs": [],
   "source": [
    "pessimistic_prompt = ChatPromptTemplate.from_messages(\n",
    "    [\n",
    "        (\"system\", \"당신은 비관주의자입니다. 사용자의 입력에 대해 비관적인 의견을 제공하세요\"),\n",
    "        (\"human\", \"{topic}\")\n",
    "    ]\n",
    ")\n",
    "\n",
    "pessi_chain = pessimistic_prompt | model | StrOutputParser()"
   ]
  },
  {
   "cell_type": "code",
   "execution_count": 57,
   "id": "9fe6ac3a",
   "metadata": {},
   "outputs": [],
   "source": [
    "parallel_chain = RunnableParallel(\n",
    "    {\n",
    "        'optimistic_opinion' : optim_chain,\n",
    "        'pessimistic_opinion' : pessi_chain\n",
    "    }\n",
    ")"
   ]
  },
  {
   "cell_type": "code",
   "execution_count": 58,
   "id": "c7cbb0d8",
   "metadata": {},
   "outputs": [],
   "source": [
    "output = parallel_chain.invoke({'topic' : \"짜장면과 짬뽕\"})"
   ]
  },
  {
   "cell_type": "code",
   "execution_count": 60,
   "id": "66a84a38",
   "metadata": {},
   "outputs": [
    {
     "name": "stdout",
     "output_type": "stream",
     "text": [
      "{'optimistic_opinion': '짜장면과 짬뽕은 정말 멋진 선택이에요! 두 가지 모두 각기 다른 매력을 가지고 있어서, 어떤 '\n",
      "                       '기분이든 만족시켜 줄 수 있죠. 짜장면의 달콤하고 고소한 맛은 편안함을 주고, 짬뽕의 매콤하고 '\n",
      "                       '시원한 국물은 활력을 불어넣어 줍니다. 친구들과 함께 나누어 먹으면 더 즐거운 시간이 될 거예요! '\n",
      "                       '어떤 걸 선택하든 맛있게 즐길 수 있을 거라 믿어요!',\n",
      " 'pessimistic_opinion': '짜장면과 짬뽕은 많은 사람들이 좋아하는 음식이지만, 결국에는 그저 일시적인 만족에 불과합니다. '\n",
      "                        '맛있게 먹고 나면 배가 부르지만, 그 후에는 소화 불량이나 체중 증가 같은 걱정거리가 생길 수 '\n",
      "                        '있습니다. 또한, 짜장면과 짬뽕은 건강에 좋지 않은 기름과 나트륨이 많아서 장기적으로 보면 '\n",
      "                        '건강에 해로울 수 있습니다. 결국, 맛있는 음식도 지나치면 후회하게 마련입니다.'}\n"
     ]
    }
   ],
   "source": [
    "import pprint\n",
    "\n",
    "pprint.pprint(output)"
   ]
  },
  {
   "cell_type": "markdown",
   "id": "a322c386",
   "metadata": {},
   "source": [
    "### + 객관적 vs 낙관적"
   ]
  },
  {
   "cell_type": "code",
   "execution_count": 61,
   "id": "15277e1d",
   "metadata": {},
   "outputs": [],
   "source": [
    "prompt2 = ChatPromptTemplate.from_messages(\n",
    "    [\n",
    "        ('system' , '당신은 객관적 AI입니다. 두 가지 의견을 종합해서 사용자에 알려줘'),\n",
    "        ('human', \"낙관적인 d의견 : {optimistic_opinion} \\n 비관적인 의견 : {pessimistic_opinion}\")\n",
    "    ]\n",
    ")"
   ]
  },
  {
   "cell_type": "code",
   "execution_count": 63,
   "id": "605c52a2",
   "metadata": {},
   "outputs": [],
   "source": [
    "chain3 =(RunnableParallel(\n",
    "    {\n",
    "        'optimistic_opinion' : optim_chain,\n",
    "        'pessimistic_opinion' : pessi_chain\n",
    "    })\n",
    "    | prompt2\n",
    "    | model\n",
    "    | StrOutputParser()\n",
    ")\n",
    "\n",
    "output = chain3.invoke({'topic' : \"짜장면과 짬뽕\"})"
   ]
  },
  {
   "cell_type": "code",
   "execution_count": 65,
   "id": "55c6820c",
   "metadata": {},
   "outputs": [
    {
     "name": "stdout",
     "output_type": "stream",
     "text": [
      "('짜장면과 짬뽕에 대한 두 가지 의견은 서로 상반된 시각을 보여줍니다. \\n'\n",
      " '\\n'\n",
      " '낙관적인 의견은 이 두 가지 음식이 각기 다른 매력을 가지고 있으며, 친구들과 함께 나누어 먹는 즐거움이 더해져 행복한 순간을 '\n",
      " '만들어준다고 강조합니다. 짜장면의 달콤함과 짬뽕의 매콤함이 조화를 이루어, 다양한 맛을 즐길 수 있는 좋은 조합이라고 말합니다.\\n'\n",
      " '\\n'\n",
      " '반면 비관적인 의견은 짜장면과 짬뽕이 일시적인 만족을 줄 뿐, 그 후에는 소화 불량이나 체중 증가와 같은 걱정거리가 뒤따른다고 '\n",
      " '지적합니다. 음식이 주는 즐거움이 순간적일 뿐, 결국에는 일상의 스트레스를 잊게 해주지 못한다고 주장합니다.\\n'\n",
      " '\\n'\n",
      " '종합적으로 볼 때, 짜장면과 짬뽕은 맛있고 즐거운 경험을 제공할 수 있지만, 그 뒤에 따르는 건강이나 감정적인 측면에 대한 고려도 '\n",
      " '필요하다는 점을 알 수 있습니다. 음식의 즐거움을 만끽하면서도, 그로 인한 후속 문제를 인식하고 균형을 맞추는 것이 중요할 것입니다.')\n"
     ]
    }
   ],
   "source": [
    "pprint.pprint(output)"
   ]
  },
  {
   "cell_type": "markdown",
   "id": "4b08c1fb",
   "metadata": {},
   "source": [
    "### TAVILY API"
   ]
  },
  {
   "cell_type": "code",
   "execution_count": 74,
   "id": "af4321a1",
   "metadata": {},
   "outputs": [
    {
     "data": {
      "text/plain": [
       "'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'"
      ]
     },
     "execution_count": 74,
     "metadata": {},
     "output_type": "execute_result"
    }
   ],
   "source": [
    "load_dotenv()\n",
    "os.environ['TAVILY_API_KEY']"
   ]
  },
  {
   "cell_type": "code",
   "execution_count": 75,
   "id": "66bdaf91",
   "metadata": {},
   "outputs": [],
   "source": [
    "from langchain_community.retrievers import TavilySearchAPIRetriever\n",
    "\n",
    "retriever = TavilySearchAPIRetriever(k=3)\n",
    "prompt = ChatPromptTemplate.from_template(\n",
    "    '''다음 문맥만을 고려해 질문에 대답할 것!\n",
    "\n",
    "\n",
    "    문맥: \"\"\"{context}\"\"\"\n",
    "\n",
    "\n",
    "    질문: {question}\n",
    "    '''\n",
    ")"
   ]
  },
  {
   "cell_type": "code",
   "execution_count": 76,
   "id": "805ec7bf",
   "metadata": {},
   "outputs": [
    {
     "data": {
      "text/plain": [
       "'서울의 오늘 날씨는 대체로 흐리다가 밤부터 차차 맑아질 것으로 예상되며, 저녁(18~21시)까지 경기남부에서는 0.1mm 미만의 빗방울이 내릴 수 있습니다. 체감 온도는 24도이며, 최고 기온은 34도, 최저 기온은 25도로 예상됩니다.'"
      ]
     },
     "execution_count": 76,
     "metadata": {},
     "output_type": "execute_result"
    }
   ],
   "source": [
    "from langchain_core.runnables import RunnablePassthrough\n",
    "\n",
    "\n",
    "chain = (\n",
    "    {'context' : retriever, 'question' : RunnablePassthrough()}\n",
    "    | prompt\n",
    "    | model\n",
    "    | StrOutputParser()\n",
    ")\n",
    "\n",
    "\n",
    "chain.invoke(\"서울의 오늘 날씨는?\")"
   ]
  },
  {
   "cell_type": "code",
   "execution_count": 77,
   "id": "707f1ed6",
   "metadata": {},
   "outputs": [
    {
     "name": "stdout",
     "output_type": "stream",
     "text": [
      "433\n"
     ]
    }
   ],
   "source": [
    "from langchain_community.document_loaders import GitLoader\n",
    "\n",
    "\n",
    "loader = GitLoader(\n",
    "    clone_url = \"https://github.com/langchain-ai/langchain\",\n",
    "    repo_path='./langcahin',\n",
    "    branch='master',\n",
    "    file_filter = lambda x : x.endswith(\".mdx\")\n",
    ")\n",
    "\n",
    "\n",
    "\n",
    "\n",
    "documents = loader.load()\n",
    "\n",
    "\n",
    "print(len(documents))"
   ]
  },
  {
   "cell_type": "code",
   "execution_count": 79,
   "id": "b33d4acf",
   "metadata": {},
   "outputs": [],
   "source": [
    "from langchain_chroma import Chroma\n",
    "from langchain_openai import OpenAIEmbeddings\n",
    "from langchain_text_splitters import RecursiveCharacterTextSplitter\n",
    "\n",
    "text_spliter = RecursiveCharacterTextSplitter(chunk_size=1000, chunk_overlap=50)\n",
    "split_documents = text_spliter.split_documents(documents)"
   ]
  },
  {
   "cell_type": "code",
   "execution_count": 80,
   "id": "7beb7ad4",
   "metadata": {},
   "outputs": [],
   "source": [
    "embedding = OpenAIEmbeddings(model='text-embedding-3-small')\n",
    "db = Chroma.from_documents(split_documents, embedding)"
   ]
  },
  {
   "cell_type": "code",
   "execution_count": 81,
   "id": "809b0f98",
   "metadata": {},
   "outputs": [],
   "source": [
    "prompt = ChatPromptTemplate.from_template(\n",
    "    '''\n",
    "    다음 문맥만을 고려해서 질문에 답하시요.\n",
    "\n",
    "\n",
    "    문맥: \"\"\"{context}\"\"\"\n",
    "   \n",
    "    질문: {question}\n",
    "    '''\n",
    ")"
   ]
  },
  {
   "cell_type": "code",
   "execution_count": 82,
   "id": "cf2b11c8",
   "metadata": {},
   "outputs": [],
   "source": [
    "retriever = db.as_retriever()"
   ]
  },
  {
   "cell_type": "code",
   "execution_count": 83,
   "id": "ef7ee905",
   "metadata": {},
   "outputs": [],
   "source": [
    "chain = {\n",
    "    \"question\" : RunnablePassthrough(),\n",
    "    \"context\" : retriever,\n",
    "} | prompt | model | StrOutputParser()\n",
    "\n",
    "output = chain.invoke(\"LangChain 개요를 알려줘?\")"
   ]
  },
  {
   "cell_type": "code",
   "execution_count": 84,
   "id": "15cd498c",
   "metadata": {},
   "outputs": [],
   "source": [
    "hypothetical_prompt = ChatPromptTemplate.from_template(\"\"\"\n",
    "다음 질문에 한 문장으로 답할 것!\n",
    "\n",
    "질문 : {question}\n",
    "\"\"\")\n",
    "\n",
    "\n",
    "hypothetical_chain = hypothetical_prompt | model | StrOutputParser()"
   ]
  },
  {
   "cell_type": "code",
   "execution_count": 85,
   "id": "09dc957b",
   "metadata": {},
   "outputs": [],
   "source": [
    "hype_rag_chain = {\n",
    "    \"question\" : RunnablePassthrough(),\n",
    "    \"context\" : hypothetical_chain |  retriever,\n",
    "} | prompt | model | StrOutputParser()"
   ]
  },
  {
   "cell_type": "code",
   "execution_count": 86,
   "id": "aaff2ec7",
   "metadata": {},
   "outputs": [],
   "source": [
    "from pydantic import BaseModel, Field\n",
    "\n",
    "\n",
    "class QueryGenerationOutput(BaseModel):\n",
    "    queries: list[str] = Field(description='검색 쿼리 목록')\n",
    "\n",
    "\n",
    "query_generation_prompt = ChatPromptTemplate.from_template(\"\"\"\n",
    "질문에 대해 벡터 데이터베이스에서 관련 문서를 검색하기 위한 3개의 서로 다른 검색 쿼리를 생성하세요.\n",
    "거리 기반 유사성 검색의 한계를 극복하기 위해 사용자의 질문에 대해서 여러 관점을 제공하는 것이 목표입니다.\n",
    "\n",
    "\n",
    "질문: {question}\n",
    "\"\"\")"
   ]
  },
  {
   "cell_type": "code",
   "execution_count": 87,
   "id": "ee014fcd",
   "metadata": {},
   "outputs": [],
   "source": [
    "query_generation_chain = (\n",
    "    query_generation_prompt\n",
    "    | model.with_structured_output(QueryGenerationOutput)\n",
    "    | (lambda x : x.queries)\n",
    ")"
   ]
  },
  {
   "cell_type": "code",
   "execution_count": 88,
   "id": "24025258",
   "metadata": {},
   "outputs": [],
   "source": [
    "multi_query_rag_chain = {   \"question\" : RunnablePassthrough(),\n",
    "    'context': query_generation_chain | retriever.map(),\n",
    "} | prompt | model | StrOutputParser()"
   ]
  },
  {
   "cell_type": "code",
   "execution_count": 89,
   "id": "2207c2fc",
   "metadata": {},
   "outputs": [
    {
     "name": "stdout",
     "output_type": "stream",
     "text": [
      "('LangChain은 개발자가 추론하는 애플리케이션을 쉽게 구축할 수 있도록 돕기 위해 설계된 Python 패키지이자 회사입니다. '\n",
      " 'LangChain은 원래 단일 오픈 소스 패키지로 시작했지만, 현재는 다양한 구성 요소로 이루어진 생태계로 발전했습니다. 이 생태계의 '\n",
      " '대부분의 구성 요소는 독립적으로 사용할 수 있으며, 사용자는 자신의 필요에 맞는 구성 요소를 선택하여 사용할 수 있습니다.\\n'\n",
      " '\\n'\n",
      " 'LangChain의 주요 구성 요소는 다음과 같습니다:\\n'\n",
      " '\\n'\n",
      " '- **langchain-core**: 채팅 모델 및 기타 구성 요소를 위한 기본 추상화.\\n'\n",
      " '- **langchain**: 애플리케이션의 인지 아키텍처를 구성하는 체인, 에이전트 및 검색 전략.\\n'\n",
      " '- **langgraph**: LangChain 구성 요소를 결합하여 생산 준비가 완료된 애플리케이션을 만드는 오케스트레이션 '\n",
      " '프레임워크.\\n'\n",
      " '- **langserve**: LangChain Runnables를 REST 엔드포인트로 배포하는 데 사용되는 도구.\\n'\n",
      " '\\n'\n",
      " 'LangChain은 또한 다양한 통합 패키지를 제공하여 특정 공급자의 채팅 모델, 벡터 저장소 등과 쉽게 통합할 수 있도록 지원합니다.')\n"
     ]
    }
   ],
   "source": [
    "output = multi_query_rag_chain.invoke(\"LangChain 개요를 알려줘?\")\n",
    "pprint.pprint(output)"
   ]
  }
 ],
 "metadata": {
  "kernelspec": {
   "display_name": "openai",
   "language": "python",
   "name": "python3"
  },
  "language_info": {
   "codemirror_mode": {
    "name": "ipython",
    "version": 3
   },
   "file_extension": ".py",
   "mimetype": "text/x-python",
   "name": "python",
   "nbconvert_exporter": "python",
   "pygments_lexer": "ipython3",
   "version": "3.12.11"
  }
 },
 "nbformat": 4,
 "nbformat_minor": 5
}
