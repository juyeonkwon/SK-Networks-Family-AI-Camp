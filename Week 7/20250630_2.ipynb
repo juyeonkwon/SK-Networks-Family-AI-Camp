{
  "nbformat": 4,
  "nbformat_minor": 0,
  "metadata": {
    "colab": {
      "provenance": []
    },
    "kernelspec": {
      "name": "python3",
      "display_name": "Python 3"
    },
    "language_info": {
      "name": "python"
    }
  },
  "cells": [
    {
      "cell_type": "code",
      "execution_count": 1,
      "metadata": {
        "id": "mdkhV2DlnSNJ"
      },
      "outputs": [],
      "source": [
        "class MulLayer:\n",
        "    def __init__(self):\n",
        "        self.x = None\n",
        "        self.y = None\n",
        "\n",
        "    def forward(self, x, y):\n",
        "        self.x = x\n",
        "        self.y = y\n",
        "        out = x * y\n",
        "\n",
        "        return out\n",
        "\n",
        "    def backward(self, dout):\n",
        "        dx = dout * self.y  # x와 y를 바꾼다.\n",
        "        dy = dout * self.x\n",
        "\n",
        "        return dx, dy\n",
        "\n",
        "\n",
        "class AddLayer:\n",
        "    def __init__(self):\n",
        "        pass\n",
        "\n",
        "    def forward(self, x, y):\n",
        "        out = x + y\n",
        "\n",
        "        return out\n",
        "\n",
        "    def backward(self, dout):\n",
        "        dx = dout * 1\n",
        "        dy = dout * 1\n",
        "\n",
        "        return dx, dy"
      ]
    },
    {
      "cell_type": "code",
      "source": [
        "americano = 2000\n",
        "americano_num = 2\n",
        "tip = 1.1"
      ],
      "metadata": {
        "id": "cNfzh3wknYtw"
      },
      "execution_count": 3,
      "outputs": []
    },
    {
      "cell_type": "code",
      "source": [
        "mul_americano_layer = MulLayer()\n",
        "mul_tip = MulLayer()"
      ],
      "metadata": {
        "id": "AWaewZ35oRCu"
      },
      "execution_count": 7,
      "outputs": []
    },
    {
      "cell_type": "code",
      "source": [
        "americano_price = mul_americano_layer.forward(americano, americano_num)"
      ],
      "metadata": {
        "id": "QbTHjmu6pBXO"
      },
      "execution_count": 8,
      "outputs": []
    },
    {
      "cell_type": "code",
      "source": [
        "price = mul_tip.forward(americano_price, tip)"
      ],
      "metadata": {
        "id": "nMbq7dL5pBTN"
      },
      "execution_count": 10,
      "outputs": []
    },
    {
      "cell_type": "code",
      "source": [
        "dprice = 1\n",
        "americano_price, dtip = mul_tip.backward(dprice)\n",
        "mul_americano_layer.backward(americano_price)"
      ],
      "metadata": {
        "colab": {
          "base_uri": "https://localhost:8080/"
        },
        "id": "PbxRorompBPZ",
        "outputId": "b45aae8c-ae9c-436d-fd24-8c776b0d20f8"
      },
      "execution_count": 15,
      "outputs": [
        {
          "output_type": "execute_result",
          "data": {
            "text/plain": [
              "(2.2, 2200.0)"
            ]
          },
          "metadata": {},
          "execution_count": 15
        }
      ]
    },
    {
      "cell_type": "code",
      "source": [
        "americano_price"
      ],
      "metadata": {
        "colab": {
          "base_uri": "https://localhost:8080/"
        },
        "id": "9_OGc_NSpBDG",
        "outputId": "2bce5b6e-6b02-4b8f-93b2-958258b3ddd3"
      },
      "execution_count": 14,
      "outputs": [
        {
          "output_type": "execute_result",
          "data": {
            "text/plain": [
              "1.1"
            ]
          },
          "metadata": {},
          "execution_count": 14
        }
      ]
    },
    {
      "cell_type": "code",
      "source": [
        "2000 * 5 + 2500 * 3 + 3500 * 4"
      ],
      "metadata": {
        "colab": {
          "base_uri": "https://localhost:8080/"
        },
        "id": "NEDWruuUq8MO",
        "outputId": "96402f98-6671-40fc-8a6a-5520fa9b8e8e"
      },
      "execution_count": 16,
      "outputs": [
        {
          "output_type": "execute_result",
          "data": {
            "text/plain": [
              "31500"
            ]
          },
          "metadata": {},
          "execution_count": 16
        }
      ]
    },
    {
      "cell_type": "code",
      "source": [
        "28500"
      ],
      "metadata": {
        "id": "RCZkl15drCKg"
      },
      "execution_count": null,
      "outputs": []
    },
    {
      "cell_type": "code",
      "source": [
        "import torch\n",
        "import torchvision\n",
        "from torchvision import models\n",
        "import torchvision.datasets as dsets\n",
        "import torchvision.transforms as transforms\n",
        "from torch.utils.data import Dataset, DataLoader\n",
        "import torch.nn.init\n",
        "import torch.optim as optim\n",
        "import torch.nn.functional as F\n",
        "import torch.nn as nn"
      ],
      "metadata": {
        "id": "grYICc1Ur2oc"
      },
      "execution_count": 26,
      "outputs": []
    },
    {
      "cell_type": "code",
      "source": [
        "transforms=transforms.Compose([\n",
        "                               transforms.Resize((35,35)),\n",
        "                               transforms.ToTensor(),\n",
        "                               ])\n",
        "batch_size = 32\n",
        "mnist_train = dsets.FashionMNIST(root='MNIST_data/',\n",
        "                          train=True,\n",
        "                          transform=transforms,\n",
        "                          download=True)\n",
        "\n",
        "mnist_test = dsets.FashionMNIST(root='MNIST_data/',\n",
        "                         train=False,\n",
        "                         transform=transforms,\n",
        "                         download=True)\n",
        "\n",
        "train_loader = DataLoader(dataset=mnist_train,\n",
        "                          batch_size=batch_size,\n",
        "                          shuffle=True,\n",
        "                          drop_last=True)\n",
        "\n",
        "test_loader = DataLoader(dataset=mnist_test,\n",
        "                         batch_size=batch_size,\n",
        "                         shuffle=True,\n",
        "                         drop_last=True)"
      ],
      "metadata": {
        "id": "AXBD9hEgrvrk"
      },
      "execution_count": 27,
      "outputs": []
    }
  ]
}