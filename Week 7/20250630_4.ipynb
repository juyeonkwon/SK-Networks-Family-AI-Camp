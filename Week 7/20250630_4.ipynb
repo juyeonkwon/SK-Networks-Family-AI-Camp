{
  "nbformat": 4,
  "nbformat_minor": 0,
  "metadata": {
    "colab": {
      "provenance": [],
      "gpuType": "T4"
    },
    "kernelspec": {
      "name": "python3",
      "display_name": "Python 3"
    },
    "language_info": {
      "name": "python"
    },
    "accelerator": "GPU"
  },
  "cells": [
    {
      "cell_type": "code",
      "execution_count": 1,
      "metadata": {
        "id": "vnjMKXjoft6T"
      },
      "outputs": [],
      "source": [
        "''' 1. Module Import '''\n",
        "import numpy as np\n",
        "import matplotlib.pyplot as plt\n",
        "\n",
        "import torch\n",
        "import torch.nn as nn\n",
        "import torch.nn.functional as F\n",
        "from torchvision import transforms, datasets"
      ]
    },
    {
      "cell_type": "code",
      "source": [
        "if torch.cuda.is_available():\n",
        "    DEVICE = torch.device('cuda')\n",
        "else:\n",
        "    DEVICE = torch.device('cpu')\n",
        "print('Using PyTorch version:', torch.__version__, ' Device:', DEVICE)"
      ],
      "metadata": {
        "colab": {
          "base_uri": "https://localhost:8080/"
        },
        "id": "PhhJ3fo1fyBE",
        "outputId": "6eeae6cb-55fe-4bec-8477-9e6640011bfe"
      },
      "execution_count": 2,
      "outputs": [
        {
          "output_type": "stream",
          "name": "stdout",
          "text": [
            "Using PyTorch version: 2.6.0+cu124  Device: cuda\n"
          ]
        }
      ]
    },
    {
      "cell_type": "code",
      "source": [
        "DEVICE"
      ],
      "metadata": {
        "colab": {
          "base_uri": "https://localhost:8080/"
        },
        "id": "8q-M-rCCf94h",
        "outputId": "5b130987-3cae-40a3-b2d5-d87df84a9138"
      },
      "execution_count": 3,
      "outputs": [
        {
          "output_type": "execute_result",
          "data": {
            "text/plain": [
              "device(type='cuda')"
            ]
          },
          "metadata": {},
          "execution_count": 3
        }
      ]
    },
    {
      "cell_type": "code",
      "source": [
        "BATCH_SIZE = 32\n",
        "EPOCHS = 10"
      ],
      "metadata": {
        "id": "rC97aGOAgXuu"
      },
      "execution_count": 4,
      "outputs": []
    },
    {
      "cell_type": "code",
      "source": [
        "train_dataset = datasets.CIFAR10(root = \"../data/CIFAR_10\",\n",
        "                                  train = True,\n",
        "                                  download = True,\n",
        "                                  transform = transforms.ToTensor())\n",
        "\n",
        "test_dataset = datasets.CIFAR10(root = \"../data/CIFAR_10\",\n",
        "                                train = False,\n",
        "                                transform = transforms.ToTensor())\n",
        "\n",
        "train_loader = torch.utils.data.DataLoader(dataset = train_dataset,\n",
        "                                            batch_size = BATCH_SIZE,\n",
        "                                            shuffle = True)\n",
        "\n",
        "test_loader = torch.utils.data.DataLoader(dataset = test_dataset,\n",
        "                                          batch_size = BATCH_SIZE,\n",
        "                                          shuffle = False)"
      ],
      "metadata": {
        "colab": {
          "base_uri": "https://localhost:8080/"
        },
        "id": "mnGTMPeZggP6",
        "outputId": "bc1fd1e4-c7dd-453b-8348-93dae66f8f0d"
      },
      "execution_count": 5,
      "outputs": [
        {
          "output_type": "stream",
          "name": "stderr",
          "text": [
            "100%|██████████| 170M/170M [00:03<00:00, 47.7MB/s]\n"
          ]
        }
      ]
    },
    {
      "cell_type": "code",
      "source": [
        "for (X_train, y_train) in train_loader:\n",
        "    print('X_train:', X_train.size(), 'type:', X_train.type())\n",
        "    print('y_train:', y_train.size(), 'type:', y_train.type())\n",
        "    break"
      ],
      "metadata": {
        "colab": {
          "base_uri": "https://localhost:8080/"
        },
        "id": "JgIdKMUWgsA6",
        "outputId": "cfd03b18-b0da-4e7c-a687-f1e80bceeddf"
      },
      "execution_count": 7,
      "outputs": [
        {
          "output_type": "stream",
          "name": "stdout",
          "text": [
            "X_train: torch.Size([32, 3, 32, 32]) type: torch.FloatTensor\n",
            "y_train: torch.Size([32]) type: torch.LongTensor\n"
          ]
        }
      ]
    },
    {
      "cell_type": "code",
      "source": [
        "pltsize = 1\n",
        "plt.figure(figsize=(10 * pltsize, pltsize))\n",
        "\n",
        "for i in range(10):\n",
        "    plt.subplot(1, 10, i + 1)\n",
        "    plt.axis('off')\n",
        "    plt.imshow(np.transpose(X_train[i], (1, 2, 0)))\n",
        "    plt.title('Class: ' + str(y_train[i].item()))"
      ],
      "metadata": {
        "colab": {
          "base_uri": "https://localhost:8080/",
          "height": 125
        },
        "id": "A7xo_o39hXAh",
        "outputId": "269c303a-32d5-424f-a290-e69b8bc27368"
      },
      "execution_count": 9,
      "outputs": [
        {
          "output_type": "display_data",
          "data": {
            "text/plain": [
              "<Figure size 1000x100 with 10 Axes>"
            ],
            "image/png": "[encoded data removed]"
          },
          "metadata": {}
        }
      ]
    },
    {
      "cell_type": "code",
      "source": [
        "class Net(nn.Module):\n",
        "    def __init__(self):\n",
        "        super(Net, self).__init__()\n",
        "        self.fc1 = nn.Linear(32 * 32 * 3, 512)\n",
        "        self.fc2 = nn.Linear(512, 256)\n",
        "        self.fc3 = nn.Linear(256, 10)\n",
        "\n",
        "    def forward(self, x):\n",
        "        x = x.view(-1, 32 * 32 * 3)\n",
        "        x = self.fc1(x)\n",
        "        x = F.relu(x)\n",
        "        x = self.fc2(x)\n",
        "        x = F.relu(x)\n",
        "        x = self.fc3(x)\n",
        "        x = F.log_softmax(x, dim = 1)\n",
        "        return x"
      ],
      "metadata": {
        "id": "49UzrHb1hXdW"
      },
      "execution_count": 11,
      "outputs": []
    },
    {
      "cell_type": "code",
      "source": [
        "model = Net().to(DEVICE)\n",
        "optimizer = torch.optim.Adam(model.parameters(), lr=0.001)\n",
        "criterion = nn.CrossEntropyLoss()"
      ],
      "metadata": {
        "id": "dLwuxB8licrg"
      },
      "execution_count": 12,
      "outputs": []
    },
    {
      "cell_type": "code",
      "source": [
        "from torchinfo import summary"
      ],
      "metadata": {
        "id": "nq9eTC_Cjixe"
      },
      "execution_count": 15,
      "outputs": []
    },
    {
      "cell_type": "code",
      "source": [
        "32 * 32 * 3 * 512 + 512"
      ],
      "metadata": {
        "colab": {
          "base_uri": "https://localhost:8080/"
        },
        "id": "GddODaP8j15j",
        "outputId": "e57bf107-a84d-4d71-fd0e-d660ef3f070e"
      },
      "execution_count": 22,
      "outputs": [
        {
          "output_type": "execute_result",
          "data": {
            "text/plain": [
              "1573376"
            ]
          },
          "metadata": {},
          "execution_count": 22
        }
      ]
    },
    {
      "cell_type": "code",
      "source": [
        "512 * 256 + 256"
      ],
      "metadata": {
        "colab": {
          "base_uri": "https://localhost:8080/"
        },
        "id": "1gi_seZBkF4N",
        "outputId": "bbd37e2d-cd3c-4f64-fc43-c2f05aee4414"
      },
      "execution_count": 23,
      "outputs": [
        {
          "output_type": "execute_result",
          "data": {
            "text/plain": [
              "131328"
            ]
          },
          "metadata": {},
          "execution_count": 23
        }
      ]
    },
    {
      "cell_type": "code",
      "source": [
        "256 * 10 + 10"
      ],
      "metadata": {
        "colab": {
          "base_uri": "https://localhost:8080/"
        },
        "id": "5rdfWbymkKbc",
        "outputId": "ae15abbd-81a5-4f26-bba1-5d3313d351ee"
      },
      "execution_count": 24,
      "outputs": [
        {
          "output_type": "execute_result",
          "data": {
            "text/plain": [
              "2570"
            ]
          },
          "metadata": {},
          "execution_count": 24
        }
      ]
    },
    {
      "cell_type": "code",
      "source": [
        "summary(model, input_size=(32,32,3))"
      ],
      "metadata": {
        "colab": {
          "base_uri": "https://localhost:8080/"
        },
        "id": "yX9wp_8WibFe",
        "outputId": "7cec7784-90a3-48d3-c5a6-5fe0d86fabf9"
      },
      "execution_count": 19,
      "outputs": [
        {
          "output_type": "execute_result",
          "data": {
            "text/plain": [
              "==========================================================================================\n",
              "Layer (type:depth-idx)                   Output Shape              Param #\n",
              "==========================================================================================\n",
              "Net                                      [1, 10]                   --\n",
              "├─Linear: 1-1                            [1, 512]                  1,573,376\n",
              "├─Linear: 1-2                            [1, 256]                  131,328\n",
              "├─Linear: 1-3                            [1, 10]                   2,570\n",
              "==========================================================================================\n",
              "Total params: 1,707,274\n",
              "Trainable params: 1,707,274\n",
              "Non-trainable params: 0\n",
              "Total mult-adds (Units.MEGABYTES): 1.71\n",
              "==========================================================================================\n",
              "Input size (MB): 0.01\n",
              "Forward/backward pass size (MB): 0.01\n",
              "Params size (MB): 6.83\n",
              "Estimated Total Size (MB): 6.85\n",
              "=========================================================================================="
            ]
          },
          "metadata": {},
          "execution_count": 19
        }
      ]
    },
    {
      "cell_type": "code",
      "source": [
        "def train(model, train_loader, optimizer, log_interval):\n",
        "    model.train()\n",
        "    for batch_idx, (image, label) in enumerate(train_loader):\n",
        "        image = image.to(DEVICE)\n",
        "        label = label.to(DEVICE)\n",
        "        optimizer.zero_grad()\n",
        "        output = model(image)\n",
        "        loss = criterion(output, label)\n",
        "        loss.backward()\n",
        "        optimizer.step()\n",
        "\n",
        "        if batch_idx % log_interval == 0:\n",
        "            print(\"Train Epoch: {} [{}/{} ({:.0f}%)]\\tTrain Loss: {:.6f}\".format(\n",
        "                epoch, batch_idx * len(image),\n",
        "                len(train_loader.dataset), 100. * batch_idx / len(train_loader),\n",
        "                loss.item()))"
      ],
      "metadata": {
        "id": "OkoF6ESZjyO1"
      },
      "execution_count": 25,
      "outputs": []
    },
    {
      "cell_type": "code",
      "source": [
        "def evaluate(model, test_loader):\n",
        "    model.eval()\n",
        "    test_loss = 0\n",
        "    correct = 0\n",
        "\n",
        "    with torch.no_grad():\n",
        "        for image, label in test_loader:\n",
        "            image = image.to(DEVICE)\n",
        "            label = label.to(DEVICE)\n",
        "            output = model(image)\n",
        "            test_loss += criterion(output, label).item()\n",
        "            prediction = output.max(1, keepdim = True)[1]\n",
        "            correct += prediction.eq(label.view_as(prediction)).sum().item()\n",
        "\n",
        "    test_loss /= (len(test_loader.dataset) / BATCH_SIZE)\n",
        "    test_accuracy = 100. * correct / len(test_loader.dataset)\n",
        "    return test_loss, test_accuracy"
      ],
      "metadata": {
        "id": "2QnvkaDkkaf3"
      },
      "execution_count": 26,
      "outputs": []
    },
    {
      "cell_type": "code",
      "source": [
        "for epoch in range(1, EPOCHS + 1):\n",
        "    train(model, train_loader, optimizer, log_interval = 200)\n",
        "    test_loss, test_accuracy = evaluate(model, test_loader)\n",
        "    print(\"\\n[EPOCH: {}], \\tTest Loss: {:.4f}, \\tTest Accuracy: {:.2f} % \\n\".format(\n",
        "        epoch, test_loss, test_accuracy))"
      ],
      "metadata": {
        "colab": {
          "base_uri": "https://localhost:8080/"
        },
        "id": "l7IjBZmskjsl",
        "outputId": "31f70fe8-4a1b-4f73-f9d4-5da34be4cbee"
      },
      "execution_count": 27,
      "outputs": [
        {
          "output_type": "stream",
          "name": "stdout",
          "text": [
            "Train Epoch: 1 [0/50000 (0%)]\tTrain Loss: 2.299581\n",
            "Train Epoch: 1 [6400/50000 (13%)]\tTrain Loss: 1.966241\n",
            "Train Epoch: 1 [12800/50000 (26%)]\tTrain Loss: 2.271657\n",
            "Train Epoch: 1 [19200/50000 (38%)]\tTrain Loss: 1.936490\n",
            "Train Epoch: 1 [25600/50000 (51%)]\tTrain Loss: 1.878163\n",
            "Train Epoch: 1 [32000/50000 (64%)]\tTrain Loss: 1.993113\n",
            "Train Epoch: 1 [38400/50000 (77%)]\tTrain Loss: 1.762543\n",
            "Train Epoch: 1 [44800/50000 (90%)]\tTrain Loss: 2.097557\n",
            "\n",
            "[EPOCH: 1], \tTest Loss: 1.6991, \tTest Accuracy: 38.68 % \n",
            "\n",
            "Train Epoch: 2 [0/50000 (0%)]\tTrain Loss: 1.680256\n",
            "Train Epoch: 2 [6400/50000 (13%)]\tTrain Loss: 1.693397\n",
            "Train Epoch: 2 [12800/50000 (26%)]\tTrain Loss: 1.358830\n",
            "Train Epoch: 2 [19200/50000 (38%)]\tTrain Loss: 1.382944\n",
            "Train Epoch: 2 [25600/50000 (51%)]\tTrain Loss: 1.988862\n",
            "Train Epoch: 2 [32000/50000 (64%)]\tTrain Loss: 1.613517\n",
            "Train Epoch: 2 [38400/50000 (77%)]\tTrain Loss: 1.463667\n",
            "Train Epoch: 2 [44800/50000 (90%)]\tTrain Loss: 1.348336\n",
            "\n",
            "[EPOCH: 2], \tTest Loss: 1.6111, \tTest Accuracy: 41.74 % \n",
            "\n",
            "Train Epoch: 3 [0/50000 (0%)]\tTrain Loss: 1.778543\n",
            "Train Epoch: 3 [6400/50000 (13%)]\tTrain Loss: 1.897388\n",
            "Train Epoch: 3 [12800/50000 (26%)]\tTrain Loss: 1.335539\n",
            "Train Epoch: 3 [19200/50000 (38%)]\tTrain Loss: 1.494378\n",
            "Train Epoch: 3 [25600/50000 (51%)]\tTrain Loss: 1.701344\n",
            "Train Epoch: 3 [32000/50000 (64%)]\tTrain Loss: 1.501885\n",
            "Train Epoch: 3 [38400/50000 (77%)]\tTrain Loss: 1.393796\n",
            "Train Epoch: 3 [44800/50000 (90%)]\tTrain Loss: 1.891832\n",
            "\n",
            "[EPOCH: 3], \tTest Loss: 1.5502, \tTest Accuracy: 44.70 % \n",
            "\n",
            "Train Epoch: 4 [0/50000 (0%)]\tTrain Loss: 1.375249\n",
            "Train Epoch: 4 [6400/50000 (13%)]\tTrain Loss: 1.453702\n",
            "Train Epoch: 4 [12800/50000 (26%)]\tTrain Loss: 1.475252\n",
            "Train Epoch: 4 [19200/50000 (38%)]\tTrain Loss: 1.421580\n",
            "Train Epoch: 4 [25600/50000 (51%)]\tTrain Loss: 1.366678\n",
            "Train Epoch: 4 [32000/50000 (64%)]\tTrain Loss: 1.913189\n",
            "Train Epoch: 4 [38400/50000 (77%)]\tTrain Loss: 1.397390\n",
            "Train Epoch: 4 [44800/50000 (90%)]\tTrain Loss: 1.598028\n",
            "\n",
            "[EPOCH: 4], \tTest Loss: 1.5131, \tTest Accuracy: 45.45 % \n",
            "\n",
            "Train Epoch: 5 [0/50000 (0%)]\tTrain Loss: 1.723300\n",
            "Train Epoch: 5 [6400/50000 (13%)]\tTrain Loss: 1.492413\n",
            "Train Epoch: 5 [12800/50000 (26%)]\tTrain Loss: 1.488951\n",
            "Train Epoch: 5 [19200/50000 (38%)]\tTrain Loss: 1.676045\n",
            "Train Epoch: 5 [25600/50000 (51%)]\tTrain Loss: 1.247300\n",
            "Train Epoch: 5 [32000/50000 (64%)]\tTrain Loss: 1.408393\n",
            "Train Epoch: 5 [38400/50000 (77%)]\tTrain Loss: 1.301225\n",
            "Train Epoch: 5 [44800/50000 (90%)]\tTrain Loss: 1.539301\n",
            "\n",
            "[EPOCH: 5], \tTest Loss: 1.5220, \tTest Accuracy: 45.85 % \n",
            "\n",
            "Train Epoch: 6 [0/50000 (0%)]\tTrain Loss: 1.452611\n",
            "Train Epoch: 6 [6400/50000 (13%)]\tTrain Loss: 1.485886\n",
            "Train Epoch: 6 [12800/50000 (26%)]\tTrain Loss: 1.189860\n",
            "Train Epoch: 6 [19200/50000 (38%)]\tTrain Loss: 1.671601\n",
            "Train Epoch: 6 [25600/50000 (51%)]\tTrain Loss: 1.467057\n",
            "Train Epoch: 6 [32000/50000 (64%)]\tTrain Loss: 1.471579\n",
            "Train Epoch: 6 [38400/50000 (77%)]\tTrain Loss: 1.288701\n",
            "Train Epoch: 6 [44800/50000 (90%)]\tTrain Loss: 1.201958\n",
            "\n",
            "[EPOCH: 6], \tTest Loss: 1.4973, \tTest Accuracy: 46.62 % \n",
            "\n",
            "Train Epoch: 7 [0/50000 (0%)]\tTrain Loss: 1.251254\n",
            "Train Epoch: 7 [6400/50000 (13%)]\tTrain Loss: 1.357930\n",
            "Train Epoch: 7 [12800/50000 (26%)]\tTrain Loss: 1.553071\n",
            "Train Epoch: 7 [19200/50000 (38%)]\tTrain Loss: 1.342941\n",
            "Train Epoch: 7 [25600/50000 (51%)]\tTrain Loss: 1.104198\n",
            "Train Epoch: 7 [32000/50000 (64%)]\tTrain Loss: 1.403046\n",
            "Train Epoch: 7 [38400/50000 (77%)]\tTrain Loss: 1.325512\n",
            "Train Epoch: 7 [44800/50000 (90%)]\tTrain Loss: 1.415545\n",
            "\n",
            "[EPOCH: 7], \tTest Loss: 1.4852, \tTest Accuracy: 47.12 % \n",
            "\n",
            "Train Epoch: 8 [0/50000 (0%)]\tTrain Loss: 1.590207\n",
            "Train Epoch: 8 [6400/50000 (13%)]\tTrain Loss: 1.501927\n",
            "Train Epoch: 8 [12800/50000 (26%)]\tTrain Loss: 1.403089\n",
            "Train Epoch: 8 [19200/50000 (38%)]\tTrain Loss: 1.678404\n",
            "Train Epoch: 8 [25600/50000 (51%)]\tTrain Loss: 1.764414\n",
            "Train Epoch: 8 [32000/50000 (64%)]\tTrain Loss: 1.401620\n",
            "Train Epoch: 8 [38400/50000 (77%)]\tTrain Loss: 1.367143\n",
            "Train Epoch: 8 [44800/50000 (90%)]\tTrain Loss: 1.707556\n",
            "\n",
            "[EPOCH: 8], \tTest Loss: 1.4433, \tTest Accuracy: 48.91 % \n",
            "\n",
            "Train Epoch: 9 [0/50000 (0%)]\tTrain Loss: 1.446935\n",
            "Train Epoch: 9 [6400/50000 (13%)]\tTrain Loss: 1.301732\n",
            "Train Epoch: 9 [12800/50000 (26%)]\tTrain Loss: 0.923207\n",
            "Train Epoch: 9 [19200/50000 (38%)]\tTrain Loss: 1.409504\n",
            "Train Epoch: 9 [25600/50000 (51%)]\tTrain Loss: 1.323794\n",
            "Train Epoch: 9 [32000/50000 (64%)]\tTrain Loss: 1.129381\n",
            "Train Epoch: 9 [38400/50000 (77%)]\tTrain Loss: 1.689687\n",
            "Train Epoch: 9 [44800/50000 (90%)]\tTrain Loss: 1.710845\n",
            "\n",
            "[EPOCH: 9], \tTest Loss: 1.4512, \tTest Accuracy: 48.61 % \n",
            "\n",
            "Train Epoch: 10 [0/50000 (0%)]\tTrain Loss: 1.362395\n",
            "Train Epoch: 10 [6400/50000 (13%)]\tTrain Loss: 1.221819\n",
            "Train Epoch: 10 [12800/50000 (26%)]\tTrain Loss: 1.910426\n",
            "Train Epoch: 10 [19200/50000 (38%)]\tTrain Loss: 1.172504\n",
            "Train Epoch: 10 [25600/50000 (51%)]\tTrain Loss: 1.348346\n",
            "Train Epoch: 10 [32000/50000 (64%)]\tTrain Loss: 1.533082\n",
            "Train Epoch: 10 [38400/50000 (77%)]\tTrain Loss: 1.633098\n",
            "Train Epoch: 10 [44800/50000 (90%)]\tTrain Loss: 1.167782\n",
            "\n",
            "[EPOCH: 10], \tTest Loss: 1.4290, \tTest Accuracy: 49.45 % \n",
            "\n"
          ]
        }
      ]
    },
    {
      "cell_type": "code",
      "source": [
        "class CNN(nn.Module):\n",
        "    def __init__(self):\n",
        "        super(CNN, self).__init__()\n",
        "        self.conv1 = nn.Conv2d(in_channels = 3, out_channels = 8, kernel_size = 3, padding = 1)\n",
        "        self.conv2 = nn.Conv2d(in_channels = 8, out_channels = 16, kernel_size = 3, padding = 1)\n",
        "        self.pool = nn.MaxPool2d(kernel_size = 2, stride = 2)\n",
        "        self.fc1 = nn.Linear(8 * 8 * 16, 64)\n",
        "        self.fc2 = nn.Linear(64, 32)\n",
        "        self.fc3 = nn.Linear(32, 10)\n",
        "\n",
        "    def forward(self, x):\n",
        "        x = self.conv1(x)\n",
        "        x = F.relu(x)\n",
        "        x = self.pool(x)\n",
        "        x = self.conv2(x)\n",
        "        x = F.relu(x)\n",
        "        x = self.pool(x)\n",
        "\n",
        "        x = x.view(-1, 8 * 8 * 16)\n",
        "        x = self.fc1(x)\n",
        "        x = F.relu(x)\n",
        "        x = self.fc2(x)\n",
        "        x = F.relu(x)\n",
        "        x = self.fc3(x)\n",
        "        x = F.log_softmax(x)\n",
        "        return x"
      ],
      "metadata": {
        "id": "gq_GvJEBlOVl"
      },
      "execution_count": 28,
      "outputs": []
    },
    {
      "cell_type": "code",
      "source": [
        "model = CNN().to(DEVICE)\n",
        "optimizer = torch.optim.Adam(model.parameters(), lr = 0.001)\n",
        "criterion = nn.CrossEntropyLoss()"
      ],
      "metadata": {
        "id": "kOxkTsIDpm9u"
      },
      "execution_count": 29,
      "outputs": []
    },
    {
      "cell_type": "code",
      "source": [
        "summary(model, input_size=(3, 32, 32))"
      ],
      "metadata": {
        "colab": {
          "base_uri": "https://localhost:8080/"
        },
        "id": "A_b4EpImposW",
        "outputId": "8eb5a91f-ceb9-46b5-e693-e60ad2f54315"
      },
      "execution_count": 31,
      "outputs": [
        {
          "output_type": "stream",
          "name": "stderr",
          "text": [
            "/tmp/ipython-input-28-3698544584.py:25: UserWarning: Implicit dimension choice for log_softmax has been deprecated. Change the call to include dim=X as an argument.\n",
            "  x = F.log_softmax(x)\n"
          ]
        },
        {
          "output_type": "execute_result",
          "data": {
            "text/plain": [
              "==========================================================================================\n",
              "Layer (type:depth-idx)                   Output Shape              Param #\n",
              "==========================================================================================\n",
              "CNN                                      [1, 10]                   --\n",
              "├─Conv2d: 1-1                            [8, 32, 32]               224\n",
              "├─MaxPool2d: 1-2                         [8, 16, 16]               --\n",
              "├─Conv2d: 1-3                            [16, 16, 16]              1,168\n",
              "├─MaxPool2d: 1-4                         [16, 8, 8]                --\n",
              "├─Linear: 1-5                            [1, 64]                   65,600\n",
              "├─Linear: 1-6                            [1, 32]                   2,080\n",
              "├─Linear: 1-7                            [1, 10]                   330\n",
              "==========================================================================================\n",
              "Total params: 69,402\n",
              "Trainable params: 69,402\n",
              "Non-trainable params: 0\n",
              "Total mult-adds (Units.MEGABYTES): 0.42\n",
              "==========================================================================================\n",
              "Input size (MB): 0.01\n",
              "Forward/backward pass size (MB): 0.10\n",
              "Params size (MB): 0.28\n",
              "Estimated Total Size (MB): 0.39\n",
              "=========================================================================================="
            ]
          },
          "metadata": {},
          "execution_count": 31
        }
      ]
    },
    {
      "cell_type": "code",
      "source": [
        "3 * 3 * 3 * 8 + 8"
      ],
      "metadata": {
        "colab": {
          "base_uri": "https://localhost:8080/"
        },
        "id": "B0o1OiGTskmc",
        "outputId": "0c2dea50-da6f-4ee9-b532-e0783d255655"
      },
      "execution_count": 39,
      "outputs": [
        {
          "output_type": "execute_result",
          "data": {
            "text/plain": [
              "224"
            ]
          },
          "metadata": {},
          "execution_count": 39
        }
      ]
    },
    {
      "cell_type": "code",
      "source": [
        "3 * 3 * 8 * 16 +  16"
      ],
      "metadata": {
        "colab": {
          "base_uri": "https://localhost:8080/"
        },
        "id": "AGlBq1tPtQbx",
        "outputId": "82b95db9-e78b-4d95-8aff-905c3fd6d2cd"
      },
      "execution_count": 42,
      "outputs": [
        {
          "output_type": "execute_result",
          "data": {
            "text/plain": [
              "1168"
            ]
          },
          "metadata": {},
          "execution_count": 42
        }
      ]
    },
    {
      "cell_type": "code",
      "source": [
        "16  * 8 * 8 * 64  + 64"
      ],
      "metadata": {
        "colab": {
          "base_uri": "https://localhost:8080/"
        },
        "id": "raf72KxFtl-y",
        "outputId": "9c896a22-f03f-406f-9bd3-e85d9d2d9628"
      },
      "execution_count": 44,
      "outputs": [
        {
          "output_type": "execute_result",
          "data": {
            "text/plain": [
              "65600"
            ]
          },
          "metadata": {},
          "execution_count": 44
        }
      ]
    },
    {
      "cell_type": "code",
      "source": [
        "for epoch in range(1, EPOCHS + 1):\n",
        "    train(model, train_loader, optimizer, log_interval = 200)\n",
        "    test_loss, test_accuracy = evaluate(model, test_loader)\n",
        "    print(\"\\n[EPOCH: {}], \\tTest Loss: {:.4f}, \\tTest Accuracy: {:.2f} % \\n\".format(\n",
        "        epoch, test_loss, test_accuracy))"
      ],
      "metadata": {
        "colab": {
          "base_uri": "https://localhost:8080/"
        },
        "id": "ra23QnMUuMNB",
        "outputId": "ed184fbb-a455-483e-d2e6-9bf7287d1e40"
      },
      "execution_count": 45,
      "outputs": [
        {
          "output_type": "stream",
          "name": "stderr",
          "text": [
            "/tmp/ipython-input-28-3698544584.py:25: UserWarning: Implicit dimension choice for log_softmax has been deprecated. Change the call to include dim=X as an argument.\n",
            "  x = F.log_softmax(x)\n"
          ]
        },
        {
          "output_type": "stream",
          "name": "stdout",
          "text": [
            "Train Epoch: 1 [0/50000 (0%)]\tTrain Loss: 2.323526\n",
            "Train Epoch: 1 [6400/50000 (13%)]\tTrain Loss: 2.093565\n",
            "Train Epoch: 1 [12800/50000 (26%)]\tTrain Loss: 1.943752\n",
            "Train Epoch: 1 [19200/50000 (38%)]\tTrain Loss: 1.661728\n",
            "Train Epoch: 1 [25600/50000 (51%)]\tTrain Loss: 1.426319\n",
            "Train Epoch: 1 [32000/50000 (64%)]\tTrain Loss: 1.567022\n",
            "Train Epoch: 1 [38400/50000 (77%)]\tTrain Loss: 1.641729\n",
            "Train Epoch: 1 [44800/50000 (90%)]\tTrain Loss: 1.634657\n",
            "\n",
            "[EPOCH: 1], \tTest Loss: 1.4134, \tTest Accuracy: 48.32 % \n",
            "\n",
            "Train Epoch: 2 [0/50000 (0%)]\tTrain Loss: 1.570889\n",
            "Train Epoch: 2 [6400/50000 (13%)]\tTrain Loss: 1.846759\n",
            "Train Epoch: 2 [12800/50000 (26%)]\tTrain Loss: 1.185151\n",
            "Train Epoch: 2 [19200/50000 (38%)]\tTrain Loss: 1.240565\n",
            "Train Epoch: 2 [25600/50000 (51%)]\tTrain Loss: 1.376568\n",
            "Train Epoch: 2 [32000/50000 (64%)]\tTrain Loss: 1.365030\n",
            "Train Epoch: 2 [38400/50000 (77%)]\tTrain Loss: 1.320972\n",
            "Train Epoch: 2 [44800/50000 (90%)]\tTrain Loss: 1.293471\n",
            "\n",
            "[EPOCH: 2], \tTest Loss: 1.2835, \tTest Accuracy: 54.16 % \n",
            "\n",
            "Train Epoch: 3 [0/50000 (0%)]\tTrain Loss: 1.307758\n",
            "Train Epoch: 3 [6400/50000 (13%)]\tTrain Loss: 0.914197\n",
            "Train Epoch: 3 [12800/50000 (26%)]\tTrain Loss: 1.519162\n",
            "Train Epoch: 3 [19200/50000 (38%)]\tTrain Loss: 1.623365\n",
            "Train Epoch: 3 [25600/50000 (51%)]\tTrain Loss: 1.275233\n",
            "Train Epoch: 3 [32000/50000 (64%)]\tTrain Loss: 1.044727\n",
            "Train Epoch: 3 [38400/50000 (77%)]\tTrain Loss: 1.100816\n",
            "Train Epoch: 3 [44800/50000 (90%)]\tTrain Loss: 1.290337\n",
            "\n",
            "[EPOCH: 3], \tTest Loss: 1.2104, \tTest Accuracy: 56.92 % \n",
            "\n",
            "Train Epoch: 4 [0/50000 (0%)]\tTrain Loss: 0.978351\n",
            "Train Epoch: 4 [6400/50000 (13%)]\tTrain Loss: 1.237471\n",
            "Train Epoch: 4 [12800/50000 (26%)]\tTrain Loss: 1.216550\n",
            "Train Epoch: 4 [19200/50000 (38%)]\tTrain Loss: 0.983323\n",
            "Train Epoch: 4 [25600/50000 (51%)]\tTrain Loss: 1.633570\n",
            "Train Epoch: 4 [32000/50000 (64%)]\tTrain Loss: 0.983400\n",
            "Train Epoch: 4 [38400/50000 (77%)]\tTrain Loss: 0.998614\n",
            "Train Epoch: 4 [44800/50000 (90%)]\tTrain Loss: 1.330316\n",
            "\n",
            "[EPOCH: 4], \tTest Loss: 1.1215, \tTest Accuracy: 59.63 % \n",
            "\n",
            "Train Epoch: 5 [0/50000 (0%)]\tTrain Loss: 0.857962\n",
            "Train Epoch: 5 [6400/50000 (13%)]\tTrain Loss: 1.032587\n",
            "Train Epoch: 5 [12800/50000 (26%)]\tTrain Loss: 1.208152\n",
            "Train Epoch: 5 [19200/50000 (38%)]\tTrain Loss: 0.857244\n",
            "Train Epoch: 5 [25600/50000 (51%)]\tTrain Loss: 0.728244\n",
            "Train Epoch: 5 [32000/50000 (64%)]\tTrain Loss: 1.145666\n",
            "Train Epoch: 5 [38400/50000 (77%)]\tTrain Loss: 1.643583\n",
            "Train Epoch: 5 [44800/50000 (90%)]\tTrain Loss: 0.864020\n",
            "\n",
            "[EPOCH: 5], \tTest Loss: 1.1266, \tTest Accuracy: 60.33 % \n",
            "\n",
            "Train Epoch: 6 [0/50000 (0%)]\tTrain Loss: 1.124661\n",
            "Train Epoch: 6 [6400/50000 (13%)]\tTrain Loss: 0.851463\n",
            "Train Epoch: 6 [12800/50000 (26%)]\tTrain Loss: 0.919706\n",
            "Train Epoch: 6 [19200/50000 (38%)]\tTrain Loss: 1.260965\n",
            "Train Epoch: 6 [25600/50000 (51%)]\tTrain Loss: 1.093265\n",
            "Train Epoch: 6 [32000/50000 (64%)]\tTrain Loss: 1.095190\n",
            "Train Epoch: 6 [38400/50000 (77%)]\tTrain Loss: 0.914744\n",
            "Train Epoch: 6 [44800/50000 (90%)]\tTrain Loss: 0.889545\n",
            "\n",
            "[EPOCH: 6], \tTest Loss: 1.0511, \tTest Accuracy: 62.93 % \n",
            "\n",
            "Train Epoch: 7 [0/50000 (0%)]\tTrain Loss: 0.773022\n",
            "Train Epoch: 7 [6400/50000 (13%)]\tTrain Loss: 0.978395\n",
            "Train Epoch: 7 [12800/50000 (26%)]\tTrain Loss: 0.918825\n",
            "Train Epoch: 7 [19200/50000 (38%)]\tTrain Loss: 1.284194\n",
            "Train Epoch: 7 [25600/50000 (51%)]\tTrain Loss: 0.769340\n",
            "Train Epoch: 7 [32000/50000 (64%)]\tTrain Loss: 1.340032\n",
            "Train Epoch: 7 [38400/50000 (77%)]\tTrain Loss: 1.162983\n",
            "Train Epoch: 7 [44800/50000 (90%)]\tTrain Loss: 1.152784\n",
            "\n",
            "[EPOCH: 7], \tTest Loss: 1.0729, \tTest Accuracy: 61.94 % \n",
            "\n",
            "Train Epoch: 8 [0/50000 (0%)]\tTrain Loss: 1.100370\n",
            "Train Epoch: 8 [6400/50000 (13%)]\tTrain Loss: 1.139063\n",
            "Train Epoch: 8 [12800/50000 (26%)]\tTrain Loss: 1.018604\n",
            "Train Epoch: 8 [19200/50000 (38%)]\tTrain Loss: 0.755443\n",
            "Train Epoch: 8 [25600/50000 (51%)]\tTrain Loss: 0.689572\n",
            "Train Epoch: 8 [32000/50000 (64%)]\tTrain Loss: 0.739264\n",
            "Train Epoch: 8 [38400/50000 (77%)]\tTrain Loss: 0.913261\n",
            "Train Epoch: 8 [44800/50000 (90%)]\tTrain Loss: 1.030167\n",
            "\n",
            "[EPOCH: 8], \tTest Loss: 1.0188, \tTest Accuracy: 64.23 % \n",
            "\n",
            "Train Epoch: 9 [0/50000 (0%)]\tTrain Loss: 0.951453\n",
            "Train Epoch: 9 [6400/50000 (13%)]\tTrain Loss: 0.962952\n",
            "Train Epoch: 9 [12800/50000 (26%)]\tTrain Loss: 1.235090\n",
            "Train Epoch: 9 [19200/50000 (38%)]\tTrain Loss: 1.003536\n",
            "Train Epoch: 9 [25600/50000 (51%)]\tTrain Loss: 1.015044\n",
            "Train Epoch: 9 [32000/50000 (64%)]\tTrain Loss: 0.896079\n",
            "Train Epoch: 9 [38400/50000 (77%)]\tTrain Loss: 0.908934\n",
            "Train Epoch: 9 [44800/50000 (90%)]\tTrain Loss: 0.678371\n",
            "\n",
            "[EPOCH: 9], \tTest Loss: 1.0206, \tTest Accuracy: 64.69 % \n",
            "\n",
            "Train Epoch: 10 [0/50000 (0%)]\tTrain Loss: 0.967702\n",
            "Train Epoch: 10 [6400/50000 (13%)]\tTrain Loss: 0.780461\n",
            "Train Epoch: 10 [12800/50000 (26%)]\tTrain Loss: 1.032269\n",
            "Train Epoch: 10 [19200/50000 (38%)]\tTrain Loss: 1.212773\n",
            "Train Epoch: 10 [25600/50000 (51%)]\tTrain Loss: 0.567093\n",
            "Train Epoch: 10 [32000/50000 (64%)]\tTrain Loss: 1.011808\n",
            "Train Epoch: 10 [38400/50000 (77%)]\tTrain Loss: 0.984004\n",
            "Train Epoch: 10 [44800/50000 (90%)]\tTrain Loss: 0.883574\n",
            "\n",
            "[EPOCH: 10], \tTest Loss: 1.0274, \tTest Accuracy: 63.72 % \n",
            "\n"
          ]
        }
      ]
    },
    {
      "cell_type": "code",
      "source": [
        "import numpy as np\n",
        "np.array([[1,2], [3,4]]) + np.array([[5,6], [7,8]]) + np.array([[1,1], [1,1]])"
      ],
      "metadata": {
        "colab": {
          "base_uri": "https://localhost:8080/"
        },
        "id": "QXSda2JIuQNP",
        "outputId": "a2c81607-d057-46de-9150-95556d9d9d2e"
      },
      "execution_count": 3,
      "outputs": [
        {
          "output_type": "execute_result",
          "data": {
            "text/plain": [
              "array([[ 7,  9],\n",
              "       [11, 13]])"
            ]
          },
          "metadata": {},
          "execution_count": 3
        }
      ]
    },
    {
      "cell_type": "code",
      "source": [],
      "metadata": {
        "id": "bOjFiGRu4aYc"
      },
      "execution_count": null,
      "outputs": []
    }
  ]
}