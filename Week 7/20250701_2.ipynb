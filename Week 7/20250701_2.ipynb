{
  "nbformat": 4,
  "nbformat_minor": 0,
  "metadata": {
    "colab": {
      "provenance": [],
      "gpuType": "T4"
    },
    "kernelspec": {
      "name": "python3",
      "display_name": "Python 3"
    },
    "language_info": {
      "name": "python"
    },
    "accelerator": "GPU"
  },
  "cells": [
    {
      "cell_type": "code",
      "execution_count": 14,
      "metadata": {
        "id": "vnjMKXjoft6T"
      },
      "outputs": [],
      "source": [
        "''' 1. Module Import '''\n",
        "import numpy as np\n",
        "import matplotlib.pyplot as plt\n",
        "\n",
        "import torch\n",
        "import torch.nn as nn\n",
        "import torch.nn.functional as F\n",
        "from torchvision import transforms, datasets"
      ]
    },
    {
      "cell_type": "code",
      "source": [
        "if torch.cuda.is_available():\n",
        "    DEVICE = torch.device('cuda')\n",
        "else:\n",
        "    DEVICE = torch.device('cpu')\n",
        "print('Using PyTorch version:', torch.__version__, ' Device:', DEVICE)"
      ],
      "metadata": {
        "colab": {
          "base_uri": "https://localhost:8080/"
        },
        "id": "PhhJ3fo1fyBE",
        "outputId": "8f2a826c-2189-4a8b-b363-6e7cb2700ac6"
      },
      "execution_count": 15,
      "outputs": [
        {
          "output_type": "stream",
          "name": "stdout",
          "text": [
            "Using PyTorch version: 2.6.0+cu124  Device: cpu\n"
          ]
        }
      ]
    },
    {
      "cell_type": "code",
      "source": [
        "DEVICE"
      ],
      "metadata": {
        "colab": {
          "base_uri": "https://localhost:8080/"
        },
        "id": "8q-M-rCCf94h",
        "outputId": "083f1edb-3d0b-4065-c3ed-0dc5c0cf9de2"
      },
      "execution_count": 16,
      "outputs": [
        {
          "output_type": "execute_result",
          "data": {
            "text/plain": [
              "device(type='cpu')"
            ]
          },
          "metadata": {},
          "execution_count": 16
        }
      ]
    },
    {
      "cell_type": "code",
      "source": [
        "BATCH_SIZE = 32\n",
        "EPOCHS = 50"
      ],
      "metadata": {
        "id": "rC97aGOAgXuu"
      },
      "execution_count": 17,
      "outputs": []
    },
    {
      "cell_type": "code",
      "source": [
        "train_dataset = datasets.CIFAR10(root = \"../data/CIFAR_10\",\n",
        "                                  train = True,\n",
        "                                  download = True,\n",
        "                                  transform = transforms.ToTensor())\n",
        "\n",
        "test_dataset = datasets.CIFAR10(root = \"../data/CIFAR_10\",\n",
        "                                train = False,\n",
        "                                transform = transforms.ToTensor())\n",
        "\n",
        "train_loader = torch.utils.data.DataLoader(dataset = train_dataset,\n",
        "                                            batch_size = BATCH_SIZE,\n",
        "                                            shuffle = True)\n",
        "\n",
        "test_loader = torch.utils.data.DataLoader(dataset = test_dataset,\n",
        "                                          batch_size = BATCH_SIZE,\n",
        "                                          shuffle = False)"
      ],
      "metadata": {
        "id": "mnGTMPeZggP6",
        "colab": {
          "base_uri": "https://localhost:8080/"
        },
        "outputId": "b768c94f-3c79-4d34-af07-ba0e5f803ddf"
      },
      "execution_count": 18,
      "outputs": [
        {
          "output_type": "stream",
          "name": "stderr",
          "text": [
            "100%|██████████| 170M/170M [00:04<00:00, 36.0MB/s]\n"
          ]
        }
      ]
    },
    {
      "cell_type": "code",
      "source": [
        "for (X_train, y_train) in train_loader:\n",
        "    print('X_train:', X_train.size(), 'type:', X_train.type())\n",
        "    print('y_train:', y_train.size(), 'type:', y_train.type())\n",
        "    break"
      ],
      "metadata": {
        "colab": {
          "base_uri": "https://localhost:8080/"
        },
        "id": "JgIdKMUWgsA6",
        "outputId": "f80ef9fc-91e5-4d89-bb36-170f7702a478"
      },
      "execution_count": 19,
      "outputs": [
        {
          "output_type": "stream",
          "name": "stdout",
          "text": [
            "X_train: torch.Size([32, 3, 32, 32]) type: torch.FloatTensor\n",
            "y_train: torch.Size([32]) type: torch.LongTensor\n"
          ]
        }
      ]
    },
    {
      "cell_type": "code",
      "source": [
        "pltsize = 1\n",
        "plt.figure(figsize=(10 * pltsize, pltsize))\n",
        "\n",
        "for i in range(10):\n",
        "    plt.subplot(1, 10, i + 1)\n",
        "    plt.axis('off')\n",
        "    plt.imshow(np.transpose(X_train[i], (1, 2, 0)))\n",
        "    plt.title('Class: ' + str(y_train[i].item()))"
      ],
      "metadata": {
        "colab": {
          "base_uri": "https://localhost:8080/",
          "height": 125
        },
        "id": "A7xo_o39hXAh",
        "outputId": "62dd9786-c550-49cd-b09a-622d9ce77848"
      },
      "execution_count": 20,
      "outputs": [
        {
          "output_type": "display_data",
          "data": {
            "text/plain": [
              "<Figure size 1000x100 with 10 Axes>"
            ],
            "image/png": "[encoded data removed]"
          },
          "metadata": {}
        }
      ]
    },
    {
      "cell_type": "code",
      "source": [
        "class CNN(nn.Module):\n",
        "    def __init__(self):\n",
        "        super(CNN, self).__init__()\n",
        "        self.conv1 = nn.Conv2d(in_channels = 3, out_channels = 8, kernel_size = 3, padding = 1)\n",
        "        self.conv2 = nn.Conv2d(in_channels = 8, out_channels = 16, kernel_size = 3, padding = 1)\n",
        "        self.pool = nn.MaxPool2d(kernel_size = 2, stride = 2)\n",
        "        self.fc1 = nn.Linear(8 * 8 * 16, 64)\n",
        "        self.fc2 = nn.Linear(64, 32)\n",
        "        self.fc3 = nn.Linear(32, 10)\n",
        "\n",
        "    def forward(self, x):\n",
        "        x = self.conv1(x)\n",
        "        x = F.relu(x)\n",
        "        x = self.pool(x)\n",
        "        x = self.conv2(x)\n",
        "        x = F.relu(x)\n",
        "        x = self.pool(x)\n",
        "\n",
        "        x = x.view(-1, 8 * 8 * 16)\n",
        "        x = self.fc1(x)\n",
        "        x = F.relu(x)\n",
        "        x = self.fc2(x)\n",
        "        x = F.relu(x)\n",
        "        x = self.fc3(x)\n",
        "        x = F.log_softmax(x)\n",
        "        return x"
      ],
      "metadata": {
        "id": "gq_GvJEBlOVl"
      },
      "execution_count": 21,
      "outputs": []
    },
    {
      "cell_type": "code",
      "source": [
        "model = CNN().to(DEVICE)\n",
        "optimizer = torch.optim.Adam(model.parameters(), lr = 0.001)\n",
        "criterion = nn.CrossEntropyLoss()"
      ],
      "metadata": {
        "id": "kOxkTsIDpm9u"
      },
      "execution_count": 22,
      "outputs": []
    },
    {
      "cell_type": "code",
      "source": [
        "def train(model, train_loader, optimizer, log_interval):\n",
        "    global output, label\n",
        "    model.train()\n",
        "    correct = 0\n",
        "    train_loss = 0\n",
        "    for batch_idx, (image, label) in enumerate(train_loader):\n",
        "        image = image.to(DEVICE)\n",
        "        label = label.to(DEVICE)\n",
        "        optimizer.zero_grad()\n",
        "        output = model(image)\n",
        "        loss = criterion(output, label)\n",
        "        train_loss += loss.item()\n",
        "        loss.backward()\n",
        "        optimizer.step()\n",
        "\n",
        "        _, prediction = torch.max(output, dim=1 )\n",
        "        # 정답을 맞춘 갯수\n",
        "        # acc += sum(idx == label)\n",
        "        correct += prediction.eq(label.view_as(prediction)).sum().item()\n",
        "\n",
        "        if batch_idx % log_interval == 0:\n",
        "            print(\"Train Epoch: {} [{}/{} ({:.0f}%)]\\tTrain Loss: {:.6f}\".format(\n",
        "                epoch, batch_idx * len(image),\n",
        "                len(train_loader.dataset), 100. * batch_idx / len(train_loader),\n",
        "                loss.item()))\n",
        "\n",
        "    train_loss /= (len(train_loader.dataset) / BATCH_SIZE)\n",
        "    train_accuracy = 100. * correct / len(train_loader.dataset)\n",
        "\n",
        "    return train_loss, train_accuracy"
      ],
      "metadata": {
        "id": "lUEAgw4Oxs0I"
      },
      "execution_count": 23,
      "outputs": []
    },
    {
      "cell_type": "code",
      "source": [
        "def evaluate(model, test_loader):\n",
        "    model.eval()\n",
        "    test_loss = 0\n",
        "    correct = 0\n",
        "\n",
        "    with torch.no_grad():\n",
        "        for image, label in test_loader:\n",
        "            image = image.to(DEVICE)\n",
        "            label = label.to(DEVICE)\n",
        "            output = model(image)\n",
        "            test_loss += criterion(output, label).item()\n",
        "            prediction = output.max(1, keepdim = True)[1]\n",
        "            correct += prediction.eq(label.view_as(prediction)).sum().item()\n",
        "\n",
        "    test_loss /= (len(test_loader.dataset) / BATCH_SIZE)\n",
        "    test_accuracy = 100. * correct / len(test_loader.dataset)\n",
        "    return test_loss, test_accuracy"
      ],
      "metadata": {
        "id": "23O9a9stz9fZ"
      },
      "execution_count": 24,
      "outputs": []
    },
    {
      "cell_type": "code",
      "source": [
        "# loss_hist_train     = [0] * EPOCHS\n",
        "# accuracy_hist_train = [0] * EPOCHS\n",
        "# loss_hist_valid     = [0] * EPOCHS\n",
        "# accuracy_hist_valid = [0] * EPOCHS\n",
        "# for epoch in range(1, EPOCHS + 1):\n",
        "#     loss_, acc_ = train(model, train_loader, optimizer, log_interval = 200)\n",
        "#     loss_hist_train[epoch-1] = loss_\n",
        "#     accuracy_hist_train[epoch-1] = acc_\n",
        "#     test_loss, test_accuracy = evaluate(model, test_loader)\n",
        "#     loss_hist_valid[epoch-1] = test_loss\n",
        "#     accuracy_hist_valid[epoch-1] = test_accuracy\n",
        "#     print(\"\\n[EPOCH: {}], \\tTest Loss: {:.4f}, \\tTest Accuracy: {:.2f} % \\n\".format(\n",
        "#         epoch, test_loss, test_accuracy))"
      ],
      "metadata": {
        "id": "ra23QnMUuMNB"
      },
      "execution_count": 25,
      "outputs": []
    },
    {
      "cell_type": "code",
      "source": [],
      "metadata": {
        "id": "5VRUJClZ-7Gl"
      },
      "execution_count": 25,
      "outputs": []
    },
    {
      "cell_type": "code",
      "source": [
        "# x_arr = np.arange(len(loss_hist_train[1:])) + 1\n",
        "# #accuracy_hist_train\n",
        "# #loss_hist_valid [1:]\n",
        "# #accuracy_hist_valid\n",
        "# fig = plt.figure(figsize=(12,4))\n",
        "# ax = fig.add_subplot(1, 2, 1)\n",
        "# ax.plot(x_arr,loss_hist_train[1:], '-o', label='Train loass' )\n",
        "# ax.plot(x_arr,loss_hist_valid[1:], '-o', label='Valid loass' )\n",
        "# ax.legend()\n",
        "\n",
        "# ax = fig.add_subplot(1, 2, 2)\n",
        "# ax.plot(x_arr,accuracy_hist_train[1:], '-o', label='Train accuracy' )\n",
        "# ax.plot(x_arr,accuracy_hist_valid[1:], '-o', label='Valid accuracy' )\n",
        "# ax.legend()\n",
        "# plt.show()"
      ],
      "metadata": {
        "id": "gfeGhtpv0T_O"
      },
      "execution_count": 26,
      "outputs": []
    },
    {
      "cell_type": "code",
      "source": [
        "class test:\n",
        "  def __init(self):\n",
        "    pass\n",
        "  def __str__(self):\n",
        "    return \"hi\"\n",
        "\n",
        "  def __call__(self):\n",
        "    print(\"call 호출\")"
      ],
      "metadata": {
        "id": "_JBL90XV_s8-"
      },
      "execution_count": 27,
      "outputs": []
    },
    {
      "cell_type": "code",
      "source": [
        "t = test()"
      ],
      "metadata": {
        "id": "KiVQVFE9F4f4"
      },
      "execution_count": 28,
      "outputs": []
    },
    {
      "cell_type": "code",
      "source": [
        "print(t)"
      ],
      "metadata": {
        "colab": {
          "base_uri": "https://localhost:8080/"
        },
        "id": "4X0SOCXUZsIQ",
        "outputId": "1ea7f6d3-2e28-4d81-f2a4-d922aa95db51"
      },
      "execution_count": 29,
      "outputs": [
        {
          "output_type": "stream",
          "name": "stdout",
          "text": [
            "hi\n"
          ]
        }
      ]
    },
    {
      "cell_type": "code",
      "source": [
        "t()"
      ],
      "metadata": {
        "colab": {
          "base_uri": "https://localhost:8080/"
        },
        "id": "ITB37tJyZvz9",
        "outputId": "a7e8f3f8-ff91-4c5a-ae35-f8a125bb3431"
      },
      "execution_count": 30,
      "outputs": [
        {
          "output_type": "stream",
          "name": "stdout",
          "text": [
            "call 호출\n"
          ]
        }
      ]
    },
    {
      "cell_type": "code",
      "source": [
        "class early_stopping:\n",
        "  def __init__(self, patience, verbose, delta, path='checkpoint.pt'):\n",
        "    self.patience = patience\n",
        "    self.verbose = verbose\n",
        "    self.delta = delta\n",
        "    self.count = 0\n",
        "    self.best_score = None\n",
        "    self.early_stop = False\n",
        "    self.val_loss_min = np.inf\n",
        "    self.path = path\n",
        "\n",
        "  def __call__(self, val_loss, model):\n",
        "    score = -val_loss\n",
        "\n",
        "    if self.best_score is None:\n",
        "      self.best_score = score\n",
        "      self.save_checkpoint(val_loss, model)\n",
        "    elif score < self.best_score + self.delta:\n",
        "      self.count += 1\n",
        "      if self.verbose:\n",
        "        print(f\"Early Stopping counter: {self.count} out of {self.patience}\")\n",
        "\n",
        "      if self.count >= self.patience:\n",
        "        self.early_stop = True\n",
        "    else:\n",
        "      self.best_score = score\n",
        "      self.save_checkpoint(val_loss, model)\n",
        "      self.count =0\n",
        "\n",
        "  def save_checkpoint(self, val_loss, model):\n",
        "    if self.verbose:\n",
        "      print(f\"Validation loss decreased ({self.val_loss_min:.6f}) --> {val_loss:.6f}. saving model..\")\n",
        "    torch.save(model.state_dict(), self.path)\n",
        "    self.val_loss_min = val_loss"
      ],
      "metadata": {
        "id": "sCE-dYbRad_J"
      },
      "execution_count": 31,
      "outputs": []
    },
    {
      "cell_type": "code",
      "source": [
        "loss_hist_train     = [0] * EPOCHS\n",
        "accuracy_hist_train = [0] * EPOCHS\n",
        "loss_hist_valid     = [0] * EPOCHS\n",
        "accuracy_hist_valid = [0] * EPOCHS\n",
        "early_stopping_ = early_stopping(patience=3, verbose=True, delta=0)\n",
        "for epoch in range(1, EPOCHS + 1):\n",
        "    loss_, acc_ = train(model, train_loader, optimizer, log_interval = 200)\n",
        "    loss_hist_train[epoch-1] = loss_\n",
        "    accuracy_hist_train[epoch-1] = acc_\n",
        "    test_loss, test_accuracy = evaluate(model, test_loader)\n",
        "    loss_hist_valid[epoch-1] = test_loss\n",
        "    accuracy_hist_valid[epoch-1] = test_accuracy\n",
        "\n",
        "    early_stopping_(test_loss, model)\n",
        "\n",
        "    if early_stopping_.early_stop:\n",
        "      print(\"Early Stopping!!\")\n",
        "      break\n",
        "    print(\"\\n[EPOCH: {}], \\tTest Loss: {:.4f}, \\tTest Accuracy: {:.2f} % \\n\".format(\n",
        "        epoch, test_loss, test_accuracy))"
      ],
      "metadata": {
        "colab": {
          "base_uri": "https://localhost:8080/"
        },
        "id": "Z8GfjN06nQUT",
        "outputId": "afb959d6-e74c-4922-cf60-9bb5b0f56be3"
      },
      "execution_count": 32,
      "outputs": [
        {
          "output_type": "stream",
          "name": "stderr",
          "text": [
            "/tmp/ipython-input-21-1875207390.py:25: UserWarning: Implicit dimension choice for log_softmax has been deprecated. Change the call to include dim=X as an argument.\n",
            "  x = F.log_softmax(x)\n"
          ]
        },
        {
          "output_type": "stream",
          "name": "stdout",
          "text": [
            "Train Epoch: 1 [0/50000 (0%)]\tTrain Loss: 2.311391\n",
            "Train Epoch: 1 [6400/50000 (13%)]\tTrain Loss: 1.790234\n",
            "Train Epoch: 1 [12800/50000 (26%)]\tTrain Loss: 1.759713\n",
            "Train Epoch: 1 [19200/50000 (38%)]\tTrain Loss: 1.773727\n",
            "Train Epoch: 1 [25600/50000 (51%)]\tTrain Loss: 1.776623\n",
            "Train Epoch: 1 [32000/50000 (64%)]\tTrain Loss: 1.810372\n",
            "Train Epoch: 1 [38400/50000 (77%)]\tTrain Loss: 1.551204\n",
            "Train Epoch: 1 [44800/50000 (90%)]\tTrain Loss: 1.339049\n",
            "Validation loss decreased (inf) --> 1.481307. saving model..\n",
            "\n",
            "[EPOCH: 1], \tTest Loss: 1.4813, \tTest Accuracy: 46.30 % \n",
            "\n",
            "Train Epoch: 2 [0/50000 (0%)]\tTrain Loss: 1.267439\n",
            "Train Epoch: 2 [6400/50000 (13%)]\tTrain Loss: 1.455931\n",
            "Train Epoch: 2 [12800/50000 (26%)]\tTrain Loss: 1.630688\n",
            "Train Epoch: 2 [19200/50000 (38%)]\tTrain Loss: 1.533308\n",
            "Train Epoch: 2 [25600/50000 (51%)]\tTrain Loss: 1.606572\n",
            "Train Epoch: 2 [32000/50000 (64%)]\tTrain Loss: 1.176418\n",
            "Train Epoch: 2 [38400/50000 (77%)]\tTrain Loss: 1.167266\n",
            "Train Epoch: 2 [44800/50000 (90%)]\tTrain Loss: 1.182713\n",
            "Validation loss decreased (1.481307) --> 1.286996. saving model..\n",
            "\n",
            "[EPOCH: 2], \tTest Loss: 1.2870, \tTest Accuracy: 54.20 % \n",
            "\n",
            "Train Epoch: 3 [0/50000 (0%)]\tTrain Loss: 1.510589\n",
            "Train Epoch: 3 [6400/50000 (13%)]\tTrain Loss: 1.379360\n",
            "Train Epoch: 3 [12800/50000 (26%)]\tTrain Loss: 1.470297\n",
            "Train Epoch: 3 [19200/50000 (38%)]\tTrain Loss: 1.061157\n",
            "Train Epoch: 3 [25600/50000 (51%)]\tTrain Loss: 1.446912\n",
            "Train Epoch: 3 [32000/50000 (64%)]\tTrain Loss: 1.167245\n",
            "Train Epoch: 3 [38400/50000 (77%)]\tTrain Loss: 1.037132\n",
            "Train Epoch: 3 [44800/50000 (90%)]\tTrain Loss: 1.317366\n",
            "Validation loss decreased (1.286996) --> 1.233216. saving model..\n",
            "\n",
            "[EPOCH: 3], \tTest Loss: 1.2332, \tTest Accuracy: 55.73 % \n",
            "\n",
            "Train Epoch: 4 [0/50000 (0%)]\tTrain Loss: 1.543089\n",
            "Train Epoch: 4 [6400/50000 (13%)]\tTrain Loss: 1.063241\n",
            "Train Epoch: 4 [12800/50000 (26%)]\tTrain Loss: 1.058019\n",
            "Train Epoch: 4 [19200/50000 (38%)]\tTrain Loss: 1.333942\n",
            "Train Epoch: 4 [25600/50000 (51%)]\tTrain Loss: 1.060586\n",
            "Train Epoch: 4 [32000/50000 (64%)]\tTrain Loss: 0.969775\n",
            "Train Epoch: 4 [38400/50000 (77%)]\tTrain Loss: 0.857058\n",
            "Train Epoch: 4 [44800/50000 (90%)]\tTrain Loss: 1.165530\n",
            "Validation loss decreased (1.233216) --> 1.115237. saving model..\n",
            "\n",
            "[EPOCH: 4], \tTest Loss: 1.1152, \tTest Accuracy: 60.50 % \n",
            "\n",
            "Train Epoch: 5 [0/50000 (0%)]\tTrain Loss: 1.066138\n",
            "Train Epoch: 5 [6400/50000 (13%)]\tTrain Loss: 0.990067\n",
            "Train Epoch: 5 [12800/50000 (26%)]\tTrain Loss: 1.222787\n",
            "Train Epoch: 5 [19200/50000 (38%)]\tTrain Loss: 0.700400\n",
            "Train Epoch: 5 [25600/50000 (51%)]\tTrain Loss: 1.184873\n",
            "Train Epoch: 5 [32000/50000 (64%)]\tTrain Loss: 0.968346\n",
            "Train Epoch: 5 [38400/50000 (77%)]\tTrain Loss: 1.011150\n",
            "Train Epoch: 5 [44800/50000 (90%)]\tTrain Loss: 0.891683\n",
            "Validation loss decreased (1.115237) --> 1.112484. saving model..\n",
            "\n",
            "[EPOCH: 5], \tTest Loss: 1.1125, \tTest Accuracy: 60.53 % \n",
            "\n",
            "Train Epoch: 6 [0/50000 (0%)]\tTrain Loss: 1.565194\n",
            "Train Epoch: 6 [6400/50000 (13%)]\tTrain Loss: 1.164684\n",
            "Train Epoch: 6 [12800/50000 (26%)]\tTrain Loss: 1.073796\n",
            "Train Epoch: 6 [19200/50000 (38%)]\tTrain Loss: 0.961871\n",
            "Train Epoch: 6 [25600/50000 (51%)]\tTrain Loss: 1.100155\n",
            "Train Epoch: 6 [32000/50000 (64%)]\tTrain Loss: 1.275940\n",
            "Train Epoch: 6 [38400/50000 (77%)]\tTrain Loss: 1.221388\n",
            "Train Epoch: 6 [44800/50000 (90%)]\tTrain Loss: 1.308948\n",
            "Validation loss decreased (1.112484) --> 1.058523. saving model..\n",
            "\n",
            "[EPOCH: 6], \tTest Loss: 1.0585, \tTest Accuracy: 62.75 % \n",
            "\n",
            "Train Epoch: 7 [0/50000 (0%)]\tTrain Loss: 1.290048\n",
            "Train Epoch: 7 [6400/50000 (13%)]\tTrain Loss: 0.511653\n",
            "Train Epoch: 7 [12800/50000 (26%)]\tTrain Loss: 0.593911\n",
            "Train Epoch: 7 [19200/50000 (38%)]\tTrain Loss: 1.359284\n",
            "Train Epoch: 7 [25600/50000 (51%)]\tTrain Loss: 1.115612\n",
            "Train Epoch: 7 [32000/50000 (64%)]\tTrain Loss: 0.921327\n",
            "Train Epoch: 7 [38400/50000 (77%)]\tTrain Loss: 0.832509\n",
            "Train Epoch: 7 [44800/50000 (90%)]\tTrain Loss: 0.867237\n",
            "Validation loss decreased (1.058523) --> 1.053225. saving model..\n",
            "\n",
            "[EPOCH: 7], \tTest Loss: 1.0532, \tTest Accuracy: 63.06 % \n",
            "\n",
            "Train Epoch: 8 [0/50000 (0%)]\tTrain Loss: 0.898951\n",
            "Train Epoch: 8 [6400/50000 (13%)]\tTrain Loss: 0.969388\n",
            "Train Epoch: 8 [12800/50000 (26%)]\tTrain Loss: 0.834833\n",
            "Train Epoch: 8 [19200/50000 (38%)]\tTrain Loss: 0.989657\n",
            "Train Epoch: 8 [25600/50000 (51%)]\tTrain Loss: 0.909179\n",
            "Train Epoch: 8 [32000/50000 (64%)]\tTrain Loss: 0.806284\n",
            "Train Epoch: 8 [38400/50000 (77%)]\tTrain Loss: 0.920967\n",
            "Train Epoch: 8 [44800/50000 (90%)]\tTrain Loss: 0.910777\n",
            "Validation loss decreased (1.053225) --> 0.984278. saving model..\n",
            "\n",
            "[EPOCH: 8], \tTest Loss: 0.9843, \tTest Accuracy: 65.52 % \n",
            "\n",
            "Train Epoch: 9 [0/50000 (0%)]\tTrain Loss: 0.892779\n",
            "Train Epoch: 9 [6400/50000 (13%)]\tTrain Loss: 1.114627\n",
            "Train Epoch: 9 [12800/50000 (26%)]\tTrain Loss: 0.848686\n",
            "Train Epoch: 9 [19200/50000 (38%)]\tTrain Loss: 0.866128\n",
            "Train Epoch: 9 [25600/50000 (51%)]\tTrain Loss: 0.664699\n",
            "Train Epoch: 9 [32000/50000 (64%)]\tTrain Loss: 0.654746\n",
            "Train Epoch: 9 [38400/50000 (77%)]\tTrain Loss: 0.940425\n",
            "Train Epoch: 9 [44800/50000 (90%)]\tTrain Loss: 1.046474\n",
            "Early Stopping counter: 1 out of 3\n",
            "\n",
            "[EPOCH: 9], \tTest Loss: 1.0345, \tTest Accuracy: 64.05 % \n",
            "\n",
            "Train Epoch: 10 [0/50000 (0%)]\tTrain Loss: 0.941666\n",
            "Train Epoch: 10 [6400/50000 (13%)]\tTrain Loss: 0.667203\n",
            "Train Epoch: 10 [12800/50000 (26%)]\tTrain Loss: 0.756937\n",
            "Train Epoch: 10 [19200/50000 (38%)]\tTrain Loss: 1.302707\n",
            "Train Epoch: 10 [25600/50000 (51%)]\tTrain Loss: 1.155841\n",
            "Train Epoch: 10 [32000/50000 (64%)]\tTrain Loss: 0.741522\n",
            "Train Epoch: 10 [38400/50000 (77%)]\tTrain Loss: 1.067713\n",
            "Train Epoch: 10 [44800/50000 (90%)]\tTrain Loss: 0.715004\n",
            "Validation loss decreased (0.984278) --> 0.972949. saving model..\n",
            "\n",
            "[EPOCH: 10], \tTest Loss: 0.9729, \tTest Accuracy: 65.76 % \n",
            "\n",
            "Train Epoch: 11 [0/50000 (0%)]\tTrain Loss: 0.956013\n",
            "Train Epoch: 11 [6400/50000 (13%)]\tTrain Loss: 1.036915\n",
            "Train Epoch: 11 [12800/50000 (26%)]\tTrain Loss: 0.793353\n",
            "Train Epoch: 11 [19200/50000 (38%)]\tTrain Loss: 0.743310\n",
            "Train Epoch: 11 [25600/50000 (51%)]\tTrain Loss: 0.711766\n",
            "Train Epoch: 11 [32000/50000 (64%)]\tTrain Loss: 0.713370\n",
            "Train Epoch: 11 [38400/50000 (77%)]\tTrain Loss: 1.370754\n",
            "Train Epoch: 11 [44800/50000 (90%)]\tTrain Loss: 0.895850\n",
            "Early Stopping counter: 1 out of 3\n",
            "\n",
            "[EPOCH: 11], \tTest Loss: 0.9807, \tTest Accuracy: 65.36 % \n",
            "\n",
            "Train Epoch: 12 [0/50000 (0%)]\tTrain Loss: 0.862973\n",
            "Train Epoch: 12 [6400/50000 (13%)]\tTrain Loss: 0.851866\n",
            "Train Epoch: 12 [12800/50000 (26%)]\tTrain Loss: 0.813860\n",
            "Train Epoch: 12 [19200/50000 (38%)]\tTrain Loss: 0.757024\n",
            "Train Epoch: 12 [25600/50000 (51%)]\tTrain Loss: 0.926683\n",
            "Train Epoch: 12 [32000/50000 (64%)]\tTrain Loss: 0.855478\n",
            "Train Epoch: 12 [38400/50000 (77%)]\tTrain Loss: 1.225441\n",
            "Train Epoch: 12 [44800/50000 (90%)]\tTrain Loss: 0.965918\n",
            "Early Stopping counter: 2 out of 3\n",
            "\n",
            "[EPOCH: 12], \tTest Loss: 1.0471, \tTest Accuracy: 63.77 % \n",
            "\n",
            "Train Epoch: 13 [0/50000 (0%)]\tTrain Loss: 0.760872\n",
            "Train Epoch: 13 [6400/50000 (13%)]\tTrain Loss: 0.904576\n",
            "Train Epoch: 13 [12800/50000 (26%)]\tTrain Loss: 0.732341\n",
            "Train Epoch: 13 [19200/50000 (38%)]\tTrain Loss: 1.020937\n",
            "Train Epoch: 13 [25600/50000 (51%)]\tTrain Loss: 0.667321\n",
            "Train Epoch: 13 [32000/50000 (64%)]\tTrain Loss: 0.756851\n",
            "Train Epoch: 13 [38400/50000 (77%)]\tTrain Loss: 1.083004\n",
            "Train Epoch: 13 [44800/50000 (90%)]\tTrain Loss: 0.460283\n",
            "Early Stopping counter: 3 out of 3\n",
            "Early Stopping!!\n"
          ]
        }
      ]
    }
  ]
}