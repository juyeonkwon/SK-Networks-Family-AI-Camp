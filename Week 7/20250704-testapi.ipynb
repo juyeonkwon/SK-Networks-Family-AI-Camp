{
 "cells": [
  {
   "cell_type": "code",
   "execution_count": 2,
   "id": "ad4b1095",
   "metadata": {},
   "outputs": [],
   "source": [
    "import requests\n",
    "import base64"
   ]
  },
  {
   "cell_type": "code",
   "execution_count": 4,
   "id": "92890987",
   "metadata": {},
   "outputs": [],
   "source": [
    "with open(r\"C:\\Users\\play\\Pictures\\cha.jpg\", \"rb\") as f:\n",
    "    img_bytes = f.read()\n",
    "base64_string = base64.b64encode(img_bytes).decode('utf-8')\n",
    "payload = {\n",
    "    'image_data' : base64_string\n",
    "}\n",
    "\n",
    "res = requests.post(\"http://127.0.0.1:8000/predict/\", json=payload)"
   ]
  },
  {
   "cell_type": "code",
   "execution_count": 6,
   "id": "84a6266f",
   "metadata": {},
   "outputs": [
    {
     "data": {
      "text/plain": [
       "'{\"message\":\"잘 받앗다\"}'"
      ]
     },
     "execution_count": 6,
     "metadata": {},
     "output_type": "execute_result"
    }
   ],
   "source": [
    "res.text"
   ]
  }
 ],
 "metadata": {
  "kernelspec": {
   "display_name": "base",
   "language": "python",
   "name": "python3"
  },
  "language_info": {
   "codemirror_mode": {
    "name": "ipython",
    "version": 3
   },
   "file_extension": ".py",
   "mimetype": "text/x-python",
   "name": "python",
   "nbconvert_exporter": "python",
   "pygments_lexer": "ipython3",
   "version": "3.10.16"
  }
 },
 "nbformat": 4,
 "nbformat_minor": 5
}
