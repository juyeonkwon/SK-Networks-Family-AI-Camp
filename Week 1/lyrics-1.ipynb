{
 "cells": [
  {
   "cell_type": "code",
   "execution_count": 6,
   "id": "223e1802",
   "metadata": {},
   "outputs": [],
   "source": [
    "import requests \n",
    "from bs4 import BeautifulSoup\n",
    "import os \n",
    "\n",
    "def save_lyrics(songid, path='lyrics'):\n",
    "\n",
    "    url = f\"https://www.melon.com/song/detail.htm?songId={songid}\"\n",
    "    r = requests.get(url)\n",
    "    head = {'user-agent' : 'Mozilla/5.0 (Windows NT 10.0; Win64; x64) AppleWebKit/537.36 (KHTML, like Gecko) Chrome/136.0.0.0 Safari/537.36 Edg/136.0.0.0'}\n",
    "\n",
    "    r = requests.get(url, headers=head)\n",
    "    bs = BeautifulSoup(r.text)\n",
    "    lyrics = BeautifulSoup(str(bs.find(\"div\", id=\"d_video_summary\")).replace(\"<br/>\", \"\\n\")).text\n",
    "\n",
    "    if not os.path.isdir(f\"./lyrics/{path}\") and path != 'lyrics':\n",
    "        os.mkdir(f\"./lyrics/{path}\")\n",
    "\n",
    "    title = bs.find(\"div\", class_=\"song_name\").text.replace(\"곡명\", \"\").strip()\n",
    "    artist = bs.find(\"div\", class_=\"artist\").text.strip()\n",
    "    f = open(f\"./lyrics/{path}/{artist}-{title}.txt\", 'w', encoding='utf-8')\n",
    "    f.write(lyrics.strip())\n",
    "    f.close()"
   ]
  },
  {
   "cell_type": "code",
   "execution_count": 9,
   "id": "05073f0b",
   "metadata": {},
   "outputs": [],
   "source": [
    "save_lyrics(\"259397\",'radiohead')"
   ]
  },
  {
   "cell_type": "code",
   "execution_count": 11,
   "id": "60dc15ae",
   "metadata": {},
   "outputs": [],
   "source": [
    "url = \"https://www.melon.com/search/total/index.htm?q=%EC%84%9C%ED%83%9C%EC%A7%80+%EB%82%9C+%EC%95%8C%EC%95%84%EC%9A%94&section=&searchGnbYn=Y&kkoSpl=Y&kkoDpType=&mwkLogType=T\""
   ]
  },
  {
   "cell_type": "code",
   "execution_count": 12,
   "id": "630af2de",
   "metadata": {},
   "outputs": [],
   "source": [
    "from urllib.parse import urlparse, urlencode, quote"
   ]
  },
  {
   "cell_type": "code",
   "execution_count": 14,
   "id": "491d7e3c",
   "metadata": {},
   "outputs": [
    {
     "data": {
      "text/plain": [
       "'q=%EC%84%9C%ED%83%9C%EC%A7%80+%EB%82%9C+%EC%95%8C%EC%95%84%EC%9A%94&section=&searchGnbYn=Y&kkoSpl=Y&kkoDpType=&mwkLogType=T'"
      ]
     },
     "execution_count": 14,
     "metadata": {},
     "output_type": "execute_result"
    }
   ],
   "source": [
    "urlparse(url).query"
   ]
  },
  {
   "cell_type": "code",
   "execution_count": 18,
   "id": "f4de3bdf",
   "metadata": {},
   "outputs": [],
   "source": [
    "payload = { \n",
    "    'searchGnbYn' : ['Y'],\n",
    "    'kkoSpl' :  ['Y'],\n",
    "    'mwkLogType' : ['T']\n",
    "}"
   ]
  },
  {
   "cell_type": "code",
   "execution_count": 28,
   "id": "9948b122",
   "metadata": {},
   "outputs": [],
   "source": [
    "payload['q'] = ['나는 반딧불']"
   ]
  },
  {
   "cell_type": "code",
   "execution_count": 29,
   "id": "5d4ab5b6",
   "metadata": {},
   "outputs": [
    {
     "data": {
      "text/plain": [
       "{'searchGnbYn': ['Y'], 'kkoSpl': ['Y'], 'mwkLogType': ['T'], 'q': ['나는 반딧불']}"
      ]
     },
     "execution_count": 29,
     "metadata": {},
     "output_type": "execute_result"
    }
   ],
   "source": [
    "payload"
   ]
  },
  {
   "cell_type": "code",
   "execution_count": 30,
   "id": "7a3ca149",
   "metadata": {},
   "outputs": [
    {
     "data": {
      "text/plain": [
       "'https://www.melon.com/search/total/index.htm?searchGnbYn=Y&kkoSpl=Y&mwkLogType=T&q=%EB%82%98%EB%8A%94+%EB%B0%98%EB%94%A7%EB%B6%88'"
      ]
     },
     "execution_count": 30,
     "metadata": {},
     "output_type": "execute_result"
    }
   ],
   "source": [
    "\"https://www.melon.com/search/total/index.htm?\" + urlencode(payload, doseq=True)"
   ]
  },
  {
   "cell_type": "code",
   "execution_count": null,
   "id": "d95a599e",
   "metadata": {},
   "outputs": [],
   "source": []
  }
 ],
 "metadata": {
  "kernelspec": {
   "display_name": "base",
   "language": "python",
   "name": "python3"
  },
  "language_info": {
   "codemirror_mode": {
    "name": "ipython",
    "version": 3
   },
   "file_extension": ".py",
   "mimetype": "text/x-python",
   "name": "python",
   "nbconvert_exporter": "python",
   "pygments_lexer": "ipython3",
   "version": "3.10.16"
  }
 },
 "nbformat": 4,
 "nbformat_minor": 5
}
