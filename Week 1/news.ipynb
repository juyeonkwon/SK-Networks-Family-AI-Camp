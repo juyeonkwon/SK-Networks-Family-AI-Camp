{
 "cells": [
  {
   "cell_type": "code",
   "execution_count": null,
   "id": "20e315c7",
   "metadata": {},
   "outputs": [],
   "source": [
    "import requests \n",
    "from bs4 import BeautifulSoup as BS\n",
    "\n",
    "def naver_news_save(url):\n",
    "    bs = BS(requests.get(url).text)\n",
    "    title = bs.find(\"h2\", id=\"title_area\").text\n",
    "    date = bs.find('div', class_='media_end_head_info_datestamp').find(\"span\")['data-date-time'].replace(\":\",\"\")\n",
    "    bs.find(\"span\", class_=\"end_photo_org\").decompose()\n",
    "    with open(f\"./{title}-{date}.txt\".replace(\"?\", ''), \"w\", encoding='utf-8') as f:\n",
    "        f.write(bs.find('article', id='dic_area').text)"
   ]
  },
  {
   "cell_type": "code",
   "execution_count": 2,
   "id": "e914130c",
   "metadata": {},
   "outputs": [],
   "source": [
    "url = \"https://n.news.naver.com/article/648/0000036410?ntype=RANKING\""
   ]
  },
  {
   "cell_type": "code",
   "execution_count": 4,
   "id": "765d8837",
   "metadata": {},
   "outputs": [],
   "source": [
    "bs = BS(requests.get(url).text)"
   ]
  },
  {
   "cell_type": "code",
   "execution_count": 7,
   "id": "7717bf63",
   "metadata": {},
   "outputs": [],
   "source": [
    "title = bs.find(\"h2\", id=\"title_area\").text"
   ]
  },
  {
   "cell_type": "code",
   "execution_count": 16,
   "id": "5ff0e45b",
   "metadata": {},
   "outputs": [],
   "source": [
    "date = bs.find('div', class_='media_end_head_info_datestamp').find(\"span\")['data-date-time'].replace(\":\",\"\")"
   ]
  },
  {
   "cell_type": "code",
   "execution_count": null,
   "id": "76424665",
   "metadata": {},
   "outputs": [],
   "source": [
    "bs.find(\"span\", class_=\"end_photo_org\").decompose()"
   ]
  },
  {
   "cell_type": "code",
   "execution_count": 23,
   "id": "4aca64a9",
   "metadata": {},
   "outputs": [],
   "source": [
    "with open(f\"./{title}-{date}.txt\", \"w\", encoding='utf-8') as f:\n",
    "    f.write(bs.find('article', id='dic_area').text)"
   ]
  },
  {
   "cell_type": "code",
   "execution_count": 30,
   "id": "4ae97ea6",
   "metadata": {},
   "outputs": [],
   "source": [
    "def naver_news_save(url):\n",
    "    bs = BS(requests.get(url).text)\n",
    "    title = bs.find(\"h2\", id=\"title_area\").text\n",
    "    date = bs.find('div', class_='media_end_head_info_datestamp').find(\"span\")['data-date-time'].replace(\":\",\"\")\n",
    "    bs.find(\"span\", class_=\"end_photo_org\").decompose()\n",
    "    with open(f\"./{title}-{date}.txt\".replace(\"?\", ''), \"w\", encoding='utf-8') as f:\n",
    "        f.write(bs.find('article', id='dic_area').text)"
   ]
  },
  {
   "cell_type": "code",
   "execution_count": 31,
   "id": "3d797edb",
   "metadata": {},
   "outputs": [],
   "source": [
    "naver_news_save(\"https://n.news.naver.com/article/662/0000069326?cds=news_media_pc&type=editn\")"
   ]
  },
  {
   "cell_type": "code",
   "execution_count": 32,
   "id": "ef002ada",
   "metadata": {},
   "outputs": [],
   "source": [
    "naver_news_save(\"https://n.news.naver.com/article/648/0000036424?cds=news_media_pc&type=editn\")"
   ]
  },
  {
   "cell_type": "code",
   "execution_count": 33,
   "id": "9f9e58c2",
   "metadata": {},
   "outputs": [
    {
     "data": {
      "text/plain": [
       "10"
      ]
     },
     "execution_count": 33,
     "metadata": {},
     "output_type": "execute_result"
    }
   ],
   "source": [
    "sum([1,2,3,4])"
   ]
  },
  {
   "cell_type": "code",
   "execution_count": null,
   "id": "e1e08804",
   "metadata": {},
   "outputs": [
    {
     "data": {
      "text/plain": [
       "3307"
      ]
     },
     "execution_count": 38,
     "metadata": {},
     "output_type": "execute_result"
    }
   ],
   "source": [
    "sum(map(lambda x : int(x.replace(\",\",\"\")),['1,000', '2,300', '3', '4']))"
   ]
  },
  {
   "cell_type": "code",
   "execution_count": null,
   "id": "f222bccf",
   "metadata": {},
   "outputs": [],
   "source": [
    "def tmp(x):\n",
    "    return int(x.replace(\",\", \"\"))\n",
    "\n",
    "sum(map(tmp,['1,000', '2,300', '3', '4']))"
   ]
  },
  {
   "cell_type": "code",
   "execution_count": null,
   "id": "39f7a3f9",
   "metadata": {},
   "outputs": [],
   "source": [
    "import zipfile\n",
    "with zipfile.ZipFile(\"./이름_생년_성별_10000.zip\", 'r') as f:\n",
    "    f.extractall(\"./mydata/\")"
   ]
  },
  {
   "cell_type": "code",
   "execution_count": 48,
   "id": "c104cfdb",
   "metadata": {},
   "outputs": [],
   "source": [
    "import os \n",
    "import shutil"
   ]
  },
  {
   "cell_type": "code",
   "execution_count": 53,
   "id": "c3307f1b",
   "metadata": {},
   "outputs": [
    {
     "name": "stdout",
     "output_type": "stream",
     "text": [
      "3,505\n"
     ]
    }
   ],
   "source": [
    "with open(\"./mydata/\" + os.listdir(\"./mydata\")[1], 'r') as f:\n",
    "    print(f.read())"
   ]
  },
  {
   "cell_type": "code",
   "execution_count": 49,
   "id": "18e11910",
   "metadata": {},
   "outputs": [
    {
     "data": {
      "text/plain": [
       "\"./a/'드디어 SKT 유심 교체했어요'…한달이나 참았던 이유-2025-05-23 064009.txt\""
      ]
     },
     "execution_count": 49,
     "metadata": {},
     "output_type": "execute_result"
    }
   ],
   "source": [
    "shutil.move(\"./'드디어 SKT 유심 교체했어요'…한달이나 참았던 이유-2025-05-23 064009.txt\", \"./a/\")"
   ]
  },
  {
   "cell_type": "code",
   "execution_count": 54,
   "id": "4ed958e5",
   "metadata": {},
   "outputs": [
    {
     "data": {
      "text/plain": [
       "'┐└│¬╟÷_19850809_2xxxxxx.txt'"
      ]
     },
     "execution_count": 54,
     "metadata": {},
     "output_type": "execute_result"
    }
   ],
   "source": [
    "os.listdir(\"./mydata\")[1]"
   ]
  }
 ],
 "metadata": {
  "kernelspec": {
   "display_name": "Python 3",
   "language": "python",
   "name": "python3"
  },
  "language_info": {
   "codemirror_mode": {
    "name": "ipython",
    "version": 3
   },
   "file_extension": ".py",
   "mimetype": "text/x-python",
   "name": "python",
   "nbconvert_exporter": "python",
   "pygments_lexer": "ipython3",
   "version": "3.10.16"
  }
 },
 "nbformat": 4,
 "nbformat_minor": 5
}
