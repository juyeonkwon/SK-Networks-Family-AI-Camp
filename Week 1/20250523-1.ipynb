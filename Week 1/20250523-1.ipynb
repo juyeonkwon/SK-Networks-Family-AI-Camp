{
 "cells": [
  {
   "cell_type": "code",
   "execution_count": 5,
   "id": "17d77b12",
   "metadata": {},
   "outputs": [],
   "source": [
    "from urllib.parse import urlparse, urlencode, quote"
   ]
  },
  {
   "cell_type": "code",
   "execution_count": 6,
   "id": "cc29077f",
   "metadata": {},
   "outputs": [],
   "source": [
    "def search_id(title):\n",
    "    host = \"https://www.melon.com/search/total/index.htm?\"\n",
    "    payload = { \n",
    "        'searchGnbYn' : ['Y'],\n",
    "        'kkoSpl' :  ['Y'],\n",
    "        'mwkLogType' : ['T']\n",
    "    }\n",
    "    payload['q'] = [title]\n",
    "\n",
    "    url = host + urlencode(payload, doseq=True)\n",
    "\n",
    "    return url \n"
   ]
  },
  {
   "cell_type": "code",
   "execution_count": 9,
   "id": "b2b67859",
   "metadata": {},
   "outputs": [],
   "source": [
    "url = search_id(\"난 알아요\")"
   ]
  },
  {
   "cell_type": "code",
   "execution_count": 11,
   "id": "1b38a36a",
   "metadata": {},
   "outputs": [],
   "source": [
    "import requests\n",
    "def my_request(url, method='get'):\n",
    "    head = {'user-agent' \n",
    "            : 'Mozilla/5.0 (Windows NT 10.0; Win64; x64) AppleWebKit/537.36 (KHTML, like Gecko) Chrome/136.0.0.0 Safari/537.36 Edg/136.0.0.0'}\n",
    "    if method == \"get\":\n",
    "        return requests.get(url, headers=head)"
   ]
  },
  {
   "cell_type": "code",
   "execution_count": 12,
   "id": "570478dd",
   "metadata": {},
   "outputs": [],
   "source": [
    "r = my_request(url)"
   ]
  },
  {
   "cell_type": "code",
   "execution_count": 8,
   "id": "ca5bef0f",
   "metadata": {},
   "outputs": [],
   "source": [
    "from bs4 import BeautifulSoup"
   ]
  },
  {
   "cell_type": "code",
   "execution_count": 14,
   "id": "6aba2a48",
   "metadata": {},
   "outputs": [],
   "source": [
    "bs = BeautifulSoup(r.text)"
   ]
  },
  {
   "cell_type": "code",
   "execution_count": 20,
   "id": "bf4f668a",
   "metadata": {},
   "outputs": [],
   "source": [
    "text= bs.find(\"div\", class_=\"tb_list d_song_list songTypeOne\").find_all(\"tr\")[1].find(\"button\",\"btn_icon play\" )['onclick']"
   ]
  },
  {
   "cell_type": "code",
   "execution_count": 16,
   "id": "f2f8bf8c",
   "metadata": {},
   "outputs": [],
   "source": [
    "import re \n",
    "p = re.compile(\"playSong\\(\\'([0-9]+)\\',([0-9]+)\\)\")"
   ]
  },
  {
   "cell_type": "code",
   "execution_count": 24,
   "id": "4452ce66",
   "metadata": {},
   "outputs": [
    {
     "data": {
      "text/plain": [
       "'50012'"
      ]
     },
     "execution_count": 24,
     "metadata": {},
     "output_type": "execute_result"
    }
   ],
   "source": [
    "p.findall(text)[0][-1]"
   ]
  },
  {
   "cell_type": "code",
   "execution_count": 25,
   "id": "010d4d6d",
   "metadata": {},
   "outputs": [],
   "source": [
    "def search_id(title):\n",
    "    host = \"https://www.melon.com/search/total/index.htm?\"\n",
    "    payload = { \n",
    "        'searchGnbYn' : ['Y'],\n",
    "        'kkoSpl' :  ['Y'],\n",
    "        'mwkLogType' : ['T']\n",
    "    }\n",
    "    payload['q'] = [title]\n",
    "\n",
    "    # url 주소 생성 \n",
    "    url = host + urlencode(payload, doseq=True)\n",
    "\n",
    "    # return url \n",
    "    r = my_request(url)\n",
    "    text = BeautifulSoup(r.text).find(\"div\", class_=\"tb_list d_song_list songTypeOne\").find_all(\"tr\")[1].find(\"button\",\"btn_icon play\" )['onclick']\n",
    "\n",
    "    return p.findall(text)[0][-1]"
   ]
  },
  {
   "cell_type": "code",
   "execution_count": 33,
   "id": "99da028e",
   "metadata": {},
   "outputs": [],
   "source": [
    "songid = search_id(\"그래서 그대는\")"
   ]
  },
  {
   "cell_type": "code",
   "execution_count": 46,
   "id": "a0d80c8a",
   "metadata": {},
   "outputs": [],
   "source": [
    "import requests \n",
    "from bs4 import BeautifulSoup\n",
    "import os \n",
    "import pathlib \n",
    "def save_lyrics(songid, path='lyrics'):\n",
    "\n",
    "    url = f\"https://www.melon.com/song/detail.htm?songId={songid}\"\n",
    "    r = requests.get(url)\n",
    "    head = {'user-agent' : 'Mozilla/5.0 (Windows NT 10.0; Win64; x64) AppleWebKit/537.36 (KHTML, like Gecko) Chrome/136.0.0.0 Safari/537.36 Edg/136.0.0.0'}\n",
    "\n",
    "    r = requests.get(url, headers=head)\n",
    "    bs = BeautifulSoup(r.text)\n",
    "    lyrics = BeautifulSoup(str(bs.find(\"div\", id=\"d_video_summary\")).replace(\"<br/>\", \"\\n\")).text\n",
    "\n",
    "    # if not os.path.isdir(f\"./lyrics/{path}\"):\n",
    "    #     os.mkdir(f\"./lyrics/{path}\")\n",
    "    # else:\n",
    "    #     pass\n",
    "    pathlib.Path(f\"./lyrics/{path}\").mkdir(parents=True, exist_ok=True)\n",
    "\n",
    "    title = bs.find(\"div\", class_=\"song_name\").text.replace(\"곡명\", \"\").strip()\n",
    "    artist = bs.find(\"div\", class_=\"artist\").text.strip()\n",
    "    f = open(f\"./lyrics/{path}/{artist}-{title}.txt\", 'w', encoding='utf-8')\n",
    "    f.write(lyrics.strip())\n",
    "    f.close()"
   ]
  },
  {
   "cell_type": "code",
   "execution_count": 47,
   "id": "2356ef78",
   "metadata": {},
   "outputs": [],
   "source": [
    "save_lyrics(songid)"
   ]
  },
  {
   "cell_type": "code",
   "execution_count": 41,
   "id": "e4b2e28d",
   "metadata": {},
   "outputs": [
    {
     "data": {
      "text/plain": [
       "'c:\\\\Users\\\\play\\\\workspace'"
      ]
     },
     "execution_count": 41,
     "metadata": {},
     "output_type": "execute_result"
    }
   ],
   "source": [
    "pwd"
   ]
  },
  {
   "cell_type": "code",
   "execution_count": 42,
   "id": "2f43486c",
   "metadata": {},
   "outputs": [
    {
     "ename": "FileNotFoundError",
     "evalue": "[WinError 3] 지정된 경로를 찾을 수 없습니다: './a/b/c'",
     "output_type": "error",
     "traceback": [
      "\u001b[1;31m---------------------------------------------------------------------------\u001b[0m",
      "\u001b[1;31mFileNotFoundError\u001b[0m                         Traceback (most recent call last)",
      "Cell \u001b[1;32mIn[42], line 1\u001b[0m\n\u001b[1;32m----> 1\u001b[0m \u001b[43mos\u001b[49m\u001b[38;5;241;43m.\u001b[39;49m\u001b[43mmkdir\u001b[49m\u001b[43m(\u001b[49m\u001b[38;5;124;43m\"\u001b[39;49m\u001b[38;5;124;43m./a/b/c\u001b[39;49m\u001b[38;5;124;43m\"\u001b[39;49m\u001b[43m)\u001b[49m\n",
      "\u001b[1;31mFileNotFoundError\u001b[0m: [WinError 3] 지정된 경로를 찾을 수 없습니다: './a/b/c'"
     ]
    }
   ],
   "source": [
    "os.mkdir(\"./a/b/c\")"
   ]
  },
  {
   "cell_type": "code",
   "execution_count": null,
   "id": "2c17125f",
   "metadata": {},
   "outputs": [],
   "source": [
    "import pathlib\n",
    "pathlib.Path(\"./a/b/c\").mkdir(parents=True, exist_ok=True)"
   ]
  },
  {
   "cell_type": "code",
   "execution_count": null,
   "id": "14840d61",
   "metadata": {},
   "outputs": [],
   "source": []
  }
 ],
 "metadata": {
  "kernelspec": {
   "display_name": "Python 3",
   "language": "python",
   "name": "python3"
  },
  "language_info": {
   "codemirror_mode": {
    "name": "ipython",
    "version": 3
   },
   "file_extension": ".py",
   "mimetype": "text/x-python",
   "name": "python",
   "nbconvert_exporter": "python",
   "pygments_lexer": "ipython3",
   "version": "3.10.16"
  }
 },
 "nbformat": 4,
 "nbformat_minor": 5
}
