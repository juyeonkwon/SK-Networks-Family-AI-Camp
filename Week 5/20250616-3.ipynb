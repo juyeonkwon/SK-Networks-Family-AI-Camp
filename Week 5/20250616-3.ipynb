{
 "cells": [
  {
   "cell_type": "code",
   "execution_count": null,
   "id": "6714728c",
   "metadata": {},
   "outputs": [],
   "source": [
    "import pandas as pd \n",
    "import zipfile\n",
    "with zipfile.ZipFile(\"./data/2016.zip\") as f:\n",
    "    f.extractall(\"./2016_subway\")"
   ]
  },
  {
   "cell_type": "code",
   "execution_count": null,
   "id": "85afe547",
   "metadata": {},
   "outputs": [],
   "source": [
    "import os\n",
    "roots = \"./2016_subway/\"\n",
    "total = []\n",
    "for file in os.listdir(roots):\n",
    "    if file.split(\".\")[-1] == \"csv\":\n",
    "        total.append(pd.read_csv(roots + file, encoding='cp949'))"
   ]
  },
  {
   "cell_type": "code",
   "execution_count": 13,
   "id": "0df32ad5",
   "metadata": {},
   "outputs": [],
   "source": [
    "import os \n",
    "roots = \"./2016_subway/\"\n",
    "\n",
    "for file in os.listdir(roots):\n",
    "    if file.split(\".\")[-1] == \"csv\":\n",
    "        locals()[file.split(\".\")[0]] = pd.read_csv(roots + file, encoding='cp949')\n",
    "\n",
    "    "
   ]
  },
  {
   "cell_type": "code",
   "execution_count": 11,
   "id": "d9f2207a",
   "metadata": {},
   "outputs": [],
   "source": [
    "locals()['a'] = 10"
   ]
  },
  {
   "cell_type": "code",
   "execution_count": 12,
   "id": "862cf8c4",
   "metadata": {},
   "outputs": [
    {
     "data": {
      "text/plain": [
       "10"
      ]
     },
     "execution_count": 12,
     "metadata": {},
     "output_type": "execute_result"
    }
   ],
   "source": [
    "a"
   ]
  },
  {
   "cell_type": "code",
   "execution_count": 16,
   "id": "0825cd9a",
   "metadata": {},
   "outputs": [],
   "source": [
    "import os\n",
    "roots = \"./2016_subway/\"\n",
    "total = {}\n",
    "for file in os.listdir(roots):\n",
    "    if file.split(\".\")[-1] == \"csv\":\n",
    "        total[file.split(\".\")[0]] = pd.read_csv(roots + file, encoding='cp949')"
   ]
  },
  {
   "cell_type": "code",
   "execution_count": null,
   "id": "e8e9b2f5",
   "metadata": {},
   "outputs": [],
   "source": [
    "sorted(total.items(), key=lambda x : x[0])"
   ]
  },
  {
   "cell_type": "code",
   "execution_count": 21,
   "id": "878ecd9d",
   "metadata": {},
   "outputs": [
    {
     "name": "stdout",
     "output_type": "stream",
     "text": [
      "Subway_201601 --> Index(['날짜', '호선', '역명', '구 분', '할인', '04 ~ 05', '05 ~ 06', '06 ~ 07',\n",
      "       '07 ~ 08', '08 ~ 09', '09 ~ 10', '10 ~ 11', '11 ~ 12', '12 ~ 13',\n",
      "       '13 ~ 14', '14 ~ 15', '15 ~ 16', '16 ~ 17', '17 ~ 18', '18 ~ 19',\n",
      "       '19 ~ 20', '20 ~ 21', '21 ~ 22', '22 ~ 23', '23 ~ 24', '00 ~ 01',\n",
      "       '01 ~ 02', '02 ~ 03', '03 ~ 04'],\n",
      "      dtype='object')\n",
      "--------------------------------------------------\n",
      "Subway_201602 --> Index(['날짜', '호선', '역명', '구 분', '할인', '04 ~ 05', '05 ~ 06', '06 ~ 07',\n",
      "       '07 ~ 08', '08 ~ 09', '09 ~ 10', '10 ~ 11', '11 ~ 12', '12 ~ 13',\n",
      "       '13 ~ 14', '14 ~ 15', '15 ~ 16', '16 ~ 17', '17 ~ 18', '18 ~ 19',\n",
      "       '19 ~ 20', '20 ~ 21', '21 ~ 22', '22 ~ 23', '23 ~ 24', '00 ~ 01',\n",
      "       '01 ~ 02', '02 ~ 03', '03 ~ 04'],\n",
      "      dtype='object')\n",
      "--------------------------------------------------\n",
      "Subway_201603 --> Index(['날짜', '호선', '역명', '구 분', '할인', '04 ~ 05', '05 ~ 06', '06 ~ 07',\n",
      "       '07 ~ 08', '08 ~ 09', '09 ~ 10', '10 ~ 11', '11 ~ 12', '12 ~ 13',\n",
      "       '13 ~ 14', '14 ~ 15', '15 ~ 16', '16 ~ 17', '17 ~ 18', '18 ~ 19',\n",
      "       '19 ~ 20', '20 ~ 21', '21 ~ 22', '22 ~ 23', '23 ~ 24', '00 ~ 01',\n",
      "       '01 ~ 02', '02 ~ 03', '03 ~ 04'],\n",
      "      dtype='object')\n",
      "--------------------------------------------------\n",
      "Subway_201604 --> Index(['날짜', '호선', '역명', '구 분', '할인', '04 ~ 05', '05 ~ 06', '06 ~ 07',\n",
      "       '07 ~ 08', '08 ~ 09', '09 ~ 10', '10 ~ 11', '11 ~ 12', '12 ~ 13',\n",
      "       '13 ~ 14', '14 ~ 15', '15 ~ 16', '16 ~ 17', '17 ~ 18', '18 ~ 19',\n",
      "       '19 ~ 20', '20 ~ 21', '21 ~ 22', '22 ~ 23', '23 ~ 24', '00 ~ 01',\n",
      "       '01 ~ 02', '02 ~ 03', '03 ~ 04'],\n",
      "      dtype='object')\n",
      "--------------------------------------------------\n",
      "Subway_201605 --> Index(['날짜', '호선', '역명', '구 분', '할인', '04 ~ 05', '05 ~ 06', '06 ~ 07',\n",
      "       '07 ~ 08', '08 ~ 09', '09 ~ 10', '10 ~ 11', '11 ~ 12', '12 ~ 13',\n",
      "       '13 ~ 14', '14 ~ 15', '15 ~ 16', '16 ~ 17', '17 ~ 18', '18 ~ 19',\n",
      "       '19 ~ 20', '20 ~ 21', '21 ~ 22', '22 ~ 23', '23 ~ 24', '00 ~ 01',\n",
      "       '01 ~ 02', '02 ~ 03', '03 ~ 04'],\n",
      "      dtype='object')\n",
      "--------------------------------------------------\n",
      "Subway_201606 --> Index(['역명', '날짜', '구분', '05~06', '06~07', '07~08', '08~09', '09~10', '10~11',\n",
      "       '11~12', '12~13', '13~14', '14~15', '15~16', '16~17', '17~18', '18~19',\n",
      "       '19~20', '20~21', '21~22', '22~23', '23~24', '00~01', '01~02'],\n",
      "      dtype='object')\n",
      "--------------------------------------------------\n",
      "Subway_201607 --> Index(['역명', '날짜', '구분', '05~06', '06~07', '07~08', '08~09', '09~10', '10~11',\n",
      "       '11~12', '12~13', '13~14', '14~15', '15~16', '16~17', '17~18', '18~19',\n",
      "       '19~20', '20~21', '21~22', '22~23', '23~24', '00~01', '01~02'],\n",
      "      dtype='object')\n",
      "--------------------------------------------------\n",
      "Subway_201608 --> Index(['역명', '날짜', '구분', '05~06', '06~07', '07~08', '08~09', '09~10', '10~11',\n",
      "       '11~12', '12~13', '13~14', '14~15', '15~16', '16~17', '17~18', '18~19',\n",
      "       '19~20', '20~21', '21~22', '22~23', '23~24', '00~01', '01~02'],\n",
      "      dtype='object')\n",
      "--------------------------------------------------\n",
      "Subway_201609 --> Index(['역명', '날짜', '구분', '05~06', '06~07', '07~08', '08~09', '09~10', '10~11',\n",
      "       '11~12', '12~13', '13~14', '14~15', '15~16', '16~17', '17~18', '18~19',\n",
      "       '19~20', '20~21', '21~22', '22~23', '23~24', '00~01', '01~02'],\n",
      "      dtype='object')\n",
      "--------------------------------------------------\n",
      "Subway_201610 --> Index(['역명', '날짜', '구분', '05~06', '06~07', '07~08', '08~09', '09~10', '10~11',\n",
      "       '11~12', '12~13', '13~14', '14~15', '15~16', '16~17', '17~18', '18~19',\n",
      "       '19~20', '20~21', '21~22', '22~23', '23~24', '00~01', '01~02'],\n",
      "      dtype='object')\n",
      "--------------------------------------------------\n",
      "Subway_201611 --> Index(['역명', '날짜', '구분', '05~06', '06~07', '07~08', '08~09', '09~10', '10~11',\n",
      "       '11~12', '12~13', '13~14', '14~15', '15~16', '16~17', '17~18', '18~19',\n",
      "       '19~20', '20~21', '21~22', '22~23', '23~24', '00~01', '01~02'],\n",
      "      dtype='object')\n",
      "--------------------------------------------------\n",
      "Subway_201612 --> Index(['역명', '날짜', '구분', '05~06시', '06~07시', '07~08시', '08~09시', '09~10시',\n",
      "       '10~11시', '11~12시', '12~13시', '13~14시', '14~15시', '15~16시', '16~17시',\n",
      "       '17~18시', '18~19시', '19~20시', '20~21시', '21~22시', '22~23시', '23~24시',\n",
      "       '00~01시', '01~02시'],\n",
      "      dtype='object')\n",
      "--------------------------------------------------\n"
     ]
    }
   ],
   "source": [
    "for key, value in sorted(total.items(), key=lambda x : x[0]):\n",
    "    print(key, end=\" --> \")\n",
    "    print(value.columns)\n",
    "    print(\"-\" * 50)"
   ]
  },
  {
   "cell_type": "code",
   "execution_count": null,
   "id": "139c8029",
   "metadata": {},
   "outputs": [],
   "source": [
    "help(pd.concat)"
   ]
  },
  {
   "cell_type": "code",
   "execution_count": 26,
   "id": "b2be2f46",
   "metadata": {},
   "outputs": [],
   "source": [
    "df1 = pd.concat([Subway_201601, Subway_201602, Subway_201603, Subway_201604, Subway_201605] , ignore_index=True)"
   ]
  },
  {
   "cell_type": "code",
   "execution_count": 28,
   "id": "0f716ec1",
   "metadata": {},
   "outputs": [
    {
     "data": {
      "text/plain": [
       "Index(['날짜', '호선', '역명', '구 분', '할인', '04 ~ 05', '05 ~ 06', '06 ~ 07',\n",
       "       '07 ~ 08', '08 ~ 09', '09 ~ 10', '10 ~ 11', '11 ~ 12', '12 ~ 13',\n",
       "       '13 ~ 14', '14 ~ 15', '15 ~ 16', '16 ~ 17', '17 ~ 18', '18 ~ 19',\n",
       "       '19 ~ 20', '20 ~ 21', '21 ~ 22', '22 ~ 23', '23 ~ 24', '00 ~ 01',\n",
       "       '01 ~ 02', '02 ~ 03', '03 ~ 04'],\n",
       "      dtype='object')"
      ]
     },
     "execution_count": 28,
     "metadata": {},
     "output_type": "execute_result"
    }
   ],
   "source": [
    "df1.columns"
   ]
  },
  {
   "cell_type": "code",
   "execution_count": 33,
   "id": "7c5d3b10",
   "metadata": {},
   "outputs": [],
   "source": [
    "df1 = df1.groupby(['날짜', '호선', '역명', '구 분'], as_index=False).sum().drop('할인', axis=1)"
   ]
  },
  {
   "cell_type": "code",
   "execution_count": 34,
   "id": "7b8bbdc2",
   "metadata": {},
   "outputs": [
    {
     "data": {
      "text/html": [
       "<div>\n",
       "<style scoped>\n",
       "    .dataframe tbody tr th:only-of-type {\n",
       "        vertical-align: middle;\n",
       "    }\n",
       "\n",
       "    .dataframe tbody tr th {\n",
       "        vertical-align: top;\n",
       "    }\n",
       "\n",
       "    .dataframe thead th {\n",
       "        text-align: right;\n",
       "    }\n",
       "</style>\n",
       "<table border=\"1\" class=\"dataframe\">\n",
       "  <thead>\n",
       "    <tr style=\"text-align: right;\">\n",
       "      <th></th>\n",
       "      <th>날짜</th>\n",
       "      <th>호선</th>\n",
       "      <th>역명</th>\n",
       "      <th>구 분</th>\n",
       "      <th>04 ~ 05</th>\n",
       "      <th>05 ~ 06</th>\n",
       "      <th>06 ~ 07</th>\n",
       "      <th>07 ~ 08</th>\n",
       "      <th>08 ~ 09</th>\n",
       "      <th>09 ~ 10</th>\n",
       "      <th>...</th>\n",
       "      <th>18 ~ 19</th>\n",
       "      <th>19 ~ 20</th>\n",
       "      <th>20 ~ 21</th>\n",
       "      <th>21 ~ 22</th>\n",
       "      <th>22 ~ 23</th>\n",
       "      <th>23 ~ 24</th>\n",
       "      <th>00 ~ 01</th>\n",
       "      <th>01 ~ 02</th>\n",
       "      <th>02 ~ 03</th>\n",
       "      <th>03 ~ 04</th>\n",
       "    </tr>\n",
       "  </thead>\n",
       "  <tbody>\n",
       "    <tr>\n",
       "      <th>0</th>\n",
       "      <td>2016-01-01</td>\n",
       "      <td>1호선</td>\n",
       "      <td>동대문(155)</td>\n",
       "      <td>승차</td>\n",
       "      <td>6</td>\n",
       "      <td>147</td>\n",
       "      <td>168</td>\n",
       "      <td>170</td>\n",
       "      <td>293</td>\n",
       "      <td>479</td>\n",
       "      <td>...</td>\n",
       "      <td>625</td>\n",
       "      <td>614</td>\n",
       "      <td>475</td>\n",
       "      <td>414</td>\n",
       "      <td>291</td>\n",
       "      <td>138</td>\n",
       "      <td>6</td>\n",
       "      <td>0</td>\n",
       "      <td>0</td>\n",
       "      <td>0</td>\n",
       "    </tr>\n",
       "    <tr>\n",
       "      <th>1</th>\n",
       "      <td>2016-01-01</td>\n",
       "      <td>1호선</td>\n",
       "      <td>동대문(155)</td>\n",
       "      <td>하차</td>\n",
       "      <td>0</td>\n",
       "      <td>31</td>\n",
       "      <td>164</td>\n",
       "      <td>146</td>\n",
       "      <td>164</td>\n",
       "      <td>354</td>\n",
       "      <td>...</td>\n",
       "      <td>869</td>\n",
       "      <td>827</td>\n",
       "      <td>660</td>\n",
       "      <td>614</td>\n",
       "      <td>471</td>\n",
       "      <td>348</td>\n",
       "      <td>122</td>\n",
       "      <td>0</td>\n",
       "      <td>0</td>\n",
       "      <td>0</td>\n",
       "    </tr>\n",
       "    <tr>\n",
       "      <th>2</th>\n",
       "      <td>2016-01-01</td>\n",
       "      <td>1호선</td>\n",
       "      <td>동묘앞(159)</td>\n",
       "      <td>승차</td>\n",
       "      <td>5</td>\n",
       "      <td>37</td>\n",
       "      <td>65</td>\n",
       "      <td>66</td>\n",
       "      <td>110</td>\n",
       "      <td>161</td>\n",
       "      <td>...</td>\n",
       "      <td>404</td>\n",
       "      <td>198</td>\n",
       "      <td>139</td>\n",
       "      <td>136</td>\n",
       "      <td>81</td>\n",
       "      <td>52</td>\n",
       "      <td>2</td>\n",
       "      <td>0</td>\n",
       "      <td>0</td>\n",
       "      <td>0</td>\n",
       "    </tr>\n",
       "  </tbody>\n",
       "</table>\n",
       "<p>3 rows × 28 columns</p>\n",
       "</div>"
      ],
      "text/plain": [
       "           날짜   호선        역명 구 분  04 ~ 05  05 ~ 06  06 ~ 07  07 ~ 08  08 ~ 09  \\\n",
       "0  2016-01-01  1호선  동대문(155)  승차        6      147      168      170      293   \n",
       "1  2016-01-01  1호선  동대문(155)  하차        0       31      164      146      164   \n",
       "2  2016-01-01  1호선  동묘앞(159)  승차        5       37       65       66      110   \n",
       "\n",
       "   09 ~ 10  ...  18 ~ 19  19 ~ 20  20 ~ 21  21 ~ 22  22 ~ 23  23 ~ 24  \\\n",
       "0      479  ...      625      614      475      414      291      138   \n",
       "1      354  ...      869      827      660      614      471      348   \n",
       "2      161  ...      404      198      139      136       81       52   \n",
       "\n",
       "   00 ~ 01  01 ~ 02  02 ~ 03  03 ~ 04  \n",
       "0        6        0        0        0  \n",
       "1      122        0        0        0  \n",
       "2        2        0        0        0  \n",
       "\n",
       "[3 rows x 28 columns]"
      ]
     },
     "execution_count": 34,
     "metadata": {},
     "output_type": "execute_result"
    }
   ],
   "source": [
    "df1.head(3)"
   ]
  },
  {
   "cell_type": "code",
   "execution_count": 38,
   "id": "03e3b7d5",
   "metadata": {},
   "outputs": [
    {
     "name": "stdout",
     "output_type": "stream",
     "text": [
      "Subway_201606\n",
      "Subway_201607\n",
      "Subway_201608\n",
      "Subway_201609\n",
      "Subway_201610\n",
      "Subway_201611\n"
     ]
    }
   ],
   "source": [
    "for x in range(6,12):\n",
    "    print(\"Subway_2016{:02}\".format(x))"
   ]
  },
  {
   "cell_type": "code",
   "execution_count": 42,
   "id": "8d75f788",
   "metadata": {},
   "outputs": [],
   "source": [
    "tmp = [eval(\"Subway_2016{:02}\".format(x)) for x in range(6,12)]"
   ]
  },
  {
   "cell_type": "code",
   "execution_count": 44,
   "id": "a04aa59c",
   "metadata": {},
   "outputs": [],
   "source": [
    "df2 = pd.concat([eval(\"Subway_2016{:02}\".format(x)) for x in range(6,12)], ignore_index=True)"
   ]
  },
  {
   "cell_type": "code",
   "execution_count": null,
   "id": "c5830d6a",
   "metadata": {},
   "outputs": [
    {
     "data": {
      "text/html": [
       "<div>\n",
       "<style scoped>\n",
       "    .dataframe tbody tr th:only-of-type {\n",
       "        vertical-align: middle;\n",
       "    }\n",
       "\n",
       "    .dataframe tbody tr th {\n",
       "        vertical-align: top;\n",
       "    }\n",
       "\n",
       "    .dataframe thead th {\n",
       "        text-align: right;\n",
       "    }\n",
       "</style>\n",
       "<table border=\"1\" class=\"dataframe\">\n",
       "  <thead>\n",
       "    <tr style=\"text-align: right;\">\n",
       "      <th></th>\n",
       "      <th>역명</th>\n",
       "      <th>호선</th>\n",
       "    </tr>\n",
       "  </thead>\n",
       "  <tbody>\n",
       "    <tr>\n",
       "      <th>0</th>\n",
       "      <td>동대문(155)</td>\n",
       "      <td>1호선</td>\n",
       "    </tr>\n",
       "    <tr>\n",
       "      <th>1</th>\n",
       "      <td>동대문(155)</td>\n",
       "      <td>1호선</td>\n",
       "    </tr>\n",
       "    <tr>\n",
       "      <th>2</th>\n",
       "      <td>동묘앞(159)</td>\n",
       "      <td>1호선</td>\n",
       "    </tr>\n",
       "    <tr>\n",
       "      <th>3</th>\n",
       "      <td>동묘앞(159)</td>\n",
       "      <td>1호선</td>\n",
       "    </tr>\n",
       "    <tr>\n",
       "      <th>4</th>\n",
       "      <td>서울역(150)</td>\n",
       "      <td>1호선</td>\n",
       "    </tr>\n",
       "    <tr>\n",
       "      <th>...</th>\n",
       "      <td>...</td>\n",
       "      <td>...</td>\n",
       "    </tr>\n",
       "    <tr>\n",
       "      <th>36171</th>\n",
       "      <td>한성대입구(419)</td>\n",
       "      <td>4호선</td>\n",
       "    </tr>\n",
       "    <tr>\n",
       "      <th>36172</th>\n",
       "      <td>혜화(420)</td>\n",
       "      <td>4호선</td>\n",
       "    </tr>\n",
       "    <tr>\n",
       "      <th>36173</th>\n",
       "      <td>혜화(420)</td>\n",
       "      <td>4호선</td>\n",
       "    </tr>\n",
       "    <tr>\n",
       "      <th>36174</th>\n",
       "      <td>회현(425)</td>\n",
       "      <td>4호선</td>\n",
       "    </tr>\n",
       "    <tr>\n",
       "      <th>36175</th>\n",
       "      <td>회현(425)</td>\n",
       "      <td>4호선</td>\n",
       "    </tr>\n",
       "  </tbody>\n",
       "</table>\n",
       "<p>36176 rows × 2 columns</p>\n",
       "</div>"
      ],
      "text/plain": [
       "               역명   호선\n",
       "0        동대문(155)  1호선\n",
       "1        동대문(155)  1호선\n",
       "2        동묘앞(159)  1호선\n",
       "3        동묘앞(159)  1호선\n",
       "4        서울역(150)  1호선\n",
       "...           ...  ...\n",
       "36171  한성대입구(419)  4호선\n",
       "36172     혜화(420)  4호선\n",
       "36173     혜화(420)  4호선\n",
       "36174     회현(425)  4호선\n",
       "36175     회현(425)  4호선\n",
       "\n",
       "[36176 rows x 2 columns]"
      ]
     },
     "execution_count": 48,
     "metadata": {},
     "output_type": "execute_result"
    }
   ],
   "source": [
    "df1[['역명', '호선']]"
   ]
  },
  {
   "cell_type": "code",
   "execution_count": 51,
   "id": "03efce02",
   "metadata": {},
   "outputs": [
    {
     "data": {
      "text/plain": [
       "(43554, 24)"
      ]
     },
     "execution_count": 51,
     "metadata": {},
     "output_type": "execute_result"
    }
   ],
   "source": [
    "df2.shape"
   ]
  },
  {
   "cell_type": "code",
   "execution_count": 56,
   "id": "126dbe0a",
   "metadata": {},
   "outputs": [
    {
     "data": {
      "text/plain": [
       "(36176, 2)"
      ]
     },
     "execution_count": 56,
     "metadata": {},
     "output_type": "execute_result"
    }
   ],
   "source": [
    "df1[['역명', '호선']].shape"
   ]
  },
  {
   "cell_type": "code",
   "execution_count": null,
   "id": "2aa4d0a0",
   "metadata": {},
   "outputs": [],
   "source": [
    "tmp3 = pd.merge(df2, df1[['역명', '호선']].drop_duplicates(), left_on=['역명'], right_on=['역명'], how='left')"
   ]
  },
  {
   "cell_type": "code",
   "execution_count": 69,
   "id": "8bc46492",
   "metadata": {},
   "outputs": [],
   "source": [
    "df2 = pd.merge(df2, df1[['역명', '호선']].drop_duplicates(), left_on=['역명'], right_on=['역명'], how='left')"
   ]
  },
  {
   "cell_type": "code",
   "execution_count": 58,
   "id": "27be5c2a",
   "metadata": {},
   "outputs": [
    {
     "data": {
      "text/plain": [
       "np.int64(13196862)"
      ]
     },
     "execution_count": 58,
     "metadata": {},
     "output_type": "execute_result"
    }
   ],
   "source": [
    "tmp.duplicated().sum()"
   ]
  },
  {
   "cell_type": "code",
   "execution_count": 59,
   "id": "3b8943de",
   "metadata": {},
   "outputs": [],
   "source": [
    "tmp2 = tmp.drop_duplicates()"
   ]
  },
  {
   "cell_type": "code",
   "execution_count": 60,
   "id": "ba474449",
   "metadata": {},
   "outputs": [
    {
     "data": {
      "text/plain": [
       "(43554, 25)"
      ]
     },
     "execution_count": 60,
     "metadata": {},
     "output_type": "execute_result"
    }
   ],
   "source": [
    "tmp2.shape"
   ]
  },
  {
   "cell_type": "code",
   "execution_count": 65,
   "id": "d488a435",
   "metadata": {},
   "outputs": [],
   "source": [
    "Subway_201612.columns = [x.replace(\"시\", \"\") for x in Subway_201612.columns]"
   ]
  },
  {
   "cell_type": "code",
   "execution_count": 75,
   "id": "25ca1acc",
   "metadata": {},
   "outputs": [],
   "source": [
    "df1.columns = [\"\".join(x.split())  for x in df1.columns]"
   ]
  },
  {
   "cell_type": "code",
   "execution_count": 79,
   "id": "755dfb86",
   "metadata": {},
   "outputs": [
    {
     "data": {
      "text/plain": [
       "28"
      ]
     },
     "execution_count": 79,
     "metadata": {},
     "output_type": "execute_result"
    }
   ],
   "source": [
    "df1.columns.size"
   ]
  },
  {
   "cell_type": "code",
   "execution_count": 81,
   "id": "d17fa662",
   "metadata": {},
   "outputs": [
    {
     "data": {
      "text/plain": [
       "{'02~03', '03~04', '04~05'}"
      ]
     },
     "execution_count": 81,
     "metadata": {},
     "output_type": "execute_result"
    }
   ],
   "source": [
    "set(df1.columns) - set(df2.columns)"
   ]
  },
  {
   "cell_type": "code",
   "execution_count": 85,
   "id": "69d3b8e6",
   "metadata": {},
   "outputs": [],
   "source": [
    "df_1_2 = pd.concat([df1.drop(list(set(df1.columns) - set(df2.columns)), axis=1), df2], ignore_index=False)"
   ]
  },
  {
   "cell_type": "code",
   "execution_count": null,
   "id": "e4bd158f",
   "metadata": {},
   "outputs": [],
   "source": [
    "df3 = pd.merge(Subway_201612, df1[['역명', '호선']].drop_duplicates(), left_on=['역명'], right_on=['역명'], how='left')"
   ]
  },
  {
   "cell_type": "code",
   "execution_count": 97,
   "id": "b0017619",
   "metadata": {},
   "outputs": [
    {
     "data": {
      "text/plain": [
       "25"
      ]
     },
     "execution_count": 97,
     "metadata": {},
     "output_type": "execute_result"
    }
   ],
   "source": [
    "len(set(df_1_2.columns) & set(df3.columns))"
   ]
  },
  {
   "cell_type": "code",
   "execution_count": 99,
   "id": "eae9570b",
   "metadata": {},
   "outputs": [],
   "source": [
    "subway_df = pd.concat([df_1_2, df3])"
   ]
  },
  {
   "cell_type": "code",
   "execution_count": 111,
   "id": "abd5b3b7",
   "metadata": {},
   "outputs": [],
   "source": [
    "subway_df['합계'] = subway_df.loc[:,\"05~06\":].apply(lambda x : sum(x), axis=1)"
   ]
  },
  {
   "cell_type": "code",
   "execution_count": null,
   "id": "78652365",
   "metadata": {},
   "outputs": [
    {
     "data": {
      "text/plain": [
       "10523"
      ]
     },
     "execution_count": 114,
     "metadata": {},
     "output_type": "execute_result"
    }
   ],
   "source": []
  },
  {
   "cell_type": "code",
   "execution_count": 120,
   "id": "c0d37bbe",
   "metadata": {},
   "outputs": [
    {
     "data": {
      "text/html": [
       "<div>\n",
       "<style scoped>\n",
       "    .dataframe tbody tr th:only-of-type {\n",
       "        vertical-align: middle;\n",
       "    }\n",
       "\n",
       "    .dataframe tbody tr th {\n",
       "        vertical-align: top;\n",
       "    }\n",
       "\n",
       "    .dataframe thead th {\n",
       "        text-align: right;\n",
       "    }\n",
       "</style>\n",
       "<table border=\"1\" class=\"dataframe\">\n",
       "  <thead>\n",
       "    <tr style=\"text-align: right;\">\n",
       "      <th></th>\n",
       "      <th>합계</th>\n",
       "    </tr>\n",
       "    <tr>\n",
       "      <th>역명</th>\n",
       "      <th></th>\n",
       "    </tr>\n",
       "  </thead>\n",
       "  <tbody>\n",
       "    <tr>\n",
       "      <th>강남(222)</th>\n",
       "      <td>36262673</td>\n",
       "    </tr>\n",
       "    <tr>\n",
       "      <th>잠실(216)</th>\n",
       "      <td>31080170</td>\n",
       "    </tr>\n",
       "    <tr>\n",
       "      <th>홍대입구(239)</th>\n",
       "      <td>28015621</td>\n",
       "    </tr>\n",
       "    <tr>\n",
       "      <th>신림(230)</th>\n",
       "      <td>26680680</td>\n",
       "    </tr>\n",
       "    <tr>\n",
       "      <th>구로디지털단지(232)</th>\n",
       "      <td>23104249</td>\n",
       "    </tr>\n",
       "    <tr>\n",
       "      <th>...</th>\n",
       "      <td>...</td>\n",
       "    </tr>\n",
       "    <tr>\n",
       "      <th>용두(250)</th>\n",
       "      <td>830473</td>\n",
       "    </tr>\n",
       "    <tr>\n",
       "      <th>남태령(434)</th>\n",
       "      <td>597887</td>\n",
       "    </tr>\n",
       "    <tr>\n",
       "      <th>신답(245)</th>\n",
       "      <td>494357</td>\n",
       "    </tr>\n",
       "    <tr>\n",
       "      <th>지축(309)</th>\n",
       "      <td>489233</td>\n",
       "    </tr>\n",
       "    <tr>\n",
       "      <th>도림천(247)</th>\n",
       "      <td>376511</td>\n",
       "    </tr>\n",
       "  </tbody>\n",
       "</table>\n",
       "<p>119 rows × 1 columns</p>\n",
       "</div>"
      ],
      "text/plain": [
       "                    합계\n",
       "역명                    \n",
       "강남(222)       36262673\n",
       "잠실(216)       31080170\n",
       "홍대입구(239)     28015621\n",
       "신림(230)       26680680\n",
       "구로디지털단지(232)  23104249\n",
       "...                ...\n",
       "용두(250)         830473\n",
       "남태령(434)        597887\n",
       "신답(245)         494357\n",
       "지축(309)         489233\n",
       "도림천(247)        376511\n",
       "\n",
       "[119 rows x 1 columns]"
      ]
     },
     "execution_count": 120,
     "metadata": {},
     "output_type": "execute_result"
    }
   ],
   "source": [
    "subway_df.loc[subway_df.구분 == \"승차\"].groupby(['역명'])[['합계']].sum().sort_values(by=['합계'], ascending=False)"
   ]
  },
  {
   "cell_type": "code",
   "execution_count": 123,
   "id": "b5d39501",
   "metadata": {},
   "outputs": [],
   "source": [
    "홍대 = subway_df[subway_df.역명 == \"홍대입구(239)\"]"
   ]
  },
  {
   "cell_type": "code",
   "execution_count": 132,
   "id": "c83f771f",
   "metadata": {},
   "outputs": [],
   "source": [
    "홍대 = pd.concat([홍대, 홍대.날짜.str.split(\"-\",expand=True)], axis=1)"
   ]
  },
  {
   "cell_type": "code",
   "execution_count": 136,
   "id": "7866b884",
   "metadata": {},
   "outputs": [],
   "source": [
    "홍대.rename(columns={0:'연도', 1:'월', 2:'일'}, inplace=True)"
   ]
  },
  {
   "cell_type": "code",
   "execution_count": 142,
   "id": "0e90dd42",
   "metadata": {},
   "outputs": [],
   "source": [
    "import matplotlib.pyplot as plt"
   ]
  },
  {
   "cell_type": "code",
   "execution_count": 143,
   "id": "5ed4b8c7",
   "metadata": {},
   "outputs": [
    {
     "data": {
      "text/plain": [
       "<Axes: xlabel='월'>"
      ]
     },
     "execution_count": 143,
     "metadata": {},
     "output_type": "execute_result"
    },
    {
     "data": {
      "image/png": "[encoded data removed]",
      "text/plain": [
       "<Figure size 640x480 with 1 Axes>"
      ]
     },
     "metadata": {},
     "output_type": "display_data"
    }
   ],
   "source": [
    "plt.rcParams['font.family'] = 'NanumGothic'\n",
    "홍대.groupby([\"월\", '구분'])[['합계']].sum().unstack().plot.bar()"
   ]
  },
  {
   "cell_type": "code",
   "execution_count": null,
   "id": "9c948db9",
   "metadata": {},
   "outputs": [],
   "source": []
  }
 ],
 "metadata": {
  "kernelspec": {
   "display_name": "pandas",
   "language": "python",
   "name": "python3"
  },
  "language_info": {
   "codemirror_mode": {
    "name": "ipython",
    "version": 3
   },
   "file_extension": ".py",
   "mimetype": "text/x-python",
   "name": "python",
   "nbconvert_exporter": "python",
   "pygments_lexer": "ipython3",
   "version": "3.12.11"
  }
 },
 "nbformat": 4,
 "nbformat_minor": 5
}
