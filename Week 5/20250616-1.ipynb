{
 "cells": [
  {
   "cell_type": "code",
   "execution_count": 1,
   "id": "738eba85",
   "metadata": {},
   "outputs": [],
   "source": [
    "import pandas as pd "
   ]
  },
  {
   "cell_type": "code",
   "execution_count": null,
   "id": "07ead70a",
   "metadata": {},
   "outputs": [],
   "source": [
    "import sqlalchemy\n",
    "\n",
    "user= ''\n",
    "password = ''\n",
    "host=''\n",
    "port = \n",
    "database=''\n",
    "engine = sqlalchemy.create_engine(f\"mysql://{user}:{password}@{host}:{port}/{database}\")\n",
    "df = pd.read_sql_query(\"select * from naver_day_stock where st_code = 'A005930'\", con=engine)"
   ]
  },
  {
   "cell_type": "code",
   "execution_count": 9,
   "id": "09ea236a",
   "metadata": {},
   "outputs": [],
   "source": [
    "df = pd.read_sql_query(\"select * from naver_day_stock where st_code = 'A005930'\", con=engine)"
   ]
  },
  {
   "cell_type": "code",
   "execution_count": 20,
   "id": "bfc548be",
   "metadata": {},
   "outputs": [],
   "source": [
    "# Moving Average \n",
    "# 30일 이동평균 \n",
    "df['MA30'] = df['st_close'].rolling(30).mean()\n",
    "df['MA5'] = df['st_close'].rolling(5).mean()"
   ]
  },
  {
   "cell_type": "code",
   "execution_count": 21,
   "id": "2f4ddf49",
   "metadata": {},
   "outputs": [],
   "source": [
    "#df.drop(\"MV30\", axis=1, inplace=True)"
   ]
  },
  {
   "cell_type": "code",
   "execution_count": 22,
   "id": "fb98bb45",
   "metadata": {},
   "outputs": [
    {
     "data": {
      "text/plain": [
       "st_code      0\n",
       "st_date      0\n",
       "st_open      0\n",
       "st_high      0\n",
       "st_low       0\n",
       "st_close     0\n",
       "st_trade     0\n",
       "MA30        29\n",
       "MA5          4\n",
       "dtype: int64"
      ]
     },
     "execution_count": 22,
     "metadata": {},
     "output_type": "execute_result"
    }
   ],
   "source": [
    "df.isnull().sum()"
   ]
  },
  {
   "cell_type": "code",
   "execution_count": 24,
   "id": "4d569da7",
   "metadata": {},
   "outputs": [],
   "source": [
    "df.dropna(inplace=True)"
   ]
  },
  {
   "cell_type": "code",
   "execution_count": null,
   "id": "ca9098e8",
   "metadata": {},
   "outputs": [],
   "source": [
    "help(df.dropna)"
   ]
  },
  {
   "cell_type": "code",
   "execution_count": 28,
   "id": "c346018e",
   "metadata": {},
   "outputs": [
    {
     "data": {
      "text/plain": [
       "float"
      ]
     },
     "execution_count": 28,
     "metadata": {},
     "output_type": "execute_result"
    }
   ],
   "source": [
    "import numpy as np \n",
    "type(np.nan)"
   ]
  },
  {
   "cell_type": "code",
   "execution_count": 30,
   "id": "09c53354",
   "metadata": {},
   "outputs": [
    {
     "data": {
      "text/plain": [
       "array(['a', 'b', 'nan'], dtype='<U32')"
      ]
     },
     "execution_count": 30,
     "metadata": {},
     "output_type": "execute_result"
    }
   ],
   "source": [
    "np.array(['a', 'b', np.nan])"
   ]
  },
  {
   "cell_type": "code",
   "execution_count": 33,
   "id": "0e4b6a76",
   "metadata": {},
   "outputs": [],
   "source": [
    "df.loc[5288 ,'MA30'] = np.nan"
   ]
  },
  {
   "cell_type": "code",
   "execution_count": null,
   "id": "9ffa3f96",
   "metadata": {},
   "outputs": [
    {
     "data": {
      "text/html": [
       "<div>\n",
       "<style scoped>\n",
       "    .dataframe tbody tr th:only-of-type {\n",
       "        vertical-align: middle;\n",
       "    }\n",
       "\n",
       "    .dataframe tbody tr th {\n",
       "        vertical-align: top;\n",
       "    }\n",
       "\n",
       "    .dataframe thead th {\n",
       "        text-align: right;\n",
       "    }\n",
       "</style>\n",
       "<table border=\"1\" class=\"dataframe\">\n",
       "  <thead>\n",
       "    <tr style=\"text-align: right;\">\n",
       "      <th></th>\n",
       "      <th>st_code</th>\n",
       "      <th>st_date</th>\n",
       "      <th>st_open</th>\n",
       "      <th>st_high</th>\n",
       "      <th>st_low</th>\n",
       "      <th>st_close</th>\n",
       "      <th>st_trade</th>\n",
       "      <th>MA30</th>\n",
       "      <th>MA5</th>\n",
       "    </tr>\n",
       "  </thead>\n",
       "  <tbody>\n",
       "    <tr>\n",
       "      <th>29</th>\n",
       "      <td>A005930</td>\n",
       "      <td>2004-02-09</td>\n",
       "      <td>10720</td>\n",
       "      <td>10920</td>\n",
       "      <td>10700</td>\n",
       "      <td>10860</td>\n",
       "      <td>452758</td>\n",
       "      <td>9886.000000</td>\n",
       "      <td>10432.0</td>\n",
       "    </tr>\n",
       "    <tr>\n",
       "      <th>30</th>\n",
       "      <td>A005930</td>\n",
       "      <td>2004-02-10</td>\n",
       "      <td>10940</td>\n",
       "      <td>11000</td>\n",
       "      <td>10760</td>\n",
       "      <td>10920</td>\n",
       "      <td>411416</td>\n",
       "      <td>9955.333333</td>\n",
       "      <td>10548.0</td>\n",
       "    </tr>\n",
       "    <tr>\n",
       "      <th>31</th>\n",
       "      <td>A005930</td>\n",
       "      <td>2004-02-11</td>\n",
       "      <td>11000</td>\n",
       "      <td>11180</td>\n",
       "      <td>10960</td>\n",
       "      <td>11080</td>\n",
       "      <td>608784</td>\n",
       "      <td>10030.000000</td>\n",
       "      <td>10728.0</td>\n",
       "    </tr>\n",
       "    <tr>\n",
       "      <th>32</th>\n",
       "      <td>A005930</td>\n",
       "      <td>2004-02-12</td>\n",
       "      <td>11200</td>\n",
       "      <td>11200</td>\n",
       "      <td>10920</td>\n",
       "      <td>10980</td>\n",
       "      <td>571000</td>\n",
       "      <td>10103.333333</td>\n",
       "      <td>10876.0</td>\n",
       "    </tr>\n",
       "    <tr>\n",
       "      <th>33</th>\n",
       "      <td>A005930</td>\n",
       "      <td>2004-02-13</td>\n",
       "      <td>10900</td>\n",
       "      <td>11100</td>\n",
       "      <td>10840</td>\n",
       "      <td>11100</td>\n",
       "      <td>335215</td>\n",
       "      <td>10179.000000</td>\n",
       "      <td>10988.0</td>\n",
       "    </tr>\n",
       "    <tr>\n",
       "      <th>...</th>\n",
       "      <td>...</td>\n",
       "      <td>...</td>\n",
       "      <td>...</td>\n",
       "      <td>...</td>\n",
       "      <td>...</td>\n",
       "      <td>...</td>\n",
       "      <td>...</td>\n",
       "      <td>...</td>\n",
       "      <td>...</td>\n",
       "    </tr>\n",
       "    <tr>\n",
       "      <th>5287</th>\n",
       "      <td>A005930</td>\n",
       "      <td>2025-05-23</td>\n",
       "      <td>55000</td>\n",
       "      <td>55200</td>\n",
       "      <td>54100</td>\n",
       "      <td>54200</td>\n",
       "      <td>11240044</td>\n",
       "      <td>55590.000000</td>\n",
       "      <td>55260.0</td>\n",
       "    </tr>\n",
       "    <tr>\n",
       "      <th>5288</th>\n",
       "      <td>A005930</td>\n",
       "      <td>2025-05-26</td>\n",
       "      <td>53900</td>\n",
       "      <td>55000</td>\n",
       "      <td>53700</td>\n",
       "      <td>54700</td>\n",
       "      <td>10901337</td>\n",
       "      <td>55590.000000</td>\n",
       "      <td>55040.0</td>\n",
       "    </tr>\n",
       "    <tr>\n",
       "      <th>5289</th>\n",
       "      <td>A005930</td>\n",
       "      <td>2025-05-27</td>\n",
       "      <td>54200</td>\n",
       "      <td>54500</td>\n",
       "      <td>53800</td>\n",
       "      <td>53900</td>\n",
       "      <td>13439520</td>\n",
       "      <td>55563.333333</td>\n",
       "      <td>54640.0</td>\n",
       "    </tr>\n",
       "    <tr>\n",
       "      <th>5290</th>\n",
       "      <td>A005930</td>\n",
       "      <td>2025-05-28</td>\n",
       "      <td>54300</td>\n",
       "      <td>56100</td>\n",
       "      <td>54200</td>\n",
       "      <td>55900</td>\n",
       "      <td>17514340</td>\n",
       "      <td>55586.666667</td>\n",
       "      <td>54680.0</td>\n",
       "    </tr>\n",
       "    <tr>\n",
       "      <th>5291</th>\n",
       "      <td>A005930</td>\n",
       "      <td>2025-05-29</td>\n",
       "      <td>56200</td>\n",
       "      <td>56400</td>\n",
       "      <td>55600</td>\n",
       "      <td>56100</td>\n",
       "      <td>12871624</td>\n",
       "      <td>55583.333333</td>\n",
       "      <td>54960.0</td>\n",
       "    </tr>\n",
       "  </tbody>\n",
       "</table>\n",
       "<p>5263 rows × 9 columns</p>\n",
       "</div>"
      ],
      "text/plain": [
       "      st_code     st_date  st_open  st_high  st_low  st_close  st_trade  \\\n",
       "29    A005930  2004-02-09    10720    10920   10700     10860    452758   \n",
       "30    A005930  2004-02-10    10940    11000   10760     10920    411416   \n",
       "31    A005930  2004-02-11    11000    11180   10960     11080    608784   \n",
       "32    A005930  2004-02-12    11200    11200   10920     10980    571000   \n",
       "33    A005930  2004-02-13    10900    11100   10840     11100    335215   \n",
       "...       ...         ...      ...      ...     ...       ...       ...   \n",
       "5287  A005930  2025-05-23    55000    55200   54100     54200  11240044   \n",
       "5288  A005930  2025-05-26    53900    55000   53700     54700  10901337   \n",
       "5289  A005930  2025-05-27    54200    54500   53800     53900  13439520   \n",
       "5290  A005930  2025-05-28    54300    56100   54200     55900  17514340   \n",
       "5291  A005930  2025-05-29    56200    56400   55600     56100  12871624   \n",
       "\n",
       "              MA30      MA5  \n",
       "29     9886.000000  10432.0  \n",
       "30     9955.333333  10548.0  \n",
       "31    10030.000000  10728.0  \n",
       "32    10103.333333  10876.0  \n",
       "33    10179.000000  10988.0  \n",
       "...            ...      ...  \n",
       "5287  55590.000000  55260.0  \n",
       "5288  55590.000000  55040.0  \n",
       "5289  55563.333333  54640.0  \n",
       "5290  55586.666667  54680.0  \n",
       "5291  55583.333333  54960.0  \n",
       "\n",
       "[5263 rows x 9 columns]"
      ]
     },
     "execution_count": 40,
     "metadata": {},
     "output_type": "execute_result"
    }
   ],
   "source": [
    "#df.fillna(method='bfill')\n",
    "# bfill , ffill \n",
    "df.ffill()\n"
   ]
  },
  {
   "cell_type": "code",
   "execution_count": 47,
   "id": "f89ee986",
   "metadata": {},
   "outputs": [
    {
     "name": "stderr",
     "output_type": "stream",
     "text": [
      "/tmp/ipykernel_851583/4002874584.py:1: FutureWarning: DataFrame.interpolate with object dtype is deprecated and will raise in a future version. Call obj.infer_objects(copy=False) before interpolating instead.\n",
      "  df.interpolate()\n"
     ]
    },
    {
     "data": {
      "text/html": [
       "<div>\n",
       "<style scoped>\n",
       "    .dataframe tbody tr th:only-of-type {\n",
       "        vertical-align: middle;\n",
       "    }\n",
       "\n",
       "    .dataframe tbody tr th {\n",
       "        vertical-align: top;\n",
       "    }\n",
       "\n",
       "    .dataframe thead th {\n",
       "        text-align: right;\n",
       "    }\n",
       "</style>\n",
       "<table border=\"1\" class=\"dataframe\">\n",
       "  <thead>\n",
       "    <tr style=\"text-align: right;\">\n",
       "      <th></th>\n",
       "      <th>st_code</th>\n",
       "      <th>st_date</th>\n",
       "      <th>st_open</th>\n",
       "      <th>st_high</th>\n",
       "      <th>st_low</th>\n",
       "      <th>st_close</th>\n",
       "      <th>st_trade</th>\n",
       "      <th>MA30</th>\n",
       "      <th>MA5</th>\n",
       "    </tr>\n",
       "  </thead>\n",
       "  <tbody>\n",
       "    <tr>\n",
       "      <th>29</th>\n",
       "      <td>A005930</td>\n",
       "      <td>2004-02-09</td>\n",
       "      <td>10720</td>\n",
       "      <td>10920</td>\n",
       "      <td>10700</td>\n",
       "      <td>10860</td>\n",
       "      <td>452758</td>\n",
       "      <td>9886.000000</td>\n",
       "      <td>10432.0</td>\n",
       "    </tr>\n",
       "    <tr>\n",
       "      <th>30</th>\n",
       "      <td>A005930</td>\n",
       "      <td>2004-02-10</td>\n",
       "      <td>10940</td>\n",
       "      <td>11000</td>\n",
       "      <td>10760</td>\n",
       "      <td>10920</td>\n",
       "      <td>411416</td>\n",
       "      <td>9955.333333</td>\n",
       "      <td>10548.0</td>\n",
       "    </tr>\n",
       "    <tr>\n",
       "      <th>31</th>\n",
       "      <td>A005930</td>\n",
       "      <td>2004-02-11</td>\n",
       "      <td>11000</td>\n",
       "      <td>11180</td>\n",
       "      <td>10960</td>\n",
       "      <td>11080</td>\n",
       "      <td>608784</td>\n",
       "      <td>10030.000000</td>\n",
       "      <td>10728.0</td>\n",
       "    </tr>\n",
       "    <tr>\n",
       "      <th>32</th>\n",
       "      <td>A005930</td>\n",
       "      <td>2004-02-12</td>\n",
       "      <td>11200</td>\n",
       "      <td>11200</td>\n",
       "      <td>10920</td>\n",
       "      <td>10980</td>\n",
       "      <td>571000</td>\n",
       "      <td>10103.333333</td>\n",
       "      <td>10876.0</td>\n",
       "    </tr>\n",
       "    <tr>\n",
       "      <th>33</th>\n",
       "      <td>A005930</td>\n",
       "      <td>2004-02-13</td>\n",
       "      <td>10900</td>\n",
       "      <td>11100</td>\n",
       "      <td>10840</td>\n",
       "      <td>11100</td>\n",
       "      <td>335215</td>\n",
       "      <td>10179.000000</td>\n",
       "      <td>10988.0</td>\n",
       "    </tr>\n",
       "    <tr>\n",
       "      <th>...</th>\n",
       "      <td>...</td>\n",
       "      <td>...</td>\n",
       "      <td>...</td>\n",
       "      <td>...</td>\n",
       "      <td>...</td>\n",
       "      <td>...</td>\n",
       "      <td>...</td>\n",
       "      <td>...</td>\n",
       "      <td>...</td>\n",
       "    </tr>\n",
       "    <tr>\n",
       "      <th>5287</th>\n",
       "      <td>A005930</td>\n",
       "      <td>2025-05-23</td>\n",
       "      <td>55000</td>\n",
       "      <td>55200</td>\n",
       "      <td>54100</td>\n",
       "      <td>54200</td>\n",
       "      <td>11240044</td>\n",
       "      <td>55590.000000</td>\n",
       "      <td>55260.0</td>\n",
       "    </tr>\n",
       "    <tr>\n",
       "      <th>5288</th>\n",
       "      <td>A005930</td>\n",
       "      <td>2025-05-26</td>\n",
       "      <td>53900</td>\n",
       "      <td>55000</td>\n",
       "      <td>53700</td>\n",
       "      <td>54700</td>\n",
       "      <td>10901337</td>\n",
       "      <td>55576.666667</td>\n",
       "      <td>55040.0</td>\n",
       "    </tr>\n",
       "    <tr>\n",
       "      <th>5289</th>\n",
       "      <td>A005930</td>\n",
       "      <td>2025-05-27</td>\n",
       "      <td>54200</td>\n",
       "      <td>54500</td>\n",
       "      <td>53800</td>\n",
       "      <td>53900</td>\n",
       "      <td>13439520</td>\n",
       "      <td>55563.333333</td>\n",
       "      <td>54640.0</td>\n",
       "    </tr>\n",
       "    <tr>\n",
       "      <th>5290</th>\n",
       "      <td>A005930</td>\n",
       "      <td>2025-05-28</td>\n",
       "      <td>54300</td>\n",
       "      <td>56100</td>\n",
       "      <td>54200</td>\n",
       "      <td>55900</td>\n",
       "      <td>17514340</td>\n",
       "      <td>55586.666667</td>\n",
       "      <td>54680.0</td>\n",
       "    </tr>\n",
       "    <tr>\n",
       "      <th>5291</th>\n",
       "      <td>A005930</td>\n",
       "      <td>2025-05-29</td>\n",
       "      <td>56200</td>\n",
       "      <td>56400</td>\n",
       "      <td>55600</td>\n",
       "      <td>56100</td>\n",
       "      <td>12871624</td>\n",
       "      <td>55583.333333</td>\n",
       "      <td>54960.0</td>\n",
       "    </tr>\n",
       "  </tbody>\n",
       "</table>\n",
       "<p>5263 rows × 9 columns</p>\n",
       "</div>"
      ],
      "text/plain": [
       "      st_code     st_date  st_open  st_high  st_low  st_close  st_trade  \\\n",
       "29    A005930  2004-02-09    10720    10920   10700     10860    452758   \n",
       "30    A005930  2004-02-10    10940    11000   10760     10920    411416   \n",
       "31    A005930  2004-02-11    11000    11180   10960     11080    608784   \n",
       "32    A005930  2004-02-12    11200    11200   10920     10980    571000   \n",
       "33    A005930  2004-02-13    10900    11100   10840     11100    335215   \n",
       "...       ...         ...      ...      ...     ...       ...       ...   \n",
       "5287  A005930  2025-05-23    55000    55200   54100     54200  11240044   \n",
       "5288  A005930  2025-05-26    53900    55000   53700     54700  10901337   \n",
       "5289  A005930  2025-05-27    54200    54500   53800     53900  13439520   \n",
       "5290  A005930  2025-05-28    54300    56100   54200     55900  17514340   \n",
       "5291  A005930  2025-05-29    56200    56400   55600     56100  12871624   \n",
       "\n",
       "              MA30      MA5  \n",
       "29     9886.000000  10432.0  \n",
       "30     9955.333333  10548.0  \n",
       "31    10030.000000  10728.0  \n",
       "32    10103.333333  10876.0  \n",
       "33    10179.000000  10988.0  \n",
       "...            ...      ...  \n",
       "5287  55590.000000  55260.0  \n",
       "5288  55576.666667  55040.0  \n",
       "5289  55563.333333  54640.0  \n",
       "5290  55586.666667  54680.0  \n",
       "5291  55583.333333  54960.0  \n",
       "\n",
       "[5263 rows x 9 columns]"
      ]
     },
     "execution_count": 47,
     "metadata": {},
     "output_type": "execute_result"
    }
   ],
   "source": [
    "df.interpolate()"
   ]
  },
  {
   "cell_type": "code",
   "execution_count": 58,
   "id": "b06cf4c7",
   "metadata": {},
   "outputs": [
    {
     "data": {
      "text/plain": [
       "55576.6666665"
      ]
     },
     "execution_count": 58,
     "metadata": {},
     "output_type": "execute_result"
    }
   ],
   "source": [
    "(55590.000000 + 55563.333333) / 2"
   ]
  },
  {
   "cell_type": "code",
   "execution_count": 46,
   "id": "41d63af9",
   "metadata": {},
   "outputs": [
    {
     "data": {
      "text/plain": [
       "['_internal_names', '_internal_names_set', 'interpolate']"
      ]
     },
     "execution_count": 46,
     "metadata": {},
     "output_type": "execute_result"
    }
   ],
   "source": [
    "[x for x in dir(df) if x.find(\"inter\") > -1 ]"
   ]
  },
  {
   "cell_type": "code",
   "execution_count": 62,
   "id": "9ceda090",
   "metadata": {},
   "outputs": [
    {
     "data": {
      "text/plain": [
       "29      10860.000000\n",
       "30      10865.714286\n",
       "31      10886.122449\n",
       "32      10895.063168\n",
       "33      10914.580962\n",
       "            ...     \n",
       "5287    55750.318066\n",
       "5288    55650.287774\n",
       "5289    55483.593700\n",
       "5290    55523.251443\n",
       "5291    55578.179877\n",
       "Name: st_close, Length: 5263, dtype: float64"
      ]
     },
     "execution_count": 62,
     "metadata": {},
     "output_type": "execute_result"
    }
   ],
   "source": [
    "df['st_close'].ewm(span=20, adjust=False).mean()"
   ]
  },
  {
   "cell_type": "code",
   "execution_count": 63,
   "id": "3bf4422e",
   "metadata": {},
   "outputs": [
    {
     "data": {
      "text/plain": [
       "29      False\n",
       "30      False\n",
       "31      False\n",
       "32      False\n",
       "33      False\n",
       "        ...  \n",
       "5287    False\n",
       "5288    False\n",
       "5289    False\n",
       "5290    False\n",
       "5291    False\n",
       "Length: 5263, dtype: bool"
      ]
     },
     "execution_count": 63,
     "metadata": {},
     "output_type": "execute_result"
    }
   ],
   "source": [
    "df.duplicated()"
   ]
  },
  {
   "cell_type": "code",
   "execution_count": 66,
   "id": "cf634dc5",
   "metadata": {},
   "outputs": [
    {
     "data": {
      "text/html": [
       "<div>\n",
       "<style scoped>\n",
       "    .dataframe tbody tr th:only-of-type {\n",
       "        vertical-align: middle;\n",
       "    }\n",
       "\n",
       "    .dataframe tbody tr th {\n",
       "        vertical-align: top;\n",
       "    }\n",
       "\n",
       "    .dataframe thead th {\n",
       "        text-align: right;\n",
       "    }\n",
       "</style>\n",
       "<table border=\"1\" class=\"dataframe\">\n",
       "  <thead>\n",
       "    <tr style=\"text-align: right;\">\n",
       "      <th></th>\n",
       "      <th>st_code</th>\n",
       "      <th>st_date</th>\n",
       "      <th>st_open</th>\n",
       "      <th>st_high</th>\n",
       "      <th>st_low</th>\n",
       "      <th>st_close</th>\n",
       "      <th>st_trade</th>\n",
       "      <th>MA30</th>\n",
       "      <th>MA5</th>\n",
       "    </tr>\n",
       "  </thead>\n",
       "  <tbody>\n",
       "    <tr>\n",
       "      <th>29</th>\n",
       "      <td>A005930</td>\n",
       "      <td>2004-02-09</td>\n",
       "      <td>10720</td>\n",
       "      <td>10920</td>\n",
       "      <td>10700</td>\n",
       "      <td>10860</td>\n",
       "      <td>452758</td>\n",
       "      <td>9886.000000</td>\n",
       "      <td>10432.0</td>\n",
       "    </tr>\n",
       "    <tr>\n",
       "      <th>30</th>\n",
       "      <td>A005930</td>\n",
       "      <td>2004-02-10</td>\n",
       "      <td>10940</td>\n",
       "      <td>11000</td>\n",
       "      <td>10760</td>\n",
       "      <td>10920</td>\n",
       "      <td>411416</td>\n",
       "      <td>9955.333333</td>\n",
       "      <td>10548.0</td>\n",
       "    </tr>\n",
       "    <tr>\n",
       "      <th>31</th>\n",
       "      <td>A005930</td>\n",
       "      <td>2004-02-11</td>\n",
       "      <td>11000</td>\n",
       "      <td>11180</td>\n",
       "      <td>10960</td>\n",
       "      <td>11080</td>\n",
       "      <td>608784</td>\n",
       "      <td>10030.000000</td>\n",
       "      <td>10728.0</td>\n",
       "    </tr>\n",
       "  </tbody>\n",
       "</table>\n",
       "</div>"
      ],
      "text/plain": [
       "    st_code     st_date  st_open  st_high  st_low  st_close  st_trade  \\\n",
       "29  A005930  2004-02-09    10720    10920   10700     10860    452758   \n",
       "30  A005930  2004-02-10    10940    11000   10760     10920    411416   \n",
       "31  A005930  2004-02-11    11000    11180   10960     11080    608784   \n",
       "\n",
       "            MA30      MA5  \n",
       "29   9886.000000  10432.0  \n",
       "30   9955.333333  10548.0  \n",
       "31  10030.000000  10728.0  "
      ]
     },
     "execution_count": 66,
     "metadata": {},
     "output_type": "execute_result"
    }
   ],
   "source": [
    "df.head(3)"
   ]
  },
  {
   "cell_type": "code",
   "execution_count": 69,
   "id": "1e861f45",
   "metadata": {},
   "outputs": [],
   "source": [
    "df['st_diff_1'] = df['st_close'].diff(1)"
   ]
  },
  {
   "cell_type": "code",
   "execution_count": 71,
   "id": "4558cad6",
   "metadata": {},
   "outputs": [
    {
     "data": {
      "text/plain": [
       "29          NaN\n",
       "30      10860.0\n",
       "31      10920.0\n",
       "32      11080.0\n",
       "33      10980.0\n",
       "         ...   \n",
       "5287    54700.0\n",
       "5288    54200.0\n",
       "5289    54700.0\n",
       "5290    53900.0\n",
       "5291    55900.0\n",
       "Name: st_close, Length: 5263, dtype: float64"
      ]
     },
     "execution_count": 71,
     "metadata": {},
     "output_type": "execute_result"
    }
   ],
   "source": [
    "df['st_close'].shift(1)"
   ]
  }
 ],
 "metadata": {
  "kernelspec": {
   "display_name": "pandas",
   "language": "python",
   "name": "python3"
  },
  "language_info": {
   "codemirror_mode": {
    "name": "ipython",
    "version": 3
   },
   "file_extension": ".py",
   "mimetype": "text/x-python",
   "name": "python",
   "nbconvert_exporter": "python",
   "pygments_lexer": "ipython3",
   "version": "3.12.11"
  }
 },
 "nbformat": 4,
 "nbformat_minor": 5
}
