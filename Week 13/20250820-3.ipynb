{
 "cells": [
  {
   "cell_type": "code",
   "execution_count": 23,
   "id": "65027569",
   "metadata": {},
   "outputs": [],
   "source": [
    "\n",
    "from langchain_openai import ChatOpenAI\n",
    "from langgraph.graph import StateGraph, MessagesState, START\n",
    "from pydantic import BaseModel"
   ]
  },
  {
   "cell_type": "code",
   "execution_count": 24,
   "id": "31798687",
   "metadata": {},
   "outputs": [],
   "source": [
    "from typing import Literal"
   ]
  },
  {
   "cell_type": "code",
   "execution_count": 25,
   "id": "48b1c896",
   "metadata": {},
   "outputs": [],
   "source": [
    "class SupervisorDecision(BaseModel):\n",
    "    next: Literal['researcher', 'coder', 'FINISH']"
   ]
  },
  {
   "cell_type": "code",
   "execution_count": 26,
   "id": "5728141a",
   "metadata": {},
   "outputs": [],
   "source": [
    "model = ChatOpenAI(model = 'gpt-5-2025-08-07')"
   ]
  },
  {
   "cell_type": "code",
   "execution_count": 27,
   "id": "3f1d9cb8",
   "metadata": {},
   "outputs": [],
   "source": [
    "model = model.with_structured_output(SupervisorDecision)"
   ]
  },
  {
   "cell_type": "code",
   "execution_count": 28,
   "id": "39cbb96e",
   "metadata": {},
   "outputs": [],
   "source": [
    "agents = ['researcher', 'coder']"
   ]
  },
  {
   "cell_type": "code",
   "execution_count": 29,
   "id": "1db445f7",
   "metadata": {},
   "outputs": [],
   "source": [
    "system_prompt_part_1 = f\"\"\" 당신은 다음 서브에이전트 사이의 대화를 관리하는 슈퍼바이저입니다. 서브에이전트: {agents}. \n",
    "아래 사용자 요청에 따라, 다음으로 행동할 서브에이전트를 지목하세요. 각 서브에이전트는 임무를 수행하고 결과와 상태을 응답합니다. \n",
    "실행할 서브에이전트가 없거나 작업이 완료되면, FINISH로 응답하세요 \"\"\""
   ]
  },
  {
   "cell_type": "code",
   "execution_count": 30,
   "id": "78b563d8",
   "metadata": {},
   "outputs": [],
   "source": [
    "system_prompt_part_2 = f\"\"\" 위 대화를 바탕으로, 다음으로 행동할 서브에이전트는 누구입니까? 아니면 FINISH 해야 합니까? 서브에이전트 :{', '.join(agents)}, FINISH\"\"\""
   ]
  },
  {
   "cell_type": "code",
   "execution_count": 31,
   "id": "3169684c",
   "metadata": {},
   "outputs": [
    {
     "data": {
      "text/plain": [
       "' 위 대화를 바탕으로, 다음으로 행동할 서브에이전트는 누구입니까? 아니면 FINISH 해야 합니까? 서브에이전트 :researcher, coder, FINISH'"
      ]
     },
     "execution_count": 31,
     "metadata": {},
     "output_type": "execute_result"
    }
   ],
   "source": [
    "system_prompt_part_2"
   ]
  },
  {
   "cell_type": "code",
   "execution_count": 32,
   "id": "e6155951",
   "metadata": {},
   "outputs": [
    {
     "data": {
      "text/plain": [
       "\" 당신은 다음 서브에이전트 사이의 대화를 관리하는 슈퍼바이저입니다. 서브에이전트: ['researcher', 'coder']. \\n아래 사용자 요청에 따라, 다음으로 행동할 서브에이전트를 지목하세요. 각 서브에이전트는 임무를 수행하고 결과와 상태을 응답합니다. \\n실행할 서브에이전트가 없거나 작업이 완료되면, FINISH로 응답하세요 \""
      ]
     },
     "execution_count": 32,
     "metadata": {},
     "output_type": "execute_result"
    }
   ],
   "source": [
    "system_prompt_part_1"
   ]
  },
  {
   "cell_type": "code",
   "execution_count": 33,
   "id": "ad42ff39",
   "metadata": {},
   "outputs": [],
   "source": [
    "def supervisor(state):\n",
    "    messages = [\n",
    "        ('system', system_prompt_part_1),\n",
    "        *state['messages'], \n",
    "        ('system', system_prompt_part_2)\n",
    "    ]\n",
    "    return model.invoke(messages)"
   ]
  },
  {
   "cell_type": "code",
   "execution_count": 34,
   "id": "76460c04",
   "metadata": {},
   "outputs": [],
   "source": [
    "# 에이전트의 상태 정의\n",
    "class AgentState(MessagesState):\n",
    "    next: Literal['researcher', 'coder', 'FINISH']\n"
   ]
  },
  {
   "cell_type": "code",
   "execution_count": 35,
   "id": "7328f210",
   "metadata": {},
   "outputs": [],
   "source": [
    "def researcher(state : AgentState):\n",
    "    response = {\n",
    "        'role' : 'assistant', \n",
    "        'content' : \"관련 데이터를 찾는 중입니다.... 잠시만 기다려주세요\",\n",
    "    }\n",
    "\n",
    "    fake_data = {\n",
    "        'data' : \"전세계 인구 데이터: [미국: 331M, 중국: 1.4B, 인도: 1.3B]\"\n",
    "    }\n",
    "\n",
    "    response['content'] += f\"\\n찾은 데이터: {fake_data['data']}\"\n",
    "    return {'messages' : [response]}"
   ]
  },
  {
   "cell_type": "code",
   "execution_count": 36,
   "id": "5bb48619",
   "metadata": {},
   "outputs": [],
   "source": [
    "def coder(state:AgentState ):\n",
    "    response = {\n",
    "        'role' : 'assistant', \n",
    "        'content' : '코드를 작성 중입니다... 잠시만 기다려주세요'\n",
    "    }\n",
    "    fake_code = '''\n",
    "def visualize_population(data):\n",
    "    import matplotlib.pyplot as plt\n",
    "\n",
    "    countries = list(data.keys())\n",
    "    population = list(data.values())\n",
    "\n",
    "    plt.bar(countries, population)\n",
    "    plt.xlabel('Country')\n",
    "    plt.ylabel('Population')\n",
    "    plt.title('World Population by Country')\n",
    "    plt.show()\n",
    "\n",
    "data = {'USA': 331, 'China': 1400, 'India': 1300}\n",
    "visualize_population(data)\n",
    "'''\n",
    "    response['content'] += f'\\n작성된 코드:\\n{fake_code}'\n",
    "    return {'messages': [response]}"
   ]
  },
  {
   "cell_type": "code",
   "execution_count": 37,
   "id": "ad645c1a",
   "metadata": {},
   "outputs": [],
   "source": [
    "builder = StateGraph(AgentState)\n",
    "builder.add_node('supervisor', supervisor)\n",
    "builder.add_node('researcher', researcher),\n",
    "builder.add_node('coder', coder),\n",
    "\n",
    "builder.add_edge(START, 'supervisor')\n",
    "builder.add_conditional_edges('supervisor'  , lambda state : state['next'])\n",
    "builder.add_edge('researcher', \"supervisor\")\n",
    "builder.add_edge('coder', 'supervisor')\n",
    "\n",
    "graph = builder.compile()\n"
   ]
  },
  {
   "cell_type": "code",
   "execution_count": 38,
   "id": "cc42d6bd",
   "metadata": {},
   "outputs": [
    {
     "data": {
      "text/plain": [
       "b'\\x89PNG\\r\\n\\x1a\\n\\x00\\x00\\x00\\rIHDR\\x00\\x00\\x01\\x89\\x00\\x00\\x01\\x08\\x08\\x02\\x00\\x00\\x00%S\\x9f\\x97\\x00\\x00\\x00\\x01sRGB\\x00\\xae\\xce\\x1c\\xe9\\x00\\x00\\x1f\\xdeIDATx\\x9c\\xed\\xddw@\\x13\\xe7\\xe3\\x06\\xf07\\xe4\\xb2\\xd9 C\" \\n\\xa2\\x80\\x80EE[\\x0b\\x16\\xad\\x03\\x07\\xaej\\x1d(\\xad\\xb5Z\\xabu\\xafj\\xdd\\xd6\\xe2\\xa8\\xab\\xd6Z\\xab\\x96\\xaau[\\xfdj\\x1dU\\xd4:\\xaaV- (*\"\\x82((\\x84\\x95@ !\\xf9\\xfd\\x91\\xfe(\\xb5a\\x88\\t\\xf7\\x06\\x9f\\xcf_\\xe1F\\xee\\xe1\\x05\\x9e\\xdc]\\xc2\\x1dG\\xab\\xd5\\x12\\x00\\x00\\xca\\x98\\xb1\\x1d\\x00\\x00@\\x0ft\\x13\\x00\\xd0\\x08\\xdd\\x04\\x004B7\\x01\\x00\\x8d\\xd0M\\x00@#t\\x13\\x00\\xd0\\x88\\xa9\\xfd\\xa2%\\nu\\xd6\\xc3\\xd2B\\x99\\xaa\\xb4Dc\\xccH&@(\\xe6\\xda8\\xf2\\\\\\x9a\\x8b\\xcc\\xcc8lg\\xa9YNfinV\\x99\\xa2P\\xad.\\xc3\\xe7E\\xaa\\xc4\\xf08\\x12+\\xc6\\xce\\x89o\\xef\"`;K\\xcd4\\x1amfJI\\xde3\\x95RQ\\xcev\\x96\\x97\\xc30\\x1c\\xb1\\x15\\xd7\\xce\\x89\\xdfH*\\xac~IN-?\\xdft\\xfbj\\xe1\\xdd\\xebE\\x1c.\\xc7\\xc9M\\xac.{\\xdd\\xbb\\x89cF\\xb2\\xd2JTJ\\xcd;\\xef7r\\xa8i\\x88\\xd9u\\xfe\\xc0\\xf3\\xa2<\\xb5\\x99\\x19\\xc7\\xd6Y\\x88\\x1f\\\\5\\x18\\x01G\\xf6\\xa4T\\xa3\\xd1Z\\xd80!\\x03\\x1a\\xb1\\x1d\\xa7:\\xcf\\x1e+cw?\\xe3\\t\\xb8\\x8e\\xeeb\\xa21\\xb1\\xd7\\x1b.\\x9f\\x93\\x97U\\xa6\\xd1h\\xc4\\xe6\\xdcw\\x06;T\\xb3d\\xad\\xba\\xe9a\\xa2\"\\xee|~\\x97\\xe1.\\x06\\ri\\xf2\\xca\\x94\\xe5g\\xf7<\\r\\x1d\\xd0\\x88\\xdaW\\xda\\xb3{\\x9f\\xf3D\\\\\\xff\\xb7m\\xd9\\x0ebJ\\xe2\\xcf\\xcbT\\xca\\xf2\\xce\\xefQZO9\\x99\\xa5\\xe7\\x0e<\\xef<\\xd8\\x99/\\xe4\\xb2\\x9d\\xe5\\x95$^\\xca\\x93\\xe7\\x95u\\x1d\\xe6X\\xd5\\x025\\x9fo\\xcaNW^9.C1\\xfd\\x17_\\xc8\\xed6R\\xba{e\\x06\\xdbA\\xf4\\xfb\\xf3\\x94\\x8c\\xc3\\xe5\\xa0\\x98^\\x96\\x7f\\x88\\xad\\x19\\x97\\xf3\\xe7)\\x19\\xdbA\\xf4\\xdb\\xbd2\\xa3\\xdbH\\xa9\\xa9\\x17\\x13!\\xc4\\xf7M\\x1b\\xa19\\xef\\xf2\\xd1\\xdc\\xaa\\x16\\xa8\\xb9\\x9b\\xe2\\xce\\xe5\\xb7\\x0e\\xb11t\\xb0\\x86\\xc3?\\xd4\\xf6\\xc6\\xe9<\\xb6S\\xbcH\\xa3\\xd1&^.\\xf0\\x0fA1\\xd5E\\xeb\\x10\\xdb\\xc4K\\x05\\x1a\\xfa\\x0e\\x97n\\x9c\\x96\\xb5\\x0em8\\x7f\\x8c\\xfe!6\\xb7\\xff\\xa8r\\x9ck\\xb1\\xdf\\xf4Hi\\xd3\\x88\\xd2c\\x16\\x1aX;\\xf0\\xb33\\x94l\\xa7xQa\\xae\\xca\\x8ck\\xc6\\xf0\\xf0>l]0<3\\x86oV\\x90\\xa3b;\\xc8\\x8b\\x9e?.\\xb3\\xb6\\xe7\\xb3\\x9d\\xc2`8\\x1c\\x8e\\xd8\\x92\\x91=-\\xd3;\\xb7\\xe6\\xdf\\xdd\\x12y\\xb9P\\xf2\\x12o\\xe7\\xbdn\\xc4\\xe6LI!u\\xef\\x95\\x94\\xc85b\\x0b\\x93\\xdf\\xedg\\x91\\xd8\\x82)\\xa6\\xef\\xc7Z,/\\x17\\x997\\xa8?F\\x91\\x05\\xa3\\xa8b\\x9c\\xf1\\xba\\n\\x004B7\\x01\\x00\\x8d\\xd0M\\x00@#t\\x13\\x00\\xd0\\x08\\xdd\\x04\\x004B7\\x01\\x00\\x8d\\xd0M\\x00@#t\\x13\\x00\\xd0\\x08\\xdd\\x04\\x004B7\\x01\\x00\\x8d\\xd0M\\x00@#t\\x13\\x00\\xd0\\x08\\xdd\\x04\\xa6\\xe1\\xe8\\xb1C\\x9d\\xc3\\x82\\xd4j5\\xdbA^;Q\\x1f\\xbe\\xb7f\\xed\\xf2\\xfa\\xdf.\\xed\\xdd\\xf4\\xf0\\xe1\\x83!C{\\xd5a\\xc5C\\xbf\\xec\\xfd\\xf2\\xab\\xf9FH\\x04\\x00\\xf5\\x81\\xf6n\\xba{\\xefv\\x1dW\\xbc[\\xc7\\x15\\x01\\x80\\x06\\xb4\\\\\\x0b\\xa6H^\\xb4m\\xfb\\xa6\\xabW.\\xe6\\xe5\\xcbZx\\xb5\\xea\\xd2\\xa5Gx\\xcf\\x88m\\xdb7\\xc5\\xfc\\xb4\\x85\\x10\\xd29,\\xe8\\x93q\\x93\\x07\\r\\x1c\\xf6\\xc7\\x1f\\x17b\\xcf\\x9eL\\xb8\\xf5WaaAKo\\xdf\\x11#F\\x07\\x06\\x04\\x11BRSS>\\xfch\\xc8\\x97K\\xd7\\xac\\\\\\xbd\\xc4\\xda\\xda\\xc6\\xdc\\xdc\">\\xfe&!\\xe4\\xd4\\xa9c\\xdfm\\xda\\xe1\\xe5\\xe9\\xcd\\xf6\\xf7g\\x02\\xe6/\\x98\\xc1\\xe5r\\x1d\\x1d\\x9dw\\xef\\x89Y\\xb8 \\xfa\\xedN\\xef$%%\\xfc\\x18\\xb3999\\xc9\\xca\\xda\\xa6Cp\\xa7\\x91\\x91c$\\x12\\t!D\\xab\\xd5\\x1e8\\xf8\\xf3\\xc9\\x93G3\\x1e?rsm\\x1a\\x14\\x14\\xfcA\\xd48.\\x97K\\x08\\xa9j\\x15B\\xc8\\xc1C{\\xae\\\\\\xb9p\\xe7N\"_ \\xf0o\\xdd\\xe6\\xc3\\x0f\\xc7\\xbb4\\x96\\xea\\xddnzz\\xda\\xaa\\xaf\\x97&$\\xfc\\xd5\\xd8\\xd9\\xa5S\\xa7w>\\x88\\x1a\\xc7\\xe7\\xff}A\\xb5\\xdc\\xdc\\x9c\\xc5K\\xe7$%%H\\xa5\\xaeC\\x06G\\x86\\xf7\\x8c\\xd0M\\xafj\\xbb\\x07\\x0e\\xee\\xde\\xf5\\xf3\\xb6\\xc9\\x93f\\xcf_0c\\xdb\\x0f{]]\\xdd\\xd9\\x1b`v\\x14\\x16\\x15~\\xf7\\xdd\\xda_\\x8f\\x1f\\xb6\\xb2\\xb2\\x0ez\\xa3\\xfdG\\xa3\\'8::\\x11B\\x8a\\x8b\\x8bW\\xafY\\x16\\x17w\\xbd\\xa8\\xa8\\xd0\\xdd\\xcd\\xa3G\\x8f\\xbe\\x11}\\x07\\xe9VIKK]\\xfe\\xd5\\xfcG\\xe9\\x0f\\x03\\x02\\x82\"\\x87\\x8f\\xae\\xfcl\\xb5\\x19\\xe7O\\xc6M\\x19\\xd0\\x7f\\xc8\\xab\\'\\xa7e\\xbf):z\\xe1\\xed\\xa4\\x84I\\x93fo\\xdf\\xba\\xbfeK\\xdf\\xaf\\xd7|\\x99\\x94\\x94\\x105j\\xec\\x90\\xc1\\x91\\x8e\\x8eNg\\xcf\\\\\\x1f4p\\x98R\\xa9\\\\\\xfa\\xe5\\xdc\\xd2\\xd2\\xd2Y3\\x17.[\\xba\\xc6\\xd5\\xd5\\xfd\\xf3\\xb9\\x93e\\xb2\\\\B\\x08\\x8f\\xc7#\\x84\\xc4\\xec\\xd82\\xf8\\xbd\\x11S\\xa7\\xcc]\\xb3zs\\xcb\\x96\\xbe\\xef\\xbe\\x1b~\\xf6\\xccu\\x14S-\\xf1x\\xbc\\xd4\\x87)\\xa9\\x0fS\\x96.^\\xdd\\xda/\\xf0qf\\xc6\\xb4\\x19\\x9f(K\\x95\\x1b\\xd6o[\\xbcpej\\xea\\xfd\\xc9S\\xc6\\xe8N\\xf7\\x1c<\\xb8{\\xc7\\xce\\xad\\x03\\x07\\x0c\\xdd\\xbd\\xebh\\xef\\xde\\x03\\x8e\\xfd\\xfa\\xcb\\xee=1\\x84\\x90jV\\xb9u+n\\xfd\\x86\\x15>>\\xfe\\x8b\\x16\\xad\\x9c5sa^\\x9el\\xe9\\xb2\\xb9z\\xb7\\x9b\\x95\\xf5\\xf4\\xd3\\tQ~\\xbe\\x01\\xabV~;xp\\xe4\\x99\\xd8\\x13\\xeb\\xd6G\\xeb\\x96d\\x18f\\xdd\\x86\\xe8\\x11\\xc3G\\xaf^\\xb5\\xc9\\xdb\\xdbg\\xcd\\xda\\xe5\\xd9\\xd9Y\\xd5o\\x97\\xcf\\xe7\\x17\\x17+\\x8e\\x1c\\xd9?{\\xd6\"\\x07\\x07\\'V\\x07\\x98\\x05j\\xb5z\\xd6\\xec\\x899\\xb9\\xcfW\\xaf\\xda4\\xe1\\xd3\\xe9\\xcf\\x9eg\\xcf\\x9a3Q72\\xb3\\xe6L|\\xf2\\xe4\\xf1\\xe2E\\xab\\xf6\\xee\\xfe\\xf5\\xed\\xb7\\xc3\\xd6\\xae\\xfb\\xeaNr\\x12!D\\xa5R\\xcd\\x9c=\\xa1Q#\\xc7\\xed[\\xf7\\x7f\\xfc\\xd1\\xc4\\xdd{brsst\\xcfV\\xcbq\\xee\\xf4Vg\\x83\\x84\\xa7e\\xbf)>\\xe1\\xe6\\x90\\xc1\\x91m\\x83\\x82\\t!c>\\x9a\\x10\\x12\\xd2\\xc5\\xca\\xd2\\xfa\\x85e\\x84B\\xe1\\x96\\xcd\\xbbE\"\\x91\\x95\\x955!\\xa4\\xa5\\xb7\\xef\\xe1#\\xfbo%\\xc6\\x85\\xbc\\x1d\\xc6\\xe1p\\x08!m\\x83\\x82\\x07\\r\\x1c\\xc6\\xd2w`\\xf28\\x1cNV\\xd6\\x93M\\x1b\\x7f\\x12\\n\\x85\\x84\\x90_\\x0e\\xef\\xe31\\xbc\\xc5\\x0bW\\xeaF{\\xda\\xd4y\\xef\\x0f\\xeb}\\xf1\\xd2\\xb9\\xd0\\x90.\\xf1\\t7[\\xb4h\\xd5\\xad[/BH\\xaf\\xf0~\\x81\\x81mK\\x8a\\x8b\\t!\\xa7O\\x1f\\xafj\\x95V\\xad\\xfc\\xb6\\xfd\\xb0W*ue\\x18\\x86\\x10\\xa2V\\xa9\\xe6\\xcc\\x9d\\\\PX`ei\\xf5\\xc2v7|\\xb3J \\x14F\\x8d\\x1a\\xcb\\xe5r\\xdb\\x04\\xb6\\xe5\\xf3\\xf9\\x15\\x87\\xe7j\\xb5\\xbaO\\xef\\x81\\xed\\xdbu$\\x84888\\x9d>}\\xfcNr\\xa2\\xa3\\xa3S5\\xdb\\xe5p8J\\xa5r\\xc8\\x90\\x91m\\x02\\xdb\\xb2=\\xc0,\\xb8r\\xf5\\xe2\\x9d;\\x89?n\\xdb\\xaf\\xdbal\\xd2\\xc4m\\xef\\xbe\\x1d2Yn\\xea\\xc3\\x94[\\xb7\\xe2\\xb6n\\xd9\\xd3\\xb4i3B\\xc8\\xb0\\xa1QW\\xaf]\\xfa1f\\xf3\\xf2ek\\x7f\\xbf\\x10\\xfb\\xecY\\xf6\\xda\\xaf\\xb7\\xe8v\\xaf&N\\x981hp\\x0f\\xdd\\xb3\\xd5\\xf38\\xd3\\xd2M~~\\x01{\\xf7\\xed((\\xc8\\xf7o\\xdd\\xa6m\\xdb\\x0e-\\xbcZ\\xea]\\xac\\xb8X\\xb1\\xe5\\x87\\rq\\xf17*\\xba<?\\xff\\x9f\\xfb\\x08xy\\xea_\\x0bj\\xc9\\xcd\\xb5\\xa9\\xae \\x08!II\\xf1\\xde\\xde>\\xba\\xdfBB\\x88\\x93\\x93s\\xe3\\xc6\\xd2\\x84[\\x7f\\x85\\x86t\\xf1\\xf5\\xf5\\xdf\\xfc\\xfd\\xfa\\xe8\\x15\\x8bZ\\xb7\\x0e\\xec\\xd0\\xe1m\\xdd\\xa1Y\\xf5\\xabp\\xb9\\xdc\\'O\\x1e\\x7f\\xb3q\\xd5\\x9d\\xe4D\\x85B\\xa1[ ?Ofei\\xf5\\xc2vSS\\xef{zz\\xeb\\x8e\\x10\\t!\\xdd\\xbb\\xf5\\xee\\xde\\xadwEB\\xff\\xd6mt\\x0f\\xac\\xadl\\x08!\\xa5Je\\xf5\\xdb\\xd5M\\xf1n\\xe1c\\xe4\\x91\\xa3\\xd4\\x83\\x07\\xf7\\xc5bq\\xc5\\x91\\xac\\x97\\xa7\\xf7\\xdc9K\\x08!gbO\\x08\\x85B]1\\xfd\\xff\\xac\\x96gbO\\x10B233\\x84B\\xa1\\x93\\x93\\xb3n\\xba\\x9d\\x9d\\xbd\\x83\\xc3\\xdf\\xb7i\\xaa\\xe7q\\xa6\\xa5\\x9bf\\xceXp\\xe4\\xc8\\xfe\\xd8\\xb3\\'\\xf7\\xee\\xdba.1\\xef\\xd7op\\xe4\\x88\\x8ft\\xaf\\xb1\\x15\\xb2\\xb3\\xb3>\\x9b<\\xbaM`\\xbby\\x9f/k\\xd5\\xca\\x8f\\xc3\\xe1t\\xed\\x16\\\\y\\x01\\xbe\\x00\\xf7\\\\x%\\x95\\x07P./J\\xbe{\\xbbsXP\\xe5\\x05\\xf2d\\xb9\\x84\\x90\\x81\\x03\\x86\\x8a\\xc5\\x92K\\x97\\xcf\\x7f\\x15\\xbd\\x90a\\x98\\xd0\\xd0\\xae\\x1f\\x7f4\\xd1\\xde\\xbeQ5\\xab\\\\\\xbat~\\xee\\x17S\\x87\\r\\x8d\\xfax\\xccg\\xcd\\x9ay^\\xbfqu\\xc6\\xccO\\xf5nW\\xa1\\x90[[Wy+\\x91\\x8a_\\t\\xdd\\x9er\\x8dQ\\xff~~~\\xc3\\xb9\\xfe\\xffKQ(\\xe4\\x02\\x81\\x9e{\\xbb\\xe6\\xe6\\xe6\\x08\\x85\\xa2\\xcaS\\xc4bqII1!\\xa4\\xb0\\xb0@$\\x12W\\x9eU\\xf1\\x0c\\xf5<\\xce\\xb4t\\x93\\xa5\\x85\\xe5\\xf0a\\x1f\\x0c\\x1b\\x1a\\x95\\x98\\x18\\x7f\\xe1\\xe2\\xd9\\x9fv\\xfc`nn\\xf1\\xde\\xa0\\xe1\\x95\\x979w\\xfe\\xb7\\xb2\\xb2\\xb2Y3\\x17\\x8aD\\xa2\\x17\\xf6\\x98\\xc0\\xe0l\\xed\\xec\\xfd\\xfc\\x02\\xa2F\\x8d\\xad<Qw\\xa0mff\\xd6+\\xbc_\\xaf\\xf0~ii\\xa97o^\\xdb\\x1e\\xb3Y\\xa1\\x90/[\\xf2u5\\xab\\x1c\\xfd\\xf5\\x90\\x9f_\\xc0\\xe8\\x0f\\xc7\\xeb&\\xca\\xe5EUmW\"1W\\x14+\\x0c\\x15\\xf55\\'\\x16KJJ\\x8a5\\x1a\\x8d\\x99\\xd9\\xbf\\xce,K$\\x12\\xa5\\xb2\\xa4\\xf2\\x14E\\xb1\\xc2\\xde\\xae\\x11!\\xc4\\xd2\\xd2JWR\\x15\\x8a\\xff\\xff\\xc7Q\\xcf\\xe3LE7\\x15\\x14\\x16\\x9c9s\\xa2g\\x8f\\xbeB\\xa1\\xd0\\xcf/\\xc0\\xcf/ %\\xe5\\xee\\xbd\\xfb\\xc9/,VXX`aa\\xa9+&B\\xc8\\xf9\\xdf\\xcf\\xb0\\x11\\xf6u\\xd1\\xcc\\xc3\\xf3\\xd4o\\xc7\\xfc[\\xb7\\xa9\\xf8\\xb5NKK\\x95J]\\t!\\'O\\x1e\\xf5\\xf2j\\xd9\\xb4i3ww\\x0fww\\x8f\"y\\xd1\\xb1_\\x0fU\\xbfJaa\\x81\\x93\\xa3s\\xc5\\x93_\\xb8\\x10[\\xd5v[\\xb4h\\xf5\\xbf\\xa3\\x07\\xd4j\\xb5n\\x17\\xe9L\\xec\\xc9\\xe3\\xc7\\x0f\\x7f\\xb5|}\\xdd\\xa2\\xbe\\xe6\\xbc[\\xb4R*\\x95w\\xef\\xddi\\xe9\\xedC\\x08IOO[\\xbdf\\xd9\\x84\\xf1\\xd3[x\\xb5R*\\x95\\xf7S\\xeez6o\\xa1[\\xf2\\xce\\x9dD\\xf7\\xa6\\xcd\\x08!N\\x8e\\xceJ\\xa5255\\xc5\\xc3\\xa39!$%\\xe5^N\\xces\\xdd2\\xf5<\\xceT\\xbcO\\xc7p\\x99\\x1fc6/X4311^&\\xcb=u\\xea\\xd8\\xfd\\x94d?\\xdf\\x00B\\x88T\\xea\\x9a\\x9b\\x9bs\\xf1\\xe2\\xb9\\x8c\\x8cG\\x1e\\x1e\\x9e\\xb9\\xb99G\\xfew@\\xadV_\\xbdv\\xf9\\xe6\\xcdkVV\\xd6\\xcf\\x9ee\\xe9}N\\x17\\x97&w\\xee$\\xde\\xfc\\xeb\\xcf\\xbc<Jo\\xd0J\\xb9\\x81\\x03\\x87i4\\x9a\\r\\x1bW)\\x95\\xca\\x8c\\x8cG\\xdfm^\\xf7\\xc1\\xe8\\xc1\\xa9\\x0fStg+\\xbeX0\\xfd\\xf2\\xe5\\xdf\\x0b\\n\\x0b\\xae\\\\\\xb9x\\xe1b\\xac\\xaf\\x8f\\x7f\\xf5\\xab4o\\xe6\\xf5\\xe7\\xf5+\\x7f\\xc5]W\\xab\\xd5\\xfb\\xf6\\xef\\xd4m\"+\\xfb\\xe9\\x7f\\xb7\\x1b\\xde3\\xa2\\xac\\xacl\\xf5\\xd7\\xcb\\xae\\xdf\\xb8z\\xe1\\xe2\\xd9\\xef\\xb7\\xac\\xb7\\xb3oTq\\xfa\\xe9e\\xa3\\xbe\\xe6\\x82\\x82\\x82]\\\\\\x9al\\xde\\xbc\\xee\\xc2\\xc5\\xb3\\x7f^\\xbf\\xb2f\\xed\\xf2\\xe7\\xcf\\xb2\\xdd\\xdc\\x9a\\xb6k\\xd7\\xb1qc\\xe9\\xea\\xd5K\\x93\\xef\\xde\\x96\\xc9r\\x7f\\xd8\\xba\\xf1\\xce\\x9d\\xc4\\xc1\\x83F\\x10B:v\\x0c\\xe1\\xf3\\xf9+W/Q*\\x9599\\xcf\\x17-\\x99mii\\xa5{\\xb6z\\x1eg*\\xbaI\"\\x91,Z\\xb0\"\\'\\xe7\\xd9\\x84\\xcf>\\x1c0\\xa8\\xdb\\xee\\xbd1c?\\x9e\\xd4\\xbbW\\x7fBHp\\xfb\\xb7\\xfc|\\x03\\xe6\\xcd\\x9fv&\\xf6d\\xd8;\\xddF\\x0c\\xff0\\xe6\\xa7\\xef\\xbbv\\x0b>p`\\xd7\\xc4\\t3\\xbav\\xe9\\xb9\\xeb\\xe7\\xed\\xab\\xbf^\\xf6\\xdf\\xe7\\xec\\x1d\\xde\\x9f\\xc3\\xe1L\\x9f1\\xfeA\\xea}6\\xbe\\'\\x93gia\\xf9\\xc3\\x96=\"\\xa1\\xe8\\xe3q\\xc3#G\\r\\x88\\x8b\\xbf1}\\xda<\\xdd\\x072\\xa6N\\x99\\xeb\\xee\\xe6\\xf1\\xf9\\xbc)\\x11\\xfd\\xc2V\\xacZ\\xfcf\\xc7\\x90)\\x93?\\xaf~\\x95\\x0f>\\xf8\\xa4}\\xbb\\x8es\\xe7My\\xb7{\\x87\\xec\\xec\\xacY3\\x17z\\xb7h5k\\xf6\\xc4\\xd3gN\\xbc\\xb0]\\xa9\\xd4u\\xf9\\x97\\xeb\\xe2\\xe2\\xaeO\\x9f1~\\xe9\\xb2\\xb9\\xed\\xdb\\xbd\\xf9\\xe9\\xf8iu\\x8e\\xfa\\x9ac\\x18fe\\xf4F\\x8dV\\xf3\\xc5\\xfc\\xe93f~*\\x14\\x89\\xbe\\\\\\xb6\\x96a\\x18\\x86a\\x96,Zeii\\xf5\\xc9\\xf8\\x91C\\x87\\xf7\\xb9q\\xf3\\xda\\xe2E+\\xfd\\xfc\\x02\\x08!\\xe6\\xe6\\xe6\\xcb\\x96\\xae)W\\xab{\\xf5\\t\\x19\\xf5\\xc1\\xc0\\x81\\x03\\x86\\xba\\xb95\\xd5=[=\\x8f3G\\xab\\xad\\xe1\\xc6\\xca\\xdf\\xcd|0h\\xaa\\x07O\\xc0\\xa9~\\xb1\\xd7\\xd6\\xb3te\\\\l\\xce\\x80\\xcf\\xa4l\\x07\\xf9\\x97\\xa7\\x0f\\x95\\x17\\x0f\\xe7t\\x8f\\xa2+\\x95\\t9\\xf5cfpO[\\x97\\xe6\\xa2Z,[\\x7f\\x0en\\xc8\\xf4\\xebd\\xeb\\xe4NW\\xaaWqz\\xe7\\x936\\x9d\\xad\\xddZ\\x8a\\xff;\\x8b\\x8a\\xfd&\\x00\\x80\\x17\\x18\\xf8\\\\\\xf8\\x85\\x8bg\\xa3\\xa3\\x17\\xea\\x9deaaUTT\\xa0wV\\xcf\\x9e\\x11\\xe3\\xc6N2l\\x92\\n\\xb3?\\x9f\\x94x+N\\xef\\xac\\xd2\\xb2R\\x01_\\xff\\xc7\\x0e\\xd6\\xae\\xd9\\xa2;\\x17\\x08\\x00\\xac0p7\\x05\\xbd\\x11\\xbcy\\xf3.\\xbd\\xb3\\x94%%B\\x91\\xfe}Q\\xb1H\\xcf\\x1e\\x9d\\xa1L\\x9b2\\xb7LU\\xa6wVQa\\xa1\\x85\\xa5\\xa5\\xdeY\\x8d\\xec\\x1d\\x8c\\x17\\t\\x00jd\\xe0n\\x12\\x89D\\xa2*\\n\\x88-vv\\xf6U\\xcdrvj\\\\\\xbfY\\x00\\xa0\\xb6p\\xbe\\t\\x00h\\x84n\\x02\\x00\\x1a\\xa1\\x9b\\x00\\x80F\\xe8&\\x00\\xa0\\x11\\xba\\t\\x00h\\x84n\\x02\\x00\\x1a\\xa1\\x9b\\x00\\x80F\\xe8&\\x00\\xa0\\x11\\xba\\t\\x00hTs7\\xd98\\xf1\\xd5*M\\xbd\\x841I*\\x95\\xc6\\xc2\\x96\\xc7v\\x8a\\x17\\xf1\\x04f\\x0c\\x1f\\x97\\x8e\\xa8;.\\x8f\\xc3\\x17R\\xf7\\xcamn\\xcd\\xa8U5\\\\8\\xc4\\xb40\\x0cG \\xd6?\\xce5\\x8f\\xbeP\\xc2\\xcd}\\xa24B\\xaa\\x06\"\\xe7\\xb1\\xd2\\xd2\\x8e\\x8a\\xcb\\x87Vf\\xdf\\x98\\xff$\\xa5D\\xa3iP\\xbf\\xc7\\xf5F\\xab\\xd5>\\xbe_\\xdcHJ\\xdd\\xe5\\xe7\\xad\\xec\\x98\\x9c\\xcc\\x06\\xf5\\xc7\\x98~WQ\\xd58\\xd7\\xdcM>\\xc1\\x16\\x0f\\x13\\xab\\xbc\\xba3\\xa4\\xdf\\x91\\xb7l\\xaf\\xff\\x1f\\x86\\xd9\\xe5\\xd3\\xc125\\x01?\\xb8\\xbax\\x90P\\xe4\\xdb\\x81\\xc6\\x9fi\\xcbv\\x96\\xe9\\xc9r\\xb6S\\x18\\xcc\\xc3\\xc4\"\\xef K.W\\xff\\x0e~\\xcd\\xdd\\xd4\\xac\\xb5\\x85\\x83Tp\\xe5\\xd8s#d3yg\\xf7<m\\xd7\\xdd\\xd6\\xca\\x8e\\xbac:BH\\xe8 \\x87\\x07\\xf1\\x85\\x19\\xf7\\x1a\\xce\\xafr\\xfdx|_\\xf1 \\xae0t\\x10\\x8d\\x17\\xa2\\xb0\\xb4\\xe3\\x05\\xf7\\xb0=\\xb7W\\xcf\\xb5\\x8cM\\xce\\xd3\\x87\\xc5\\xc9W\\xf3\\xc3\\xde\\xafr\\x9ck\\xbe\\xee\\xa5\\xce\\x85C\\xcf\\x8b\\xe5\\x1a\\xa1\\x84qp\\x15j\\xca\\r\\x9a\\xd1\\x14i5Y\\x8f\\x94\\xcf\\x1f\\x97\\x04\\x85\\xd96\\x0f0g;M\\x95\\xca\\xcb\\xb5\\x87\\xbf}b\\xeb$\\x10\\x88\\xb9\\xd6\\x0e\\x02M9\\x0e\\xf1\\xaa\\xc4eH^vYi\\xb1Z\\x96U\\xd6w\\\\\\xe3\\xaa^\\xcci\\x90\\x12\\'\\xbfq&\\xaf\\x91T\\xe8\\xe0*\\xe2\\x98\\xd1\\x9bS/3\\x86\\x93\\xff\\xac\\xb4TQ\\x9e\\x93\\xa9\\xec7\\xde\\x85\\xcbT\\x99\\xbf\\xb6\\xddD\\x08y\\x92Z\\xf2\\xe4A\\x89\\xa2\\xa8\\xbcH\\xa66\\\\\\xd4\\x97\\x96\\x9d\\x9d-\\x14\\n\\xad\\xac\\xacX\\xcc`a\\xc3\\xb3\\xb2c\\x9a\\xf9K,lh\\xdccz\\xc1\\xfd\\xb8\\xa2g\\xe9\\xa5\\xa5\\xc5\\x9ab9^U\\xaa$2\\xe7\\n\\xc5f\\x0eM\\x04\\x9e\\x81\\x16lg\\xa9YQ\\x9e\\xeaA\\xbc\\xa2 WU\\x94\\xc7\\xe6\\x1fc\\x1d\\x88$\\\\\\x81\\xd8\\xcc\\xa1\\x89\\xc0\\xabM\\r\\xe3\\xfc\\x12\\xddD\\x89%K\\x96\\xf8\\xfa\\xfaFDD\\xb0\\x1d\\x04\\x00\\x8c\\x88\\xbawI\\x01\\x00\\xd0M\\x00@)t\\x13\\x00\\xd0\\x08\\xdd\\x04\\x004B7\\x01\\x00\\x8d\\xd0M\\x00@#t\\x13\\x00\\xd0\\x08\\xdd\\x04\\x004B7\\x01\\x00\\x8d\\xd0M\\x00@#t\\x13\\x00\\xd0\\x08\\xdd\\x04\\x004B7\\x01\\x00\\x8d\\xd0M\\x00@#t\\x13\\x00\\xd0\\x08\\xdd\\x04\\x004B7\\x01\\x00\\x8d\\xd0M\\x00@#t\\x13\\x00\\xd0\\x08\\xdd\\x04\\x004B7\\x01\\x00\\x8d\\xd0M\\x00@#t\\x13\\x00\\xd0\\xc8\\xf4\\xba\\xc9\\xdc\\xdc\\x9c\\xc73\\x81;V\\x02\\xc0\\xab0\\xbdn\\x92\\xcb\\xe5*\\x95\\x8a\\xed\\x14\\x00`\\\\\\xa6\\xd7M\\x00\\xf0:@7\\x01\\x00\\x8d\\xd0M\\x00@#t\\x13\\x00\\xd0\\x08\\xdd\\x04\\x004B7\\x01\\x00\\x8d\\xd0M\\x00@#t\\x13\\x00\\xd0\\x08\\xdd\\x04\\x004B7\\x01\\x00\\x8d\\xd0M\\x00@#t\\x13\\x00\\xd0\\x08\\xdd\\x04\\x004B7\\x01\\x00\\x8d\\xd0M\\x00@#\\x8eV\\xabe;C\\xad\\x84\\x85\\x85\\x89D\"BHaa!\\x8f\\xc7\\xd3=\\xe6\\xf1x\\x87\\x0e\\x1db;\\x1a\\x00\\x18\\x1e\\xc3v\\x80\\xdarppHNN\\xe6r\\xb9\\xba/\\x0b\\n\\n\\xb4Zmxx8\\xdb\\xb9\\x00\\xc0(L\\xe6\\x98n\\xf8\\xf0\\xe1b\\xb1\\xb8\\xf2\\x14gg\\xe7\\xe1\\xc3\\x87\\xb3\\x97\\x08\\x00\\x8c\\xc8d\\xba)<<\\xdc\\xd5\\xd5\\xb5\\xf2\\x94\\x80\\x80\\x00///\\xf6\\x12\\x01\\x80\\x11\\x99L7\\xe9v\\x9d\\x04\\x02\\x81\\xee\\xb1\\x93\\x93\\xd3\\xc8\\x91#\\xd9N\\x04\\x00\\xc6bJ\\xdd\\x14\\x1e\\x1e\\xee\\xe1\\xe1\\xa1{\\x1c\\x18\\x18\\xe8\\xe9\\xe9\\xc9v\"\\x000\\x16S\\xea\\xa6\\x8a\\xb3N\\x8e\\x8e\\x8e#F\\x8c`;\\x0b\\x00\\x18Q\\xcd\\xef\\xd3\\xa9J5\\xb9O\\xcb\\x8a\\xe5\\xe5\\xf5\\x92\\xa7\\x06\\x9e.o\\xf94}\\xc7\\xd1\\xd1\\x91)sIMT\\xb0\\x1d\\x87p\\x08\\xb1\\xb0el\\x1c\\xf8\\\\\\x86\\xc3v\\x16\\x80\\x06\\xa5\\x86\\xcf7\\xfd~\\xf0yJ\\x9c\\\\b\\xc5\\x88\\xccM\\xe6\\xd3\\x06\\xf5I \\xe1\\xe6<V2<N\\xcbv\\x16\\xad;Y\\xb3\\x1d\\x07\\xa0\\xe1\\xa8\\xae\\x9b\\x8eo{j\\xe3,\\xf4\\xe9`S\\xbf\\x91L\\xd2\\xa5#\\xd9\\xf6\\xce\\xfc\\xa0.\\x18+\\x00\\xc3\\xa8\\xb2\\x9b~\\xdb\\x99m\\xed(\\xf0n\\x8b}\\x81\\xda\\xba|$\\xdb\\xc9]\\xe0\\x8f\\xbd\\'\\x00C\\xd0\\x7f.<;C\\xa9,\\xd1\\xa0\\x98^J\\x87\\xde\\x0e\\xc9\\xd7\\x8a\\xca\\xd5\\xa6\\xf1?@\\x00\\x94\\xd3\\xdfM\\xb2\\xa7e\\x0c\\xcf\\xc4\\xde\\xc2c\\x1d\\x87\\xc3Q\\xab\\xb4\\xf9\\xcf\\xca\\xd8\\x0e\\x02\\xd0\\x10\\xe8/ E\\xa1\\xda\\xda\\x9e_\\xefaL^#\\x17aA\\xae\\x9a\\xed\\x14\\x00\\r\\x81\\xfen\\xd2\\x94\\x13\\x1c\\x9b\\xd4Ai\\t\\x15\\x9f\\xb4\\x00h\\x00p\\xe0\\x06\\x004B7\\x01\\x00\\x8d\\xd0M\\x00@#t\\x13\\x00\\xd0\\x08\\xdd\\x04\\x004B7\\x01\\x00\\x8d\\xd0M\\x00@#t\\x13\\x00\\xd0\\x08\\xdd\\x04\\x004B7\\x01\\x00\\x8d\\xd0M\\x00@\\xa3\\x06\\xdbM}\\xfb\\x85\\xc5\\xfc\\xb4\\x85\\xed\\x14\\x00PG\\r\\xf6J\\xbb\\x83\\xdf\\x1b\\xd1\\xaa\\xa5\\x1f\\xdb)\\x00\\xa0\\x8e\\x1al7\\r}\\x7f\\x14\\xdb\\x11\\x00\\xa0\\xee\\x0c\\xd6M\\xe9\\xe9i\\xdb\\xb6o\\x8a\\x8b\\xbf\\xa1\\xd5j}|Z\\x0fy/\\xd2\\xcf/\\x80\\x10\\xd2#\\xfc\\xad\\x91\\x91c\\x86\\x0c\\x8e\\xd4-\\x16\\xbdb\\xd1\\x83\\x07\\xf7\\xbe\\xdb\\xb4\\x83\\x10\\xd2\\xabO\\xc8\\xd0\\xf7\\xa3\\xee\\xde\\xbd\\xfd\\xfb\\x85X\\x89D\\xe2\\xe7\\x178g\\xf6b\\x0bs\\x0bB\\x88L\\x96\\xbb\\xf1\\xdb\\xd5\\x89I\\xf1J\\xa5\\xb2m\\xdb\\x0e\\x91\\xc3G7i\\xe2F\\x08IMM\\xf9\\xf0\\xa3!_.]\\xb3r\\xf5\\x12kk\\x1b\\x91H,\\x12\\x8a\\xa2\\xbf\\xdaP\\x11c\\xf6\\xe7\\x93\\n\\n\\xf27n\\xd8\\xde\\xb7_\\xd8\\x80\\xfe\\xefG\\x8e\\x18\\xad\\xd5j\\x0f\\x1c\\xfc\\xf9\\xe4\\xc9\\xa3\\x19\\x8f\\x1f\\xb9\\xb96\\r\\n\\n\\xfe j\\x1c\\x97\\xcb\\xd5e^\\xb3v\\xf9\\xbd\\xfbw\\xb8\\\\\\xc6\\xdd\\xddc\\xd4\\xc8\\x8f\\x03\\x03\\x82\\x08!\\x07\\x0e\\xee\\xde\\xf5\\xf3\\xb6\\xc9\\x93f\\xcf_0#\"\\xe2\\xbd\\t\\xe3\\xa7\\x19j\\x94\\x00\\xa0\\x96\\x0cs\\xbe\\xa9\\xac\\xacl\\xd2\\x941\\\\.\\xf7\\xab\\xe5\\xebW\\xad\\xf8\\x96\\xe12\\x9f\\xcf\\x9d\\xacT*\\xab_\\x8b\\xcbe\\xf6\\xed\\xdf\\xd9\\xabW\\xff\\xd8\\xd3\\x7fF/\\xdf\\x90\\x9e\\x9e\\xb6~\\xc3\\nBHyy\\xf9\\xe4\\xa9\\x1f\\xc7\\xc5\\xdf\\x98<i\\xce\\xd6-{l\\xacm?\\x19?2\\xf3\\xc9cB\\x08\\x8f\\xc7#\\x84\\xc4\\xec\\xd82\\xf8\\xbd\\x11S\\xa7\\xcc\\xed\\x1c\\xd2\\xf5\\xc6\\xcdk\\n\\xc5\\xdf7\\x83R*\\x95\\xd7\\xaf_\\xe9\\xf2N\\xf7\\xca[9xp\\xf7\\x8e\\x9d[\\x07\\x0e\\x18\\xba{\\xd7\\xd1\\xde\\xbd\\x07\\x1c\\xfb\\xf5\\x97\\xdd{b\\x08!yy\\xb2O\\'D988m\\xfen\\xd77\\xeb\\xb7\\xd9X\\xdb.^2\\xa7\\xb8\\xb8\\x98\\x10\\xc2\\xe7\\xf3\\x8b\\x8b\\x15G\\x8e\\xec\\x9f=kQ\\xbf\\xbe\\xef\\x19d\\x88\\x00\\xe0\\xa5\\x18\\xa6\\x9b22\\x1e\\xe5\\xe5\\xc9\\x06\\xf4\\x7f\\xdf\\xcb\\xd3\\xbbY3\\xcf\\xf9_,_\\xb8p\\x85Z]\\xf3\\x15 \\x9b7\\xf3j\\x1b\\x14\\xcc\\xe1pZ\\xb5\\xf2\\xeb\\xdbg\\xe0\\xb9s\\xbf\\xa9T\\xaa[\\xb7\\xe2\\xd2\\xd3\\xd3\\xe6\\xcc^\\xdc\\xbe]G[[\\xbbqc\\'YZY\\x1f8\\xb0Kw\\xdd[BH\\xdb\\xa0\\xe0A\\x03\\x87\\xb5\\xf4\\xf6\\t\\t\\xe9\\xa2\\xd1h.\\\\\\x8c\\xd5=\\xdb\\xc5K\\xe74\\x1aMhh\\xd7\\xca\\x9b\\x88O\\xb8\\xd9\\xa2E\\xabn\\xddzY[\\xdb\\xf4\\n\\xef\\xf7\\xcd\\x86\\xed\\xed\\xdb\\xbdI\\x08\\xd9\\xb7\\x7f\\'_ \\x986uncg\\x17\\xa9\\xd4u\\xfa\\xb4/JJ\\x8a\\x0f\\x1f\\xd9\\xa7\\xdb\\x8aR\\xa9\\x1c2dd\\x97\\xb0\\xeeR\\xa9\\xabA\\x86\\x08\\x00^\\x8aa\\xbaI*u\\xb5\\xb6\\xb6Y\\x1e\\xbd`\\xc7\\xce\\xad\\x89\\x89\\xf1fff\\x81\\x01A\\xe6\\xe6\\xe65\\xae\\xd8\\xbcy\\x8b\\x8a\\xc7.\\x8d\\x9b\\xa8T\\xaa\\'O\\x1e\\xdfJ\\x8c\\xe3\\xf1xm\\x02\\xdb\\xea\\xa6s8\\x9c\\x00\\xff7\\xe2\\x13nV,\\xe9\\xe5\\xd9R\\xf7\\xc0\\xce\\xce>\\xc0\\xff\\x8d\\x0b\\x17\\xcf\\xea\\xbe\\xbct\\xe9\\xdc\\x1bm\\xda\\xd9\\xda\\xdaU\\xde\\x84\\xaf\\xaf\\xff\\x8d\\x1bW\\xa3W,:q\\xf2\\x7f\\x05\\x85\\x05.\\x8d\\xa5\\xcd\\x9b{\\x11BR\\x1f\\xa6xzz3\\xcc\\xdfG\\xb5\\x12\\x89\\xa4\\x89\\xd4\\xed\\xde\\xbd;\\x15+z\\xb7\\xf0y\\xb5Q\\x01\\x80\\xba3\\xcc\\xf9&\\x81@\\xb0\\xf6\\xeb\\xef\\x8f\\xfd\\xfa\\xcb\\xfe\\x03\\xbb~\\xd8\\xba\\xb1qc\\xe9\\xa8\\xc81]\\xbb\\xf6\\xac\\xc5\\x8a\\xc2\\x8a\\xc7B\\x91\\x88\\x10\\xa2P\\xc8\\xe5\\xf2\"\\x95J\\xd59,\\xa8\\xf2\\x92\\xd6\\xd6\\xff\\xdc\\xfa\\x8d/\\x10T<\\x0e\\r\\xed\\xba\\xe1\\x9b\\x95J\\xa5\\x92\\xcb\\xe5\\xfeq\\xe5\\xc2\\xc4\\t3^\\xd8\\xc4\\xc0\\x01C\\xc5b\\xc9\\xa5\\xcb\\xe7\\xbf\\x8a^\\xc80Lhh\\xd7\\x8f?\\x9aho\\xdfH\\x96\\x9b\\xe3\\xe2\\xd2\\xa4\\xf2\\x92B\\x91\\xa8\\xb8\\xa4\\xf8\\x9f\\xad\\xf0q\\xc5t\\x00\\xd6\\x18\\xec\\\\\\xb8\\xab\\xab\\xfb\\xb8\\xb1\\x93\\xa2F\\x8d\\xbdy\\xf3\\xda\\xf1\\x13G\\x96-\\xff\\xc2\\xcd\\xdd\\xc3\\xcb\\xd3\\xfb\\x85\\xc5\\xca5\\xff\\xba\\xa2\\xb6B!\\xafx\\xac,)!\\x84\\x08\\x85\";;{\\x91H\\xb4t\\xc9\\xd7\\x95\\x97\\xe4\\x9aq\\xf5n74\\xb4\\xeb\\xba\\xf5\\xd1\\x97\\xff\\xf8\\x9d\\xcf\\xe7k4\\x9a\\xd0\\x90\\xae/,`ff\\xd6+\\xbc_\\xaf\\xf0~ii\\xa97o^\\xdb\\x1e\\xb3Y\\xa1\\x90/[\\xf2\\xb5X\"Q\\x96\\xfe\\xeb\\x8cXIq\\xb1\\xd4\\x05Gp\\x00T0L7\\xa5\\xa7\\xa7%\\xddN\\xe8\\xd1\\xbd\\x8fP(\\xec\\xd8\\xf1\\xed\\xf6\\xed\\xdf\\xec\\xde\\xf3\\xcd{\\xf7\\xeexyz\\xf3\\xf9\\x82\\x92J;#\\x19\\x19\\x8f*\\xaf\\x18\\x1f\\x7f\\xa3\\xe2\\xf1\\xfd\\x94\\xbb\\x0c\\xc3\\xb8\\xb84\\xc9\\xcb\\x97\\x95\\x94\\x94888\\xb94\\x96\\xeaf=y\\x9aim\\xa5\\xff\\x96\\xb9V\\x96Vo\\xb4iw\\xed\\xda\\xe5\\xd2R\\xe5\\x9b\\x1dC\\xc4b\\xf1\\x0b\\x0b\\x9c<y\\xd4\\xcb\\xabe\\xd3\\xa6\\xcd\\xdc\\xdd=\\xdc\\xdd=\\x8a\\xe4E\\xc7~=D\\x08i\\xe1\\xd5\\xea\\xe4\\xa9\\xa3*\\x95Jw~\\xbd\\xb0\\xa8\\xf0Q\\xfa\\xc3w\\xdf\\r7\\xc8\\x80\\x00\\xc0+2\\xcc\\xf9\\xa6\\xc2\\xc2\\x82\\xe8\\x15\\x8b\\xbe\\xdd\\xb4\\xe6qfFF\\xc6\\xa3\\x9d\\xbb\\xb6\\xa9\\xd5j_\\x1f\\x7fBH\\xabV~\\xe7\\x7f?#\\x97\\xcb\\t!?\\xed\\xf8!\\'\\xe7Y\\xe5\\x15\\x9f\\xe7<\\xdb\\xb7\\x7fgyyyzz\\xda\\xd1c\\x07;w~W \\x10\\xbc\\xd1\\xa6]\\xbbv\\x1dW\\xae\\\\\\x9c\\x9d\\x9dUP\\x90\\xff\\xcb\\xe1}c\\xc7\\x8d8q\\xe2HU[\\x0f\\t\\xe9\\x92\\x90p\\xf3\\xc6\\x8d\\xab/\\x9c\\x05\\xd79\\x13{\\xe2\\x8b\\x05\\xd3/_\\xfe\\xbd\\xa0\\xb0\\xe0\\xca\\x95\\x8b\\x17.\\xc6\\xea\\x82\\xf5\\xee=@\\xa1\\x90\\xafZ\\xbd4;;+--\\xf5\\xcb\\xe5_\\x08\\x05\\xc2\\x9e=\"\\x0c2 \\x00\\xf0\\x8a\\x0c\\xd3M\\xbe\\xbe\\xfeS&\\xcf9}\\xe6\\xf8\\x88\\xc8~\\x91\\xa3\\x06\\xdc\\xba\\xf5\\xd7\\xeaU\\x9b\\xdc\\xdd=\\x08!\\x9f\\x8e\\x9ffkc\\xd7\\xbboh\\xd7n\\xc1\\xa5\\xa5\\xca\\xb0\\x7f\\xbf\\xc1\\xdf+\\xbc_RRB\\x97w\\xdb\\x8f\\x8c\\x1a\\xe8\\xe6\\xdat\\xc2\\xa7\\xd3u\\xd3\\xbf\\\\\\xba&$\\xa4\\xcb\\xa2%\\xb3#\\xfaw9xhw\\x97.=\\xfa\\xf7\\x1fR\\xd5\\xd6CC\\xbaf?\\xcbR\\x97\\xab\\xdf\\xec\\x18\\xf2\\xdf\\xb9S\\xa7\\xccuw\\xf3\\xf8|\\xde\\x94\\x88~a+V-~\\xb3c\\xc8\\x94\\xc9\\x9f\\x13B\\xa4.M\\xe6\\x7f\\xb1\\xfc\\xe1\\xc3\\x94!C{M\\x9a2\\x86\\x10\\xb2v\\xcd\\x16\\x89Db\\x90\\x01\\x01\\x80W\\xc4\\xd1j\\xf5\\xdc\\x87\\xee\\xdaIY\\x99\\x92\\xf8\\x87\\xda\\x1au\\xdb\\x15\\x1f\\x8f4\\xeaV\\xea\\xd3\\xb9=O}:Xz\\xf8\\xa1\\xe0\\x00^U\\x83\\xfd__\\x000i\\xe8&\\x00\\xa0\\x11\\x9b\\xff\\xeb{\\xf8\\xd0\\x19\\x16\\xb7\\x0e\\x004\\xc3~\\x13\\x00\\xd0\\x08\\xdd\\x04\\x004B7\\x01\\x00\\x8d\\xd0M\\x00@#t\\x13\\x00\\xd0\\x08\\xdd\\x04\\x004B7\\x01\\x00\\x8d\\xd0M\\x00@#t\\x13\\x00\\xd0\\x08\\xdd\\x04\\x004\\xd2\\xff?+B1WS\\xae\\xa9\\xf70&Od\\xc10<\\x0e\\xdb)\\x00\\x1a\\x02\\xfd\\xfbMV\\xf6\\xcc\\xd3\\xb4\\x92z\\x0fc\\xf2\\xd2\\x92\\xe4\\xf6.\\xb8\\xca8\\x80\\x01\\xe8\\xef&\\xa9\\xa7\\xb8\\xac\\xa4\\\\\\xef,\\xa8J^v\\xa9\\xb3\\xbbPl\\xd1`o\\x95\\x0cP\\x9f\\xf4w\\x13\\x97\\xe1\\xb4\\xefn{*&\\xb3\\xde\\xf3\\x98\\xaa\\xf2r\\xed\\xf9\\xbdY!\\x03\\x1b\\xb1\\x1d\\x04\\xa0\\x81\\xd0\\x7f\\xddK\\x9d\\xcc\\x07%\\'c\\xb2\\x02Bl\\xad\\x1d\\x05\"s\\xec\\x0e\\xe8\\xc3!E\\xb2\\xb2\"\\x99\\xea\\xea\\xaf\\xcfG\\xces\\x97Xa\\x94\\x00\\x0c\\xa3\\xban\"\\x84\\xc8\\xf3\\xd57c\\xf3\\xb2\\xd2\\x94%E\\xb4\\x1c\\xe2\\xa9\\xd4j\\x0e\\x87\\xc3p\\xf5\\xdf\\x12\\xaa\\x9eI\\xac\\x193.\\xc7\\xa5\\xb9\\xb0}w\\xbbZ,\\x0e\\x00\\xb5UC7Qh\\xc9\\x92%\\xbe\\xbe\\xbe\\x11\\x11\\xb8!\\n@C\\x86\\xcf7\\x01\\x00\\x8d\\xd0M\\x00@#t\\x13\\x00\\xd0\\x08\\xdd\\x04\\x004B7\\x01\\x00\\x8d\\xd0M\\x00@#t\\x13\\x00\\xd0\\x08\\xdd\\x04\\x004B7\\x01\\x00\\x8d\\xd0M\\x00@#t\\x13\\x00\\xd0\\x08\\xdd\\x04\\x004B7\\x01\\x00\\x8d\\xd0M\\x00@#t\\x13\\x00\\xd0\\x08\\xdd\\x04\\x004B7\\x01\\x00\\x8d\\xd0M\\x00@#t\\x13\\x00\\xd0\\x08\\xdd\\x04\\x004B7\\x01\\x00\\x8d\\xd0M\\x00@#t\\x13\\x00\\xd0\\xc8\\xf4\\xba\\xc9\\xd6\\xd6V \\x10\\xb0\\x9d\\x02\\x00\\x8c\\xcb\\xf4\\xbaI&\\x93\\x95\\x96\\x96\\xb2\\x9d\\x02\\x00\\x8c\\xcb\\xf4\\xba\\t\\x00^\\x07\\xe8&\\x00\\xa0\\x11\\xba\\t\\x00h\\x84n\\x02\\x00\\x1a\\xa1\\x9b\\x00\\x80F\\xe8&\\x00\\xa0\\x11\\xba\\t\\x00h\\x84n\\x02\\x00\\x1a\\xa1\\x9b\\x00\\x80F\\xe8&\\x00\\xa0\\x11\\xba\\t\\x00h\\x84n\\x02\\x00\\x1a\\xa1\\x9b\\x00\\x80F\\xe8&\\x00\\xa0\\x11\\xba\\t\\x00h\\xc4\\xd1j\\xb5lg\\xa8\\x95!C\\x86\\x98\\x99\\x99i\\xb5\\xda\\xe7\\xcf\\x9f\\x8bD\"\\x0b\\x0b\\x0b\\xadV\\xcb\\xe1pv\\xed\\xda\\xc5v4\\x000<\\x86\\xed\\x00/\\xe1\\xde\\xbd{\\xba\\x07\\xf9\\xf9\\xf9O\\x9f>-//\\x0f\\x0e\\x0ef;\\x14\\x00\\x18\\x85\\xc9\\x1c\\xd3EDD\\xbcp)^\\x1b\\x1b\\x9b\\xa8\\xa8(\\xf6\\x12\\x01\\x80\\x11\\x99L7\\xf5\\xef\\xdf\\xdf\\xcd\\xcd\\xad\\xf2\\x14oo\\xefv\\xed\\xda\\xb1\\x97\\x08\\x00\\x8c\\xc8d\\xba\\x89\\xcf\\xe7\\xf7\\xed\\xdb\\xb7b\\xd7\\xc9\\xd2\\xd2\\x12;M\\x00\\r\\x98\\xc9t\\x13!\\xa4_\\xbf~R\\xa9T\\xf7\\xd8\\xc7\\xc7\\xa7m\\xdb\\xb6l\\'\\x02\\x00c1\\xa5n\\xe2\\xf3\\xf9}\\xfa\\xf4a\\x18\\xc6\\xc2\\xc2\"22\\x92\\xed8\\x00`Du|\\x9f\\xae\\xb8H]\\xae6t\\x96Z\\xe8\\xd1\\xb5\\xff/\\xfbO\\xba\\xba\\xbaz7\\x0f,\\xcac!\\x81Hb\\xc6\\xf0M\\xa9\\xd0\\x01L\\xd4K\\x7f\\xbe\\xe9\\xca\\xb1\\x9c\\xdb\\xd7\\x8a,my\\x8a|6\\xca\\x89m*\\x95V(1\\x0b\\x08\\xb1\\xf6\\xedh\\xc5v\\x16\\x80\\x86\\xec%\\xbaI\\xab\\xd1\\x1e\\xde\\xf4D\\xdaB\"\\xf52\\x97X\\x9a\\xd2\\x07\\xa3\\x0c\\xabH\\xa6\\xbauAfi\\xc7t\\x08\\xb7c;\\x0b@\\x83\\xf5\\x12\\xddtpCf\\xf3@\\xcb\\xa6\\xbe\\x16F\\x8ed\\x1a\\xae\\x9f\\xca\\xe1\\xf1\\xc9[}\\xed\\xd9\\x0e\\x02\\xd00\\xd5\\xf6\\xd4I\\xf2\\xf5\\xc2FM\\x84(\\xa6\\nA\\xef\\xda\\xcb\\xf3\\xd4\\xcf\\x1e+\\xd9\\x0e\\x02\\xd00\\xd5\\xb6\\x9b\\x9e>T\\x8a$\\xaf\\xefq\\x9c~f\\x9c\\x9c\\xcc2\\xb6C\\x004L\\xb5\\xed&u\\x99\\xd6\\xc6QP\\x8b\\x05_#\\x8d\\xa4BEA9\\xdb)\\x00\\x1a\\xa6\\xda\\xee\\n\\x15\\xe5\\xa95\\x1a\\xd3\\xb8bA\\xbdQ\\x95j\\xd5e\\xe8&\\x00\\xa3\\xc0Gu\\x00\\x80F\\xe8&\\x00\\xa0\\x11\\xba\\t\\x00h\\x84n\\x02\\x00\\x1a\\xa1\\x9b\\x00\\x80F\\xe8&\\x00\\xa0\\x11\\xba\\t\\x00h\\x84n\\x02\\x00\\x1a\\xa1\\x9b\\x00\\x80F\\xe8&\\x00\\xa0\\x11\\xba\\t\\x00h\\xd4\\x00\\xbb\\xe9\\xec\\xb9\\xdf:\\x87\\x05\\xe5\\xe7\\xe7\\xb1\\x1d\\x04\\x00\\xea\\xae\\x01v\\x13\\x004\\x00\\xe8&\\x00\\xa0\\x11u\\x97\\x8bKJJ\\xf81fsrr\\x92\\x95\\xb5M\\x87\\xe0N##\\xc7H$\\x12B\\xc8\\xa1_\\xf6\\xfe\\xb4c\\xcb\\x9a\\xd5\\x9b\\xe7/\\x9c\\x91\\x96\\x96\\xea\\xe1\\xd1|\\xd0\\xc0a\\xdd\\xbb\\xf5\\xd6\\xad\\xb5\\xe9\\xbb\\xb5\\xa7~;&\\x16\\x89\\xc3\\xc2\\xbaK\\xa5n5m\\x04\\x00hG\\xd7~\\xd3\\xe3\\xcc\\x8ci3>Q\\x96*7\\xac\\xdf\\xb6x\\xe1\\xca\\xd4\\xd4\\xfb\\x93\\xa7\\x8cQ\\xab\\xd5\\x84\\x10\\x1e\\x8f\\'\\x97\\x17\\xad[\\x1f=}\\xea\\xbc\\xd8\\xd3\\x7f\\x86\\xbc\\xdd%z\\xc5\\xa2\\xec\\xec,B\\xc8\\xe1#\\xfb\\x0f\\x1f\\xd9\\xf7\\xd9\\xc4\\x99\\x1b7\\xc68;\\xbb\\xc4\\xfc\\xf4=\\xdb\\xdf\\x07\\x00\\xbc*\\xba\\xba\\xe9\\xf4\\xe9\\xe3<\\x86\\xb7x\\xe1JWWwww\\x8fiS\\xe7\\xddO\\xb9{\\xf1\\xd29\\xdd\\\\\\x95J52rL\\xabV~\\x1c\\x0e\\xa7\\xdb\\xbb\\xbd\\xb4ZmJ\\xca]B\\xc8\\xc1C\\xbbC\\xde\\xee\\x12\\xf2v\\x98\\xa5\\x85e\\xf7n\\xbd\\xdb\\x04\\xe2~\\xbf\\x00&\\x8f\\xaenJJ\\x8a\\xf7\\xf6\\xf6\\xb1\\xb2\\xb2\\xd6}\\xe9\\xe4\\xe4\\xdc\\xb8\\xb14\\xe1\\xd6_\\x15\\x0bx{\\xfb\\xe8\\x1eXXX\\x12B\\xe4\\xf2\"\\xadV\\x9b\\x99\\x99\\xe1\\xee\\xeeQ\\xb1\\x8c\\x97W\\xcbz\\x0f\\x0e\\x00\\x06F\\xd7\\xf9&\\xb9\\xbc(\\xf9\\xee\\xed\\xceaA\\x95\\'\\xe6\\xc9r+\\x1es8\\x9c\\x17VQ(\\x14\\xe5\\xe5\\xe5\"\\x91\\xb8b\\x8aP(2~R\\x000.\\xba\\xba\\xc9\\xd6\\xce\\xde\\xcf/ j\\xd4\\xd8\\xca\\x13\\xad,\\xad\\xabYE\"\\x91p\\xb9\\xdc\\xd2\\xd2\\x7f\\xee\\xc5TRRl\\xcc\\x8c\\x00P\\x1f\\xe8\\xea\\xa6f\\x1e\\x9e\\xa7~;\\xe6\\xdf\\xba\\x8d\\x99\\xd9\\xdf\\x07\\x9bii\\xa9R\\xa9k5\\xabp8\\x1cGG\\xe7\\xa4\\xa4\\x042\\xe8\\xef)W\\xae^\\xac\\x8f\\xac\\x00`Lt\\x9do\\x1a8p\\x98F\\xa3\\xd9\\xb0q\\x95R\\xa9\\xcc\\xc8x\\xf4\\xdd\\xe6u\\x1f\\x8c\\x1e\\x9c\\xfa0\\xa5\\xfa\\xb5:\\x87v\\xfd\\xfdB\\xec\\xd9s\\xbf\\x11B~\\xde\\xfd\\xe3\\xed\\xdb\\xb7\\xea+/\\x00\\x18\\x0b]\\xdddia\\xf9\\xc3\\x96=\"\\xa1\\xe8\\xe3q\\xc3#G\\r\\x88\\x8b\\xbf1}\\xda</O\\xef\\xea\\xd7\\x1a>\\xec\\xc3\\xf0\\x9e\\x11\\xeb7\\xac\\xe8\\x1c\\x16\\xf4\\xc7\\x95\\x0b\\x9f\\x8c\\x9bB\\x08\\xa9\\xfd\\xbd\\xd4\\x01\\x80B\\x9cZ\\xfe\\r\\x1f\\xdc\\x90\\xe9\\xd7\\xc9\\xd6\\xc9\\x1d\\xa7\\x99\\xff\\x91t9_]\\xa6~\\xab\\xaf=\\xdbA\\x00\\x1a \\xba\\xf6\\x9b\\x00\\x00t\\x8cr.<;;k\\xf4GC\\xf4\\xce\\x12K\\xcc\\x8b\\x15r\\xbd\\xb3\\xdc\\xdc=6\\xac\\xdbj\\xc0\\x18\\xbd\\xfb\\x84V5K]\\xaef\\xb8z\\xbew\\x1f_\\xff\\xe5\\xcb\\xd6\\x1a0\\x03\\x00\\xd4\\x8dQ\\xba\\xc9\\xce\\xce~\\xf3\\xe6]zg\\x95*\\x95\\x02\\xa1P\\x7f\\x14}e\\xf1*\\xaa\\xca@\\x08)--\\x15\\x08\\x04\\xff\\x9d\\xce\\xe7\\xf1\\r\\x9b\\x01\\x00\\xea\\xc6(\\xdd\\xc40\\x8c\\xb3Scc<\\xf3K\\xa1!\\x03\\x00\\xd4\\r\\xce7\\x01\\x00\\x8d\\xd0M\\x00@#t\\x13\\x00\\xd0\\x08\\xdd\\x04\\x004B7\\x01\\x00\\x8d\\xd0M\\x00@#t\\x13\\x00\\xd0\\x08\\xdd\\x04\\x004B7\\x01\\x00\\x8dj\\xfb\\xb9p+;\\x9e\\x19\\xd7\\xc8YL\\rO\\xc0ax(w\\x00\\xa3\\xa8\\xed\\x9f\\x16\\xc3\\xe7\\xe4>)5r\\x18\\x13\\xf3,]inE\\xd7\\x85C\\x01\\x1a\\x8c\\xdavSc\\x0fa\\x89\\xbc\\xdc\\xc8aL\\x8cV\\xabuh\\xa2\\xff\\xff\\x96\\x01\\xe0\\x15\\xd5\\xb6\\x9b<\\x03-\\x8adew\\xae\\xe6\\x1b9\\x8f\\xc9\\xb8\\xf4Kv#\\x17\\xbe\\xad\\x13\\xae[\\x00`\\x14\\xb5\\xbd\\xee\\xa5\\xce\\x89\\x98\\xa7\\x96\\xb6\\x02\\x17/\\x89\\xad\\xa3\\x9e\\x0b\\x8c\\xbc\\x0e4\\xe5\\xda\\xdc\\xac\\xd2\\xa4Kyn\\xde\\xa2\\xd6\\x9d\\xaa\\xbb\\x01\\x0c\\x00\\xbc\\x8a\\x97\\xeb&B\\xc8_g\\xf3\\x92\\xff,\\xe2\\x98q\\ne*\\xa3\\xa5\\xa2\\x98\\x96\\xd89\\xf3\\xfdC\\xac\\x9b\\xfb\\x9b\\xb3\\x1d\\x05\\xa0!{\\xe9n\\xd2)Wk\\xd5\\xaa\\xd7\\xf1f\\x01\\x02\\x11\\xde\\x98\\x03\\xa8\\x0fu\\xec&\\x00\\x00\\xa3\\xc2^\\x00\\x00\\xd0\\x08\\xdd\\x04\\x004B7\\x01\\x00\\x8d\\xd0M\\x00@#t\\x13\\x00\\xd0\\x08\\xdd\\x04\\x004\\xfa?\\x9b\\xdf;\\xc2\\xbdI;\\xce\\x00\\x00\\x00\\x00IEND\\xaeB`\\x82'"
      ]
     },
     "execution_count": 38,
     "metadata": {},
     "output_type": "execute_result"
    }
   ],
   "source": [
    "graph.get_graph().draw_mermaid_png(output_file_path=\"./supervisor.png\")"
   ]
  },
  {
   "cell_type": "code",
   "execution_count": 41,
   "id": "f725dc95",
   "metadata": {},
   "outputs": [],
   "source": [
    "initial_state = {\n",
    "    'messages': [\n",
    "        {\n",
    "            'role': 'user',\n",
    "            'content': '전세계 인구를 국적을 기준으로 파이썬 코드로 시각화 해주세요.',\n",
    "        }\n",
    "    ],\n",
    "    'next': 'supervisor',\n",
    "}"
   ]
  },
  {
   "cell_type": "code",
   "execution_count": 43,
   "id": "bc74bb55",
   "metadata": {},
   "outputs": [
    {
     "name": "stdout",
     "output_type": "stream",
     "text": [
      "\n",
      "현재 노드: supervisor\n",
      "\n",
      "다음 단계: researcher\n",
      "\n",
      "현재 노드: researcher\n",
      "응답: 관련 데이터를 찾는 중입니다.... 잠시만 기다려주세요\n",
      "찾은 데이터: 전세계 인구 데이터: [미국: 331M, 중국: 1.4B, 인도: 1.3B]...\n",
      "\n",
      "다음 단계: N/A\n",
      "\n",
      "현재 노드: supervisor\n",
      "\n",
      "다음 단계: coder\n",
      "\n",
      "현재 노드: coder\n",
      "응답: 코드를 작성 중입니다... 잠시만 기다려주세요\n",
      "작성된 코드:\n",
      "\n",
      "def visualize_population(data):\n",
      "    import matplotlib.pyplot as plt\n",
      "\n",
      "    countries = list(data.keys())\n",
      "    population = list(data.values())\n",
      "\n",
      "    plt.bar(countries, population)\n",
      "    plt.xlabel('Country')\n",
      "    plt.ylabel('Population')\n",
      "    plt.title('World Population by Country')\n",
      "    plt.show()\n",
      "\n",
      "data = {'USA': 331, 'China': 1400, 'India': 1300}\n",
      "visualize_population(data)\n",
      "...\n",
      "\n",
      "다음 단계: N/A\n",
      "\n",
      "현재 노드: supervisor\n",
      "\n",
      "다음 단계: researcher\n",
      "\n",
      "현재 노드: researcher\n",
      "응답: 관련 데이터를 찾는 중입니다.... 잠시만 기다려주세요\n",
      "찾은 데이터: 전세계 인구 데이터: [미국: 331M, 중국: 1.4B, 인도: 1.3B]...\n",
      "\n",
      "다음 단계: N/A\n",
      "\n",
      "현재 노드: supervisor\n",
      "\n",
      "다음 단계: researcher\n",
      "\n",
      "현재 노드: researcher\n",
      "응답: 관련 데이터를 찾는 중입니다.... 잠시만 기다려주세요\n",
      "찾은 데이터: 전세계 인구 데이터: [미국: 331M, 중국: 1.4B, 인도: 1.3B]...\n",
      "\n",
      "다음 단계: N/A\n",
      "\n",
      "현재 노드: supervisor\n",
      "\n",
      "다음 단계: researcher\n",
      "\n",
      "현재 노드: researcher\n",
      "응답: 관련 데이터를 찾는 중입니다.... 잠시만 기다려주세요\n",
      "찾은 데이터: 전세계 인구 데이터: [미국: 331M, 중국: 1.4B, 인도: 1.3B]...\n",
      "\n",
      "다음 단계: N/A\n",
      "\n",
      "현재 노드: supervisor\n",
      "\n",
      "다음 단계: researcher\n",
      "\n",
      "현재 노드: researcher\n",
      "응답: 관련 데이터를 찾는 중입니다.... 잠시만 기다려주세요\n",
      "찾은 데이터: 전세계 인구 데이터: [미국: 331M, 중국: 1.4B, 인도: 1.3B]...\n",
      "\n",
      "다음 단계: N/A\n",
      "\n",
      "현재 노드: supervisor\n",
      "\n",
      "다음 단계: researcher\n",
      "\n",
      "현재 노드: researcher\n",
      "응답: 관련 데이터를 찾는 중입니다.... 잠시만 기다려주세요\n",
      "찾은 데이터: 전세계 인구 데이터: [미국: 331M, 중국: 1.4B, 인도: 1.3B]...\n",
      "\n",
      "다음 단계: N/A\n",
      "\n",
      "현재 노드: supervisor\n",
      "\n",
      "다음 단계: researcher\n",
      "\n",
      "현재 노드: researcher\n",
      "응답: 관련 데이터를 찾는 중입니다.... 잠시만 기다려주세요\n",
      "찾은 데이터: 전세계 인구 데이터: [미국: 331M, 중국: 1.4B, 인도: 1.3B]...\n",
      "\n",
      "다음 단계: N/A\n",
      "\n",
      "현재 노드: supervisor\n",
      "\n",
      "다음 단계: researcher\n",
      "\n",
      "현재 노드: researcher\n",
      "응답: 관련 데이터를 찾는 중입니다.... 잠시만 기다려주세요\n",
      "찾은 데이터: 전세계 인구 데이터: [미국: 331M, 중국: 1.4B, 인도: 1.3B]...\n",
      "\n",
      "다음 단계: N/A\n",
      "\n",
      "현재 노드: supervisor\n",
      "\n",
      "다음 단계: researcher\n",
      "\n",
      "현재 노드: researcher\n",
      "응답: 관련 데이터를 찾는 중입니다.... 잠시만 기다려주세요\n",
      "찾은 데이터: 전세계 인구 데이터: [미국: 331M, 중국: 1.4B, 인도: 1.3B]...\n",
      "\n",
      "다음 단계: N/A\n",
      "\n",
      "현재 노드: supervisor\n",
      "\n",
      "다음 단계: researcher\n",
      "\n",
      "현재 노드: researcher\n",
      "응답: 관련 데이터를 찾는 중입니다.... 잠시만 기다려주세요\n",
      "찾은 데이터: 전세계 인구 데이터: [미국: 331M, 중국: 1.4B, 인도: 1.3B]...\n",
      "\n",
      "다음 단계: N/A\n",
      "\n",
      "현재 노드: supervisor\n",
      "\n",
      "다음 단계: researcher\n",
      "\n",
      "현재 노드: researcher\n",
      "응답: 관련 데이터를 찾는 중입니다.... 잠시만 기다려주세요\n",
      "찾은 데이터: 전세계 인구 데이터: [미국: 331M, 중국: 1.4B, 인도: 1.3B]...\n",
      "\n",
      "다음 단계: N/A\n"
     ]
    },
    {
     "ename": "KeyboardInterrupt",
     "evalue": "",
     "output_type": "error",
     "traceback": [
      "\u001b[31m---------------------------------------------------------------------------\u001b[39m",
      "\u001b[31mKeyboardInterrupt\u001b[39m                         Traceback (most recent call last)",
      "\u001b[36mCell\u001b[39m\u001b[36m \u001b[39m\u001b[32mIn[43]\u001b[39m\u001b[32m, line 1\u001b[39m\n\u001b[32m----> \u001b[39m\u001b[32m1\u001b[39m \u001b[38;5;28;43;01mfor\u001b[39;49;00m\u001b[43m \u001b[49m\u001b[43moutput\u001b[49m\u001b[43m \u001b[49m\u001b[38;5;129;43;01min\u001b[39;49;00m\u001b[43m \u001b[49m\u001b[43mgraph\u001b[49m\u001b[43m.\u001b[49m\u001b[43mstream\u001b[49m\u001b[43m(\u001b[49m\u001b[43minitial_state\u001b[49m\u001b[43m)\u001b[49m\u001b[43m:\u001b[49m\n\u001b[32m      2\u001b[39m \u001b[43m    \u001b[49m\u001b[43mnode_name\u001b[49m\u001b[43m,\u001b[49m\u001b[43m \u001b[49m\u001b[43mnode_result\u001b[49m\u001b[43m \u001b[49m\u001b[43m=\u001b[49m\u001b[43m \u001b[49m\u001b[38;5;28;43mlist\u001b[39;49m\u001b[43m(\u001b[49m\u001b[43moutput\u001b[49m\u001b[43m.\u001b[49m\u001b[43mitems\u001b[49m\u001b[43m(\u001b[49m\u001b[43m)\u001b[49m\u001b[43m)\u001b[49m\u001b[43m[\u001b[49m\u001b[32;43m0\u001b[39;49m\u001b[43m]\u001b[49m\n\u001b[32m      3\u001b[39m \u001b[43m    \u001b[49m\u001b[38;5;28;43mprint\u001b[39;49m\u001b[43m(\u001b[49m\u001b[33;43mf\u001b[39;49m\u001b[33;43m'\u001b[39;49m\u001b[38;5;130;43;01m\\n\u001b[39;49;00m\u001b[33;43m현재 노드: \u001b[39;49m\u001b[38;5;132;43;01m{\u001b[39;49;00m\u001b[43mnode_name\u001b[49m\u001b[38;5;132;43;01m}\u001b[39;49;00m\u001b[33;43m'\u001b[39;49m\u001b[43m)\u001b[49m\n",
      "\u001b[36mFile \u001b[39m\u001b[32m~/miniconda3/envs/openai/lib/python3.12/site-packages/langgraph/pregel/main.py:2642\u001b[39m, in \u001b[36mPregel.stream\u001b[39m\u001b[34m(self, input, config, context, stream_mode, print_mode, output_keys, interrupt_before, interrupt_after, durability, subgraphs, debug, **kwargs)\u001b[39m\n\u001b[32m   2640\u001b[39m \u001b[38;5;28;01mfor\u001b[39;00m task \u001b[38;5;129;01min\u001b[39;00m loop.match_cached_writes():\n\u001b[32m   2641\u001b[39m     loop.output_writes(task.id, task.writes, cached=\u001b[38;5;28;01mTrue\u001b[39;00m)\n\u001b[32m-> \u001b[39m\u001b[32m2642\u001b[39m \u001b[43m\u001b[49m\u001b[38;5;28;43;01mfor\u001b[39;49;00m\u001b[43m \u001b[49m\u001b[43m_\u001b[49m\u001b[43m \u001b[49m\u001b[38;5;129;43;01min\u001b[39;49;00m\u001b[43m \u001b[49m\u001b[43mrunner\u001b[49m\u001b[43m.\u001b[49m\u001b[43mtick\u001b[49m\u001b[43m(\u001b[49m\n\u001b[32m   2643\u001b[39m \u001b[43m    \u001b[49m\u001b[43m[\u001b[49m\u001b[43mt\u001b[49m\u001b[43m \u001b[49m\u001b[38;5;28;43;01mfor\u001b[39;49;00m\u001b[43m \u001b[49m\u001b[43mt\u001b[49m\u001b[43m \u001b[49m\u001b[38;5;129;43;01min\u001b[39;49;00m\u001b[43m \u001b[49m\u001b[43mloop\u001b[49m\u001b[43m.\u001b[49m\u001b[43mtasks\u001b[49m\u001b[43m.\u001b[49m\u001b[43mvalues\u001b[49m\u001b[43m(\u001b[49m\u001b[43m)\u001b[49m\u001b[43m \u001b[49m\u001b[38;5;28;43;01mif\u001b[39;49;00m\u001b[43m \u001b[49m\u001b[38;5;129;43;01mnot\u001b[39;49;00m\u001b[43m \u001b[49m\u001b[43mt\u001b[49m\u001b[43m.\u001b[49m\u001b[43mwrites\u001b[49m\u001b[43m]\u001b[49m\u001b[43m,\u001b[49m\n\u001b[32m   2644\u001b[39m \u001b[43m    \u001b[49m\u001b[43mtimeout\u001b[49m\u001b[43m=\u001b[49m\u001b[38;5;28;43mself\u001b[39;49m\u001b[43m.\u001b[49m\u001b[43mstep_timeout\u001b[49m\u001b[43m,\u001b[49m\n\u001b[32m   2645\u001b[39m \u001b[43m    \u001b[49m\u001b[43mget_waiter\u001b[49m\u001b[43m=\u001b[49m\u001b[43mget_waiter\u001b[49m\u001b[43m,\u001b[49m\n\u001b[32m   2646\u001b[39m \u001b[43m    \u001b[49m\u001b[43mschedule_task\u001b[49m\u001b[43m=\u001b[49m\u001b[43mloop\u001b[49m\u001b[43m.\u001b[49m\u001b[43maccept_push\u001b[49m\u001b[43m,\u001b[49m\n\u001b[32m   2647\u001b[39m \u001b[43m\u001b[49m\u001b[43m)\u001b[49m\u001b[43m:\u001b[49m\n\u001b[32m   2648\u001b[39m \u001b[43m    \u001b[49m\u001b[38;5;66;43;03m# emit output\u001b[39;49;00m\n\u001b[32m   2649\u001b[39m \u001b[43m    \u001b[49m\u001b[38;5;28;43;01myield from\u001b[39;49;00m\u001b[43m \u001b[49m\u001b[43m_output\u001b[49m\u001b[43m(\u001b[49m\n\u001b[32m   2650\u001b[39m \u001b[43m        \u001b[49m\u001b[43mstream_mode\u001b[49m\u001b[43m,\u001b[49m\u001b[43m \u001b[49m\u001b[43mprint_mode\u001b[49m\u001b[43m,\u001b[49m\u001b[43m \u001b[49m\u001b[43msubgraphs\u001b[49m\u001b[43m,\u001b[49m\u001b[43m \u001b[49m\u001b[43mstream\u001b[49m\u001b[43m.\u001b[49m\u001b[43mget\u001b[49m\u001b[43m,\u001b[49m\u001b[43m \u001b[49m\u001b[43mqueue\u001b[49m\u001b[43m.\u001b[49m\u001b[43mEmpty\u001b[49m\n\u001b[32m   2651\u001b[39m \u001b[43m    \u001b[49m\u001b[43m)\u001b[49m\n\u001b[32m   2652\u001b[39m loop.after_tick()\n",
      "\u001b[36mFile \u001b[39m\u001b[32m~/miniconda3/envs/openai/lib/python3.12/site-packages/langgraph/pregel/_runner.py:162\u001b[39m, in \u001b[36mPregelRunner.tick\u001b[39m\u001b[34m(self, tasks, reraise, timeout, retry_policy, get_waiter, schedule_task)\u001b[39m\n\u001b[32m    160\u001b[39m t = tasks[\u001b[32m0\u001b[39m]\n\u001b[32m    161\u001b[39m \u001b[38;5;28;01mtry\u001b[39;00m:\n\u001b[32m--> \u001b[39m\u001b[32m162\u001b[39m     \u001b[43mrun_with_retry\u001b[49m\u001b[43m(\u001b[49m\n\u001b[32m    163\u001b[39m \u001b[43m        \u001b[49m\u001b[43mt\u001b[49m\u001b[43m,\u001b[49m\n\u001b[32m    164\u001b[39m \u001b[43m        \u001b[49m\u001b[43mretry_policy\u001b[49m\u001b[43m,\u001b[49m\n\u001b[32m    165\u001b[39m \u001b[43m        \u001b[49m\u001b[43mconfigurable\u001b[49m\u001b[43m=\u001b[49m\u001b[43m{\u001b[49m\n\u001b[32m    166\u001b[39m \u001b[43m            \u001b[49m\u001b[43mCONFIG_KEY_CALL\u001b[49m\u001b[43m:\u001b[49m\u001b[43m \u001b[49m\u001b[43mpartial\u001b[49m\u001b[43m(\u001b[49m\n\u001b[32m    167\u001b[39m \u001b[43m                \u001b[49m\u001b[43m_call\u001b[49m\u001b[43m,\u001b[49m\n\u001b[32m    168\u001b[39m \u001b[43m                \u001b[49m\u001b[43mweakref\u001b[49m\u001b[43m.\u001b[49m\u001b[43mref\u001b[49m\u001b[43m(\u001b[49m\u001b[43mt\u001b[49m\u001b[43m)\u001b[49m\u001b[43m,\u001b[49m\n\u001b[32m    169\u001b[39m \u001b[43m                \u001b[49m\u001b[43mretry_policy\u001b[49m\u001b[43m=\u001b[49m\u001b[43mretry_policy\u001b[49m\u001b[43m,\u001b[49m\n\u001b[32m    170\u001b[39m \u001b[43m                \u001b[49m\u001b[43mfutures\u001b[49m\u001b[43m=\u001b[49m\u001b[43mweakref\u001b[49m\u001b[43m.\u001b[49m\u001b[43mref\u001b[49m\u001b[43m(\u001b[49m\u001b[43mfutures\u001b[49m\u001b[43m)\u001b[49m\u001b[43m,\u001b[49m\n\u001b[32m    171\u001b[39m \u001b[43m                \u001b[49m\u001b[43mschedule_task\u001b[49m\u001b[43m=\u001b[49m\u001b[43mschedule_task\u001b[49m\u001b[43m,\u001b[49m\n\u001b[32m    172\u001b[39m \u001b[43m                \u001b[49m\u001b[43msubmit\u001b[49m\u001b[43m=\u001b[49m\u001b[38;5;28;43mself\u001b[39;49m\u001b[43m.\u001b[49m\u001b[43msubmit\u001b[49m\u001b[43m,\u001b[49m\n\u001b[32m    173\u001b[39m \u001b[43m            \u001b[49m\u001b[43m)\u001b[49m\u001b[43m,\u001b[49m\n\u001b[32m    174\u001b[39m \u001b[43m        \u001b[49m\u001b[43m}\u001b[49m\u001b[43m,\u001b[49m\n\u001b[32m    175\u001b[39m \u001b[43m    \u001b[49m\u001b[43m)\u001b[49m\n\u001b[32m    176\u001b[39m     \u001b[38;5;28mself\u001b[39m.commit(t, \u001b[38;5;28;01mNone\u001b[39;00m)\n\u001b[32m    177\u001b[39m \u001b[38;5;28;01mexcept\u001b[39;00m \u001b[38;5;167;01mException\u001b[39;00m \u001b[38;5;28;01mas\u001b[39;00m exc:\n",
      "\u001b[36mFile \u001b[39m\u001b[32m~/miniconda3/envs/openai/lib/python3.12/site-packages/langgraph/pregel/_retry.py:42\u001b[39m, in \u001b[36mrun_with_retry\u001b[39m\u001b[34m(task, retry_policy, configurable)\u001b[39m\n\u001b[32m     40\u001b[39m     task.writes.clear()\n\u001b[32m     41\u001b[39m     \u001b[38;5;66;03m# run the task\u001b[39;00m\n\u001b[32m---> \u001b[39m\u001b[32m42\u001b[39m     \u001b[38;5;28;01mreturn\u001b[39;00m \u001b[43mtask\u001b[49m\u001b[43m.\u001b[49m\u001b[43mproc\u001b[49m\u001b[43m.\u001b[49m\u001b[43minvoke\u001b[49m\u001b[43m(\u001b[49m\u001b[43mtask\u001b[49m\u001b[43m.\u001b[49m\u001b[43minput\u001b[49m\u001b[43m,\u001b[49m\u001b[43m \u001b[49m\u001b[43mconfig\u001b[49m\u001b[43m)\u001b[49m\n\u001b[32m     43\u001b[39m \u001b[38;5;28;01mexcept\u001b[39;00m ParentCommand \u001b[38;5;28;01mas\u001b[39;00m exc:\n\u001b[32m     44\u001b[39m     ns: \u001b[38;5;28mstr\u001b[39m = config[CONF][CONFIG_KEY_CHECKPOINT_NS]\n",
      "\u001b[36mFile \u001b[39m\u001b[32m~/miniconda3/envs/openai/lib/python3.12/site-packages/langgraph/_internal/_runnable.py:657\u001b[39m, in \u001b[36mRunnableSeq.invoke\u001b[39m\u001b[34m(self, input, config, **kwargs)\u001b[39m\n\u001b[32m    655\u001b[39m     \u001b[38;5;66;03m# run in context\u001b[39;00m\n\u001b[32m    656\u001b[39m     \u001b[38;5;28;01mwith\u001b[39;00m set_config_context(config, run) \u001b[38;5;28;01mas\u001b[39;00m context:\n\u001b[32m--> \u001b[39m\u001b[32m657\u001b[39m         \u001b[38;5;28minput\u001b[39m = \u001b[43mcontext\u001b[49m\u001b[43m.\u001b[49m\u001b[43mrun\u001b[49m\u001b[43m(\u001b[49m\u001b[43mstep\u001b[49m\u001b[43m.\u001b[49m\u001b[43minvoke\u001b[49m\u001b[43m,\u001b[49m\u001b[43m \u001b[49m\u001b[38;5;28;43minput\u001b[39;49m\u001b[43m,\u001b[49m\u001b[43m \u001b[49m\u001b[43mconfig\u001b[49m\u001b[43m,\u001b[49m\u001b[43m \u001b[49m\u001b[43m*\u001b[49m\u001b[43m*\u001b[49m\u001b[43mkwargs\u001b[49m\u001b[43m)\u001b[49m\n\u001b[32m    658\u001b[39m \u001b[38;5;28;01melse\u001b[39;00m:\n\u001b[32m    659\u001b[39m     \u001b[38;5;28minput\u001b[39m = step.invoke(\u001b[38;5;28minput\u001b[39m, config)\n",
      "\u001b[36mFile \u001b[39m\u001b[32m~/miniconda3/envs/openai/lib/python3.12/site-packages/langgraph/_internal/_runnable.py:401\u001b[39m, in \u001b[36mRunnableCallable.invoke\u001b[39m\u001b[34m(self, input, config, **kwargs)\u001b[39m\n\u001b[32m    399\u001b[39m         run_manager.on_chain_end(ret)\n\u001b[32m    400\u001b[39m \u001b[38;5;28;01melse\u001b[39;00m:\n\u001b[32m--> \u001b[39m\u001b[32m401\u001b[39m     ret = \u001b[38;5;28;43mself\u001b[39;49m\u001b[43m.\u001b[49m\u001b[43mfunc\u001b[49m\u001b[43m(\u001b[49m\u001b[43m*\u001b[49m\u001b[43margs\u001b[49m\u001b[43m,\u001b[49m\u001b[43m \u001b[49m\u001b[43m*\u001b[49m\u001b[43m*\u001b[49m\u001b[43mkwargs\u001b[49m\u001b[43m)\u001b[49m\n\u001b[32m    402\u001b[39m \u001b[38;5;28;01mif\u001b[39;00m \u001b[38;5;28mself\u001b[39m.recurse \u001b[38;5;129;01mand\u001b[39;00m \u001b[38;5;28misinstance\u001b[39m(ret, Runnable):\n\u001b[32m    403\u001b[39m     \u001b[38;5;28;01mreturn\u001b[39;00m ret.invoke(\u001b[38;5;28minput\u001b[39m, config)\n",
      "\u001b[36mCell\u001b[39m\u001b[36m \u001b[39m\u001b[32mIn[33]\u001b[39m\u001b[32m, line 7\u001b[39m, in \u001b[36msupervisor\u001b[39m\u001b[34m(state)\u001b[39m\n\u001b[32m      1\u001b[39m \u001b[38;5;28;01mdef\u001b[39;00m\u001b[38;5;250m \u001b[39m\u001b[34msupervisor\u001b[39m(state):\n\u001b[32m      2\u001b[39m     messages = [\n\u001b[32m      3\u001b[39m         (\u001b[33m'\u001b[39m\u001b[33msystem\u001b[39m\u001b[33m'\u001b[39m, system_prompt_part_1),\n\u001b[32m      4\u001b[39m         *state[\u001b[33m'\u001b[39m\u001b[33mmessages\u001b[39m\u001b[33m'\u001b[39m], \n\u001b[32m      5\u001b[39m         (\u001b[33m'\u001b[39m\u001b[33msystem\u001b[39m\u001b[33m'\u001b[39m, system_prompt_part_2)\n\u001b[32m      6\u001b[39m     ]\n\u001b[32m----> \u001b[39m\u001b[32m7\u001b[39m     \u001b[38;5;28;01mreturn\u001b[39;00m \u001b[43mmodel\u001b[49m\u001b[43m.\u001b[49m\u001b[43minvoke\u001b[49m\u001b[43m(\u001b[49m\u001b[43mmessages\u001b[49m\u001b[43m)\u001b[49m\n",
      "\u001b[36mFile \u001b[39m\u001b[32m~/miniconda3/envs/openai/lib/python3.12/site-packages/langchain_core/runnables/base.py:3044\u001b[39m, in \u001b[36mRunnableSequence.invoke\u001b[39m\u001b[34m(self, input, config, **kwargs)\u001b[39m\n\u001b[32m   3042\u001b[39m \u001b[38;5;28;01mwith\u001b[39;00m set_config_context(config) \u001b[38;5;28;01mas\u001b[39;00m context:\n\u001b[32m   3043\u001b[39m     \u001b[38;5;28;01mif\u001b[39;00m i == \u001b[32m0\u001b[39m:\n\u001b[32m-> \u001b[39m\u001b[32m3044\u001b[39m         input_ = \u001b[43mcontext\u001b[49m\u001b[43m.\u001b[49m\u001b[43mrun\u001b[49m\u001b[43m(\u001b[49m\u001b[43mstep\u001b[49m\u001b[43m.\u001b[49m\u001b[43minvoke\u001b[49m\u001b[43m,\u001b[49m\u001b[43m \u001b[49m\u001b[43minput_\u001b[49m\u001b[43m,\u001b[49m\u001b[43m \u001b[49m\u001b[43mconfig\u001b[49m\u001b[43m,\u001b[49m\u001b[43m \u001b[49m\u001b[43m*\u001b[49m\u001b[43m*\u001b[49m\u001b[43mkwargs\u001b[49m\u001b[43m)\u001b[49m\n\u001b[32m   3045\u001b[39m     \u001b[38;5;28;01melse\u001b[39;00m:\n\u001b[32m   3046\u001b[39m         input_ = context.run(step.invoke, input_, config)\n",
      "\u001b[36mFile \u001b[39m\u001b[32m~/miniconda3/envs/openai/lib/python3.12/site-packages/langchain_core/runnables/base.py:5434\u001b[39m, in \u001b[36mRunnableBindingBase.invoke\u001b[39m\u001b[34m(self, input, config, **kwargs)\u001b[39m\n\u001b[32m   5427\u001b[39m \u001b[38;5;129m@override\u001b[39m\n\u001b[32m   5428\u001b[39m \u001b[38;5;28;01mdef\u001b[39;00m\u001b[38;5;250m \u001b[39m\u001b[34minvoke\u001b[39m(\n\u001b[32m   5429\u001b[39m     \u001b[38;5;28mself\u001b[39m,\n\u001b[32m   (...)\u001b[39m\u001b[32m   5432\u001b[39m     **kwargs: Optional[Any],\n\u001b[32m   5433\u001b[39m ) -> Output:\n\u001b[32m-> \u001b[39m\u001b[32m5434\u001b[39m     \u001b[38;5;28;01mreturn\u001b[39;00m \u001b[38;5;28;43mself\u001b[39;49m\u001b[43m.\u001b[49m\u001b[43mbound\u001b[49m\u001b[43m.\u001b[49m\u001b[43minvoke\u001b[49m\u001b[43m(\u001b[49m\n\u001b[32m   5435\u001b[39m \u001b[43m        \u001b[49m\u001b[38;5;28;43minput\u001b[39;49m\u001b[43m,\u001b[49m\n\u001b[32m   5436\u001b[39m \u001b[43m        \u001b[49m\u001b[38;5;28;43mself\u001b[39;49m\u001b[43m.\u001b[49m\u001b[43m_merge_configs\u001b[49m\u001b[43m(\u001b[49m\u001b[43mconfig\u001b[49m\u001b[43m)\u001b[49m\u001b[43m,\u001b[49m\n\u001b[32m   5437\u001b[39m \u001b[43m        \u001b[49m\u001b[43m*\u001b[49m\u001b[43m*\u001b[49m\u001b[43m{\u001b[49m\u001b[43m*\u001b[49m\u001b[43m*\u001b[49m\u001b[38;5;28;43mself\u001b[39;49m\u001b[43m.\u001b[49m\u001b[43mkwargs\u001b[49m\u001b[43m,\u001b[49m\u001b[43m \u001b[49m\u001b[43m*\u001b[49m\u001b[43m*\u001b[49m\u001b[43mkwargs\u001b[49m\u001b[43m}\u001b[49m\u001b[43m,\u001b[49m\n\u001b[32m   5438\u001b[39m \u001b[43m    \u001b[49m\u001b[43m)\u001b[49m\n",
      "\u001b[36mFile \u001b[39m\u001b[32m~/miniconda3/envs/openai/lib/python3.12/site-packages/langchain_core/language_models/chat_models.py:395\u001b[39m, in \u001b[36mBaseChatModel.invoke\u001b[39m\u001b[34m(self, input, config, stop, **kwargs)\u001b[39m\n\u001b[32m    383\u001b[39m \u001b[38;5;129m@override\u001b[39m\n\u001b[32m    384\u001b[39m \u001b[38;5;28;01mdef\u001b[39;00m\u001b[38;5;250m \u001b[39m\u001b[34minvoke\u001b[39m(\n\u001b[32m    385\u001b[39m     \u001b[38;5;28mself\u001b[39m,\n\u001b[32m   (...)\u001b[39m\u001b[32m    390\u001b[39m     **kwargs: Any,\n\u001b[32m    391\u001b[39m ) -> BaseMessage:\n\u001b[32m    392\u001b[39m     config = ensure_config(config)\n\u001b[32m    393\u001b[39m     \u001b[38;5;28;01mreturn\u001b[39;00m cast(\n\u001b[32m    394\u001b[39m         \u001b[33m\"\u001b[39m\u001b[33mChatGeneration\u001b[39m\u001b[33m\"\u001b[39m,\n\u001b[32m--> \u001b[39m\u001b[32m395\u001b[39m         \u001b[38;5;28;43mself\u001b[39;49m\u001b[43m.\u001b[49m\u001b[43mgenerate_prompt\u001b[49m\u001b[43m(\u001b[49m\n\u001b[32m    396\u001b[39m \u001b[43m            \u001b[49m\u001b[43m[\u001b[49m\u001b[38;5;28;43mself\u001b[39;49m\u001b[43m.\u001b[49m\u001b[43m_convert_input\u001b[49m\u001b[43m(\u001b[49m\u001b[38;5;28;43minput\u001b[39;49m\u001b[43m)\u001b[49m\u001b[43m]\u001b[49m\u001b[43m,\u001b[49m\n\u001b[32m    397\u001b[39m \u001b[43m            \u001b[49m\u001b[43mstop\u001b[49m\u001b[43m=\u001b[49m\u001b[43mstop\u001b[49m\u001b[43m,\u001b[49m\n\u001b[32m    398\u001b[39m \u001b[43m            \u001b[49m\u001b[43mcallbacks\u001b[49m\u001b[43m=\u001b[49m\u001b[43mconfig\u001b[49m\u001b[43m.\u001b[49m\u001b[43mget\u001b[49m\u001b[43m(\u001b[49m\u001b[33;43m\"\u001b[39;49m\u001b[33;43mcallbacks\u001b[39;49m\u001b[33;43m\"\u001b[39;49m\u001b[43m)\u001b[49m\u001b[43m,\u001b[49m\n\u001b[32m    399\u001b[39m \u001b[43m            \u001b[49m\u001b[43mtags\u001b[49m\u001b[43m=\u001b[49m\u001b[43mconfig\u001b[49m\u001b[43m.\u001b[49m\u001b[43mget\u001b[49m\u001b[43m(\u001b[49m\u001b[33;43m\"\u001b[39;49m\u001b[33;43mtags\u001b[39;49m\u001b[33;43m\"\u001b[39;49m\u001b[43m)\u001b[49m\u001b[43m,\u001b[49m\n\u001b[32m    400\u001b[39m \u001b[43m            \u001b[49m\u001b[43mmetadata\u001b[49m\u001b[43m=\u001b[49m\u001b[43mconfig\u001b[49m\u001b[43m.\u001b[49m\u001b[43mget\u001b[49m\u001b[43m(\u001b[49m\u001b[33;43m\"\u001b[39;49m\u001b[33;43mmetadata\u001b[39;49m\u001b[33;43m\"\u001b[39;49m\u001b[43m)\u001b[49m\u001b[43m,\u001b[49m\n\u001b[32m    401\u001b[39m \u001b[43m            \u001b[49m\u001b[43mrun_name\u001b[49m\u001b[43m=\u001b[49m\u001b[43mconfig\u001b[49m\u001b[43m.\u001b[49m\u001b[43mget\u001b[49m\u001b[43m(\u001b[49m\u001b[33;43m\"\u001b[39;49m\u001b[33;43mrun_name\u001b[39;49m\u001b[33;43m\"\u001b[39;49m\u001b[43m)\u001b[49m\u001b[43m,\u001b[49m\n\u001b[32m    402\u001b[39m \u001b[43m            \u001b[49m\u001b[43mrun_id\u001b[49m\u001b[43m=\u001b[49m\u001b[43mconfig\u001b[49m\u001b[43m.\u001b[49m\u001b[43mpop\u001b[49m\u001b[43m(\u001b[49m\u001b[33;43m\"\u001b[39;49m\u001b[33;43mrun_id\u001b[39;49m\u001b[33;43m\"\u001b[39;49m\u001b[43m,\u001b[49m\u001b[43m \u001b[49m\u001b[38;5;28;43;01mNone\u001b[39;49;00m\u001b[43m)\u001b[49m\u001b[43m,\u001b[49m\n\u001b[32m    403\u001b[39m \u001b[43m            \u001b[49m\u001b[43m*\u001b[49m\u001b[43m*\u001b[49m\u001b[43mkwargs\u001b[49m\u001b[43m,\u001b[49m\n\u001b[32m    404\u001b[39m \u001b[43m        \u001b[49m\u001b[43m)\u001b[49m.generations[\u001b[32m0\u001b[39m][\u001b[32m0\u001b[39m],\n\u001b[32m    405\u001b[39m     ).message\n",
      "\u001b[36mFile \u001b[39m\u001b[32m~/miniconda3/envs/openai/lib/python3.12/site-packages/langchain_core/language_models/chat_models.py:980\u001b[39m, in \u001b[36mBaseChatModel.generate_prompt\u001b[39m\u001b[34m(self, prompts, stop, callbacks, **kwargs)\u001b[39m\n\u001b[32m    971\u001b[39m \u001b[38;5;129m@override\u001b[39m\n\u001b[32m    972\u001b[39m \u001b[38;5;28;01mdef\u001b[39;00m\u001b[38;5;250m \u001b[39m\u001b[34mgenerate_prompt\u001b[39m(\n\u001b[32m    973\u001b[39m     \u001b[38;5;28mself\u001b[39m,\n\u001b[32m   (...)\u001b[39m\u001b[32m    977\u001b[39m     **kwargs: Any,\n\u001b[32m    978\u001b[39m ) -> LLMResult:\n\u001b[32m    979\u001b[39m     prompt_messages = [p.to_messages() \u001b[38;5;28;01mfor\u001b[39;00m p \u001b[38;5;129;01min\u001b[39;00m prompts]\n\u001b[32m--> \u001b[39m\u001b[32m980\u001b[39m     \u001b[38;5;28;01mreturn\u001b[39;00m \u001b[38;5;28;43mself\u001b[39;49m\u001b[43m.\u001b[49m\u001b[43mgenerate\u001b[49m\u001b[43m(\u001b[49m\u001b[43mprompt_messages\u001b[49m\u001b[43m,\u001b[49m\u001b[43m \u001b[49m\u001b[43mstop\u001b[49m\u001b[43m=\u001b[49m\u001b[43mstop\u001b[49m\u001b[43m,\u001b[49m\u001b[43m \u001b[49m\u001b[43mcallbacks\u001b[49m\u001b[43m=\u001b[49m\u001b[43mcallbacks\u001b[49m\u001b[43m,\u001b[49m\u001b[43m \u001b[49m\u001b[43m*\u001b[49m\u001b[43m*\u001b[49m\u001b[43mkwargs\u001b[49m\u001b[43m)\u001b[49m\n",
      "\u001b[36mFile \u001b[39m\u001b[32m~/miniconda3/envs/openai/lib/python3.12/site-packages/langchain_core/language_models/chat_models.py:799\u001b[39m, in \u001b[36mBaseChatModel.generate\u001b[39m\u001b[34m(self, messages, stop, callbacks, tags, metadata, run_name, run_id, **kwargs)\u001b[39m\n\u001b[32m    796\u001b[39m \u001b[38;5;28;01mfor\u001b[39;00m i, m \u001b[38;5;129;01min\u001b[39;00m \u001b[38;5;28menumerate\u001b[39m(input_messages):\n\u001b[32m    797\u001b[39m     \u001b[38;5;28;01mtry\u001b[39;00m:\n\u001b[32m    798\u001b[39m         results.append(\n\u001b[32m--> \u001b[39m\u001b[32m799\u001b[39m             \u001b[38;5;28;43mself\u001b[39;49m\u001b[43m.\u001b[49m\u001b[43m_generate_with_cache\u001b[49m\u001b[43m(\u001b[49m\n\u001b[32m    800\u001b[39m \u001b[43m                \u001b[49m\u001b[43mm\u001b[49m\u001b[43m,\u001b[49m\n\u001b[32m    801\u001b[39m \u001b[43m                \u001b[49m\u001b[43mstop\u001b[49m\u001b[43m=\u001b[49m\u001b[43mstop\u001b[49m\u001b[43m,\u001b[49m\n\u001b[32m    802\u001b[39m \u001b[43m                \u001b[49m\u001b[43mrun_manager\u001b[49m\u001b[43m=\u001b[49m\u001b[43mrun_managers\u001b[49m\u001b[43m[\u001b[49m\u001b[43mi\u001b[49m\u001b[43m]\u001b[49m\u001b[43m \u001b[49m\u001b[38;5;28;43;01mif\u001b[39;49;00m\u001b[43m \u001b[49m\u001b[43mrun_managers\u001b[49m\u001b[43m \u001b[49m\u001b[38;5;28;43;01melse\u001b[39;49;00m\u001b[43m \u001b[49m\u001b[38;5;28;43;01mNone\u001b[39;49;00m\u001b[43m,\u001b[49m\n\u001b[32m    803\u001b[39m \u001b[43m                \u001b[49m\u001b[43m*\u001b[49m\u001b[43m*\u001b[49m\u001b[43mkwargs\u001b[49m\u001b[43m,\u001b[49m\n\u001b[32m    804\u001b[39m \u001b[43m            \u001b[49m\u001b[43m)\u001b[49m\n\u001b[32m    805\u001b[39m         )\n\u001b[32m    806\u001b[39m     \u001b[38;5;28;01mexcept\u001b[39;00m \u001b[38;5;167;01mBaseException\u001b[39;00m \u001b[38;5;28;01mas\u001b[39;00m e:\n\u001b[32m    807\u001b[39m         \u001b[38;5;28;01mif\u001b[39;00m run_managers:\n",
      "\u001b[36mFile \u001b[39m\u001b[32m~/miniconda3/envs/openai/lib/python3.12/site-packages/langchain_core/language_models/chat_models.py:1045\u001b[39m, in \u001b[36mBaseChatModel._generate_with_cache\u001b[39m\u001b[34m(self, messages, stop, run_manager, **kwargs)\u001b[39m\n\u001b[32m   1043\u001b[39m     result = generate_from_stream(\u001b[38;5;28miter\u001b[39m(chunks))\n\u001b[32m   1044\u001b[39m \u001b[38;5;28;01melif\u001b[39;00m inspect.signature(\u001b[38;5;28mself\u001b[39m._generate).parameters.get(\u001b[33m\"\u001b[39m\u001b[33mrun_manager\u001b[39m\u001b[33m\"\u001b[39m):\n\u001b[32m-> \u001b[39m\u001b[32m1045\u001b[39m     result = \u001b[38;5;28;43mself\u001b[39;49m\u001b[43m.\u001b[49m\u001b[43m_generate\u001b[49m\u001b[43m(\u001b[49m\n\u001b[32m   1046\u001b[39m \u001b[43m        \u001b[49m\u001b[43mmessages\u001b[49m\u001b[43m,\u001b[49m\u001b[43m \u001b[49m\u001b[43mstop\u001b[49m\u001b[43m=\u001b[49m\u001b[43mstop\u001b[49m\u001b[43m,\u001b[49m\u001b[43m \u001b[49m\u001b[43mrun_manager\u001b[49m\u001b[43m=\u001b[49m\u001b[43mrun_manager\u001b[49m\u001b[43m,\u001b[49m\u001b[43m \u001b[49m\u001b[43m*\u001b[49m\u001b[43m*\u001b[49m\u001b[43mkwargs\u001b[49m\n\u001b[32m   1047\u001b[39m \u001b[43m    \u001b[49m\u001b[43m)\u001b[49m\n\u001b[32m   1048\u001b[39m \u001b[38;5;28;01melse\u001b[39;00m:\n\u001b[32m   1049\u001b[39m     result = \u001b[38;5;28mself\u001b[39m._generate(messages, stop=stop, **kwargs)\n",
      "\u001b[36mFile \u001b[39m\u001b[32m~/miniconda3/envs/openai/lib/python3.12/site-packages/langchain_openai/chat_models/base.py:1104\u001b[39m, in \u001b[36mBaseChatOpenAI._generate\u001b[39m\u001b[34m(self, messages, stop, run_manager, **kwargs)\u001b[39m\n\u001b[32m   1102\u001b[39m payload.pop(\u001b[33m\"\u001b[39m\u001b[33mstream\u001b[39m\u001b[33m\"\u001b[39m)\n\u001b[32m   1103\u001b[39m \u001b[38;5;28;01mtry\u001b[39;00m:\n\u001b[32m-> \u001b[39m\u001b[32m1104\u001b[39m     response = \u001b[38;5;28;43mself\u001b[39;49m\u001b[43m.\u001b[49m\u001b[43mroot_client\u001b[49m\u001b[43m.\u001b[49m\u001b[43mbeta\u001b[49m\u001b[43m.\u001b[49m\u001b[43mchat\u001b[49m\u001b[43m.\u001b[49m\u001b[43mcompletions\u001b[49m\u001b[43m.\u001b[49m\u001b[43mparse\u001b[49m\u001b[43m(\u001b[49m\u001b[43m*\u001b[49m\u001b[43m*\u001b[49m\u001b[43mpayload\u001b[49m\u001b[43m)\u001b[49m\n\u001b[32m   1105\u001b[39m \u001b[38;5;28;01mexcept\u001b[39;00m openai.BadRequestError \u001b[38;5;28;01mas\u001b[39;00m e:\n\u001b[32m   1106\u001b[39m     _handle_openai_bad_request(e)\n",
      "\u001b[36mFile \u001b[39m\u001b[32m~/miniconda3/envs/openai/lib/python3.12/site-packages/openai/resources/chat/completions/completions.py:180\u001b[39m, in \u001b[36mCompletions.parse\u001b[39m\u001b[34m(self, messages, model, audio, response_format, frequency_penalty, function_call, functions, logit_bias, logprobs, max_completion_tokens, max_tokens, metadata, modalities, n, parallel_tool_calls, prediction, presence_penalty, reasoning_effort, seed, service_tier, stop, store, stream_options, temperature, tool_choice, tools, top_logprobs, top_p, user, web_search_options, extra_headers, extra_query, extra_body, timeout)\u001b[39m\n\u001b[32m    173\u001b[39m \u001b[38;5;28;01mdef\u001b[39;00m\u001b[38;5;250m \u001b[39m\u001b[34mparser\u001b[39m(raw_completion: ChatCompletion) -> ParsedChatCompletion[ResponseFormatT]:\n\u001b[32m    174\u001b[39m     \u001b[38;5;28;01mreturn\u001b[39;00m _parse_chat_completion(\n\u001b[32m    175\u001b[39m         response_format=response_format,\n\u001b[32m    176\u001b[39m         chat_completion=raw_completion,\n\u001b[32m    177\u001b[39m         input_tools=tools,\n\u001b[32m    178\u001b[39m     )\n\u001b[32m--> \u001b[39m\u001b[32m180\u001b[39m \u001b[38;5;28;01mreturn\u001b[39;00m \u001b[38;5;28;43mself\u001b[39;49m\u001b[43m.\u001b[49m\u001b[43m_post\u001b[49m\u001b[43m(\u001b[49m\n\u001b[32m    181\u001b[39m \u001b[43m    \u001b[49m\u001b[33;43m\"\u001b[39;49m\u001b[33;43m/chat/completions\u001b[39;49m\u001b[33;43m\"\u001b[39;49m\u001b[43m,\u001b[49m\n\u001b[32m    182\u001b[39m \u001b[43m    \u001b[49m\u001b[43mbody\u001b[49m\u001b[43m=\u001b[49m\u001b[43mmaybe_transform\u001b[49m\u001b[43m(\u001b[49m\n\u001b[32m    183\u001b[39m \u001b[43m        \u001b[49m\u001b[43m{\u001b[49m\n\u001b[32m    184\u001b[39m \u001b[43m            \u001b[49m\u001b[33;43m\"\u001b[39;49m\u001b[33;43mmessages\u001b[39;49m\u001b[33;43m\"\u001b[39;49m\u001b[43m:\u001b[49m\u001b[43m \u001b[49m\u001b[43mmessages\u001b[49m\u001b[43m,\u001b[49m\n\u001b[32m    185\u001b[39m \u001b[43m            \u001b[49m\u001b[33;43m\"\u001b[39;49m\u001b[33;43mmodel\u001b[39;49m\u001b[33;43m\"\u001b[39;49m\u001b[43m:\u001b[49m\u001b[43m \u001b[49m\u001b[43mmodel\u001b[49m\u001b[43m,\u001b[49m\n\u001b[32m    186\u001b[39m \u001b[43m            \u001b[49m\u001b[33;43m\"\u001b[39;49m\u001b[33;43maudio\u001b[39;49m\u001b[33;43m\"\u001b[39;49m\u001b[43m:\u001b[49m\u001b[43m \u001b[49m\u001b[43maudio\u001b[49m\u001b[43m,\u001b[49m\n\u001b[32m    187\u001b[39m \u001b[43m            \u001b[49m\u001b[33;43m\"\u001b[39;49m\u001b[33;43mfrequency_penalty\u001b[39;49m\u001b[33;43m\"\u001b[39;49m\u001b[43m:\u001b[49m\u001b[43m \u001b[49m\u001b[43mfrequency_penalty\u001b[49m\u001b[43m,\u001b[49m\n\u001b[32m    188\u001b[39m \u001b[43m            \u001b[49m\u001b[33;43m\"\u001b[39;49m\u001b[33;43mfunction_call\u001b[39;49m\u001b[33;43m\"\u001b[39;49m\u001b[43m:\u001b[49m\u001b[43m \u001b[49m\u001b[43mfunction_call\u001b[49m\u001b[43m,\u001b[49m\n\u001b[32m    189\u001b[39m \u001b[43m            \u001b[49m\u001b[33;43m\"\u001b[39;49m\u001b[33;43mfunctions\u001b[39;49m\u001b[33;43m\"\u001b[39;49m\u001b[43m:\u001b[49m\u001b[43m \u001b[49m\u001b[43mfunctions\u001b[49m\u001b[43m,\u001b[49m\n\u001b[32m    190\u001b[39m \u001b[43m            \u001b[49m\u001b[33;43m\"\u001b[39;49m\u001b[33;43mlogit_bias\u001b[39;49m\u001b[33;43m\"\u001b[39;49m\u001b[43m:\u001b[49m\u001b[43m \u001b[49m\u001b[43mlogit_bias\u001b[49m\u001b[43m,\u001b[49m\n\u001b[32m    191\u001b[39m \u001b[43m            \u001b[49m\u001b[33;43m\"\u001b[39;49m\u001b[33;43mlogprobs\u001b[39;49m\u001b[33;43m\"\u001b[39;49m\u001b[43m:\u001b[49m\u001b[43m \u001b[49m\u001b[43mlogprobs\u001b[49m\u001b[43m,\u001b[49m\n\u001b[32m    192\u001b[39m \u001b[43m            \u001b[49m\u001b[33;43m\"\u001b[39;49m\u001b[33;43mmax_completion_tokens\u001b[39;49m\u001b[33;43m\"\u001b[39;49m\u001b[43m:\u001b[49m\u001b[43m \u001b[49m\u001b[43mmax_completion_tokens\u001b[49m\u001b[43m,\u001b[49m\n\u001b[32m    193\u001b[39m \u001b[43m            \u001b[49m\u001b[33;43m\"\u001b[39;49m\u001b[33;43mmax_tokens\u001b[39;49m\u001b[33;43m\"\u001b[39;49m\u001b[43m:\u001b[49m\u001b[43m \u001b[49m\u001b[43mmax_tokens\u001b[49m\u001b[43m,\u001b[49m\n\u001b[32m    194\u001b[39m \u001b[43m            \u001b[49m\u001b[33;43m\"\u001b[39;49m\u001b[33;43mmetadata\u001b[39;49m\u001b[33;43m\"\u001b[39;49m\u001b[43m:\u001b[49m\u001b[43m \u001b[49m\u001b[43mmetadata\u001b[49m\u001b[43m,\u001b[49m\n\u001b[32m    195\u001b[39m \u001b[43m            \u001b[49m\u001b[33;43m\"\u001b[39;49m\u001b[33;43mmodalities\u001b[39;49m\u001b[33;43m\"\u001b[39;49m\u001b[43m:\u001b[49m\u001b[43m \u001b[49m\u001b[43mmodalities\u001b[49m\u001b[43m,\u001b[49m\n\u001b[32m    196\u001b[39m \u001b[43m            \u001b[49m\u001b[33;43m\"\u001b[39;49m\u001b[33;43mn\u001b[39;49m\u001b[33;43m\"\u001b[39;49m\u001b[43m:\u001b[49m\u001b[43m \u001b[49m\u001b[43mn\u001b[49m\u001b[43m,\u001b[49m\n\u001b[32m    197\u001b[39m \u001b[43m            \u001b[49m\u001b[33;43m\"\u001b[39;49m\u001b[33;43mparallel_tool_calls\u001b[39;49m\u001b[33;43m\"\u001b[39;49m\u001b[43m:\u001b[49m\u001b[43m \u001b[49m\u001b[43mparallel_tool_calls\u001b[49m\u001b[43m,\u001b[49m\n\u001b[32m    198\u001b[39m \u001b[43m            \u001b[49m\u001b[33;43m\"\u001b[39;49m\u001b[33;43mprediction\u001b[39;49m\u001b[33;43m\"\u001b[39;49m\u001b[43m:\u001b[49m\u001b[43m \u001b[49m\u001b[43mprediction\u001b[49m\u001b[43m,\u001b[49m\n\u001b[32m    199\u001b[39m \u001b[43m            \u001b[49m\u001b[33;43m\"\u001b[39;49m\u001b[33;43mpresence_penalty\u001b[39;49m\u001b[33;43m\"\u001b[39;49m\u001b[43m:\u001b[49m\u001b[43m \u001b[49m\u001b[43mpresence_penalty\u001b[49m\u001b[43m,\u001b[49m\n\u001b[32m    200\u001b[39m \u001b[43m            \u001b[49m\u001b[33;43m\"\u001b[39;49m\u001b[33;43mreasoning_effort\u001b[39;49m\u001b[33;43m\"\u001b[39;49m\u001b[43m:\u001b[49m\u001b[43m \u001b[49m\u001b[43mreasoning_effort\u001b[49m\u001b[43m,\u001b[49m\n\u001b[32m    201\u001b[39m \u001b[43m            \u001b[49m\u001b[33;43m\"\u001b[39;49m\u001b[33;43mresponse_format\u001b[39;49m\u001b[33;43m\"\u001b[39;49m\u001b[43m:\u001b[49m\u001b[43m \u001b[49m\u001b[43m_type_to_response_format\u001b[49m\u001b[43m(\u001b[49m\u001b[43mresponse_format\u001b[49m\u001b[43m)\u001b[49m\u001b[43m,\u001b[49m\n\u001b[32m    202\u001b[39m \u001b[43m            \u001b[49m\u001b[33;43m\"\u001b[39;49m\u001b[33;43mseed\u001b[39;49m\u001b[33;43m\"\u001b[39;49m\u001b[43m:\u001b[49m\u001b[43m \u001b[49m\u001b[43mseed\u001b[49m\u001b[43m,\u001b[49m\n\u001b[32m    203\u001b[39m \u001b[43m            \u001b[49m\u001b[33;43m\"\u001b[39;49m\u001b[33;43mservice_tier\u001b[39;49m\u001b[33;43m\"\u001b[39;49m\u001b[43m:\u001b[49m\u001b[43m \u001b[49m\u001b[43mservice_tier\u001b[49m\u001b[43m,\u001b[49m\n\u001b[32m    204\u001b[39m \u001b[43m            \u001b[49m\u001b[33;43m\"\u001b[39;49m\u001b[33;43mstop\u001b[39;49m\u001b[33;43m\"\u001b[39;49m\u001b[43m:\u001b[49m\u001b[43m \u001b[49m\u001b[43mstop\u001b[49m\u001b[43m,\u001b[49m\n\u001b[32m    205\u001b[39m \u001b[43m            \u001b[49m\u001b[33;43m\"\u001b[39;49m\u001b[33;43mstore\u001b[39;49m\u001b[33;43m\"\u001b[39;49m\u001b[43m:\u001b[49m\u001b[43m \u001b[49m\u001b[43mstore\u001b[49m\u001b[43m,\u001b[49m\n\u001b[32m    206\u001b[39m \u001b[43m            \u001b[49m\u001b[33;43m\"\u001b[39;49m\u001b[33;43mstream\u001b[39;49m\u001b[33;43m\"\u001b[39;49m\u001b[43m:\u001b[49m\u001b[43m \u001b[49m\u001b[38;5;28;43;01mFalse\u001b[39;49;00m\u001b[43m,\u001b[49m\n\u001b[32m    207\u001b[39m \u001b[43m            \u001b[49m\u001b[33;43m\"\u001b[39;49m\u001b[33;43mstream_options\u001b[39;49m\u001b[33;43m\"\u001b[39;49m\u001b[43m:\u001b[49m\u001b[43m \u001b[49m\u001b[43mstream_options\u001b[49m\u001b[43m,\u001b[49m\n\u001b[32m    208\u001b[39m \u001b[43m            \u001b[49m\u001b[33;43m\"\u001b[39;49m\u001b[33;43mtemperature\u001b[39;49m\u001b[33;43m\"\u001b[39;49m\u001b[43m:\u001b[49m\u001b[43m \u001b[49m\u001b[43mtemperature\u001b[49m\u001b[43m,\u001b[49m\n\u001b[32m    209\u001b[39m \u001b[43m            \u001b[49m\u001b[33;43m\"\u001b[39;49m\u001b[33;43mtool_choice\u001b[39;49m\u001b[33;43m\"\u001b[39;49m\u001b[43m:\u001b[49m\u001b[43m \u001b[49m\u001b[43mtool_choice\u001b[49m\u001b[43m,\u001b[49m\n\u001b[32m    210\u001b[39m \u001b[43m            \u001b[49m\u001b[33;43m\"\u001b[39;49m\u001b[33;43mtools\u001b[39;49m\u001b[33;43m\"\u001b[39;49m\u001b[43m:\u001b[49m\u001b[43m \u001b[49m\u001b[43mtools\u001b[49m\u001b[43m,\u001b[49m\n\u001b[32m    211\u001b[39m \u001b[43m            \u001b[49m\u001b[33;43m\"\u001b[39;49m\u001b[33;43mtop_logprobs\u001b[39;49m\u001b[33;43m\"\u001b[39;49m\u001b[43m:\u001b[49m\u001b[43m \u001b[49m\u001b[43mtop_logprobs\u001b[49m\u001b[43m,\u001b[49m\n\u001b[32m    212\u001b[39m \u001b[43m            \u001b[49m\u001b[33;43m\"\u001b[39;49m\u001b[33;43mtop_p\u001b[39;49m\u001b[33;43m\"\u001b[39;49m\u001b[43m:\u001b[49m\u001b[43m \u001b[49m\u001b[43mtop_p\u001b[49m\u001b[43m,\u001b[49m\n\u001b[32m    213\u001b[39m \u001b[43m            \u001b[49m\u001b[33;43m\"\u001b[39;49m\u001b[33;43muser\u001b[39;49m\u001b[33;43m\"\u001b[39;49m\u001b[43m:\u001b[49m\u001b[43m \u001b[49m\u001b[43muser\u001b[49m\u001b[43m,\u001b[49m\n\u001b[32m    214\u001b[39m \u001b[43m            \u001b[49m\u001b[33;43m\"\u001b[39;49m\u001b[33;43mweb_search_options\u001b[39;49m\u001b[33;43m\"\u001b[39;49m\u001b[43m:\u001b[49m\u001b[43m \u001b[49m\u001b[43mweb_search_options\u001b[49m\u001b[43m,\u001b[49m\n\u001b[32m    215\u001b[39m \u001b[43m        \u001b[49m\u001b[43m}\u001b[49m\u001b[43m,\u001b[49m\n\u001b[32m    216\u001b[39m \u001b[43m        \u001b[49m\u001b[43mcompletion_create_params\u001b[49m\u001b[43m.\u001b[49m\u001b[43mCompletionCreateParams\u001b[49m\u001b[43m,\u001b[49m\n\u001b[32m    217\u001b[39m \u001b[43m    \u001b[49m\u001b[43m)\u001b[49m\u001b[43m,\u001b[49m\n\u001b[32m    218\u001b[39m \u001b[43m    \u001b[49m\u001b[43moptions\u001b[49m\u001b[43m=\u001b[49m\u001b[43mmake_request_options\u001b[49m\u001b[43m(\u001b[49m\n\u001b[32m    219\u001b[39m \u001b[43m        \u001b[49m\u001b[43mextra_headers\u001b[49m\u001b[43m=\u001b[49m\u001b[43mextra_headers\u001b[49m\u001b[43m,\u001b[49m\n\u001b[32m    220\u001b[39m \u001b[43m        \u001b[49m\u001b[43mextra_query\u001b[49m\u001b[43m=\u001b[49m\u001b[43mextra_query\u001b[49m\u001b[43m,\u001b[49m\n\u001b[32m    221\u001b[39m \u001b[43m        \u001b[49m\u001b[43mextra_body\u001b[49m\u001b[43m=\u001b[49m\u001b[43mextra_body\u001b[49m\u001b[43m,\u001b[49m\n\u001b[32m    222\u001b[39m \u001b[43m        \u001b[49m\u001b[43mtimeout\u001b[49m\u001b[43m=\u001b[49m\u001b[43mtimeout\u001b[49m\u001b[43m,\u001b[49m\n\u001b[32m    223\u001b[39m \u001b[43m        \u001b[49m\u001b[43mpost_parser\u001b[49m\u001b[43m=\u001b[49m\u001b[43mparser\u001b[49m\u001b[43m,\u001b[49m\n\u001b[32m    224\u001b[39m \u001b[43m    \u001b[49m\u001b[43m)\u001b[49m\u001b[43m,\u001b[49m\n\u001b[32m    225\u001b[39m \u001b[43m    \u001b[49m\u001b[38;5;66;43;03m# we turn the `ChatCompletion` instance into a `ParsedChatCompletion`\u001b[39;49;00m\n\u001b[32m    226\u001b[39m \u001b[43m    \u001b[49m\u001b[38;5;66;43;03m# in the `parser` function above\u001b[39;49;00m\n\u001b[32m    227\u001b[39m \u001b[43m    \u001b[49m\u001b[43mcast_to\u001b[49m\u001b[43m=\u001b[49m\u001b[43mcast\u001b[49m\u001b[43m(\u001b[49m\u001b[43mType\u001b[49m\u001b[43m[\u001b[49m\u001b[43mParsedChatCompletion\u001b[49m\u001b[43m[\u001b[49m\u001b[43mResponseFormatT\u001b[49m\u001b[43m]\u001b[49m\u001b[43m]\u001b[49m\u001b[43m,\u001b[49m\u001b[43m \u001b[49m\u001b[43mChatCompletion\u001b[49m\u001b[43m)\u001b[49m\u001b[43m,\u001b[49m\n\u001b[32m    228\u001b[39m \u001b[43m    \u001b[49m\u001b[43mstream\u001b[49m\u001b[43m=\u001b[49m\u001b[38;5;28;43;01mFalse\u001b[39;49;00m\u001b[43m,\u001b[49m\n\u001b[32m    229\u001b[39m \u001b[43m\u001b[49m\u001b[43m)\u001b[49m\n",
      "\u001b[36mFile \u001b[39m\u001b[32m~/miniconda3/envs/openai/lib/python3.12/site-packages/openai/_base_client.py:1256\u001b[39m, in \u001b[36mSyncAPIClient.post\u001b[39m\u001b[34m(self, path, cast_to, body, options, files, stream, stream_cls)\u001b[39m\n\u001b[32m   1242\u001b[39m \u001b[38;5;28;01mdef\u001b[39;00m\u001b[38;5;250m \u001b[39m\u001b[34mpost\u001b[39m(\n\u001b[32m   1243\u001b[39m     \u001b[38;5;28mself\u001b[39m,\n\u001b[32m   1244\u001b[39m     path: \u001b[38;5;28mstr\u001b[39m,\n\u001b[32m   (...)\u001b[39m\u001b[32m   1251\u001b[39m     stream_cls: \u001b[38;5;28mtype\u001b[39m[_StreamT] | \u001b[38;5;28;01mNone\u001b[39;00m = \u001b[38;5;28;01mNone\u001b[39;00m,\n\u001b[32m   1252\u001b[39m ) -> ResponseT | _StreamT:\n\u001b[32m   1253\u001b[39m     opts = FinalRequestOptions.construct(\n\u001b[32m   1254\u001b[39m         method=\u001b[33m\"\u001b[39m\u001b[33mpost\u001b[39m\u001b[33m\"\u001b[39m, url=path, json_data=body, files=to_httpx_files(files), **options\n\u001b[32m   1255\u001b[39m     )\n\u001b[32m-> \u001b[39m\u001b[32m1256\u001b[39m     \u001b[38;5;28;01mreturn\u001b[39;00m cast(ResponseT, \u001b[38;5;28;43mself\u001b[39;49m\u001b[43m.\u001b[49m\u001b[43mrequest\u001b[49m\u001b[43m(\u001b[49m\u001b[43mcast_to\u001b[49m\u001b[43m,\u001b[49m\u001b[43m \u001b[49m\u001b[43mopts\u001b[49m\u001b[43m,\u001b[49m\u001b[43m \u001b[49m\u001b[43mstream\u001b[49m\u001b[43m=\u001b[49m\u001b[43mstream\u001b[49m\u001b[43m,\u001b[49m\u001b[43m \u001b[49m\u001b[43mstream_cls\u001b[49m\u001b[43m=\u001b[49m\u001b[43mstream_cls\u001b[49m\u001b[43m)\u001b[49m)\n",
      "\u001b[36mFile \u001b[39m\u001b[32m~/miniconda3/envs/openai/lib/python3.12/site-packages/openai/_base_client.py:979\u001b[39m, in \u001b[36mSyncAPIClient.request\u001b[39m\u001b[34m(self, cast_to, options, stream, stream_cls)\u001b[39m\n\u001b[32m    977\u001b[39m response = \u001b[38;5;28;01mNone\u001b[39;00m\n\u001b[32m    978\u001b[39m \u001b[38;5;28;01mtry\u001b[39;00m:\n\u001b[32m--> \u001b[39m\u001b[32m979\u001b[39m     response = \u001b[38;5;28;43mself\u001b[39;49m\u001b[43m.\u001b[49m\u001b[43m_client\u001b[49m\u001b[43m.\u001b[49m\u001b[43msend\u001b[49m\u001b[43m(\u001b[49m\n\u001b[32m    980\u001b[39m \u001b[43m        \u001b[49m\u001b[43mrequest\u001b[49m\u001b[43m,\u001b[49m\n\u001b[32m    981\u001b[39m \u001b[43m        \u001b[49m\u001b[43mstream\u001b[49m\u001b[43m=\u001b[49m\u001b[43mstream\u001b[49m\u001b[43m \u001b[49m\u001b[38;5;129;43;01mor\u001b[39;49;00m\u001b[43m \u001b[49m\u001b[38;5;28;43mself\u001b[39;49m\u001b[43m.\u001b[49m\u001b[43m_should_stream_response_body\u001b[49m\u001b[43m(\u001b[49m\u001b[43mrequest\u001b[49m\u001b[43m=\u001b[49m\u001b[43mrequest\u001b[49m\u001b[43m)\u001b[49m\u001b[43m,\u001b[49m\n\u001b[32m    982\u001b[39m \u001b[43m        \u001b[49m\u001b[43m*\u001b[49m\u001b[43m*\u001b[49m\u001b[43mkwargs\u001b[49m\u001b[43m,\u001b[49m\n\u001b[32m    983\u001b[39m \u001b[43m    \u001b[49m\u001b[43m)\u001b[49m\n\u001b[32m    984\u001b[39m \u001b[38;5;28;01mexcept\u001b[39;00m httpx.TimeoutException \u001b[38;5;28;01mas\u001b[39;00m err:\n\u001b[32m    985\u001b[39m     log.debug(\u001b[33m\"\u001b[39m\u001b[33mEncountered httpx.TimeoutException\u001b[39m\u001b[33m\"\u001b[39m, exc_info=\u001b[38;5;28;01mTrue\u001b[39;00m)\n",
      "\u001b[36mFile \u001b[39m\u001b[32m~/miniconda3/envs/openai/lib/python3.12/site-packages/httpx/_client.py:914\u001b[39m, in \u001b[36mClient.send\u001b[39m\u001b[34m(self, request, stream, auth, follow_redirects)\u001b[39m\n\u001b[32m    910\u001b[39m \u001b[38;5;28mself\u001b[39m._set_timeout(request)\n\u001b[32m    912\u001b[39m auth = \u001b[38;5;28mself\u001b[39m._build_request_auth(request, auth)\n\u001b[32m--> \u001b[39m\u001b[32m914\u001b[39m response = \u001b[38;5;28;43mself\u001b[39;49m\u001b[43m.\u001b[49m\u001b[43m_send_handling_auth\u001b[49m\u001b[43m(\u001b[49m\n\u001b[32m    915\u001b[39m \u001b[43m    \u001b[49m\u001b[43mrequest\u001b[49m\u001b[43m,\u001b[49m\n\u001b[32m    916\u001b[39m \u001b[43m    \u001b[49m\u001b[43mauth\u001b[49m\u001b[43m=\u001b[49m\u001b[43mauth\u001b[49m\u001b[43m,\u001b[49m\n\u001b[32m    917\u001b[39m \u001b[43m    \u001b[49m\u001b[43mfollow_redirects\u001b[49m\u001b[43m=\u001b[49m\u001b[43mfollow_redirects\u001b[49m\u001b[43m,\u001b[49m\n\u001b[32m    918\u001b[39m \u001b[43m    \u001b[49m\u001b[43mhistory\u001b[49m\u001b[43m=\u001b[49m\u001b[43m[\u001b[49m\u001b[43m]\u001b[49m\u001b[43m,\u001b[49m\n\u001b[32m    919\u001b[39m \u001b[43m\u001b[49m\u001b[43m)\u001b[49m\n\u001b[32m    920\u001b[39m \u001b[38;5;28;01mtry\u001b[39;00m:\n\u001b[32m    921\u001b[39m     \u001b[38;5;28;01mif\u001b[39;00m \u001b[38;5;129;01mnot\u001b[39;00m stream:\n",
      "\u001b[36mFile \u001b[39m\u001b[32m~/miniconda3/envs/openai/lib/python3.12/site-packages/httpx/_client.py:942\u001b[39m, in \u001b[36mClient._send_handling_auth\u001b[39m\u001b[34m(self, request, auth, follow_redirects, history)\u001b[39m\n\u001b[32m    939\u001b[39m request = \u001b[38;5;28mnext\u001b[39m(auth_flow)\n\u001b[32m    941\u001b[39m \u001b[38;5;28;01mwhile\u001b[39;00m \u001b[38;5;28;01mTrue\u001b[39;00m:\n\u001b[32m--> \u001b[39m\u001b[32m942\u001b[39m     response = \u001b[38;5;28;43mself\u001b[39;49m\u001b[43m.\u001b[49m\u001b[43m_send_handling_redirects\u001b[49m\u001b[43m(\u001b[49m\n\u001b[32m    943\u001b[39m \u001b[43m        \u001b[49m\u001b[43mrequest\u001b[49m\u001b[43m,\u001b[49m\n\u001b[32m    944\u001b[39m \u001b[43m        \u001b[49m\u001b[43mfollow_redirects\u001b[49m\u001b[43m=\u001b[49m\u001b[43mfollow_redirects\u001b[49m\u001b[43m,\u001b[49m\n\u001b[32m    945\u001b[39m \u001b[43m        \u001b[49m\u001b[43mhistory\u001b[49m\u001b[43m=\u001b[49m\u001b[43mhistory\u001b[49m\u001b[43m,\u001b[49m\n\u001b[32m    946\u001b[39m \u001b[43m    \u001b[49m\u001b[43m)\u001b[49m\n\u001b[32m    947\u001b[39m     \u001b[38;5;28;01mtry\u001b[39;00m:\n\u001b[32m    948\u001b[39m         \u001b[38;5;28;01mtry\u001b[39;00m:\n",
      "\u001b[36mFile \u001b[39m\u001b[32m~/miniconda3/envs/openai/lib/python3.12/site-packages/httpx/_client.py:979\u001b[39m, in \u001b[36mClient._send_handling_redirects\u001b[39m\u001b[34m(self, request, follow_redirects, history)\u001b[39m\n\u001b[32m    976\u001b[39m \u001b[38;5;28;01mfor\u001b[39;00m hook \u001b[38;5;129;01min\u001b[39;00m \u001b[38;5;28mself\u001b[39m._event_hooks[\u001b[33m\"\u001b[39m\u001b[33mrequest\u001b[39m\u001b[33m\"\u001b[39m]:\n\u001b[32m    977\u001b[39m     hook(request)\n\u001b[32m--> \u001b[39m\u001b[32m979\u001b[39m response = \u001b[38;5;28;43mself\u001b[39;49m\u001b[43m.\u001b[49m\u001b[43m_send_single_request\u001b[49m\u001b[43m(\u001b[49m\u001b[43mrequest\u001b[49m\u001b[43m)\u001b[49m\n\u001b[32m    980\u001b[39m \u001b[38;5;28;01mtry\u001b[39;00m:\n\u001b[32m    981\u001b[39m     \u001b[38;5;28;01mfor\u001b[39;00m hook \u001b[38;5;129;01min\u001b[39;00m \u001b[38;5;28mself\u001b[39m._event_hooks[\u001b[33m\"\u001b[39m\u001b[33mresponse\u001b[39m\u001b[33m\"\u001b[39m]:\n",
      "\u001b[36mFile \u001b[39m\u001b[32m~/miniconda3/envs/openai/lib/python3.12/site-packages/httpx/_client.py:1014\u001b[39m, in \u001b[36mClient._send_single_request\u001b[39m\u001b[34m(self, request)\u001b[39m\n\u001b[32m   1009\u001b[39m     \u001b[38;5;28;01mraise\u001b[39;00m \u001b[38;5;167;01mRuntimeError\u001b[39;00m(\n\u001b[32m   1010\u001b[39m         \u001b[33m\"\u001b[39m\u001b[33mAttempted to send an async request with a sync Client instance.\u001b[39m\u001b[33m\"\u001b[39m\n\u001b[32m   1011\u001b[39m     )\n\u001b[32m   1013\u001b[39m \u001b[38;5;28;01mwith\u001b[39;00m request_context(request=request):\n\u001b[32m-> \u001b[39m\u001b[32m1014\u001b[39m     response = \u001b[43mtransport\u001b[49m\u001b[43m.\u001b[49m\u001b[43mhandle_request\u001b[49m\u001b[43m(\u001b[49m\u001b[43mrequest\u001b[49m\u001b[43m)\u001b[49m\n\u001b[32m   1016\u001b[39m \u001b[38;5;28;01massert\u001b[39;00m \u001b[38;5;28misinstance\u001b[39m(response.stream, SyncByteStream)\n\u001b[32m   1018\u001b[39m response.request = request\n",
      "\u001b[36mFile \u001b[39m\u001b[32m~/miniconda3/envs/openai/lib/python3.12/site-packages/httpx/_transports/default.py:250\u001b[39m, in \u001b[36mHTTPTransport.handle_request\u001b[39m\u001b[34m(self, request)\u001b[39m\n\u001b[32m    237\u001b[39m req = httpcore.Request(\n\u001b[32m    238\u001b[39m     method=request.method,\n\u001b[32m    239\u001b[39m     url=httpcore.URL(\n\u001b[32m   (...)\u001b[39m\u001b[32m    247\u001b[39m     extensions=request.extensions,\n\u001b[32m    248\u001b[39m )\n\u001b[32m    249\u001b[39m \u001b[38;5;28;01mwith\u001b[39;00m map_httpcore_exceptions():\n\u001b[32m--> \u001b[39m\u001b[32m250\u001b[39m     resp = \u001b[38;5;28;43mself\u001b[39;49m\u001b[43m.\u001b[49m\u001b[43m_pool\u001b[49m\u001b[43m.\u001b[49m\u001b[43mhandle_request\u001b[49m\u001b[43m(\u001b[49m\u001b[43mreq\u001b[49m\u001b[43m)\u001b[49m\n\u001b[32m    252\u001b[39m \u001b[38;5;28;01massert\u001b[39;00m \u001b[38;5;28misinstance\u001b[39m(resp.stream, typing.Iterable)\n\u001b[32m    254\u001b[39m \u001b[38;5;28;01mreturn\u001b[39;00m Response(\n\u001b[32m    255\u001b[39m     status_code=resp.status,\n\u001b[32m    256\u001b[39m     headers=resp.headers,\n\u001b[32m    257\u001b[39m     stream=ResponseStream(resp.stream),\n\u001b[32m    258\u001b[39m     extensions=resp.extensions,\n\u001b[32m    259\u001b[39m )\n",
      "\u001b[36mFile \u001b[39m\u001b[32m~/miniconda3/envs/openai/lib/python3.12/site-packages/httpcore/_sync/connection_pool.py:256\u001b[39m, in \u001b[36mConnectionPool.handle_request\u001b[39m\u001b[34m(self, request)\u001b[39m\n\u001b[32m    253\u001b[39m         closing = \u001b[38;5;28mself\u001b[39m._assign_requests_to_connections()\n\u001b[32m    255\u001b[39m     \u001b[38;5;28mself\u001b[39m._close_connections(closing)\n\u001b[32m--> \u001b[39m\u001b[32m256\u001b[39m     \u001b[38;5;28;01mraise\u001b[39;00m exc \u001b[38;5;28;01mfrom\u001b[39;00m\u001b[38;5;250m \u001b[39m\u001b[38;5;28;01mNone\u001b[39;00m\n\u001b[32m    258\u001b[39m \u001b[38;5;66;03m# Return the response. Note that in this case we still have to manage\u001b[39;00m\n\u001b[32m    259\u001b[39m \u001b[38;5;66;03m# the point at which the response is closed.\u001b[39;00m\n\u001b[32m    260\u001b[39m \u001b[38;5;28;01massert\u001b[39;00m \u001b[38;5;28misinstance\u001b[39m(response.stream, typing.Iterable)\n",
      "\u001b[36mFile \u001b[39m\u001b[32m~/miniconda3/envs/openai/lib/python3.12/site-packages/httpcore/_sync/connection_pool.py:236\u001b[39m, in \u001b[36mConnectionPool.handle_request\u001b[39m\u001b[34m(self, request)\u001b[39m\n\u001b[32m    232\u001b[39m connection = pool_request.wait_for_connection(timeout=timeout)\n\u001b[32m    234\u001b[39m \u001b[38;5;28;01mtry\u001b[39;00m:\n\u001b[32m    235\u001b[39m     \u001b[38;5;66;03m# Send the request on the assigned connection.\u001b[39;00m\n\u001b[32m--> \u001b[39m\u001b[32m236\u001b[39m     response = \u001b[43mconnection\u001b[49m\u001b[43m.\u001b[49m\u001b[43mhandle_request\u001b[49m\u001b[43m(\u001b[49m\n\u001b[32m    237\u001b[39m \u001b[43m        \u001b[49m\u001b[43mpool_request\u001b[49m\u001b[43m.\u001b[49m\u001b[43mrequest\u001b[49m\n\u001b[32m    238\u001b[39m \u001b[43m    \u001b[49m\u001b[43m)\u001b[49m\n\u001b[32m    239\u001b[39m \u001b[38;5;28;01mexcept\u001b[39;00m ConnectionNotAvailable:\n\u001b[32m    240\u001b[39m     \u001b[38;5;66;03m# In some cases a connection may initially be available to\u001b[39;00m\n\u001b[32m    241\u001b[39m     \u001b[38;5;66;03m# handle a request, but then become unavailable.\u001b[39;00m\n\u001b[32m    242\u001b[39m     \u001b[38;5;66;03m#\u001b[39;00m\n\u001b[32m    243\u001b[39m     \u001b[38;5;66;03m# In this case we clear the connection and try again.\u001b[39;00m\n\u001b[32m    244\u001b[39m     pool_request.clear_connection()\n",
      "\u001b[36mFile \u001b[39m\u001b[32m~/miniconda3/envs/openai/lib/python3.12/site-packages/httpcore/_sync/connection.py:103\u001b[39m, in \u001b[36mHTTPConnection.handle_request\u001b[39m\u001b[34m(self, request)\u001b[39m\n\u001b[32m    100\u001b[39m     \u001b[38;5;28mself\u001b[39m._connect_failed = \u001b[38;5;28;01mTrue\u001b[39;00m\n\u001b[32m    101\u001b[39m     \u001b[38;5;28;01mraise\u001b[39;00m exc\n\u001b[32m--> \u001b[39m\u001b[32m103\u001b[39m \u001b[38;5;28;01mreturn\u001b[39;00m \u001b[38;5;28;43mself\u001b[39;49m\u001b[43m.\u001b[49m\u001b[43m_connection\u001b[49m\u001b[43m.\u001b[49m\u001b[43mhandle_request\u001b[49m\u001b[43m(\u001b[49m\u001b[43mrequest\u001b[49m\u001b[43m)\u001b[49m\n",
      "\u001b[36mFile \u001b[39m\u001b[32m~/miniconda3/envs/openai/lib/python3.12/site-packages/httpcore/_sync/http11.py:136\u001b[39m, in \u001b[36mHTTP11Connection.handle_request\u001b[39m\u001b[34m(self, request)\u001b[39m\n\u001b[32m    134\u001b[39m     \u001b[38;5;28;01mwith\u001b[39;00m Trace(\u001b[33m\"\u001b[39m\u001b[33mresponse_closed\u001b[39m\u001b[33m\"\u001b[39m, logger, request) \u001b[38;5;28;01mas\u001b[39;00m trace:\n\u001b[32m    135\u001b[39m         \u001b[38;5;28mself\u001b[39m._response_closed()\n\u001b[32m--> \u001b[39m\u001b[32m136\u001b[39m \u001b[38;5;28;01mraise\u001b[39;00m exc\n",
      "\u001b[36mFile \u001b[39m\u001b[32m~/miniconda3/envs/openai/lib/python3.12/site-packages/httpcore/_sync/http11.py:106\u001b[39m, in \u001b[36mHTTP11Connection.handle_request\u001b[39m\u001b[34m(self, request)\u001b[39m\n\u001b[32m     95\u001b[39m     \u001b[38;5;28;01mpass\u001b[39;00m\n\u001b[32m     97\u001b[39m \u001b[38;5;28;01mwith\u001b[39;00m Trace(\n\u001b[32m     98\u001b[39m     \u001b[33m\"\u001b[39m\u001b[33mreceive_response_headers\u001b[39m\u001b[33m\"\u001b[39m, logger, request, kwargs\n\u001b[32m     99\u001b[39m ) \u001b[38;5;28;01mas\u001b[39;00m trace:\n\u001b[32m    100\u001b[39m     (\n\u001b[32m    101\u001b[39m         http_version,\n\u001b[32m    102\u001b[39m         status,\n\u001b[32m    103\u001b[39m         reason_phrase,\n\u001b[32m    104\u001b[39m         headers,\n\u001b[32m    105\u001b[39m         trailing_data,\n\u001b[32m--> \u001b[39m\u001b[32m106\u001b[39m     ) = \u001b[38;5;28;43mself\u001b[39;49m\u001b[43m.\u001b[49m\u001b[43m_receive_response_headers\u001b[49m\u001b[43m(\u001b[49m\u001b[43m*\u001b[49m\u001b[43m*\u001b[49m\u001b[43mkwargs\u001b[49m\u001b[43m)\u001b[49m\n\u001b[32m    107\u001b[39m     trace.return_value = (\n\u001b[32m    108\u001b[39m         http_version,\n\u001b[32m    109\u001b[39m         status,\n\u001b[32m    110\u001b[39m         reason_phrase,\n\u001b[32m    111\u001b[39m         headers,\n\u001b[32m    112\u001b[39m     )\n\u001b[32m    114\u001b[39m network_stream = \u001b[38;5;28mself\u001b[39m._network_stream\n",
      "\u001b[36mFile \u001b[39m\u001b[32m~/miniconda3/envs/openai/lib/python3.12/site-packages/httpcore/_sync/http11.py:177\u001b[39m, in \u001b[36mHTTP11Connection._receive_response_headers\u001b[39m\u001b[34m(self, request)\u001b[39m\n\u001b[32m    174\u001b[39m timeout = timeouts.get(\u001b[33m\"\u001b[39m\u001b[33mread\u001b[39m\u001b[33m\"\u001b[39m, \u001b[38;5;28;01mNone\u001b[39;00m)\n\u001b[32m    176\u001b[39m \u001b[38;5;28;01mwhile\u001b[39;00m \u001b[38;5;28;01mTrue\u001b[39;00m:\n\u001b[32m--> \u001b[39m\u001b[32m177\u001b[39m     event = \u001b[38;5;28;43mself\u001b[39;49m\u001b[43m.\u001b[49m\u001b[43m_receive_event\u001b[49m\u001b[43m(\u001b[49m\u001b[43mtimeout\u001b[49m\u001b[43m=\u001b[49m\u001b[43mtimeout\u001b[49m\u001b[43m)\u001b[49m\n\u001b[32m    178\u001b[39m     \u001b[38;5;28;01mif\u001b[39;00m \u001b[38;5;28misinstance\u001b[39m(event, h11.Response):\n\u001b[32m    179\u001b[39m         \u001b[38;5;28;01mbreak\u001b[39;00m\n",
      "\u001b[36mFile \u001b[39m\u001b[32m~/miniconda3/envs/openai/lib/python3.12/site-packages/httpcore/_sync/http11.py:217\u001b[39m, in \u001b[36mHTTP11Connection._receive_event\u001b[39m\u001b[34m(self, timeout)\u001b[39m\n\u001b[32m    214\u001b[39m     event = \u001b[38;5;28mself\u001b[39m._h11_state.next_event()\n\u001b[32m    216\u001b[39m \u001b[38;5;28;01mif\u001b[39;00m event \u001b[38;5;129;01mis\u001b[39;00m h11.NEED_DATA:\n\u001b[32m--> \u001b[39m\u001b[32m217\u001b[39m     data = \u001b[38;5;28;43mself\u001b[39;49m\u001b[43m.\u001b[49m\u001b[43m_network_stream\u001b[49m\u001b[43m.\u001b[49m\u001b[43mread\u001b[49m\u001b[43m(\u001b[49m\n\u001b[32m    218\u001b[39m \u001b[43m        \u001b[49m\u001b[38;5;28;43mself\u001b[39;49m\u001b[43m.\u001b[49m\u001b[43mREAD_NUM_BYTES\u001b[49m\u001b[43m,\u001b[49m\u001b[43m \u001b[49m\u001b[43mtimeout\u001b[49m\u001b[43m=\u001b[49m\u001b[43mtimeout\u001b[49m\n\u001b[32m    219\u001b[39m \u001b[43m    \u001b[49m\u001b[43m)\u001b[49m\n\u001b[32m    221\u001b[39m     \u001b[38;5;66;03m# If we feed this case through h11 we'll raise an exception like:\u001b[39;00m\n\u001b[32m    222\u001b[39m     \u001b[38;5;66;03m#\u001b[39;00m\n\u001b[32m    223\u001b[39m     \u001b[38;5;66;03m#     httpcore.RemoteProtocolError: can't handle event type\u001b[39;00m\n\u001b[32m   (...)\u001b[39m\u001b[32m    227\u001b[39m     \u001b[38;5;66;03m# perspective. Instead we handle this case distinctly and treat\u001b[39;00m\n\u001b[32m    228\u001b[39m     \u001b[38;5;66;03m# it as a ConnectError.\u001b[39;00m\n\u001b[32m    229\u001b[39m     \u001b[38;5;28;01mif\u001b[39;00m data == \u001b[33mb\u001b[39m\u001b[33m\"\u001b[39m\u001b[33m\"\u001b[39m \u001b[38;5;129;01mand\u001b[39;00m \u001b[38;5;28mself\u001b[39m._h11_state.their_state == h11.SEND_RESPONSE:\n",
      "\u001b[36mFile \u001b[39m\u001b[32m~/miniconda3/envs/openai/lib/python3.12/site-packages/httpcore/_backends/sync.py:128\u001b[39m, in \u001b[36mSyncStream.read\u001b[39m\u001b[34m(self, max_bytes, timeout)\u001b[39m\n\u001b[32m    126\u001b[39m \u001b[38;5;28;01mwith\u001b[39;00m map_exceptions(exc_map):\n\u001b[32m    127\u001b[39m     \u001b[38;5;28mself\u001b[39m._sock.settimeout(timeout)\n\u001b[32m--> \u001b[39m\u001b[32m128\u001b[39m     \u001b[38;5;28;01mreturn\u001b[39;00m \u001b[38;5;28;43mself\u001b[39;49m\u001b[43m.\u001b[49m\u001b[43m_sock\u001b[49m\u001b[43m.\u001b[49m\u001b[43mrecv\u001b[49m\u001b[43m(\u001b[49m\u001b[43mmax_bytes\u001b[49m\u001b[43m)\u001b[49m\n",
      "\u001b[36mFile \u001b[39m\u001b[32m~/miniconda3/envs/openai/lib/python3.12/ssl.py:1232\u001b[39m, in \u001b[36mSSLSocket.recv\u001b[39m\u001b[34m(self, buflen, flags)\u001b[39m\n\u001b[32m   1228\u001b[39m     \u001b[38;5;28;01mif\u001b[39;00m flags != \u001b[32m0\u001b[39m:\n\u001b[32m   1229\u001b[39m         \u001b[38;5;28;01mraise\u001b[39;00m \u001b[38;5;167;01mValueError\u001b[39;00m(\n\u001b[32m   1230\u001b[39m             \u001b[33m\"\u001b[39m\u001b[33mnon-zero flags not allowed in calls to recv() on \u001b[39m\u001b[38;5;132;01m%s\u001b[39;00m\u001b[33m\"\u001b[39m %\n\u001b[32m   1231\u001b[39m             \u001b[38;5;28mself\u001b[39m.\u001b[34m__class__\u001b[39m)\n\u001b[32m-> \u001b[39m\u001b[32m1232\u001b[39m     \u001b[38;5;28;01mreturn\u001b[39;00m \u001b[38;5;28;43mself\u001b[39;49m\u001b[43m.\u001b[49m\u001b[43mread\u001b[49m\u001b[43m(\u001b[49m\u001b[43mbuflen\u001b[49m\u001b[43m)\u001b[49m\n\u001b[32m   1233\u001b[39m \u001b[38;5;28;01melse\u001b[39;00m:\n\u001b[32m   1234\u001b[39m     \u001b[38;5;28;01mreturn\u001b[39;00m \u001b[38;5;28msuper\u001b[39m().recv(buflen, flags)\n",
      "\u001b[36mFile \u001b[39m\u001b[32m~/miniconda3/envs/openai/lib/python3.12/ssl.py:1105\u001b[39m, in \u001b[36mSSLSocket.read\u001b[39m\u001b[34m(self, len, buffer)\u001b[39m\n\u001b[32m   1103\u001b[39m         \u001b[38;5;28;01mreturn\u001b[39;00m \u001b[38;5;28mself\u001b[39m._sslobj.read(\u001b[38;5;28mlen\u001b[39m, buffer)\n\u001b[32m   1104\u001b[39m     \u001b[38;5;28;01melse\u001b[39;00m:\n\u001b[32m-> \u001b[39m\u001b[32m1105\u001b[39m         \u001b[38;5;28;01mreturn\u001b[39;00m \u001b[38;5;28;43mself\u001b[39;49m\u001b[43m.\u001b[49m\u001b[43m_sslobj\u001b[49m\u001b[43m.\u001b[49m\u001b[43mread\u001b[49m\u001b[43m(\u001b[49m\u001b[38;5;28;43mlen\u001b[39;49m\u001b[43m)\u001b[49m\n\u001b[32m   1106\u001b[39m \u001b[38;5;28;01mexcept\u001b[39;00m SSLError \u001b[38;5;28;01mas\u001b[39;00m x:\n\u001b[32m   1107\u001b[39m     \u001b[38;5;28;01mif\u001b[39;00m x.args[\u001b[32m0\u001b[39m] == SSL_ERROR_EOF \u001b[38;5;129;01mand\u001b[39;00m \u001b[38;5;28mself\u001b[39m.suppress_ragged_eofs:\n",
      "\u001b[31mKeyboardInterrupt\u001b[39m: "
     ]
    }
   ],
   "source": [
    "for output in graph.stream(initial_state):\n",
    "    node_name, node_result = list(output.items())[0]\n",
    "    print(f'\\n현재 노드: {node_name}')\n",
    "    if node_result.get('messages'):\n",
    "        print(f'응답: {node_result['messages'][-1]['content']}...')\n",
    "    print(f'\\n다음 단계: {node_result.get('next', 'N/A')}')"
   ]
  },
  {
   "cell_type": "code",
   "execution_count": 44,
   "id": "4f9fd0ba",
   "metadata": {},
   "outputs": [
    {
     "name": "stdout",
     "output_type": "stream",
     "text": [
      "\n",
      "현재 노드: supervisor\n",
      "\n",
      "다음 단계: researcher\n",
      "\n",
      "현재 노드: researcher\n",
      "응답: 관련 데이터를 찾는 중입니다... 잠시만 기다려주세요.\n",
      "찾은 데이터: 전세계 인구 데이터: [미국: 331M, 중국: 1.4B, 인도: 1.3B]...\n",
      "\n",
      "다음 단계: N/A\n",
      "\n",
      "현재 노드: supervisor\n",
      "\n",
      "다음 단계: coder\n",
      "\n",
      "현재 노드: coder\n",
      "응답: 코드를 작성 중입니다... 잠시만 기다려주세요.\n",
      "작성된 코드:\n",
      "\n",
      "def visualize_population(data):\n",
      "    import matplotlib.pyplot as ...\n",
      "\n",
      "다음 단계: N/A\n"
     ]
    },
    {
     "name": "stderr",
     "output_type": "stream",
     "text": [
      "Task supervisor with path ('__pregel_pull', 'supervisor') wrote to unknown channel branch:to:FINISH, ignoring it.\n"
     ]
    },
    {
     "name": "stdout",
     "output_type": "stream",
     "text": [
      "\n",
      "현재 노드: supervisor\n",
      "\n",
      "다음 단계: FINISH\n"
     ]
    }
   ],
   "source": [
    "from typing import Literal\n",
    "\n",
    "from langchain_openai import ChatOpenAI\n",
    "from langgraph.graph import StateGraph, MessagesState, START\n",
    "from pydantic import BaseModel\n",
    "\n",
    "\n",
    "class SupervisorDecision(BaseModel):\n",
    "    next: Literal['researcher', 'coder', 'FINISH']\n",
    "\n",
    "\n",
    "# 모델 초기화\n",
    "model = ChatOpenAI(model='gpt-4o-mini', temperature=0)\n",
    "model = model.with_structured_output(SupervisorDecision)\n",
    "\n",
    "# 사용 가능한 에이전트 정의\n",
    "agents = ['researcher', 'coder']\n",
    "\n",
    "# 시스템 프롬프트 정의\n",
    "system_prompt_part_1 = f'''당신은 다음 서브에이전트 사이의 대화를 관리하는 슈퍼바이저입니다. 서브에이전트: {agents}. 아래 사용자 요청에 따라,  \n",
    "다음으로 행동할 서브에이전트를 지목하세요. 각 서브에이전트는 임무를 수행하고 결과와 상태를 응답합니다. 실행할 서브에이전트가 없거나 작업이 완료되면,  \n",
    "FINISH로 응답하세요.'''\n",
    "\n",
    "system_prompt_part_2 = f'''위 대화를 바탕으로, 다음으로 행동할 서브에이전트는 누구입니까? 아니면 FINISH 해야 합니까? 서브에이전트: {', '.join(agents)}, FINISH'''\n",
    "\n",
    "\n",
    "def supervisor(state):\n",
    "    messages = [\n",
    "        ('system', system_prompt_part_1),\n",
    "        *state['messages'],\n",
    "        ('system', system_prompt_part_2),\n",
    "    ]\n",
    "    return model.invoke(messages)\n",
    "\n",
    "\n",
    "# 에이전트 상태 정의\n",
    "class AgentState(MessagesState):\n",
    "    next: Literal['researcher', 'coder', 'FINISH']\n",
    "\n",
    "\n",
    "# 에이전트 함수 정의\n",
    "def researcher(state: AgentState):\n",
    "    # 실제 구현에서는 이 함수가 리서치 작업을 수행합니다.\n",
    "    # 여기서는 임의로 관련 데이터를 찾는 척 합니다.\n",
    "    response = {\n",
    "        'role': 'assistant',\n",
    "        'content': '관련 데이터를 찾는 중입니다... 잠시만 기다려주세요.',\n",
    "    }\n",
    "    # 임의의 데이터 생성\n",
    "    fake_data = {\n",
    "        'data': '전세계 인구 데이터: [미국: 331M, 중국: 1.4B, 인도: 1.3B]'\n",
    "    }\n",
    "    response['content'] += f'\\n찾은 데이터: {fake_data['data']}'\n",
    "    return {'messages': [response]}\n",
    "\n",
    "def coder(state: AgentState):\n",
    "    # 실제 구현에서는 이 함수가 코드를 작성합니다.\n",
    "    # 여기서는 임의로 코드를 작성하는 척 합니다.\n",
    "    response = {\n",
    "        'role': 'assistant',\n",
    "        'content': '코드를 작성 중입니다... 잠시만 기다려주세요.',\n",
    "    }\n",
    "    # 임의의 코드 생성\n",
    "    fake_code = '''\n",
    "def visualize_population(data):\n",
    "    import matplotlib.pyplot as plt\n",
    "\n",
    "    countries = list(data.keys())\n",
    "    population = list(data.values())\n",
    "\n",
    "    plt.bar(countries, population)\n",
    "    plt.xlabel('Country')\n",
    "    plt.ylabel('Population')\n",
    "    plt.title('World Population by Country')\n",
    "    plt.show()\n",
    "\n",
    "data = {'USA': 331, 'China': 1400, 'India': 1300}\n",
    "visualize_population(data)\n",
    "'''\n",
    "    response['content'] += f'\\n작성된 코드:\\n{fake_code}'\n",
    "    return {'messages': [response]}\n",
    "\n",
    "\n",
    "# 그래프 구축\n",
    "builder = StateGraph(AgentState)\n",
    "builder.add_node('supervisor', supervisor)\n",
    "builder.add_node('researcher', researcher)\n",
    "builder.add_node('coder', coder)\n",
    "\n",
    "builder.add_edge(START, 'supervisor')\n",
    "# 슈퍼바이저의 결정에 따라 에이전트 중 하나로 라우팅하거나 종료합니다.\n",
    "builder.add_conditional_edges('supervisor', lambda state: state['next'])\n",
    "builder.add_edge('researcher', 'supervisor')\n",
    "builder.add_edge('coder', 'supervisor')\n",
    "\n",
    "graph = builder.compile()\n",
    "\n",
    "# 예시\n",
    "initial_state = {\n",
    "    'messages': [\n",
    "        {\n",
    "            'role': 'user',\n",
    "            'content': '전세계 인구를 국적을 기준으로 시각화 해주세요.',\n",
    "        }\n",
    "    ],\n",
    "    'next': 'supervisor',\n",
    "}\n",
    "\n",
    "for output in graph.stream(initial_state):\n",
    "    node_name, node_result = list(output.items())[0]\n",
    "    print(f'\\n현재 노드: {node_name}')\n",
    "    if node_result.get('messages'):\n",
    "        print(f'응답: {node_result['messages'][-1]['content'][:100]}...')\n",
    "    print(f'\\n다음 단계: {node_result.get('next', 'N/A')}')"
   ]
  },
  {
   "cell_type": "code",
   "execution_count": null,
   "id": "e738fdc4",
   "metadata": {},
   "outputs": [],
   "source": []
  }
 ],
 "metadata": {
  "kernelspec": {
   "display_name": "openai",
   "language": "python",
   "name": "python3"
  },
  "language_info": {
   "codemirror_mode": {
    "name": "ipython",
    "version": 3
   },
   "file_extension": ".py",
   "mimetype": "text/x-python",
   "name": "python",
   "nbconvert_exporter": "python",
   "pygments_lexer": "ipython3",
   "version": "3.12.11"
  }
 },
 "nbformat": 4,
 "nbformat_minor": 5
}
