{
 "cells": [
  {
   "cell_type": "code",
   "execution_count": 1,
   "id": "946ba925",
   "metadata": {},
   "outputs": [],
   "source": [
    "from typing import Annotated, Literal, TypedDict\n",
    "from langchain_core.documents import Document\n",
    "from langchain_core.messages import HumanMessage, SystemMessage\n",
    "from langchain_core.vectorstores.in_memory import InMemoryVectorStore\n",
    "from langchain_openai import ChatOpenAI, OpenAIEmbeddings\n",
    "from langgraph.graph import END, START, StateGraph\n",
    "from langgraph.graph.message import add_messages"
   ]
  },
  {
   "cell_type": "code",
   "execution_count": 4,
   "id": "cafc402e",
   "metadata": {},
   "outputs": [],
   "source": [
    "embeddings = OpenAIEmbeddings()"
   ]
  },
  {
   "cell_type": "code",
   "execution_count": 5,
   "id": "af7f13bd",
   "metadata": {},
   "outputs": [],
   "source": [
    "model_low_temp = ChatOpenAI(model = 'gpt-5-2025-08-07')\n",
    "model_high_temp = ChatOpenAI(model = 'gpt-5-2025-08-07')"
   ]
  },
  {
   "cell_type": "code",
   "execution_count": 6,
   "id": "9955f34e",
   "metadata": {},
   "outputs": [],
   "source": [
    "class State(TypedDict):\n",
    "    # 대화 기록\n",
    "    messages: Annotated[list, add_messages]\n",
    "    # 입력\n",
    "    user_query: str\n",
    "    # 출력\n",
    "    domain: Literal['records', 'insurance']\n",
    "    documents: list[Document]\n",
    "    answer: str"
   ]
  },
  {
   "cell_type": "code",
   "execution_count": 7,
   "id": "8af3bba1",
   "metadata": {},
   "outputs": [],
   "source": [
    "class Input(TypedDict):\n",
    "    user_query: str\n",
    "\n",
    "class Output(TypedDict):\n",
    "    documents: list[Document]\n",
    "    answer: str"
   ]
  },
  {
   "cell_type": "code",
   "execution_count": 8,
   "id": "a062e974",
   "metadata": {},
   "outputs": [],
   "source": [
    "sample_docs = [\n",
    "    Document(page_content='''# 환자 의료 기록\n",
    "- 이름: 홍길동\n",
    "- 성별: 남\n",
    "- 나이: 30세\n",
    "## 진료 내역\n",
    "- 2021년 1월 13일: 감기로 인한 발열로 병원 방문\n",
    "- 2022년 3월 15일: 비염 진단으로 약 처방\n",
    "- 2022년 5월 20일: 피부과 진료 및 약 처방\n",
    "- 2022년 6월 10일: 발열 및 기침으로 코로나 검사 및 음성 판정\n",
    "- 2022년 7월 2일: 코로나 진단 검사 및 양성 판정\n",
    "    ''',\n",
    "        metadata={'domain': 'records'}\n",
    "    ),\n",
    "    Document(\n",
    "        page_content='''# 보험 FAQ\n",
    "- Q: 과거에 병력이 있는데 가입가능한가요?\n",
    "- A: 치료기간, 현재 상태, 후유증 여부, 연령 등에 따라 다르므로 가입 가능 여부는 가까운 대리점에서 상담 받으세요.\n",
    "\n",
    "\n",
    "- Q: 보험금 청구 방법은 어떻게 되나요??\n",
    "- A: 보험금 청구는 보험금 청구서 작성 후 가까운 대리점을 통해 진행 가능합니다.\n",
    "\n",
    "\n",
    "- Q: 코로나 19도 보험 적용이 되나요?\n",
    "- A: 코로나 19는 보험 대상에 포함되지 않습니다.\n",
    "\n",
    "\n",
    "- Q: 보험금 지급이 거부되는 경우는 어떤 경우인가요?\n",
    "- A: 보험금 지급 거부 사유는 보험 계약서에 명시되어 있습니다. 자세한 사항은 계약서를 참조하세요\n",
    "        ''',\n",
    "        metadata={'domain': 'insurance'}\n",
    "    ),\n",
    "]"
   ]
  },
  {
   "cell_type": "code",
   "execution_count": 9,
   "id": "2de39253",
   "metadata": {},
   "outputs": [],
   "source": [
    "medical_records_store = InMemoryVectorStore.from_documents(sample_docs, embeddings)\n",
    "medical_records_retriever = medical_records_store.as_retriever()"
   ]
  },
  {
   "cell_type": "code",
   "execution_count": 10,
   "id": "272b8695",
   "metadata": {},
   "outputs": [],
   "source": [
    "insurance_faqs_store = InMemoryVectorStore.from_documents(sample_docs, embeddings)\n",
    "insurance_faqs_retriever = insurance_faqs_store.as_retriever()"
   ]
  },
  {
   "cell_type": "code",
   "execution_count": 11,
   "id": "eb8fab4d",
   "metadata": {},
   "outputs": [],
   "source": [
    "router_prompt = SystemMessage(\n",
    "    '''사용자 문의를 어느 도메인으로 라우팅할지 결정하세요. 선택할 수 있는 두 가지 도메인은 다음과 같습니다.\n",
    "- records: 진단, 치료, 처방과 같은 환자의 의료 기록을 포함합니다.  \n",
    "- insurance: 보험 정책, 청구, 보장에 대한 자주 묻는 질문을 포함합니다.  \n",
    "\n",
    "\n",
    "도메인 이름만 출력하세요.'''\n",
    ")"
   ]
  },
  {
   "cell_type": "code",
   "execution_count": 12,
   "id": "fbe66b67",
   "metadata": {},
   "outputs": [
    {
     "name": "stderr",
     "output_type": "stream",
     "text": [
      "/tmp/ipykernel_35019/1772522937.py:1: LangGraphDeprecatedSinceV05: `input` is deprecated and will be removed. Please use `input_schema` instead. Deprecated in LangGraph V0.5 to be removed in V2.0.\n",
      "  builder = StateGraph(State, input=Input, output=Output)\n",
      "/tmp/ipykernel_35019/1772522937.py:1: LangGraphDeprecatedSinceV05: `output` is deprecated and will be removed. Please use `output_schema` instead. Deprecated in LangGraph V0.5 to be removed in V2.0.\n",
      "  builder = StateGraph(State, input=Input, output=Output)\n"
     ]
    }
   ],
   "source": [
    "builder = StateGraph(State, input=Input, output=Output)"
   ]
  },
  {
   "cell_type": "code",
   "execution_count": 13,
   "id": "c0232f6e",
   "metadata": {},
   "outputs": [
    {
     "data": {
      "text/plain": [
       "<langgraph.graph.state.StateGraph at 0x74c9e4c9c800>"
      ]
     },
     "execution_count": 13,
     "metadata": {},
     "output_type": "execute_result"
    }
   ],
   "source": [
    "def router_node(state: State) -> State:\n",
    "    user_message = HumanMessage(state['user_query'])\n",
    "    messages = [router_prompt, *state['messages'], user_message]\n",
    "    res = model_low_temp.invoke(messages)\n",
    "    return {\n",
    "        'domain': res.content,\n",
    "        # 대화 기록 업데이트\n",
    "        'messages': [user_message, res],\n",
    "    }\n",
    "\n",
    "builder.add_node('router', router_node)"
   ]
  },
  {
   "cell_type": "code",
   "execution_count": 14,
   "id": "ff8cbf97",
   "metadata": {},
   "outputs": [],
   "source": [
    "def pick_retriever(\n",
    "    state: State,\n",
    ") -> Literal['retrieve_medical_records', 'retrieve_insurance_faqs']:\n",
    "    if state['domain'] == 'records':\n",
    "        return 'retrieve_medical_records'\n",
    "    else:\n",
    "        return 'retrieve_insurance_faqs'"
   ]
  },
  {
   "cell_type": "code",
   "execution_count": 15,
   "id": "60a2823b",
   "metadata": {},
   "outputs": [],
   "source": [
    "def retrieve_medical_records(state: State) -> State:\n",
    "    documents = medical_records_retriever.invoke(state['user_query'])\n",
    "    return {\n",
    "        'documents': documents,\n",
    "    }"
   ]
  },
  {
   "cell_type": "code",
   "execution_count": 16,
   "id": "eb62bb75",
   "metadata": {},
   "outputs": [],
   "source": [
    "def retrieve_insurance_faqs(state: State) -> State:\n",
    "    documents = insurance_faqs_retriever.invoke(state['user_query'])\n",
    "    return {\n",
    "        'documents': documents,\n",
    "    }"
   ]
  },
  {
   "cell_type": "code",
   "execution_count": 17,
   "id": "93b1d103",
   "metadata": {},
   "outputs": [
    {
     "data": {
      "text/plain": [
       "<langgraph.graph.state.StateGraph at 0x74c9e4c9c800>"
      ]
     },
     "execution_count": 17,
     "metadata": {},
     "output_type": "execute_result"
    }
   ],
   "source": [
    "builder.add_node('retrieve_medical_records', retrieve_medical_records)\n",
    "builder.add_node('retrieve_insurance_faqs', retrieve_insurance_faqs)"
   ]
  },
  {
   "cell_type": "code",
   "execution_count": 18,
   "id": "35c478b0",
   "metadata": {},
   "outputs": [],
   "source": [
    "medical_records_prompt = SystemMessage(\n",
    "    '당신은 유능한 의료 챗봇입니다. 진단, 치료, 처방과 같은 환자의 의료 기록을 기반으로 질문에 답하세요.'\n",
    ")"
   ]
  },
  {
   "cell_type": "code",
   "execution_count": 19,
   "id": "422d9ca4",
   "metadata": {},
   "outputs": [],
   "source": [
    "insurance_faqs_prompt = SystemMessage(\n",
    "    '당신은 유능한 의료 보험 챗봇입니다. 보험 정책, 청구 및 보장에 대한 자주 묻는 질문에 답하세요.'\n",
    ")"
   ]
  },
  {
   "cell_type": "code",
   "execution_count": null,
   "id": "d9ef873a",
   "metadata": {},
   "outputs": [],
   "source": [
    "def generate_answer(state: State) -> State:\n",
    "    if state['domain'] == 'record':\n",
    "        prompt = 'medical_records_prompt'\n",
    "    else:\n",
    "        prompt = 'insurance_faqs_prompt'\n",
    "    messages = [prompt, *state['messages'], HumanMessage(f\"Documents: {state['documents']}\")]\n",
    "    res = model_high_temp.invoke(messages)\n",
    "    return {\n",
    "        'answer' : res.content,\n",
    "        'messages' : res\n",
    "    }"
   ]
  },
  {
   "cell_type": "code",
   "execution_count": null,
   "id": "f711489c",
   "metadata": {},
   "outputs": [],
   "source": [
    "builder.add_node('generate_answer', generate_answer)\n",
    "builder.add_edge(START, 'router')\n",
    "builder.add_conditional_edges('router', pick_retriever)\n",
    "builder.add_edge('retrieve_medical_records', 'generate_answer')\n",
    "builder.add_edge('retrieve_insurance_faqs', 'generate_answer')\n",
    "builder.add_edge('generate_answer', END)    \n",
    "\n",
    "\n",
    "graph = builder.compile()\n",
    "graph.get_graph().draw_mermaid_png(output_file_path=\"./record_graph.png\")"
   ]
  },
  {
   "cell_type": "code",
   "execution_count": null,
   "id": "3d288c0f",
   "metadata": {},
   "outputs": [],
   "source": [
    "resp = graph.invoke({'user_query' : \"코로나도 보험 적용이 가능한가요?\"})\n",
    "print(resp['answer'])\n",
    "\n",
    "\n",
    "resp = graph.invoke({'user_query' : \"홍길동의 진료 내역을 보여주세요\"})\n",
    "print(resp['answer'])"
   ]
  }
 ],
 "metadata": {
  "kernelspec": {
   "display_name": "openai",
   "language": "python",
   "name": "python3"
  },
  "language_info": {
   "codemirror_mode": {
    "name": "ipython",
    "version": 3
   },
   "file_extension": ".py",
   "mimetype": "text/x-python",
   "name": "python",
   "nbconvert_exporter": "python",
   "pygments_lexer": "ipython3",
   "version": "3.12.11"
  }
 },
 "nbformat": 4,
 "nbformat_minor": 5
}
