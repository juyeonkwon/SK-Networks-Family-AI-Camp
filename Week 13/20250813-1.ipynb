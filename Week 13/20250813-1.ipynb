{
 "cells": [
  {
   "cell_type": "markdown",
   "id": "5ec06540",
   "metadata": {},
   "source": [
    "### CLIENT"
   ]
  },
  {
   "cell_type": "code",
   "execution_count": 1,
   "id": "cbcfbf9c",
   "metadata": {},
   "outputs": [],
   "source": [
    "import asyncio\n",
    "import nest_asyncio\n",
    "import os  \n",
    "from openai  import OpenAI\n",
    "from dotenv import load_dotenv"
   ]
  },
  {
   "cell_type": "code",
   "execution_count": null,
   "id": "ef51158f",
   "metadata": {},
   "outputs": [],
   "source": [
    "load_dotenv()\n",
    "os.environ['OPENAI_API_KEY']\n",
    "\n",
    "client = OpenAI(api_key=os.environ['OPENAI_API_KEY'])"
   ]
  },
  {
   "cell_type": "code",
   "execution_count": 3,
   "id": "0b70a726",
   "metadata": {},
   "outputs": [],
   "source": [
    "query = \"\"\n",
    "messages = [{'role' : 'user', 'content' : query}]"
   ]
  },
  {
   "cell_type": "code",
   "execution_count": 4,
   "id": "5392de3b",
   "metadata": {},
   "outputs": [],
   "source": [
    "available_functions = [\n",
    "    {\n",
    "        \"name\" : tool['name'],\n",
    "        'description' : tool['description'],\n",
    "        \"parameters\" : tool[\"input_schema\"]\n",
    "    }\n",
    "    for tool in []\n",
    "]"
   ]
  },
  {
   "cell_type": "code",
   "execution_count": null,
   "id": "07ee8da2",
   "metadata": {},
   "outputs": [],
   "source": []
  }
 ],
 "metadata": {
  "kernelspec": {
   "display_name": "openai",
   "language": "python",
   "name": "python3"
  },
  "language_info": {
   "codemirror_mode": {
    "name": "ipython",
    "version": 3
   },
   "file_extension": ".py",
   "mimetype": "text/x-python",
   "name": "python",
   "nbconvert_exporter": "python",
   "pygments_lexer": "ipython3",
   "version": "3.12.11"
  }
 },
 "nbformat": 4,
 "nbformat_minor": 5
}
