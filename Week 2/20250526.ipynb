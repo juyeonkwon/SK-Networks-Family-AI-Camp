{
 "cells": [
  {
   "cell_type": "code",
   "execution_count": 1,
   "id": "acf353ce",
   "metadata": {},
   "outputs": [],
   "source": [
    "a , b  =  ( 1, 2 )"
   ]
  },
  {
   "cell_type": "code",
   "execution_count": 2,
   "id": "734ab9bf",
   "metadata": {},
   "outputs": [
    {
     "data": {
      "text/plain": [
       "1"
      ]
     },
     "execution_count": 2,
     "metadata": {},
     "output_type": "execute_result"
    }
   ],
   "source": [
    "a "
   ]
  },
  {
   "cell_type": "code",
   "execution_count": 3,
   "id": "08cc6177",
   "metadata": {},
   "outputs": [
    {
     "data": {
      "text/plain": [
       "2"
      ]
     },
     "execution_count": 3,
     "metadata": {},
     "output_type": "execute_result"
    }
   ],
   "source": [
    "b"
   ]
  },
  {
   "cell_type": "code",
   "execution_count": 4,
   "id": "1bc47541",
   "metadata": {},
   "outputs": [],
   "source": [
    "_, _ = (1, 1)"
   ]
  },
  {
   "cell_type": "code",
   "execution_count": 5,
   "id": "0e7ad5f8",
   "metadata": {},
   "outputs": [],
   "source": [
    "def show_settings(**options): # 모든 키워드 인자를 options 딕셔너리로 받음\n",
    "    \"\"\"전달된 모든 키워드 인자를 설정으로 간주하고 출력합니다.\"\"\"\n",
    "    print(\"--- 설정 값 ---\")\n",
    "    if options:\n",
    "        for key, value in options.items():\n",
    "            print(f\"  {key} = {value}\")\n",
    "    else:\n",
    "        print(\"  (설정 값 없음)\")\n",
    "    print(\"---------------\")"
   ]
  },
  {
   "cell_type": "code",
   "execution_count": 6,
   "id": "29c8bc27",
   "metadata": {},
   "outputs": [
    {
     "name": "stdout",
     "output_type": "stream",
     "text": [
      "--- 설정 값 ---\n",
      "  theme = dark\n",
      "  font_size = 12\n",
      "  show_line_numbers = True\n",
      "---------------\n"
     ]
    }
   ],
   "source": [
    "show_settings(theme=\"dark\", font_size=12, show_line_numbers=True)"
   ]
  },
  {
   "cell_type": "code",
   "execution_count": 7,
   "id": "0414f852",
   "metadata": {},
   "outputs": [],
   "source": [
    "empty_list = list() "
   ]
  },
  {
   "cell_type": "code",
   "execution_count": 8,
   "id": "bcb7a814",
   "metadata": {},
   "outputs": [],
   "source": [
    "empty_list1 = []"
   ]
  },
  {
   "cell_type": "code",
   "execution_count": 9,
   "id": "2286c8f4",
   "metadata": {},
   "outputs": [],
   "source": [
    "empty_dict = {}"
   ]
  },
  {
   "cell_type": "code",
   "execution_count": 10,
   "id": "3d2fc7fa",
   "metadata": {},
   "outputs": [
    {
     "data": {
      "text/plain": [
       "dict"
      ]
     },
     "execution_count": 10,
     "metadata": {},
     "output_type": "execute_result"
    }
   ],
   "source": [
    "type(empty_dict)"
   ]
  },
  {
   "cell_type": "code",
   "execution_count": 11,
   "id": "1329d9d3",
   "metadata": {},
   "outputs": [],
   "source": [
    "empty_dict = dict()"
   ]
  },
  {
   "cell_type": "code",
   "execution_count": 12,
   "id": "6d4a2380",
   "metadata": {},
   "outputs": [],
   "source": [
    "empty_dict = set()"
   ]
  },
  {
   "cell_type": "code",
   "execution_count": 14,
   "id": "5e7a76f0",
   "metadata": {},
   "outputs": [],
   "source": [
    "def send_greeting(name: str, message: str):\n",
    "    print(f\"{name}님, 메시지: {message}\")"
   ]
  },
  {
   "cell_type": "code",
   "execution_count": 15,
   "id": "b5c3e8ca",
   "metadata": {},
   "outputs": [
    {
     "name": "stdout",
     "output_type": "stream",
     "text": [
      "1님, 메시지: 2\n"
     ]
    }
   ],
   "source": [
    "send_greeting(1,2)"
   ]
  },
  {
   "cell_type": "code",
   "execution_count": 17,
   "id": "8c0a6e1c",
   "metadata": {},
   "outputs": [],
   "source": [
    "def calculate_average(a: float, b: float) -> float:\n",
    "    return (a + b) / 2"
   ]
  },
  {
   "cell_type": "code",
   "execution_count": 18,
   "id": "7a08481b",
   "metadata": {},
   "outputs": [
    {
     "data": {
      "text/plain": [
       "['__add__',\n",
       " '__class__',\n",
       " '__contains__',\n",
       " '__delattr__',\n",
       " '__dir__',\n",
       " '__doc__',\n",
       " '__eq__',\n",
       " '__format__',\n",
       " '__ge__',\n",
       " '__getattribute__',\n",
       " '__getitem__',\n",
       " '__getnewargs__',\n",
       " '__gt__',\n",
       " '__hash__',\n",
       " '__init__',\n",
       " '__init_subclass__',\n",
       " '__iter__',\n",
       " '__le__',\n",
       " '__len__',\n",
       " '__lt__',\n",
       " '__mod__',\n",
       " '__mul__',\n",
       " '__ne__',\n",
       " '__new__',\n",
       " '__reduce__',\n",
       " '__reduce_ex__',\n",
       " '__repr__',\n",
       " '__rmod__',\n",
       " '__rmul__',\n",
       " '__setattr__',\n",
       " '__sizeof__',\n",
       " '__str__',\n",
       " '__subclasshook__',\n",
       " 'capitalize',\n",
       " 'casefold',\n",
       " 'center',\n",
       " 'count',\n",
       " 'encode',\n",
       " 'endswith',\n",
       " 'expandtabs',\n",
       " 'find',\n",
       " 'format',\n",
       " 'format_map',\n",
       " 'index',\n",
       " 'isalnum',\n",
       " 'isalpha',\n",
       " 'isascii',\n",
       " 'isdecimal',\n",
       " 'isdigit',\n",
       " 'isidentifier',\n",
       " 'islower',\n",
       " 'isnumeric',\n",
       " 'isprintable',\n",
       " 'isspace',\n",
       " 'istitle',\n",
       " 'isupper',\n",
       " 'join',\n",
       " 'ljust',\n",
       " 'lower',\n",
       " 'lstrip',\n",
       " 'maketrans',\n",
       " 'partition',\n",
       " 'removeprefix',\n",
       " 'removesuffix',\n",
       " 'replace',\n",
       " 'rfind',\n",
       " 'rindex',\n",
       " 'rjust',\n",
       " 'rpartition',\n",
       " 'rsplit',\n",
       " 'rstrip',\n",
       " 'split',\n",
       " 'splitlines',\n",
       " 'startswith',\n",
       " 'strip',\n",
       " 'swapcase',\n",
       " 'title',\n",
       " 'translate',\n",
       " 'upper',\n",
       " 'zfill']"
      ]
     },
     "execution_count": 18,
     "metadata": {},
     "output_type": "execute_result"
    }
   ],
   "source": [
    "dir(str)"
   ]
  },
  {
   "cell_type": "code",
   "execution_count": 26,
   "id": "5892654d",
   "metadata": {},
   "outputs": [],
   "source": [
    "class Node:\n",
    "    def __init__(self, data):\n",
    "        self.data = data          # 노드가 저장할 데이터\n",
    "        self.next_node = None     # 다음 노드를 가리키는 참조 (초기에는 없음)\n",
    "\n",
    "    # def __str__(self): # 노드 데이터를 쉽게 출력하기 위한 문자열 표현 (선택 사항)\n",
    "    #     return str(self.data)"
   ]
  },
  {
   "cell_type": "code",
   "execution_count": 27,
   "id": "2b81c3e3",
   "metadata": {},
   "outputs": [],
   "source": [
    "a = Node(\"차은우\")"
   ]
  },
  {
   "cell_type": "code",
   "execution_count": 28,
   "id": "b8d245c1",
   "metadata": {},
   "outputs": [
    {
     "name": "stdout",
     "output_type": "stream",
     "text": [
      "<__main__.Node object at 0x000002824D0FA140>\n"
     ]
    }
   ],
   "source": [
    "print(a)"
   ]
  },
  {
   "cell_type": "code",
   "execution_count": 29,
   "id": "151ff146",
   "metadata": {},
   "outputs": [],
   "source": [
    "b = [1,2,3]"
   ]
  },
  {
   "cell_type": "code",
   "execution_count": 31,
   "id": "1d07b55f",
   "metadata": {},
   "outputs": [
    {
     "data": {
      "text/plain": [
       "2"
      ]
     },
     "execution_count": 31,
     "metadata": {},
     "output_type": "execute_result"
    }
   ],
   "source": [
    "b[1]"
   ]
  },
  {
   "cell_type": "code",
   "execution_count": 32,
   "id": "4b9c9dfa",
   "metadata": {},
   "outputs": [
    {
     "data": {
      "text/plain": [
       "2"
      ]
     },
     "execution_count": 32,
     "metadata": {},
     "output_type": "execute_result"
    }
   ],
   "source": [
    "b.__getitem__(1)"
   ]
  },
  {
   "cell_type": "code",
   "execution_count": 33,
   "id": "ee4f6c45",
   "metadata": {},
   "outputs": [
    {
     "data": {
      "text/plain": [
       "3"
      ]
     },
     "execution_count": 33,
     "metadata": {},
     "output_type": "execute_result"
    }
   ],
   "source": [
    "len(b)"
   ]
  },
  {
   "cell_type": "code",
   "execution_count": 34,
   "id": "267fe32f",
   "metadata": {},
   "outputs": [
    {
     "data": {
      "text/plain": [
       "3"
      ]
     },
     "execution_count": 34,
     "metadata": {},
     "output_type": "execute_result"
    }
   ],
   "source": [
    "b.__len__()"
   ]
  },
  {
   "cell_type": "code",
   "execution_count": 35,
   "id": "e24baa44",
   "metadata": {},
   "outputs": [],
   "source": [
    "# Node class\n",
    "class Node:\n",
    "    def __init__(self, data):\n",
    "        self.data = data\n",
    "        self.next = None\n",
    "\n",
    "# Linked List class\n",
    "class LinkedList:\n",
    "    def __init__(self):\n",
    "        self.head = None\n",
    "\n",
    "    # Append a new node to the end of the list\n",
    "    def append(self, data):\n",
    "        new_node = Node(data)\n",
    "        if not self.head:\n",
    "            self.head = new_node\n",
    "            return\n",
    "        last_node = self.head\n",
    "        while last_node.next:\n",
    "            last_node = last_node.next\n",
    "        last_node.next = new_node\n",
    "\n",
    "    # Prepend a new node to the beginning of the list\n",
    "    def prepend(self, data):\n",
    "        new_node = Node(data)\n",
    "        new_node.next = self.head\n",
    "        self.head = new_node\n",
    "\n",
    "    # Delete a node with the given data\n",
    "    def delete(self, data):\n",
    "        if not self.head:\n",
    "            return\n",
    "\n",
    "        if self.head.data == data:\n",
    "            self.head = self.head.next\n",
    "            return\n",
    "\n",
    "        current_node = self.head\n",
    "        while current_node.next and current_node.next.data != data:\n",
    "            current_node = current_node.next\n",
    "\n",
    "        if current_node.next:\n",
    "            current_node.next = current_node.next.next\n",
    "\n",
    "    # Display the linked list\n",
    "    def display(self):\n",
    "        elements = []\n",
    "        current_node = self.head\n",
    "        while current_node:\n",
    "            elements.append(str(current_node.data))\n",
    "            current_node = current_node.next\n",
    "        return \" -> \".join(elements) if elements else \"비어 있음\""
   ]
  },
  {
   "cell_type": "code",
   "execution_count": 36,
   "id": "87517236",
   "metadata": {},
   "outputs": [],
   "source": [
    "mylink = LinkedList()"
   ]
  },
  {
   "cell_type": "code",
   "execution_count": null,
   "id": "7556e8c2",
   "metadata": {},
   "outputs": [
    {
     "data": {
      "text/plain": [
       "['__class__',\n",
       " '__delattr__',\n",
       " '__dict__',\n",
       " '__dir__',\n",
       " '__doc__',\n",
       " '__eq__',\n",
       " '__format__',\n",
       " '__ge__',\n",
       " '__getattribute__',\n",
       " '__gt__',\n",
       " '__hash__',\n",
       " '__init__',\n",
       " '__init_subclass__',\n",
       " '__le__',\n",
       " '__lt__',\n",
       " '__module__',\n",
       " '__ne__',\n",
       " '__new__',\n",
       " '__reduce__',\n",
       " '__reduce_ex__',\n",
       " '__repr__',\n",
       " '__setattr__',\n",
       " '__sizeof__',\n",
       " '__str__',\n",
       " '__subclasshook__',\n",
       " '__weakref__',\n",
       " 'append',\n",
       " 'delete',\n",
       " 'display',\n",
       " 'head',\n",
       " 'prepend']"
      ]
     },
     "execution_count": 37,
     "metadata": {},
     "output_type": "execute_result"
    }
   ],
   "source": [
    "mylink.append()"
   ]
  },
  {
   "cell_type": "code",
   "execution_count": 38,
   "id": "88b6adc5",
   "metadata": {},
   "outputs": [],
   "source": [
    "mylink.append(\"정민철\")"
   ]
  },
  {
   "cell_type": "code",
   "execution_count": 39,
   "id": "d6faa779",
   "metadata": {},
   "outputs": [],
   "source": [
    "mylink.append(\"김민규\")"
   ]
  },
  {
   "cell_type": "code",
   "execution_count": 40,
   "id": "29790568",
   "metadata": {},
   "outputs": [
    {
     "data": {
      "text/plain": [
       "'정민철 -> 김민규'"
      ]
     },
     "execution_count": 40,
     "metadata": {},
     "output_type": "execute_result"
    }
   ],
   "source": [
    "mylink.display()"
   ]
  },
  {
   "cell_type": "code",
   "execution_count": 3,
   "id": "75befd4a",
   "metadata": {},
   "outputs": [],
   "source": [
    "# Node class\n",
    "class Node:\n",
    "    def __init__(self, data):\n",
    "        self.data = data\n",
    "        self.next = None\n",
    "\n",
    "# Linked List class\n",
    "class LinkedList:\n",
    "    def __init__(self):\n",
    "        self.head = None\n",
    "\n",
    "    # Append a new node to the end of the list\n",
    "    def append(self, data):\n",
    "        new_node = Node(data)\n",
    "        if not self.head:\n",
    "            self.head = new_node\n",
    "            return\n",
    "        last_node = self.head\n",
    "        while last_node.next:\n",
    "            last_node = last_node.next\n",
    "        last_node.next = new_node\n",
    "\n",
    "    # Prepend a new node to the beginning of the list\n",
    "    def prepend(self, data):\n",
    "        new_node = Node(data)\n",
    "        new_node.next = self.head\n",
    "        self.head = new_node\n",
    "\n",
    "    # Delete a node with the given data\n",
    "    def delete(self, data):\n",
    "        if not self.head:\n",
    "            return\n",
    "\n",
    "        if self.head.data == data:\n",
    "            self.head = self.head.next\n",
    "            return\n",
    "\n",
    "        current_node = self.head\n",
    "        while current_node.next and current_node.next.data != data:\n",
    "            current_node = current_node.next\n",
    "\n",
    "        if current_node.next:\n",
    "            current_node.next = current_node.next.next\n",
    "\n",
    "    # Display the linked list\n",
    "    def display(self):\n",
    "        elements = []\n",
    "        current_node = self.head\n",
    "        while current_node:\n",
    "            elements.append(str(current_node.data))\n",
    "            current_node = current_node.next\n",
    "        return \" -> \".join(elements) if elements else \"비어 있음\""
   ]
  },
  {
   "cell_type": "code",
   "execution_count": 4,
   "id": "e75ffbfe",
   "metadata": {},
   "outputs": [],
   "source": [
    "b = LinkedList()"
   ]
  },
  {
   "cell_type": "code",
   "execution_count": 8,
   "id": "945da566",
   "metadata": {},
   "outputs": [],
   "source": [
    "b.append(\"차은우\")"
   ]
  },
  {
   "cell_type": "code",
   "execution_count": null,
   "id": "3af26cae",
   "metadata": {},
   "outputs": [],
   "source": []
  }
 ],
 "metadata": {
  "kernelspec": {
   "display_name": "Python 3",
   "language": "python",
   "name": "python3"
  },
  "language_info": {
   "codemirror_mode": {
    "name": "ipython",
    "version": 3
   },
   "file_extension": ".py",
   "mimetype": "text/x-python",
   "name": "python",
   "nbconvert_exporter": "python",
   "pygments_lexer": "ipython3",
   "version": "3.10.16"
  }
 },
 "nbformat": 4,
 "nbformat_minor": 5
}
