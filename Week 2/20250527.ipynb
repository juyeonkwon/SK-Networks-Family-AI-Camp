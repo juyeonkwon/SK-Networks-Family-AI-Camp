{
 "cells": [
  {
   "cell_type": "code",
   "execution_count": null,
   "id": "207901f8",
   "metadata": {},
   "outputs": [],
   "source": [
    "import requests \n",
    "\n",
    "url = \"https://m.stock.naver.com/front-api/external/chart/domestic/notice?symbol=010140&startTime=20141017&endTime=20150702&requestType=0\""
   ]
  },
  {
   "cell_type": "code",
   "execution_count": 5,
   "id": "cfab67c0",
   "metadata": {},
   "outputs": [],
   "source": [
    "data = requests.get(url).text"
   ]
  },
  {
   "cell_type": "code",
   "execution_count": 4,
   "id": "2081f242",
   "metadata": {},
   "outputs": [],
   "source": [
    "from xml.etree import ElementTree as ET"
   ]
  },
  {
   "cell_type": "code",
   "execution_count": 7,
   "id": "d70b808c",
   "metadata": {},
   "outputs": [],
   "source": [
    "root = ET.fromstring(data)"
   ]
  },
  {
   "cell_type": "code",
   "execution_count": 8,
   "id": "f6b3abb3",
   "metadata": {},
   "outputs": [
    {
     "name": "stdout",
     "output_type": "stream",
     "text": [
      "<?xml version=\"1.0\" encoding=\"UTF-8\"\n",
      "?><protocol>\n",
      "    <notice symbol=\"010140\" count=\"35\">\n",
      "        \n",
      "            <item date=\"20141020\" no=\"632656\" src=\"KOSCOM\">\n",
      "                <title><![CDATA[삼성중공업(주) 연결재무제표기준영업(잠정)실적(공정공시)]]></title>\n",
      "            </item>\n",
      "        \n",
      "            <item date=\"20141027\" no=\"633559\" src=\"KOSCOM\">\n",
      "                <title><![CDATA[삼성중공업(주) 임시주주총회 결과]]></title>\n",
      "            </item>\n",
      "        \n",
      "            <item date=\"20141029\" no=\"633899\" src=\"KOSCOM\">\n",
      "                <title><![CDATA[삼성중공업(주) 자기주식 취득 결정]]></title>\n",
      "            </item>\n",
      "        \n",
      "            <item date=\"20141031\" no=\"634600\" src=\"KOSCOM\">\n",
      "                <title><![CDATA[삼성중공업(주) 조회공시 요구(풍문 또는 보도)에 대한 답변(미확정)]]></title>\n",
      "            </item>\n",
      "        \n",
      "            <item date=\"20141110\" no=\"635757\" src=\"KOSCOM\">\n",
      "                <title><![CDATA[삼성중공업(주) 조회공시 요구(풍문 또는 보도)]]></title>\n",
      "            </item>\n",
      "        \n",
      "            <item date=\"20141110\" no=\"635785\" src=\"KOSCOM\">\n",
      "                <title><![CDATA[삼성중공업(주) 조회공시 요구(풍문 또는 보도)에 대한 답변(미확정)]]></title>\n",
      "            </item>\n",
      "        \n",
      "            <item date=\"20141119\" no=\"637249\" src=\"KOSCOM\">\n",
      "                <title><![CDATA[삼성중공업(주) 기타 주요경영사항(자율공시)]]></title>\n",
      "            </item>\n",
      "        \n",
      "            <item date=\"20141210\" no=\"640418\" src=\"KOSCOM\">\n",
      "                <title><![CDATA[삼성중공업(주) 조회공시 요구(풍문 또는 보도)에 대한 답변(미확정)]]></title>\n",
      "            </item>\n",
      "        \n",
      "            <item date=\"20141215\" no=\"641746\" src=\"KOSCOM\">\n",
      "                <title><![CDATA[삼성중공업(주) 주식명의개서정지(주주명부폐쇄)]]></title>\n",
      "            </item>\n",
      "        \n",
      "            <item date=\"20150119\" no=\"647331\" src=\"KOSCOM\">\n",
      "                <title><![CDATA[삼성중공업(주) 기타 주요경영사항(자율공시)]]></title>\n",
      "            </item>\n",
      "        \n",
      "            <item date=\"20150122\" no=\"647692\" src=\"KOSCOM\">\n",
      "                <title><![CDATA[삼성중공업(주) 단일판매ㆍ공급계약체결]]></title>\n",
      "            </item>\n",
      "        \n",
      "            <item date=\"20150129\" no=\"648820\" src=\"KOSCOM\">\n",
      "                <title><![CDATA[삼성중공업(주) 매출액또는손익구조30%(대규모법인은15%)이상변경]]></title>\n",
      "            </item>\n",
      "        \n",
      "            <item date=\"20150129\" no=\"649025\" src=\"KOSCOM\">\n",
      "                <title><![CDATA[삼성중공업(주) 소송등의판결ㆍ결정(일정금액 이상의 청구)]]></title>\n",
      "            </item>\n",
      "        \n",
      "            <item date=\"20150213\" no=\"652633\" src=\"KOSCOM\">\n",
      "                <title><![CDATA[삼성중공업(주) 주주총회소집결의]]></title>\n",
      "            </item>\n",
      "        \n",
      "            <item date=\"20150226\" no=\"655005\" src=\"KOSCOM\">\n",
      "                <title><![CDATA[삼성중공업(주) (정정)주주총회소집결의]]></title>\n",
      "            </item>\n",
      "        \n",
      "            <item date=\"20150302\" no=\"655877\" src=\"KOSCOM\">\n",
      "                <title><![CDATA[삼성중공업(주) 단일판매ㆍ공급계약체결]]></title>\n",
      "            </item>\n",
      "        \n",
      "            <item date=\"20150313\" no=\"660769\" src=\"KOSCOM\">\n",
      "                <title><![CDATA[삼성중공업(주) 정기주주총회결과]]></title>\n",
      "            </item>\n",
      "        \n",
      "            <item date=\"20150401\" no=\"669703\" src=\"KOSCOM\">\n",
      "                <title><![CDATA[삼성중공업(주) 단일판매ㆍ공급계약체결]]></title>\n",
      "            </item>\n",
      "        \n",
      "            <item date=\"20150403\" no=\"670276\" src=\"KOSCOM\">\n",
      "                <title><![CDATA[삼성중공업(주) 기타 주요경영사항(자율공시)(기타주요경영사항(자율공시) (단일판매·공급계약 체결 건의 진행사항 공시) )]]></title>\n",
      "            </item>\n",
      "        \n",
      "            <item date=\"20150428\" no=\"673807\" src=\"KOSCOM\">\n",
      "                <title><![CDATA[삼성중공업(주) 조회공시 요구(풍문 또는 보도)]]></title>\n",
      "            </item>\n",
      "        \n",
      "            <item date=\"20150428\" no=\"673814\" src=\"KOSCOM\">\n",
      "                <title><![CDATA[삼성중공업(주) 조회공시 요구(풍문 또는 보도)에 대한 답변(부인)]]></title>\n",
      "            </item>\n",
      "        \n",
      "            <item date=\"20150428\" no=\"673918\" src=\"KOSCOM\">\n",
      "                <title><![CDATA[삼성중공업(주) 연결재무제표기준영업(잠정)실적(공정공시)]]></title>\n",
      "            </item>\n",
      "        \n",
      "            <item date=\"20150428\" no=\"673923\" src=\"KOSCOM\">\n",
      "                <title><![CDATA[삼성중공업(주) (정정)단일판매ㆍ공급계약체결]]></title>\n",
      "            </item>\n",
      "        \n",
      "            <item date=\"20150430\" no=\"674591\" src=\"KOSCOM\">\n",
      "                <title><![CDATA[삼성중공업(주) 조회공시 요구(풍문 또는 보도)에 대한 답변(미확정)]]></title>\n",
      "            </item>\n",
      "        \n",
      "            <item date=\"20150518\" no=\"676890\" src=\"KOSCOM\">\n",
      "                <title><![CDATA[삼성중공업(주) 기타 주요경영사항(자율공시)(단일판매·공급계약 체결 건의 진행사항 공시)]]></title>\n",
      "            </item>\n",
      "        \n",
      "            <item date=\"20150604\" no=\"679522\" src=\"KOSCOM\">\n",
      "                <title><![CDATA[삼성중공업(주) 단일판매ㆍ공급계약체결]]></title>\n",
      "            </item>\n",
      "        \n",
      "            <item date=\"20150609\" no=\"680154\" src=\"KOSCOM\">\n",
      "                <title><![CDATA[삼성중공업(주) 조회공시 요구(풍문 또는 보도)에 대한 답변(부인)]]></title>\n",
      "            </item>\n",
      "        \n",
      "            <item date=\"20150611\" no=\"680599\" src=\"KOSCOM\">\n",
      "                <title><![CDATA[삼성중공업(주) 기타 주요경영사항(자율공시)(단일판매·공급계약 체결 건의 진행사항 공시)]]></title>\n",
      "            </item>\n",
      "        \n",
      "            <item date=\"20150612\" no=\"680724\" src=\"KOSCOM\">\n",
      "                <title><![CDATA[삼성중공업(주) 기타 주요경영사항(자율공시)(단일판매·공급계약 체결 건의 진행사항 공시)]]></title>\n",
      "            </item>\n",
      "        \n",
      "            <item date=\"20150615\" no=\"680934\" src=\"KOSCOM\">\n",
      "                <title><![CDATA[삼성중공업(주) 기타 주요경영사항(자율공시)(단일판매·공급계약 체결 건의 진행사항 공시)]]></title>\n",
      "            </item>\n",
      "        \n",
      "            <item date=\"20150623\" no=\"682190\" src=\"KOSCOM\">\n",
      "                <title><![CDATA[삼성중공업(주) [투자주의]투자경고종목 지정예고(삼성중공우)]]></title>\n",
      "            </item>\n",
      "        \n",
      "            <item date=\"20150630\" no=\"683291\" src=\"KOSCOM\">\n",
      "                <title><![CDATA[삼성중공업(주) 조회공시 요구(풍문 또는 보도)]]></title>\n",
      "            </item>\n",
      "        \n",
      "            <item date=\"20150630\" no=\"683497\" src=\"KOSCOM\">\n",
      "                <title><![CDATA[삼성중공업(주) 단일판매ㆍ공급계약체결]]></title>\n",
      "            </item>\n",
      "        \n",
      "            <item date=\"20150701\" no=\"683676\" src=\"KOSCOM\">\n",
      "                <title><![CDATA[삼성중공업(주) 단일판매ㆍ공급계약체결]]></title>\n",
      "            </item>\n",
      "        \n",
      "            <item date=\"20150701\" no=\"683774\" src=\"KOSCOM\">\n",
      "                <title><![CDATA[삼성중공업(주) 기타시장안내(삼성중공우)]]></title>\n",
      "            </item>\n",
      "        \n",
      "    </notice>\n",
      "</protocol>\n",
      "\n"
     ]
    }
   ],
   "source": [
    "print(data)"
   ]
  },
  {
   "cell_type": "code",
   "execution_count": 9,
   "id": "a63608cc",
   "metadata": {},
   "outputs": [],
   "source": [
    "items = root.iter(tag='item')"
   ]
  },
  {
   "cell_type": "code",
   "execution_count": 15,
   "id": "a8cd3f1e",
   "metadata": {},
   "outputs": [
    {
     "data": {
      "text/plain": [
       "['__class__',\n",
       " '__copy__',\n",
       " '__deepcopy__',\n",
       " '__delattr__',\n",
       " '__delitem__',\n",
       " '__dir__',\n",
       " '__doc__',\n",
       " '__eq__',\n",
       " '__format__',\n",
       " '__ge__',\n",
       " '__getattribute__',\n",
       " '__getitem__',\n",
       " '__getstate__',\n",
       " '__gt__',\n",
       " '__hash__',\n",
       " '__init__',\n",
       " '__init_subclass__',\n",
       " '__le__',\n",
       " '__len__',\n",
       " '__lt__',\n",
       " '__ne__',\n",
       " '__new__',\n",
       " '__reduce__',\n",
       " '__reduce_ex__',\n",
       " '__repr__',\n",
       " '__setattr__',\n",
       " '__setitem__',\n",
       " '__setstate__',\n",
       " '__sizeof__',\n",
       " '__str__',\n",
       " '__subclasshook__',\n",
       " 'append',\n",
       " 'attrib',\n",
       " 'clear',\n",
       " 'extend',\n",
       " 'find',\n",
       " 'findall',\n",
       " 'findtext',\n",
       " 'get',\n",
       " 'insert',\n",
       " 'items',\n",
       " 'iter',\n",
       " 'iterfind',\n",
       " 'itertext',\n",
       " 'keys',\n",
       " 'makeelement',\n",
       " 'remove',\n",
       " 'set',\n",
       " 'tag',\n",
       " 'tail',\n",
       " 'text']"
      ]
     },
     "execution_count": 15,
     "metadata": {},
     "output_type": "execute_result"
    }
   ],
   "source": [
    "dir(i)"
   ]
  },
  {
   "cell_type": "code",
   "execution_count": 25,
   "id": "fb7c03c9",
   "metadata": {},
   "outputs": [
    {
     "data": {
      "text/plain": [
       "['__class__',\n",
       " '__copy__',\n",
       " '__deepcopy__',\n",
       " '__delattr__',\n",
       " '__delitem__',\n",
       " '__dir__',\n",
       " '__doc__',\n",
       " '__eq__',\n",
       " '__format__',\n",
       " '__ge__',\n",
       " '__getattribute__',\n",
       " '__getitem__',\n",
       " '__getstate__',\n",
       " '__gt__',\n",
       " '__hash__',\n",
       " '__init__',\n",
       " '__init_subclass__',\n",
       " '__le__',\n",
       " '__len__',\n",
       " '__lt__',\n",
       " '__ne__',\n",
       " '__new__',\n",
       " '__reduce__',\n",
       " '__reduce_ex__',\n",
       " '__repr__',\n",
       " '__setattr__',\n",
       " '__setitem__',\n",
       " '__setstate__',\n",
       " '__sizeof__',\n",
       " '__str__',\n",
       " '__subclasshook__',\n",
       " 'append',\n",
       " 'attrib',\n",
       " 'clear',\n",
       " 'extend',\n",
       " 'find',\n",
       " 'findall',\n",
       " 'findtext',\n",
       " 'get',\n",
       " 'insert',\n",
       " 'items',\n",
       " 'iter',\n",
       " 'iterfind',\n",
       " 'itertext',\n",
       " 'keys',\n",
       " 'makeelement',\n",
       " 'remove',\n",
       " 'set',\n",
       " 'tag',\n",
       " 'tail',\n",
       " 'text']"
      ]
     },
     "execution_count": 25,
     "metadata": {},
     "output_type": "execute_result"
    }
   ],
   "source": [
    "dir(i)"
   ]
  },
  {
   "cell_type": "code",
   "execution_count": 26,
   "id": "b291a7ef",
   "metadata": {},
   "outputs": [
    {
     "data": {
      "text/plain": [
       "'20150701'"
      ]
     },
     "execution_count": 26,
     "metadata": {},
     "output_type": "execute_result"
    }
   ],
   "source": [
    "i.get('date')"
   ]
  },
  {
   "cell_type": "code",
   "execution_count": 24,
   "id": "5480b2f4",
   "metadata": {},
   "outputs": [
    {
     "data": {
      "text/plain": [
       "['date', 'no', 'src']"
      ]
     },
     "execution_count": 24,
     "metadata": {},
     "output_type": "execute_result"
    }
   ],
   "source": [
    "i.keys()"
   ]
  },
  {
   "cell_type": "code",
   "execution_count": null,
   "id": "fc7996cd",
   "metadata": {},
   "outputs": [],
   "source": [
    "total2 = [{'date' : i.get('date'), 'information' : x.text} for i in root.iter(tag='item')  for x in i]"
   ]
  },
  {
   "cell_type": "code",
   "execution_count": null,
   "id": "fd97ec55",
   "metadata": {},
   "outputs": [],
   "source": [
    "pip install pandas "
   ]
  },
  {
   "cell_type": "code",
   "execution_count": 35,
   "id": "70c74c9a",
   "metadata": {},
   "outputs": [],
   "source": [
    "import pandas as pd "
   ]
  },
  {
   "cell_type": "code",
   "execution_count": 38,
   "id": "fddff7dd",
   "metadata": {},
   "outputs": [],
   "source": [
    "pd.DataFrame(total).to_csv(\"./test.csv\", index=False)"
   ]
  }
 ],
 "metadata": {
  "kernelspec": {
   "display_name": "base",
   "language": "python",
   "name": "python3"
  },
  "language_info": {
   "codemirror_mode": {
    "name": "ipython",
    "version": 3
   },
   "file_extension": ".py",
   "mimetype": "text/x-python",
   "name": "python",
   "nbconvert_exporter": "python",
   "pygments_lexer": "ipython3",
   "version": "3.10.16"
  }
 },
 "nbformat": 4,
 "nbformat_minor": 5
}
