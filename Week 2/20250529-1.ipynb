{
 "cells": [
  {
   "cell_type": "code",
   "execution_count": 1,
   "id": "5f0b30af",
   "metadata": {},
   "outputs": [],
   "source": [
    "import numpy as np "
   ]
  },
  {
   "cell_type": "code",
   "execution_count": 4,
   "id": "dd230ce8",
   "metadata": {},
   "outputs": [],
   "source": [
    "a  = np.array([1,3,4,5,7])"
   ]
  },
  {
   "cell_type": "code",
   "execution_count": 15,
   "id": "5b2a956d",
   "metadata": {},
   "outputs": [
    {
     "data": {
      "text/plain": [
       "array([-3., -1.,  0.,  1.,  3.])"
      ]
     },
     "execution_count": 15,
     "metadata": {},
     "output_type": "execute_result"
    }
   ],
   "source": [
    "a - np.mean(a)"
   ]
  },
  {
   "cell_type": "code",
   "execution_count": 17,
   "id": "504ae6c6",
   "metadata": {},
   "outputs": [
    {
     "data": {
      "text/plain": [
       "np.float64(4.0)"
      ]
     },
     "execution_count": 17,
     "metadata": {},
     "output_type": "execute_result"
    }
   ],
   "source": [
    "np.var(a)"
   ]
  },
  {
   "cell_type": "code",
   "execution_count": 20,
   "id": "46d2ed46",
   "metadata": {},
   "outputs": [
    {
     "data": {
      "text/plain": [
       "np.float64(2.0)"
      ]
     },
     "execution_count": 20,
     "metadata": {},
     "output_type": "execute_result"
    }
   ],
   "source": [
    "np.std(a)"
   ]
  },
  {
   "cell_type": "code",
   "execution_count": 11,
   "id": "60a2267e",
   "metadata": {},
   "outputs": [],
   "source": [
    "b = a + 4"
   ]
  },
  {
   "cell_type": "code",
   "execution_count": 16,
   "id": "89e324e1",
   "metadata": {},
   "outputs": [
    {
     "data": {
      "text/plain": [
       "array([-3., -1.,  0.,  1.,  3.])"
      ]
     },
     "execution_count": 16,
     "metadata": {},
     "output_type": "execute_result"
    }
   ],
   "source": [
    "b - np.mean(b)"
   ]
  },
  {
   "cell_type": "code",
   "execution_count": 18,
   "id": "e511a84d",
   "metadata": {},
   "outputs": [
    {
     "data": {
      "text/plain": [
       "np.float64(4.0)"
      ]
     },
     "execution_count": 18,
     "metadata": {},
     "output_type": "execute_result"
    }
   ],
   "source": [
    "np.var(b)"
   ]
  },
  {
   "cell_type": "code",
   "execution_count": 19,
   "id": "db2e08b7",
   "metadata": {},
   "outputs": [
    {
     "data": {
      "text/plain": [
       "np.float64(2.0)"
      ]
     },
     "execution_count": 19,
     "metadata": {},
     "output_type": "execute_result"
    }
   ],
   "source": [
    "np.std(b)"
   ]
  },
  {
   "cell_type": "code",
   "execution_count": 22,
   "id": "ff2479c6",
   "metadata": {},
   "outputs": [
    {
     "data": {
      "text/plain": [
       "170.3312"
      ]
     },
     "execution_count": 22,
     "metadata": {},
     "output_type": "execute_result"
    }
   ],
   "source": [
    "5.22 * 1.96 + 160.1"
   ]
  },
  {
   "cell_type": "code",
   "execution_count": 23,
   "id": "b099a72f",
   "metadata": {},
   "outputs": [
    {
     "data": {
      "text/plain": [
       "149.8688"
      ]
     },
     "execution_count": 23,
     "metadata": {},
     "output_type": "execute_result"
    }
   ],
   "source": [
    "160.1 - (5.22 * 1.96 )"
   ]
  },
  {
   "cell_type": "code",
   "execution_count": 1,
   "id": "bcfb7afd",
   "metadata": {},
   "outputs": [],
   "source": [
    "import pymysql"
   ]
  },
  {
   "cell_type": "code",
   "execution_count": 2,
   "id": "bbc49c98",
   "metadata": {},
   "outputs": [],
   "source": [
    "conn = pymysql.connect(host='127.0.0.1', user='play', passwd='123', database='sk17', port=3306)"
   ]
  },
  {
   "cell_type": "code",
   "execution_count": 3,
   "id": "7cfecda0",
   "metadata": {},
   "outputs": [],
   "source": [
    "cur = conn.cursor()"
   ]
  },
  {
   "cell_type": "code",
   "execution_count": 4,
   "id": "442a92f5",
   "metadata": {},
   "outputs": [
    {
     "data": {
      "text/plain": [
       "1"
      ]
     },
     "execution_count": 4,
     "metadata": {},
     "output_type": "execute_result"
    }
   ],
   "source": [
    "cur.execute(\"show tables\")"
   ]
  },
  {
   "cell_type": "code",
   "execution_count": 5,
   "id": "86174480",
   "metadata": {},
   "outputs": [
    {
     "data": {
      "text/plain": [
       "(('stock_day',),)"
      ]
     },
     "execution_count": 5,
     "metadata": {},
     "output_type": "execute_result"
    }
   ],
   "source": [
    "cur.fetchall()"
   ]
  },
  {
   "cell_type": "code",
   "execution_count": 6,
   "id": "52adf9c4",
   "metadata": {},
   "outputs": [],
   "source": [
    "sql = \"INSERT INTO stock_day VALUES (%s, %s, %s, %s, %s, %s, %s)\""
   ]
  },
  {
   "cell_type": "code",
   "execution_count": null,
   "id": "a0ad104c",
   "metadata": {},
   "outputs": [
    {
     "data": {
      "text/plain": [
       "1"
      ]
     },
     "execution_count": 7,
     "metadata": {},
     "output_type": "execute_result"
    }
   ],
   "source": [
    "cur.execute(sql, ['2025-05-29', 123,123,123,123,123,123])"
   ]
  },
  {
   "cell_type": "code",
   "execution_count": 8,
   "id": "0e85bffb",
   "metadata": {},
   "outputs": [],
   "source": [
    "conn.commit()"
   ]
  },
  {
   "cell_type": "code",
   "execution_count": 4,
   "id": "8bf0f389",
   "metadata": {},
   "outputs": [],
   "source": [
    "import requests "
   ]
  },
  {
   "cell_type": "code",
   "execution_count": 5,
   "id": "4f2cfcc3",
   "metadata": {},
   "outputs": [],
   "source": [
    "data = eval(requests.get(\"https://m.stock.naver.com/front-api/external/chart/domestic/info?symbol=403490&requestType=1&startTime=20230406&endTime=20231220&timeframe=day\").text.strip())"
   ]
  },
  {
   "cell_type": "code",
   "execution_count": null,
   "id": "49c24b16",
   "metadata": {},
   "outputs": [],
   "source": [
    "sql = \"insert into  naver_day_stock values (%s,%s,%s,%s,%s,%s,%s)\"\n",
    "for x in data[1:]:\n",
    "    cur.execute(sql, ['403490']  + x[:-1])\n",
    "conn.commit()"
   ]
  },
  {
   "cell_type": "code",
   "execution_count": null,
   "id": "8a0351c8",
   "metadata": {},
   "outputs": [],
   "source": [
    "cur.execute(\"TRUNCATE TABLE naver_day_stock;\")"
   ]
  },
  {
   "cell_type": "code",
   "execution_count": 27,
   "id": "a4b646bf",
   "metadata": {},
   "outputs": [],
   "source": [
    "def get_stock(code, s_date, e_date):\n",
    "    data = eval(requests.get(f\"https://m.stock.naver.com/front-api/external/chart/domestic/info?symbol={code}&requestType=1&startTime={s_date}&endTime={e_date}&timeframe=day\").text.strip())\n",
    "    sql = \"insert into  naver_day_stock values (%s,%s,%s,%s,%s,%s,%s)\"\n",
    "    for x in data[1:]:\n",
    "        try:\n",
    "            cur.execute(sql, [code]  + x[:-1])\n",
    "        except Exception as e:\n",
    "            print(e)\n",
    "    conn.commit()"
   ]
  },
  {
   "cell_type": "code",
   "execution_count": 28,
   "id": "56a8f4fe",
   "metadata": {},
   "outputs": [
    {
     "name": "stdout",
     "output_type": "stream",
     "text": [
      "(1062, \"Duplicate entry '005930-2025-01-02' for key 'naver_day_stock.PRIMARY'\")\n",
      "(1062, \"Duplicate entry '005930-2025-01-03' for key 'naver_day_stock.PRIMARY'\")\n",
      "(1062, \"Duplicate entry '005930-2025-01-06' for key 'naver_day_stock.PRIMARY'\")\n",
      "(1062, \"Duplicate entry '005930-2025-01-07' for key 'naver_day_stock.PRIMARY'\")\n",
      "(1062, \"Duplicate entry '005930-2025-01-08' for key 'naver_day_stock.PRIMARY'\")\n",
      "(1062, \"Duplicate entry '005930-2025-01-09' for key 'naver_day_stock.PRIMARY'\")\n",
      "(1062, \"Duplicate entry '005930-2025-01-10' for key 'naver_day_stock.PRIMARY'\")\n",
      "(1062, \"Duplicate entry '005930-2025-01-13' for key 'naver_day_stock.PRIMARY'\")\n",
      "(1062, \"Duplicate entry '005930-2025-01-14' for key 'naver_day_stock.PRIMARY'\")\n",
      "(1062, \"Duplicate entry '005930-2025-01-15' for key 'naver_day_stock.PRIMARY'\")\n",
      "(1062, \"Duplicate entry '005930-2025-01-16' for key 'naver_day_stock.PRIMARY'\")\n",
      "(1062, \"Duplicate entry '005930-2025-01-17' for key 'naver_day_stock.PRIMARY'\")\n",
      "(1062, \"Duplicate entry '005930-2025-01-20' for key 'naver_day_stock.PRIMARY'\")\n",
      "(1062, \"Duplicate entry '005930-2025-01-21' for key 'naver_day_stock.PRIMARY'\")\n",
      "(1062, \"Duplicate entry '005930-2025-01-22' for key 'naver_day_stock.PRIMARY'\")\n",
      "(1062, \"Duplicate entry '005930-2025-01-23' for key 'naver_day_stock.PRIMARY'\")\n",
      "(1062, \"Duplicate entry '005930-2025-01-24' for key 'naver_day_stock.PRIMARY'\")\n",
      "(1062, \"Duplicate entry '005930-2025-01-31' for key 'naver_day_stock.PRIMARY'\")\n",
      "(1062, \"Duplicate entry '005930-2025-02-03' for key 'naver_day_stock.PRIMARY'\")\n",
      "(1062, \"Duplicate entry '005930-2025-02-04' for key 'naver_day_stock.PRIMARY'\")\n",
      "(1062, \"Duplicate entry '005930-2025-02-05' for key 'naver_day_stock.PRIMARY'\")\n",
      "(1062, \"Duplicate entry '005930-2025-02-06' for key 'naver_day_stock.PRIMARY'\")\n",
      "(1062, \"Duplicate entry '005930-2025-02-07' for key 'naver_day_stock.PRIMARY'\")\n",
      "(1062, \"Duplicate entry '005930-2025-02-10' for key 'naver_day_stock.PRIMARY'\")\n",
      "(1062, \"Duplicate entry '005930-2025-02-11' for key 'naver_day_stock.PRIMARY'\")\n",
      "(1062, \"Duplicate entry '005930-2025-02-12' for key 'naver_day_stock.PRIMARY'\")\n",
      "(1062, \"Duplicate entry '005930-2025-02-13' for key 'naver_day_stock.PRIMARY'\")\n",
      "(1062, \"Duplicate entry '005930-2025-02-14' for key 'naver_day_stock.PRIMARY'\")\n",
      "(1062, \"Duplicate entry '005930-2025-02-17' for key 'naver_day_stock.PRIMARY'\")\n",
      "(1062, \"Duplicate entry '005930-2025-02-18' for key 'naver_day_stock.PRIMARY'\")\n",
      "(1062, \"Duplicate entry '005930-2025-02-19' for key 'naver_day_stock.PRIMARY'\")\n",
      "(1062, \"Duplicate entry '005930-2025-02-20' for key 'naver_day_stock.PRIMARY'\")\n",
      "(1062, \"Duplicate entry '005930-2025-02-21' for key 'naver_day_stock.PRIMARY'\")\n",
      "(1062, \"Duplicate entry '005930-2025-02-24' for key 'naver_day_stock.PRIMARY'\")\n",
      "(1062, \"Duplicate entry '005930-2025-02-25' for key 'naver_day_stock.PRIMARY'\")\n",
      "(1062, \"Duplicate entry '005930-2025-02-26' for key 'naver_day_stock.PRIMARY'\")\n",
      "(1062, \"Duplicate entry '005930-2025-02-27' for key 'naver_day_stock.PRIMARY'\")\n",
      "(1062, \"Duplicate entry '005930-2025-02-28' for key 'naver_day_stock.PRIMARY'\")\n",
      "(1062, \"Duplicate entry '005930-2025-03-04' for key 'naver_day_stock.PRIMARY'\")\n",
      "(1062, \"Duplicate entry '005930-2025-03-05' for key 'naver_day_stock.PRIMARY'\")\n",
      "(1062, \"Duplicate entry '005930-2025-03-06' for key 'naver_day_stock.PRIMARY'\")\n",
      "(1062, \"Duplicate entry '005930-2025-03-07' for key 'naver_day_stock.PRIMARY'\")\n",
      "(1062, \"Duplicate entry '005930-2025-03-10' for key 'naver_day_stock.PRIMARY'\")\n",
      "(1062, \"Duplicate entry '005930-2025-03-11' for key 'naver_day_stock.PRIMARY'\")\n",
      "(1062, \"Duplicate entry '005930-2025-03-12' for key 'naver_day_stock.PRIMARY'\")\n",
      "(1062, \"Duplicate entry '005930-2025-03-13' for key 'naver_day_stock.PRIMARY'\")\n",
      "(1062, \"Duplicate entry '005930-2025-03-14' for key 'naver_day_stock.PRIMARY'\")\n",
      "(1062, \"Duplicate entry '005930-2025-03-17' for key 'naver_day_stock.PRIMARY'\")\n",
      "(1062, \"Duplicate entry '005930-2025-03-18' for key 'naver_day_stock.PRIMARY'\")\n",
      "(1062, \"Duplicate entry '005930-2025-03-19' for key 'naver_day_stock.PRIMARY'\")\n",
      "(1062, \"Duplicate entry '005930-2025-03-20' for key 'naver_day_stock.PRIMARY'\")\n",
      "(1062, \"Duplicate entry '005930-2025-03-21' for key 'naver_day_stock.PRIMARY'\")\n",
      "(1062, \"Duplicate entry '005930-2025-03-24' for key 'naver_day_stock.PRIMARY'\")\n",
      "(1062, \"Duplicate entry '005930-2025-03-25' for key 'naver_day_stock.PRIMARY'\")\n",
      "(1062, \"Duplicate entry '005930-2025-03-26' for key 'naver_day_stock.PRIMARY'\")\n",
      "(1062, \"Duplicate entry '005930-2025-03-27' for key 'naver_day_stock.PRIMARY'\")\n",
      "(1062, \"Duplicate entry '005930-2025-03-28' for key 'naver_day_stock.PRIMARY'\")\n",
      "(1062, \"Duplicate entry '005930-2025-03-31' for key 'naver_day_stock.PRIMARY'\")\n",
      "(1062, \"Duplicate entry '005930-2025-04-01' for key 'naver_day_stock.PRIMARY'\")\n",
      "(1062, \"Duplicate entry '005930-2025-04-02' for key 'naver_day_stock.PRIMARY'\")\n",
      "(1062, \"Duplicate entry '005930-2025-04-03' for key 'naver_day_stock.PRIMARY'\")\n",
      "(1062, \"Duplicate entry '005930-2025-04-04' for key 'naver_day_stock.PRIMARY'\")\n",
      "(1062, \"Duplicate entry '005930-2025-04-07' for key 'naver_day_stock.PRIMARY'\")\n",
      "(1062, \"Duplicate entry '005930-2025-04-08' for key 'naver_day_stock.PRIMARY'\")\n",
      "(1062, \"Duplicate entry '005930-2025-04-09' for key 'naver_day_stock.PRIMARY'\")\n",
      "(1062, \"Duplicate entry '005930-2025-04-10' for key 'naver_day_stock.PRIMARY'\")\n",
      "(1062, \"Duplicate entry '005930-2025-04-11' for key 'naver_day_stock.PRIMARY'\")\n",
      "(1062, \"Duplicate entry '005930-2025-04-14' for key 'naver_day_stock.PRIMARY'\")\n",
      "(1062, \"Duplicate entry '005930-2025-04-15' for key 'naver_day_stock.PRIMARY'\")\n",
      "(1062, \"Duplicate entry '005930-2025-04-16' for key 'naver_day_stock.PRIMARY'\")\n",
      "(1062, \"Duplicate entry '005930-2025-04-17' for key 'naver_day_stock.PRIMARY'\")\n",
      "(1062, \"Duplicate entry '005930-2025-04-18' for key 'naver_day_stock.PRIMARY'\")\n",
      "(1062, \"Duplicate entry '005930-2025-04-21' for key 'naver_day_stock.PRIMARY'\")\n",
      "(1062, \"Duplicate entry '005930-2025-04-22' for key 'naver_day_stock.PRIMARY'\")\n",
      "(1062, \"Duplicate entry '005930-2025-04-23' for key 'naver_day_stock.PRIMARY'\")\n",
      "(1062, \"Duplicate entry '005930-2025-04-24' for key 'naver_day_stock.PRIMARY'\")\n",
      "(1062, \"Duplicate entry '005930-2025-04-25' for key 'naver_day_stock.PRIMARY'\")\n",
      "(1062, \"Duplicate entry '005930-2025-04-28' for key 'naver_day_stock.PRIMARY'\")\n",
      "(1062, \"Duplicate entry '005930-2025-04-29' for key 'naver_day_stock.PRIMARY'\")\n",
      "(1062, \"Duplicate entry '005930-2025-04-30' for key 'naver_day_stock.PRIMARY'\")\n",
      "(1062, \"Duplicate entry '005930-2025-05-02' for key 'naver_day_stock.PRIMARY'\")\n",
      "(1062, \"Duplicate entry '005930-2025-05-07' for key 'naver_day_stock.PRIMARY'\")\n",
      "(1062, \"Duplicate entry '005930-2025-05-08' for key 'naver_day_stock.PRIMARY'\")\n",
      "(1062, \"Duplicate entry '005930-2025-05-09' for key 'naver_day_stock.PRIMARY'\")\n",
      "(1062, \"Duplicate entry '005930-2025-05-12' for key 'naver_day_stock.PRIMARY'\")\n",
      "(1062, \"Duplicate entry '005930-2025-05-13' for key 'naver_day_stock.PRIMARY'\")\n",
      "(1062, \"Duplicate entry '005930-2025-05-14' for key 'naver_day_stock.PRIMARY'\")\n",
      "(1062, \"Duplicate entry '005930-2025-05-15' for key 'naver_day_stock.PRIMARY'\")\n",
      "(1062, \"Duplicate entry '005930-2025-05-16' for key 'naver_day_stock.PRIMARY'\")\n",
      "(1062, \"Duplicate entry '005930-2025-05-19' for key 'naver_day_stock.PRIMARY'\")\n",
      "(1062, \"Duplicate entry '005930-2025-05-20' for key 'naver_day_stock.PRIMARY'\")\n",
      "(1062, \"Duplicate entry '005930-2025-05-21' for key 'naver_day_stock.PRIMARY'\")\n",
      "(1062, \"Duplicate entry '005930-2025-05-22' for key 'naver_day_stock.PRIMARY'\")\n",
      "(1062, \"Duplicate entry '005930-2025-05-23' for key 'naver_day_stock.PRIMARY'\")\n",
      "(1062, \"Duplicate entry '005930-2025-05-26' for key 'naver_day_stock.PRIMARY'\")\n",
      "(1062, \"Duplicate entry '005930-2025-05-27' for key 'naver_day_stock.PRIMARY'\")\n",
      "(1062, \"Duplicate entry '005930-2025-05-28' for key 'naver_day_stock.PRIMARY'\")\n"
     ]
    }
   ],
   "source": [
    "get_stock('005930', '20250101', '20250528')"
   ]
  },
  {
   "cell_type": "code",
   "execution_count": null,
   "id": "fcc1c306",
   "metadata": {},
   "outputs": [],
   "source": []
  }
 ],
 "metadata": {
  "kernelspec": {
   "display_name": "base",
   "language": "python",
   "name": "python3"
  },
  "language_info": {
   "codemirror_mode": {
    "name": "ipython",
    "version": 3
   },
   "file_extension": ".py",
   "mimetype": "text/x-python",
   "name": "python",
   "nbconvert_exporter": "python",
   "pygments_lexer": "ipython3",
   "version": "3.10.16"
  }
 },
 "nbformat": 4,
 "nbformat_minor": 5
}
