{
 "cells": [
  {
   "cell_type": "code",
   "execution_count": 1,
   "id": "ccd5f1ea",
   "metadata": {},
   "outputs": [],
   "source": [
    "from langchain_core.prompts import PromptTemplate"
   ]
  },
  {
   "cell_type": "code",
   "execution_count": 2,
   "id": "d401357e",
   "metadata": {},
   "outputs": [],
   "source": [
    "template = \"{country}의 수도는 어디\""
   ]
  },
  {
   "cell_type": "code",
   "execution_count": 3,
   "id": "aab86b33",
   "metadata": {},
   "outputs": [],
   "source": [
    "prompt = PromptTemplate.from_template(template)"
   ]
  },
  {
   "cell_type": "code",
   "execution_count": 26,
   "id": "203da8e9",
   "metadata": {},
   "outputs": [],
   "source": [
    "from langchain_openai import ChatOpenAI\n",
    "llm = ChatOpenAI(\n",
    "    temperature=0, \n",
    "    model_name='gpt-4.1-nano'\n",
    ")\n"
   ]
  },
  {
   "cell_type": "code",
   "execution_count": 12,
   "id": "75a0012e",
   "metadata": {},
   "outputs": [],
   "source": [
    "chain = prompt | llm"
   ]
  },
  {
   "cell_type": "code",
   "execution_count": 15,
   "id": "f2ba65de",
   "metadata": {},
   "outputs": [
    {
     "name": "stdout",
     "output_type": "stream",
     "text": [
      "미국의 수도는 워싱턴 D.C. (Washington, D.C.)입니다.\n"
     ]
    }
   ],
   "source": [
    "print(chain.invoke(\"미국\").content)"
   ]
  },
  {
   "cell_type": "code",
   "execution_count": 23,
   "id": "8669e630",
   "metadata": {},
   "outputs": [],
   "source": [
    "template = \"{company}는 어느 나라 회사?\"\n",
    "prompt = PromptTemplate.from_template(template)\n",
    "chain = prompt | llm"
   ]
  },
  {
   "cell_type": "code",
   "execution_count": 18,
   "id": "269be15d",
   "metadata": {},
   "outputs": [],
   "source": [
    "company_list = ['레고', '볼보', '메르세데스 벤츠', '기린', '화웨이', '삼성전자', '보쉬']"
   ]
  },
  {
   "cell_type": "code",
   "execution_count": 21,
   "id": "17a81468",
   "metadata": {},
   "outputs": [],
   "source": [
    "import pandas as pd \n",
    "df = pd.DataFrame(data=company_list, columns=['기업명'])"
   ]
  },
  {
   "cell_type": "code",
   "execution_count": 24,
   "id": "de935990",
   "metadata": {},
   "outputs": [],
   "source": [
    "df['나라'] = df['기업명'].apply(lambda x : chain.invoke(x).content )"
   ]
  },
  {
   "cell_type": "code",
   "execution_count": 25,
   "id": "3aae3876",
   "metadata": {},
   "outputs": [
    {
     "data": {
      "text/html": [
       "<div>\n",
       "<style scoped>\n",
       "    .dataframe tbody tr th:only-of-type {\n",
       "        vertical-align: middle;\n",
       "    }\n",
       "\n",
       "    .dataframe tbody tr th {\n",
       "        vertical-align: top;\n",
       "    }\n",
       "\n",
       "    .dataframe thead th {\n",
       "        text-align: right;\n",
       "    }\n",
       "</style>\n",
       "<table border=\"1\" class=\"dataframe\">\n",
       "  <thead>\n",
       "    <tr style=\"text-align: right;\">\n",
       "      <th></th>\n",
       "      <th>기업명</th>\n",
       "      <th>나라</th>\n",
       "    </tr>\n",
       "  </thead>\n",
       "  <tbody>\n",
       "    <tr>\n",
       "      <th>0</th>\n",
       "      <td>레고</td>\n",
       "      <td>레고(LEGO)는 덴마크 기업입니다.  \\n- 정식명칭: 더 레고 그룹(The LE...</td>\n",
       "    </tr>\n",
       "    <tr>\n",
       "      <th>1</th>\n",
       "      <td>볼보</td>\n",
       "      <td>볼보(Volvo)는 스웨덴에 본사를 둔 기업입니다.  \\n- Volvo Cars(승...</td>\n",
       "    </tr>\n",
       "    <tr>\n",
       "      <th>2</th>\n",
       "      <td>메르세데스 벤츠</td>\n",
       "      <td>메르세데스-벤츠(Mercedes-Benz)는 독일의 자동차 제조사로, 본사는 슈투트...</td>\n",
       "    </tr>\n",
       "    <tr>\n",
       "      <th>3</th>\n",
       "      <td>기린</td>\n",
       "      <td>기린(Kirin)은 일본의 기업입니다. 정확히는 ‘기린홀딩스 주식회사(Kirin H...</td>\n",
       "    </tr>\n",
       "    <tr>\n",
       "      <th>4</th>\n",
       "      <td>화웨이</td>\n",
       "      <td>화웨이(華為·Huawei)는 중국 기업입니다.  \\n본사는 중국 광둥성 선전(深圳)...</td>\n",
       "    </tr>\n",
       "    <tr>\n",
       "      <th>5</th>\n",
       "      <td>삼성전자</td>\n",
       "      <td>삼성전자는 대한민국의 다국적 전자·IT 기업으로, 본사는 경기도 수원시 영통구에 있...</td>\n",
       "    </tr>\n",
       "    <tr>\n",
       "      <th>6</th>\n",
       "      <td>보쉬</td>\n",
       "      <td>보쉬(Bosch)는 독일의 다국적 공학·기술 기업입니다.  \\n정식 명칭은 “로버트...</td>\n",
       "    </tr>\n",
       "  </tbody>\n",
       "</table>\n",
       "</div>"
      ],
      "text/plain": [
       "        기업명                                                 나라\n",
       "0        레고  레고(LEGO)는 덴마크 기업입니다.  \\n- 정식명칭: 더 레고 그룹(The LE...\n",
       "1        볼보  볼보(Volvo)는 스웨덴에 본사를 둔 기업입니다.  \\n- Volvo Cars(승...\n",
       "2  메르세데스 벤츠  메르세데스-벤츠(Mercedes-Benz)는 독일의 자동차 제조사로, 본사는 슈투트...\n",
       "3        기린  기린(Kirin)은 일본의 기업입니다. 정확히는 ‘기린홀딩스 주식회사(Kirin H...\n",
       "4       화웨이  화웨이(華為·Huawei)는 중국 기업입니다.  \\n본사는 중국 광둥성 선전(深圳)...\n",
       "5      삼성전자  삼성전자는 대한민국의 다국적 전자·IT 기업으로, 본사는 경기도 수원시 영통구에 있...\n",
       "6        보쉬  보쉬(Bosch)는 독일의 다국적 공학·기술 기업입니다.  \\n정식 명칭은 “로버트..."
      ]
     },
     "execution_count": 25,
     "metadata": {},
     "output_type": "execute_result"
    }
   ],
   "source": [
    "df"
   ]
  },
  {
   "cell_type": "code",
   "execution_count": 33,
   "id": "a4622452",
   "metadata": {},
   "outputs": [],
   "source": [
    "from datetime import datetime \n",
    "def get_today():\n",
    "    return datetime.now().strftime(\"%m-%d\")"
   ]
  },
  {
   "cell_type": "code",
   "execution_count": 34,
   "id": "1ced0d94",
   "metadata": {},
   "outputs": [],
   "source": [
    "prompt = PromptTemplate(\n",
    "    template=\"오늘의 날짜는 {today} 입니다. 오늘 역사적으로 어떤 일이 있었는지 {n}개을 나열해줘\",\n",
    "    input_variables=[\"n\"],\n",
    "    partial_variables={\n",
    "        \"today\" : get_today\n",
    "    }\n",
    ")"
   ]
  },
  {
   "cell_type": "code",
   "execution_count": 36,
   "id": "a10c151a",
   "metadata": {},
   "outputs": [
    {
     "data": {
      "text/plain": [
       "'오늘의 날짜는 07-16 입니다. 오늘 역사적으로 어떤 일이 있었는지 5개을 나열해줘'"
      ]
     },
     "execution_count": 36,
     "metadata": {},
     "output_type": "execute_result"
    }
   ],
   "source": [
    "prompt.format(n=5)"
   ]
  },
  {
   "cell_type": "code",
   "execution_count": 42,
   "id": "226fefaf",
   "metadata": {},
   "outputs": [],
   "source": [
    "chain = prompt | llm"
   ]
  },
  {
   "cell_type": "code",
   "execution_count": 43,
   "id": "b7717297",
   "metadata": {},
   "outputs": [
    {
     "name": "stdout",
     "output_type": "stream",
     "text": [
      "물론입니다! 7월 16일에 역사적으로 일어난 주요 사건 5가지를 소개합니다.\n",
      "\n",
      "1. 1945년 — 미국이 최초의 원자폭탄 실험인 '트리니티 실험'을 뉴멕시코 사막에서 성공적으로 수행함. 이 실험은 핵 시대의 시작을 알렸습니다.\n",
      "\n",
      "2. 1969년 — 미국의 아폴로 11호가 달에 착륙하여 인류 최초로 달 표면에 발을 디딤. 닐 암스트롱과 버즈 올드린이 달에 내렸습니다.\n",
      "\n",
      "3. 1212년 — 알바이신 전투(또는 알바이신 전투)가 벌어져, 기독교 군대가 무슬림 군대를 격파하며 스페인 기독교 왕국들이 이베리아 반도를 재통합하는 계기를 마련함.\n",
      "\n",
      "4. 1944년 — 프랑스의 파리에서 저항운동이 활발히 일어나, 나치 점령 하의 파리에서 대규모 봉기와 저항이 시작됨.\n",
      "\n",
      "5. 1979년 — 이란에서 팔레비 왕조가 무너지기 시작하며, 이슬람 혁명이 본격화됨. 이는 이란의 정치 지형에 큰 변화를 가져옴.\n",
      "\n",
      "이날은 과학, 우주 탐사, 역사적 전투와 혁명 등 다양한 분야에서 중요한 사건들이 일어난 날입니다.\n"
     ]
    }
   ],
   "source": [
    "print(chain.invoke(5).content)"
   ]
  },
  {
   "cell_type": "code",
   "execution_count": 44,
   "id": "aeca318c",
   "metadata": {},
   "outputs": [],
   "source": [
    "import imaplib\n",
    "import email\n",
    "from email.header import decode_header, make_header"
   ]
  },
  {
   "cell_type": "code",
   "execution_count": 45,
   "id": "e654ed51",
   "metadata": {},
   "outputs": [],
   "source": [
    "server_= \"imap.gmail.com\"\n",
    "email_id = \"#########@gmail.com\"\n",
    "passwd = 'qiul jsce dper kncd'"
   ]
  },
  {
   "cell_type": "code",
   "execution_count": 46,
   "id": "9a1a7ac9",
   "metadata": {},
   "outputs": [],
   "source": [
    "imap = imaplib.IMAP4_SSL(server_)"
   ]
  },
  {
   "cell_type": "code",
   "execution_count": 48,
   "id": "e6740657",
   "metadata": {},
   "outputs": [],
   "source": [
    "result = imap.login(email_id, passwd)"
   ]
  },
  {
   "cell_type": "code",
   "execution_count": null,
   "id": "12ed2c31",
   "metadata": {},
   "outputs": [],
   "source": [
    "import smtplib\n",
    "from email.mime.multipart import MIMEMultipart\n",
    "from email.mime.text import MIMEText\n",
    "from email.utils import formatdate\n",
    "from email.mime.application import MIMEApplication\n",
    "from email.mime.base import MIMEBase\n",
    "from email.encoders import encode_base64\n",
    "from email.header import Header\n",
    "def send_mail(id_, pass_, email_to , email_subject, email_message_html, filename=None):\n",
    "    smtp = smtplib.SMTP_SSL(\"smtp.gmail.com\", 465) \n",
    "    smtp.login(id_, pass_)\n",
    "    \n",
    "    msg = MIMEMultipart('mixed')\n",
    "    # 보내는 사람 \n",
    "    # msg['From'] = email_to\n",
    "    # 받는 사람 \n",
    "    msg['To'] = email_to\n",
    "    # 날짜\n",
    "    # msg['Date'] = formatdate(localtime=True)\n",
    "    # 제목\n",
    "    msg['Subject'] = email_subject\n",
    "    # 본문 추가 (html형식으로 인코딩 방식은 utf-8)\n",
    "    msg.attach(MIMEText(email_message_html, \"html\", _charset=\"utf-8\"))\n",
    "\n",
    "\n",
    "    smtp.sendmail(email_to,email_to, msg.as_string())"
   ]
  },
  {
   "cell_type": "code",
   "execution_count": 52,
   "id": "7eddcaac",
   "metadata": {},
   "outputs": [],
   "source": [
    "email_date = formatdate(localtime=True)\n",
    "email_subject = \"2025-07-16 역사적인.....\"\n",
    "email_message_html = chain.invoke(5).content"
   ]
  },
  {
   "cell_type": "code",
   "execution_count": null,
   "id": "850c9da1",
   "metadata": {},
   "outputs": [],
   "source": [
    "id_ = \"seowoong362@gmail.com\"\n",
    "pass_ = 'qiul jsce dper kncd'\n",
    "send_mail(id_, pass_, '너희 이메일', \"안녕\", email_message_html)"
   ]
  },
  {
   "cell_type": "code",
   "execution_count": 57,
   "id": "4dee6026",
   "metadata": {},
   "outputs": [],
   "source": [
    "from langchain_core.prompts import load_prompt\n",
    "prompt =load_prompt(\"./prompts/fruit_color.yaml\", encoding='utf-8')"
   ]
  },
  {
   "cell_type": "code",
   "execution_count": 58,
   "id": "96218e3a",
   "metadata": {},
   "outputs": [],
   "source": [
    "from langchain_core.prompts import ChatPromptTemplate"
   ]
  },
  {
   "cell_type": "code",
   "execution_count": 61,
   "id": "c30d5be9",
   "metadata": {},
   "outputs": [],
   "source": [
    "chat_template = ChatPromptTemplate.from_messages(\n",
    "    [\n",
    "        (\"system\" , \"당신은 친절한 연애 전문입니다. 당신의 이름은 {name}입니다.\"),\n",
    "        (\"human\" , \"소개팅 나가는데 뭘 입고 나갈까?\"),\n",
    "        (\"ai\" , \"무엇을 도와드릴까요?\"),\n",
    "        ('human', \"{user_input}\")\n",
    "    ]\n",
    ")"
   ]
  },
  {
   "cell_type": "code",
   "execution_count": 62,
   "id": "460a73fd",
   "metadata": {},
   "outputs": [],
   "source": [
    "message = chat_template.format_messages(name=\"마이클\", user_input=\"비오는데 소개팅 나가\")"
   ]
  },
  {
   "cell_type": "code",
   "execution_count": 64,
   "id": "5d3eb79f",
   "metadata": {},
   "outputs": [
    {
     "data": {
      "text/plain": [
       "'비 오는 날 소개팅이라니, 우산과 함께 깔끔하면서도 스타일리시한 옷차림이 좋아요! 예를 들어, 방수 기능이 있는 깔끔한 자켓이나 트렌디한 우비를 입고, 안에는 깔끔한 셔츠나 니트, 편안하면서도 세련된 바지를 매치하면 좋아요. 신발은 방수 기능이 있는 로퍼나 부츠를 신는 것도 좋고요. 무엇보다 중요한 건 자신감이니, 편안하고 자연스럽게 입는 게 가장 멋져 보여요! 혹시 어떤 스타일을 좋아하시는지 알려주시면 더 구체적인 추천도 드릴게요.'"
      ]
     },
     "execution_count": 64,
     "metadata": {},
     "output_type": "execute_result"
    }
   ],
   "source": [
    "llm.invoke(message).content"
   ]
  },
  {
   "cell_type": "code",
   "execution_count": 65,
   "id": "a951ceeb",
   "metadata": {},
   "outputs": [],
   "source": [
    "chain = chat_template | llm"
   ]
  },
  {
   "cell_type": "code",
   "execution_count": 66,
   "id": "f23137f6",
   "metadata": {},
   "outputs": [
    {
     "data": {
      "text/plain": [
       "'소개팅에 나가는 건 정말 설레고 기대되는 일이죠! 자신감 있게 준비한다면 좋은 만남이 될 거예요. 어떤 옷을 입을지 고민 중이시라면, 깔끔하고 편안한 스타일로 가는 게 좋아요. 혹시 어떤 장소에 가는지, 어떤 분위기인지 알려주시면 더 구체적인 조언도 드릴 수 있어요!'"
      ]
     },
     "execution_count": 66,
     "metadata": {},
     "output_type": "execute_result"
    }
   ],
   "source": [
    "chain.invoke({'name' : '마이클', 'user_input' : \"소개팅 나갈까?\"}).content"
   ]
  },
  {
   "cell_type": "code",
   "execution_count": null,
   "id": "4593db9e",
   "metadata": {},
   "outputs": [],
   "source": [
    "chat_template = ChatPromptTemplate.from_messages(\n",
    "    [\n",
    "        (\"system\" , \"당신은 역할은 {name}\"),\n",
    "        (\"human\" , \"소개팅 나가는데 뭘 입고 나갈까?\"),\n",
    "        (\"ai\" , \"무엇을 도와드릴까요?\"),\n",
    "        ('human', \"{user_input}\")\n",
    "    ]\n",
    ")\n",
    "chain = chat_template | llm"
   ]
  },
  {
   "cell_type": "code",
   "execution_count": 76,
   "id": "1f1642f5",
   "metadata": {},
   "outputs": [],
   "source": [
    "text = \"\"\"직업: 연애 컨설턴트, 심리 상담사\n",
    "경력: 연애 및 인간관계 분야에서 10년 이상의 상담 경험, 다수의 연애코칭 프로그램 참여\n",
    "주요 전문 분야:\n",
    "데이트 코칭 및 매칭\n",
    "이별 극복 및 재회 상담\n",
    "썸과 연애 진입, 연인 사이 갈등 조정\n",
    "자기 개발(자존감, 소통 능력 향상)\n",
    "상담 스타일:\n",
    "공감과 존중을 바탕으로 솔직하고 현실적인 조언 제공\n",
    "각 개인의 상황과 감정에 맞춘 맞춤형 솔루션 제시\n",
    "윤리와 비밀보장을 항상 우선시함\"\"\""
   ]
  },
  {
   "cell_type": "code",
   "execution_count": 77,
   "id": "a55bbac8",
   "metadata": {},
   "outputs": [
    {
     "data": {
      "text/plain": [
       "'혼자가 편하다고 느끼는 것은 자연스럽고 건강한 감정입니다. 자신만의 시간과 공간이 필요하다는 신호일 수 있고, 자기 자신을 돌보는 중요한 과정이기도 하죠. 다만, 이 감정이 너무 오래 지속되거나 외로움으로 연결될 때는 조금 다른 시각이 필요할 수 있어요.\\n\\n혹시 혼자 있는 시간이 너무 외롭거나, 타인과의 관계에서 어려움을 느끼는 부분이 있다면, 그 원인을 함께 살펴보는 것도 도움이 될 수 있어요. 또는 혼자 있는 시간을 더 의미 있게 보내거나, 자신을 더 깊이 이해하는 계기로 삼는 것도 좋은 방법입니다.\\n\\n혹시 이 감정을 어떤 상황에서 느끼는지, 또는 이로 인해 어떤 고민이 생기는지 더 이야기해 주시면, 좀 더 구체적인 조언을 드릴 수 있을 것 같아요.'"
      ]
     },
     "execution_count": 77,
     "metadata": {},
     "output_type": "execute_result"
    }
   ],
   "source": [
    "chain.invoke({'name' : text, 'user_input' : \"혼자가 편해\"}).content"
   ]
  },
  {
   "cell_type": "code",
   "execution_count": 78,
   "id": "7f6e76e4",
   "metadata": {},
   "outputs": [],
   "source": [
    "from langchain_core.output_parsers import StrOutputParser\n",
    "from langchain_core.prompts import ChatPromptTemplate, MessagesPlaceholder"
   ]
  },
  {
   "cell_type": "code",
   "execution_count": 84,
   "id": "6fa17988",
   "metadata": {},
   "outputs": [],
   "source": [
    "chat_prompt = ChatPromptTemplate(\n",
    "    [\n",
    "        (\"system\", \"당신은 요약 전문 AI 어시스턴스입니다. 당신의 임무는 키워드로 기사를 요약하는 것입니다.\" ),\n",
    "        MessagesPlaceholder( variable_name='article' ),\n",
    "        (\"human\" ,  \"제공된 뉴스 기사를 {word} 문장으로 요약해\")\n",
    "    ]\n",
    ")"
   ]
  },
  {
   "cell_type": "code",
   "execution_count": 85,
   "id": "7015691f",
   "metadata": {},
   "outputs": [],
   "source": [
    "article = \"\"\"세계 최대 커피 체인인 스타벅스가 사무직 직원 필수 출근일을 주 3일에서 주 4일로 강화했다.\n",
    "\n",
    "월스트리트저널(WSJ)에 따르면 브라이언 니콜 스타벅스 최고경영자(CEO)는 10월 시작하는 새 회계연도부터 주 4일 출근을 시행한다고 14일(현지시간) 밝혔다.\n",
    "\n",
    "이를 거부하는 직원에게는 자발적 퇴사 프로그램을 제공한다. 퇴사 결정시 퇴직금을 지급한다.\n",
    "\n",
    "현재 원격 근무를 하는 일부 관리자급 직원도 12개월 이내에 스타벅스 본사가 있는 미국 시애틀이나 북미 지역 거점인 캐나다 토론토로 이주해야 한다.\n",
    "\n",
    "앞서 스타벅스는 지부사장급 임원에게도 동일한 지침을 내린 바 있다.\n",
    "\n",
    "이번 조치는 니콜 CEO가 추진하는 '백 투 스타벅스' 구조조정 계획의 일환이다. 스타벅스는 2월 본사 사무직 직원 1,100명을 감원했다.\n",
    "\n",
    "니콜 CEO는 \"이 방침에 동의하지 않는 직원들이 있다는 점을 이해한다\"는 입장을 전했다.\n",
    "\n",
    "그러면서도 \"인간적 연결을 기반으로 한 회사로서 향후 구조조정을 고려할 때 이것이 스타벅스에 맞는 길이라고 믿는다\"고 강조했다.\n",
    "\n",
    "한편 니콜 CEO는 지난해 스타벅스 영입 당시 자신의 원격 근무를 조건으로 내세운 것으로 알려진다.\n",
    "\n",
    "다만 직원이 반발하자 이를 철회했다. 현재 회사가 제공하는 전용기로 시애틀 본사에 출퇴근 중이다.\"\"\""
   ]
  },
  {
   "cell_type": "code",
   "execution_count": 86,
   "id": "e954143f",
   "metadata": {},
   "outputs": [],
   "source": [
    "chat_prompt2 = chat_prompt.format(\n",
    "    word=100,\n",
    "    article=[(\"human\",article )]\n",
    ")"
   ]
  },
  {
   "cell_type": "code",
   "execution_count": 87,
   "id": "c44c67c3",
   "metadata": {},
   "outputs": [
    {
     "data": {
      "text/plain": [
       "'1. 스타벅스는 사무직 직원의 출근일수를 주 3일에서 주 4일로 강화한다.  \\n2. 이 조치는 10월 시작하는 새 회계연도부터 시행된다.  \\n3. CEO 브라이언 니콜은 14일(현지시간) 이를 공식 발표했다.  \\n4. 직원이 출근 정책을 거부할 경우 자발적 퇴사 프로그램을 제공한다.  \\n5. 퇴사 시 퇴직금이 지급된다.  \\n6. 일부 원격 근무 관리자도 12개월 내에 시애틀 또는 토론토로 이주해야 한다.  \\n7. 스타벅스는 지부사장급 임원에게도 동일한 지침을 내렸다.  \\n8. 이번 조치는 ‘백 투 스타벅스’ 구조조정 계획의 일환이다.  \\n9. 스타벅스는 2월에 본사 사무직 1,100명을 감원했다.  \\n10. 니콜 CEO는 직원들이 정책에 동의하지 않을 수 있음을 이해한다고 밝혔다.  \\n11. 그는 이것이 스타벅스에 적합한 길이라고 믿는다고 강조했다.  \\n12. 니콜 CEO는 지난해 원격 근무를 조건으로 스타벅스에 입사했다.  \\n13. 그러나 직원 반발로 원격 근무 조건은 철회되었다.  \\n14. 현재 회사는 전용기를 이용해 시애틀 본사로 출퇴근하게 하고 있다.  \\n15. 이번 정책 강화는 회사의 구조조정과 문화 변화의 일환이다.  \\n16. 스타벅스는 직원들의 출근 방식을 재조정하며 업무 방식을 변화시키고 있다.  \\n17. 일부 직원들은 출근 강제에 대해 반발하고 있다.  \\n18. 회사는 자발적 퇴사 프로그램을 통해 인력 조정을 추진한다.  \\n19. 니콜 CEO는 인간적 연결을 중시하는 기업 문화에 대해 언급했다.  \\n20. 이번 조치는 스타벅스의 ‘백 투 스타벅스’ 전략의 핵심이다.  \\n21. 스타벅스는 원격 근무 정책을 재검토하며 출근 정책을 강화한다.  \\n22. 일부 관리자와 임원도 이주 의무를 지게 된다.  \\n23. 직원들의 반발과 우려가 제기되고 있다.  \\n24. 회사는 구조조정과 문화 변화의 균형을 모색 중이다.  \\n25. 니콜 CEO는 출근 정책이 회사의 미래에 적합하다고 믿는다.  \\n26. 스타벅스는 글로벌 기업으로서 업무 방식을 재정립하고 있다.  \\n27. 이번 조치는 직원들의 자율성과 업무 효율성을 고려한 결정이다.  \\n28. 일부 직원들은 원격 근무를 유지하고 싶어한다.  \\n29. 회사는 출근 정책 강화를 통해 조직의 결속력을 높이려 한다.  \\n30. 니콜 CEO는 직원들의 의견을 수렴하는 과정도 진행 중이다.  \\n31. 스타벅스는 이번 정책 변경으로 인력 유연성을 조정한다.  \\n32. 일부 직원들은 퇴사 프로그램을 선택하고 있다.  \\n33. 회사는 출근 강제와 자발적 퇴사 사이의 균형을 찾고 있다.  \\n34. 이번 조치는 스타벅스의 글로벌 전략과도 연관되어 있다.  \\n35. 니콜 CEO는 과거 원격 근무 조건을 철회한 배경을 설명했다.  \\n36. 현재는 출근을 강제하는 정책으로 전환된 상태다.  \\n37. 스타벅스는 직원들의 업무 환경 개선과 비용 절감을 동시에 추진한다.  \\n38. 일부 직원들은 정책 변경에 대해 불만을 표출하고 있다.  \\n39. 회사는 퇴사 시 퇴직금 지급으로 유인책을 제공한다.  \\n40. 이로 인해 일부 직원들은 퇴사를 선택하고 있다.  \\n41. 스타벅스는 글로벌 인력 정책을 재정비하는 중이다.  \\n42. 출근 정책 강화는 기업 문화와도 관련이 있다.  \\n43. 니콜 CEO는 ‘인간적 연결’을 강조하며 정책을 정당화한다.  \\n44. 일부 관리자와 임원도 이주 의무를 지게 된다.  \\n45. 직원들의 반발과 우려가 계속되고 있다.  \\n46. 스타벅스는 구조조정과 문화 변화의 균형을 모색한다.  \\n47. 이번 정책은 회사의 장기 전략과 연계되어 있다.  \\n48. 일부 직원들은 원격 근무를 계속 희망한다.  \\n49. 회사는 출근 정책 강화를 통해 조직 결속력을 높이려 한다.  \\n50. 니콜 CEO는 직원 의견 수렴과 조정을 진행 중이다.  \\n51. 스타벅스는 글로벌 기업으로서 업무 방식을 재정립한다.  \\n52. 이번 조치는 비용 절감과 업무 효율성 향상을 목표로 한다.  \\n53. 일부 직원들은 정책에 반발하며 퇴사를 선택한다.  \\n54. 회사는 자발적 퇴사 프로그램을 통해 인력 조정을 추진한다.  \\n55. 출근 강제와 자율적 퇴사 사이의 균형을 찾고 있다.  \\n56. 이번 정책은 ‘백 투 스타벅스’ 전략의 핵심이다.  \\n57. 스타벅스는 글로벌 인력 정책을 재검토한다.  \\n58. 니콜 CEO는 과거 원격 근무 조건을 철회했다.  \\n59. 현재는 출근 강제 정책으로 전환되었다.  \\n60. 회사는 업무 환경 개선과 비용 절감을 동시에 추진한다.  \\n61. 일부 직원들은 정책 변경에 불만을 표출한다.  \\n62. 퇴사 시 퇴직금 지급으로 유인책을 제공한다.  \\n63. 일부 직원들은 퇴사를 선택한다.  \\n64. 스타벅스는 글로벌 전략과 문화 변화에 맞춰 정책을 조정한다.  \\n65. 니콜 CEO는 ‘인간적 연결’을 강조한다.  \\n66. 일부 관리자와 임원도 이주 의무를 지게 된다.  \\n67. 직원들의 반발과 우려가 계속되고 있다.  \\n68. 스타벅스는 구조조정과 문화 변화의 균형을 모색한다.  \\n69. 이번 정책은 회사의 장기 전략과 연계되어 있다.  \\n70. 일부 직원들은 원격 근무를 계속 희망한다.  \\n71. 회사는 출근 정책 강화를 통해 조직 결속력을 높이려 한다.  \\n72. 니콜 CEO는 직원 의견 수렴과 조정을 진행 중이다.  \\n73. 스타벅스는 글로벌 기업으로서 업무 방식을 재정립한다.  \\n74. 이번 조치는 비용 절감과 업무 효율성 향상을 목표로 한다.  \\n75. 일부 직원들은 정책에 반발하며 퇴사를 선택한다.  \\n76. 회사는 자발적 퇴사 프로그램을 통해 인력 조정을 추진한다.  \\n77. 출근 강제와 자율적 퇴사 사이의 균형을 찾고 있다.  \\n78. 이번 정책은 ‘백 투 스타벅스’ 전략의 핵심이다.  \\n79. 스타벅스는 글로벌 인력 정책을 재검토한다.  \\n80. 니콜 CEO는 과거 원격 근무 조건을 철회했다.  \\n81. 현재는 출근 강제 정책으로 전환되었다.  \\n82. 회사는 업무 환경 개선과 비용 절감을 동시에 추진한다.  \\n83. 일부 직원들은 정책 변경에 불만을 표출한다.  \\n84. 퇴사 시 퇴직금 지급으로 유인책을 제공한다.  \\n85. 일부 직원들은 퇴사를 선택한다.  \\n86. 스타벅스는 글로벌 전략과 문화 변화에 맞춰 정책을 조정한다.  \\n87. 니콜 CEO는 ‘인간적 연결’을 강조한다.  \\n88. 일부 관리자와 임원도 이주 의무를 지게 된다.  \\n89. 직원들의 반발과 우려가 계속되고 있다.  \\n90. 스타벅스는 구조조정과 문화 변화의 균형을 모색한다.  \\n91. 이번 정책은 회사의 장기 전략과 연계되어 있다.  \\n92. 일부 직원들은 원격 근무를 계속 희망한다.  \\n93. 회사는 출근 정책 강화를 통해 조직 결속력을 높이려 한다.  \\n94. 니콜 CEO는 직원 의견 수렴과 조정을 진행 중이다.  \\n95. 스타벅스는 글로벌 기업으로서 업무 방식을 재정립한다.  \\n96. 이번 조치는 비용 절감과 업무 효율성 향상을 목표로 한다.  \\n97. 일부 직원들은 정책에 반발하며 퇴사를 선택한다.  \\n98. 회사는 자발적 퇴사 프로그램을 통해 인력 조정을 추진한다.  \\n99. 출근 강제와 자율적 퇴사 사이의 균형을 찾고 있다.  \\n100. 스타벅스의 이번 정책 강화는 기업 문화와 구조조정의 중요한 전환점이다.'"
      ]
     },
     "execution_count": 87,
     "metadata": {},
     "output_type": "execute_result"
    }
   ],
   "source": [
    "llm.invoke(chat_prompt2).content"
   ]
  },
  {
   "cell_type": "code",
   "execution_count": null,
   "id": "0c40c0c4",
   "metadata": {},
   "outputs": [],
   "source": []
  }
 ],
 "metadata": {
  "kernelspec": {
   "display_name": "base",
   "language": "python",
   "name": "python3"
  },
  "language_info": {
   "codemirror_mode": {
    "name": "ipython",
    "version": 3
   },
   "file_extension": ".py",
   "mimetype": "text/x-python",
   "name": "python",
   "nbconvert_exporter": "python",
   "pygments_lexer": "ipython3",
   "version": "3.10.16"
  }
 },
 "nbformat": 4,
 "nbformat_minor": 5
}
