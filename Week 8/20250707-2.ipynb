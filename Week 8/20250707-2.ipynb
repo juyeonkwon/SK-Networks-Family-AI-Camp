{
 "cells": [
  {
   "cell_type": "code",
   "execution_count": 20,
   "id": "8a862414",
   "metadata": {},
   "outputs": [],
   "source": [
    "from IPython.display import Image\n",
    "%matplotlib inline"
   ]
  },
  {
   "cell_type": "code",
   "execution_count": 21,
   "id": "55f95d75",
   "metadata": {},
   "outputs": [
    {
     "data": {
      "text/html": [
       "<img src=\"https://raw.githubusercontent.com/rickiepark/ml-with-pytorch/main/ch15/figures/15_01.png\" width=\"500\"/>"
      ],
      "text/plain": [
       "<IPython.core.display.Image object>"
      ]
     },
     "execution_count": 21,
     "metadata": {},
     "output_type": "execute_result"
    }
   ],
   "source": [
    "Image(url='https://raw.githubusercontent.com/rickiepark/ml-with-pytorch/main/ch15/figures/15_01.png', width=500)"
   ]
  },
  {
   "cell_type": "code",
   "execution_count": 22,
   "id": "ea42c249",
   "metadata": {},
   "outputs": [
    {
     "data": {
      "text/html": [
       "<img src=\"https://raw.githubusercontent.com/rickiepark/ml-with-pytorch/main/ch15/figures/15_02.png\" width=\"500\"/>"
      ],
      "text/plain": [
       "<IPython.core.display.Image object>"
      ]
     },
     "execution_count": 22,
     "metadata": {},
     "output_type": "execute_result"
    }
   ],
   "source": [
    "Image(url='https://raw.githubusercontent.com/rickiepark/ml-with-pytorch/main/ch15/figures/15_02.png', width=500)"
   ]
  },
  {
   "cell_type": "code",
   "execution_count": 23,
   "id": "34d1eff9",
   "metadata": {},
   "outputs": [
    {
     "data": {
      "text/html": [
       "<img src=\"https://raw.githubusercontent.com/rickiepark/ml-with-pytorch/main/ch15/figures/15_03.png\" width=\"500\"/>"
      ],
      "text/plain": [
       "<IPython.core.display.Image object>"
      ]
     },
     "execution_count": 23,
     "metadata": {},
     "output_type": "execute_result"
    }
   ],
   "source": [
    "Image(url='https://raw.githubusercontent.com/rickiepark/ml-with-pytorch/main/ch15/figures/15_03.png', width=500)"
   ]
  },
  {
   "cell_type": "code",
   "execution_count": 24,
   "id": "b57f11ed",
   "metadata": {},
   "outputs": [
    {
     "data": {
      "text/html": [
       "<img src=\"https://raw.githubusercontent.com/rickiepark/ml-with-pytorch/main/ch15/figures/15_04.png\" width=\"500\"/>"
      ],
      "text/plain": [
       "<IPython.core.display.Image object>"
      ]
     },
     "execution_count": 24,
     "metadata": {},
     "output_type": "execute_result"
    }
   ],
   "source": [
    "Image(url='https://raw.githubusercontent.com/rickiepark/ml-with-pytorch/main/ch15/figures/15_04.png', width=500)"
   ]
  },
  {
   "cell_type": "code",
   "execution_count": 25,
   "id": "437284bd",
   "metadata": {},
   "outputs": [
    {
     "data": {
      "text/html": [
       "<img src=\"https://raw.githubusercontent.com/rickiepark/ml-with-pytorch/main/ch15/figures/15_05.png\" width=\"500\"/>"
      ],
      "text/plain": [
       "<IPython.core.display.Image object>"
      ]
     },
     "execution_count": 25,
     "metadata": {},
     "output_type": "execute_result"
    }
   ],
   "source": [
    "Image(url='https://raw.githubusercontent.com/rickiepark/ml-with-pytorch/main/ch15/figures/15_05.png', width=500)"
   ]
  },
  {
   "cell_type": "code",
   "execution_count": 26,
   "id": "85f4d1ae",
   "metadata": {},
   "outputs": [],
   "source": [
    "import torch\n",
    "import torch.nn as nn"
   ]
  },
  {
   "cell_type": "code",
   "execution_count": 27,
   "id": "51876936",
   "metadata": {},
   "outputs": [],
   "source": [
    "torch.manual_seed(1)\n",
    "rnn_layer= nn.RNN(input_size=5, hidden_size=2, num_layers=1, batch_first=True)"
   ]
  },
  {
   "cell_type": "code",
   "execution_count": 28,
   "id": "dc7164e1",
   "metadata": {},
   "outputs": [],
   "source": [
    "w_xh = rnn_layer.weight_ih_l0\n",
    "w_hh = rnn_layer.weight_hh_l0\n",
    "b_xh = rnn_layer.bias_ih_l0\n",
    "b_hh = rnn_layer.bias_hh_l0"
   ]
  },
  {
   "cell_type": "code",
   "execution_count": 29,
   "id": "f04d3786",
   "metadata": {},
   "outputs": [
    {
     "name": "stdout",
     "output_type": "stream",
     "text": [
      "W_xh 크기 torch.Size([2, 5])\n",
      "W_hh 크기 torch.Size([2, 2])\n",
      "b_xh 크기 torch.Size([2])\n",
      "b_hh 크기 torch.Size([2])\n"
     ]
    }
   ],
   "source": [
    "print(\"W_xh 크기\" , w_xh.shape)\n",
    "print(\"W_hh 크기\" , w_hh.shape)\n",
    "print(\"b_xh 크기\" , b_xh.shape)\n",
    "print(\"b_hh 크기\" , b_hh.shape)"
   ]
  },
  {
   "cell_type": "code",
   "execution_count": 30,
   "id": "01ca3d31",
   "metadata": {},
   "outputs": [],
   "source": [
    "x_seq = torch.tensor([[1.0]*5, [2.0]*5, [3.0]*5]).float()\n"
   ]
  },
  {
   "cell_type": "code",
   "execution_count": 31,
   "id": "0210dd19",
   "metadata": {},
   "outputs": [
    {
     "data": {
      "text/plain": [
       "2"
      ]
     },
     "execution_count": 31,
     "metadata": {},
     "output_type": "execute_result"
    }
   ],
   "source": [
    "x_seq.ndim"
   ]
  },
  {
   "cell_type": "code",
   "execution_count": 32,
   "id": "ac4fe581",
   "metadata": {},
   "outputs": [
    {
     "data": {
      "text/plain": [
       "3"
      ]
     },
     "execution_count": 32,
     "metadata": {},
     "output_type": "execute_result"
    }
   ],
   "source": [
    "x_seq.reshape(-1 ,3,5).ndim"
   ]
  },
  {
   "cell_type": "code",
   "execution_count": 33,
   "id": "c503bf81",
   "metadata": {},
   "outputs": [],
   "source": [
    "output, hn = rnn_layer(x_seq.reshape(-1 ,3, 5))"
   ]
  },
  {
   "cell_type": "code",
   "execution_count": 34,
   "id": "7e7e5682",
   "metadata": {},
   "outputs": [
    {
     "data": {
      "text/plain": [
       "torch.Size([2, 5])"
      ]
     },
     "execution_count": 34,
     "metadata": {},
     "output_type": "execute_result"
    }
   ],
   "source": [
    "w_xh.shape"
   ]
  },
  {
   "cell_type": "code",
   "execution_count": 35,
   "id": "ccb8bb40",
   "metadata": {},
   "outputs": [
    {
     "data": {
      "text/plain": [
       "torch.Size([5, 2])"
      ]
     },
     "execution_count": 35,
     "metadata": {},
     "output_type": "execute_result"
    }
   ],
   "source": [
    "torch.transpose(w_xh, 0, 1).shape"
   ]
  },
  {
   "cell_type": "code",
   "execution_count": null,
   "id": "acda6277",
   "metadata": {},
   "outputs": [],
   "source": []
  },
  {
   "cell_type": "code",
   "execution_count": 36,
   "id": "6ebc7734",
   "metadata": {},
   "outputs": [
    {
     "name": "stdout",
     "output_type": "stream",
     "text": [
      "타임 스텝 0 --> \n",
      "입력    :  [[1. 1. 1. 1. 1.]]\n",
      " 은닉  :  [[-0.4701929   0.58639044]]\n",
      "  출력(수동)   :  tensor([[-0.3520,  0.5253]], grad_fn=<TanhBackward0>)\n",
      "  RNN 모듈에서 계산된 값 :  [[-0.3519801   0.52525216]]\n",
      "타임 스텝 1 --> \n",
      "입력    :  [[2. 2. 2. 2. 2.]]\n",
      " 은닉  :  [[-0.88883156  1.2364398 ]]\n",
      "  출력(수동)   :  tensor([[-0.6842,  0.7607]], grad_fn=<TanhBackward0>)\n",
      "  RNN 모듈에서 계산된 값 :  [[-0.68424344  0.76074266]]\n",
      "타임 스텝 2 --> \n",
      "입력    :  [[3. 3. 3. 3. 3.]]\n",
      " 은닉  :  [[-1.3074702  1.8864892]]\n",
      "  출력(수동)   :  tensor([[-0.8649,  0.9047]], grad_fn=<TanhBackward0>)\n",
      "  RNN 모듈에서 계산된 값 :  [[-0.8649416  0.9046636]]\n"
     ]
    }
   ],
   "source": [
    "out_manual = []\n",
    "for t in range(3):\n",
    "    xt = torch.reshape(x_seq[t], (1,5))\n",
    "    print(f\"타임 스텝 {t} --> \")\n",
    "    print(\"입력    : \", xt.numpy())\n",
    "    \n",
    "    ht = torch.matmul(xt, torch.transpose(w_xh, 0, 1)) + b_xh\n",
    "    print(\" 은닉  : \", ht.detach().numpy())\n",
    "\n",
    "    if t>0:\n",
    "        prev_h = out_manual[t-1]\n",
    "    else:\n",
    "        prev_h = torch.zeros((ht.shape))\n",
    "\n",
    "    ot = ht + torch.matmul(prev_h, torch.transpose(w_hh, 0, 1)) + b_hh\n",
    "    ot = torch.tanh(ot)\n",
    "    out_manual.append(ot)\n",
    "    print (\"  출력(수동)   : \", ot)\n",
    "    print (\"  RNN 모듈에서 계산된 값 : \", output[:, t].detach().numpy())"
   ]
  },
  {
   "cell_type": "code",
   "execution_count": 37,
   "id": "7b44d175",
   "metadata": {},
   "outputs": [
    {
     "data": {
      "text/html": [
       "<img src=\"https://raw.githubusercontent.com/rickiepark/ml-with-pytorch/main/ch15/figures/15_07.png\" width=\"500\"/>"
      ],
      "text/plain": [
       "<IPython.core.display.Image object>"
      ]
     },
     "execution_count": 37,
     "metadata": {},
     "output_type": "execute_result"
    }
   ],
   "source": [
    "Image(url='https://raw.githubusercontent.com/rickiepark/ml-with-pytorch/main/ch15/figures/15_07.png', width=500)"
   ]
  },
  {
   "cell_type": "code",
   "execution_count": 38,
   "id": "7b07c326",
   "metadata": {},
   "outputs": [
    {
     "data": {
      "text/plain": [
       "tensor([[[-0.3520,  0.5253],\n",
       "         [-0.6842,  0.7607],\n",
       "         [-0.8649,  0.9047]]], grad_fn=<TransposeBackward1>)"
      ]
     },
     "execution_count": 38,
     "metadata": {},
     "output_type": "execute_result"
    }
   ],
   "source": [
    "output"
   ]
  },
  {
   "cell_type": "code",
   "execution_count": 39,
   "id": "2a2c22e7",
   "metadata": {},
   "outputs": [
    {
     "data": {
      "text/html": [
       "<img src=\"https://raw.githubusercontent.com/rickiepark/ml-with-pytorch/main/ch15/figures/15_08.png\" width=\"500\"/>"
      ],
      "text/plain": [
       "<IPython.core.display.Image object>"
      ]
     },
     "execution_count": 39,
     "metadata": {},
     "output_type": "execute_result"
    }
   ],
   "source": [
    "Image(url='https://raw.githubusercontent.com/rickiepark/ml-with-pytorch/main/ch15/figures/15_08.png', width=500)"
   ]
  },
  {
   "cell_type": "code",
   "execution_count": 40,
   "id": "afa9c9fa",
   "metadata": {},
   "outputs": [
    {
     "data": {
      "text/plain": [
       "1.6358287111890398e+43"
      ]
     },
     "execution_count": 40,
     "metadata": {},
     "output_type": "execute_result"
    }
   ],
   "source": [
    "1.01 ** 10000"
   ]
  },
  {
   "cell_type": "code",
   "execution_count": 41,
   "id": "abd0c956",
   "metadata": {},
   "outputs": [
    {
     "data": {
      "text/html": [
       "<img src=\"https://raw.githubusercontent.com/rickiepark/ml-with-pytorch/main/ch15/figures/15_09.png\" width=\"500\"/>"
      ],
      "text/plain": [
       "<IPython.core.display.Image object>"
      ]
     },
     "execution_count": 41,
     "metadata": {},
     "output_type": "execute_result"
    }
   ],
   "source": [
    "Image(url='https://raw.githubusercontent.com/rickiepark/ml-with-pytorch/main/ch15/figures/15_09.png', width=500)"
   ]
  },
  {
   "cell_type": "code",
   "execution_count": null,
   "id": "e35e08cb",
   "metadata": {},
   "outputs": [],
   "source": []
  }
 ],
 "metadata": {
  "kernelspec": {
   "display_name": "torch",
   "language": "python",
   "name": "python3"
  },
  "language_info": {
   "codemirror_mode": {
    "name": "ipython",
    "version": 3
   },
   "file_extension": ".py",
   "mimetype": "text/x-python",
   "name": "python",
   "nbconvert_exporter": "python",
   "pygments_lexer": "ipython3",
   "version": "3.11.13"
  }
 },
 "nbformat": 4,
 "nbformat_minor": 5
}
