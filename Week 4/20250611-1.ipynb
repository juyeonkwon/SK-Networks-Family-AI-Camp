{
 "cells": [
  {
   "cell_type": "code",
   "execution_count": null,
   "id": "8a18e2b7",
   "metadata": {},
   "outputs": [],
   "source": [
    "import pandas as pd \n",
    "df= pd.DataFrame({'a' : [1,2,3], 'b' : [2,3,4]})"
   ]
  },
  {
   "cell_type": "code",
   "execution_count": 5,
   "id": "d32c8e7e",
   "metadata": {},
   "outputs": [
    {
     "data": {
      "text/plain": [
       "'2.2.2'"
      ]
     },
     "execution_count": 5,
     "metadata": {},
     "output_type": "execute_result"
    }
   ],
   "source": [
    "pd.__version__"
   ]
  },
  {
   "cell_type": "code",
   "execution_count": 4,
   "id": "1944b975",
   "metadata": {},
   "outputs": [
    {
     "data": {
      "text/plain": [
       "pandas.core.frame.DataFrame"
      ]
     },
     "execution_count": 4,
     "metadata": {},
     "output_type": "execute_result"
    }
   ],
   "source": [
    "type(df)"
   ]
  },
  {
   "cell_type": "code",
   "execution_count": 9,
   "id": "a1f542e5",
   "metadata": {},
   "outputs": [
    {
     "data": {
      "text/plain": [
       "pandas.core.series.Series"
      ]
     },
     "execution_count": 9,
     "metadata": {},
     "output_type": "execute_result"
    }
   ],
   "source": [
    "type(df['a'])"
   ]
  },
  {
   "cell_type": "code",
   "execution_count": 12,
   "id": "3fee2c61",
   "metadata": {},
   "outputs": [
    {
     "data": {
      "text/plain": [
       "numpy.ndarray"
      ]
     },
     "execution_count": 12,
     "metadata": {},
     "output_type": "execute_result"
    }
   ],
   "source": [
    "type(df['a'].values)"
   ]
  },
  {
   "cell_type": "code",
   "execution_count": 16,
   "id": "6ba00a65",
   "metadata": {},
   "outputs": [],
   "source": [
    "#pip install pymysql"
   ]
  },
  {
   "cell_type": "code",
   "execution_count": 15,
   "id": "d29934d5",
   "metadata": {},
   "outputs": [],
   "source": [
    "import pymysql\n",
    "conn = pymysql.connect(host='127.0.0.1', user='', passwd='', database='', port=3306)\n",
    "cur = conn.cursor()"
   ]
  },
  {
   "cell_type": "code",
   "execution_count": null,
   "id": "088e0ac9",
   "metadata": {},
   "outputs": [],
   "source": [
    "sql = \"select * from kbo_player\"\n",
    "kbo_df = pd.read_sql_query(sql, con=conn)"
   ]
  },
  {
   "cell_type": "code",
   "execution_count": 23,
   "id": "6233e04c",
   "metadata": {},
   "outputs": [
    {
     "data": {
      "text/plain": [
       "(893, 9)"
      ]
     },
     "execution_count": 23,
     "metadata": {},
     "output_type": "execute_result"
    }
   ],
   "source": [
    "kbo_df.shape"
   ]
  },
  {
   "cell_type": "code",
   "execution_count": 25,
   "id": "f1caa7d4",
   "metadata": {},
   "outputs": [
    {
     "name": "stdout",
     "output_type": "stream",
     "text": [
      "<class 'pandas.core.frame.DataFrame'>\n",
      "RangeIndex: 893 entries, 0 to 892\n",
      "Data columns (total 9 columns):\n",
      " #   Column         Non-Null Count  Dtype  \n",
      "---  ------         --------------  -----  \n",
      " 0   player_number  873 non-null    float64\n",
      " 1   name           893 non-null    object \n",
      " 2   kbo_id         893 non-null    object \n",
      " 3   team           893 non-null    object \n",
      " 4   position       892 non-null    object \n",
      " 5   birthday       893 non-null    object \n",
      " 6   height         892 non-null    float64\n",
      " 7   weight         892 non-null    float64\n",
      " 8   career         893 non-null    object \n",
      "dtypes: float64(3), object(6)\n",
      "memory usage: 62.9+ KB\n"
     ]
    }
   ],
   "source": [
    "kbo_df.info()"
   ]
  },
  {
   "cell_type": "code",
   "execution_count": 28,
   "id": "a80f1e47",
   "metadata": {},
   "outputs": [
    {
     "data": {
      "text/plain": [
       "player_number    20\n",
       "name              0\n",
       "kbo_id            0\n",
       "team              0\n",
       "position          1\n",
       "birthday          0\n",
       "height            1\n",
       "weight            1\n",
       "career            0\n",
       "dtype: int64"
      ]
     },
     "execution_count": 28,
     "metadata": {},
     "output_type": "execute_result"
    }
   ],
   "source": [
    "kbo_df.isnull().sum()"
   ]
  },
  {
   "cell_type": "code",
   "execution_count": 31,
   "id": "030b0ad4",
   "metadata": {},
   "outputs": [
    {
     "data": {
      "text/html": [
       "<div>\n",
       "<style scoped>\n",
       "    .dataframe tbody tr th:only-of-type {\n",
       "        vertical-align: middle;\n",
       "    }\n",
       "\n",
       "    .dataframe tbody tr th {\n",
       "        vertical-align: top;\n",
       "    }\n",
       "\n",
       "    .dataframe thead th {\n",
       "        text-align: right;\n",
       "    }\n",
       "</style>\n",
       "<table border=\"1\" class=\"dataframe\">\n",
       "  <thead>\n",
       "    <tr style=\"text-align: right;\">\n",
       "      <th></th>\n",
       "      <th>player_number</th>\n",
       "      <th>height</th>\n",
       "      <th>weight</th>\n",
       "    </tr>\n",
       "  </thead>\n",
       "  <tbody>\n",
       "    <tr>\n",
       "      <th>count</th>\n",
       "      <td>873.000000</td>\n",
       "      <td>892.000000</td>\n",
       "      <td>892.000000</td>\n",
       "    </tr>\n",
       "    <tr>\n",
       "      <th>mean</th>\n",
       "      <td>51.869416</td>\n",
       "      <td>182.873318</td>\n",
       "      <td>87.365471</td>\n",
       "    </tr>\n",
       "    <tr>\n",
       "      <th>std</th>\n",
       "      <td>37.426091</td>\n",
       "      <td>4.983326</td>\n",
       "      <td>8.805343</td>\n",
       "    </tr>\n",
       "    <tr>\n",
       "      <th>min</th>\n",
       "      <td>0.000000</td>\n",
       "      <td>163.000000</td>\n",
       "      <td>62.000000</td>\n",
       "    </tr>\n",
       "    <tr>\n",
       "      <th>25%</th>\n",
       "      <td>21.000000</td>\n",
       "      <td>180.000000</td>\n",
       "      <td>82.000000</td>\n",
       "    </tr>\n",
       "    <tr>\n",
       "      <th>50%</th>\n",
       "      <td>44.000000</td>\n",
       "      <td>183.000000</td>\n",
       "      <td>87.000000</td>\n",
       "    </tr>\n",
       "    <tr>\n",
       "      <th>75%</th>\n",
       "      <td>69.000000</td>\n",
       "      <td>186.000000</td>\n",
       "      <td>93.000000</td>\n",
       "    </tr>\n",
       "    <tr>\n",
       "      <th>max</th>\n",
       "      <td>133.000000</td>\n",
       "      <td>198.000000</td>\n",
       "      <td>123.000000</td>\n",
       "    </tr>\n",
       "  </tbody>\n",
       "</table>\n",
       "</div>"
      ],
      "text/plain": [
       "       player_number      height      weight\n",
       "count     873.000000  892.000000  892.000000\n",
       "mean       51.869416  182.873318   87.365471\n",
       "std        37.426091    4.983326    8.805343\n",
       "min         0.000000  163.000000   62.000000\n",
       "25%        21.000000  180.000000   82.000000\n",
       "50%        44.000000  183.000000   87.000000\n",
       "75%        69.000000  186.000000   93.000000\n",
       "max       133.000000  198.000000  123.000000"
      ]
     },
     "execution_count": 31,
     "metadata": {},
     "output_type": "execute_result"
    }
   ],
   "source": [
    "kbo_df.describe()"
   ]
  },
  {
   "cell_type": "code",
   "execution_count": 30,
   "id": "57ae905d",
   "metadata": {},
   "outputs": [
    {
     "data": {
      "text/html": [
       "<div>\n",
       "<style scoped>\n",
       "    .dataframe tbody tr th:only-of-type {\n",
       "        vertical-align: middle;\n",
       "    }\n",
       "\n",
       "    .dataframe tbody tr th {\n",
       "        vertical-align: top;\n",
       "    }\n",
       "\n",
       "    .dataframe thead th {\n",
       "        text-align: right;\n",
       "    }\n",
       "</style>\n",
       "<table border=\"1\" class=\"dataframe\">\n",
       "  <thead>\n",
       "    <tr style=\"text-align: right;\">\n",
       "      <th></th>\n",
       "      <th>name</th>\n",
       "      <th>kbo_id</th>\n",
       "      <th>team</th>\n",
       "      <th>position</th>\n",
       "      <th>birthday</th>\n",
       "      <th>career</th>\n",
       "    </tr>\n",
       "  </thead>\n",
       "  <tbody>\n",
       "    <tr>\n",
       "      <th>count</th>\n",
       "      <td>893</td>\n",
       "      <td>893</td>\n",
       "      <td>893</td>\n",
       "      <td>892</td>\n",
       "      <td>893</td>\n",
       "      <td>893</td>\n",
       "    </tr>\n",
       "    <tr>\n",
       "      <th>unique</th>\n",
       "      <td>847</td>\n",
       "      <td>892</td>\n",
       "      <td>11</td>\n",
       "      <td>4</td>\n",
       "      <td>809</td>\n",
       "      <td>857</td>\n",
       "    </tr>\n",
       "    <tr>\n",
       "      <th>top</th>\n",
       "      <td>박건우</td>\n",
       "      <td>60146</td>\n",
       "      <td>LG</td>\n",
       "      <td>투수</td>\n",
       "      <td>2002-07-05</td>\n",
       "      <td>가동초-휘문중-휘문고</td>\n",
       "    </tr>\n",
       "    <tr>\n",
       "      <th>freq</th>\n",
       "      <td>5</td>\n",
       "      <td>2</td>\n",
       "      <td>95</td>\n",
       "      <td>462</td>\n",
       "      <td>4</td>\n",
       "      <td>3</td>\n",
       "    </tr>\n",
       "  </tbody>\n",
       "</table>\n",
       "</div>"
      ],
      "text/plain": [
       "       name kbo_id team position    birthday       career\n",
       "count   893    893  893      892         893          893\n",
       "unique  847    892   11        4         809          857\n",
       "top     박건우  60146   LG       투수  2002-07-05  가동초-휘문중-휘문고\n",
       "freq      5      2   95      462           4            3"
      ]
     },
     "execution_count": 30,
     "metadata": {},
     "output_type": "execute_result"
    }
   ],
   "source": [
    "kbo_df.describe(include=['object', 'category'])"
   ]
  },
  {
   "cell_type": "code",
   "execution_count": null,
   "id": "3d8eba2d",
   "metadata": {},
   "outputs": [
    {
     "data": {
      "text/plain": [
       "Index(['player_number', 'name', 'kbo_id', 'team', 'position', 'birthday',\n",
       "       'height', 'weight', 'career'],\n",
       "      dtype='object')"
      ]
     },
     "execution_count": 33,
     "metadata": {},
     "output_type": "execute_result"
    }
   ],
   "source": [
    "kbo_df.columns"
   ]
  },
  {
   "cell_type": "code",
   "execution_count": 37,
   "id": "c08c4de4",
   "metadata": {},
   "outputs": [
    {
     "data": {
      "text/plain": [
       "'강민균'"
      ]
     },
     "execution_count": 37,
     "metadata": {},
     "output_type": "execute_result"
    }
   ],
   "source": [
    "kbo_df.iloc[  1,1 ]"
   ]
  },
  {
   "cell_type": "code",
   "execution_count": 41,
   "id": "7c118e47",
   "metadata": {},
   "outputs": [
    {
     "data": {
      "text/plain": [
       "datetime.date(2004, 12, 23)"
      ]
     },
     "execution_count": 41,
     "metadata": {},
     "output_type": "execute_result"
    }
   ],
   "source": [
    "kbo_df.iloc[3,5]"
   ]
  },
  {
   "cell_type": "code",
   "execution_count": 43,
   "id": "9ba9fbdb",
   "metadata": {},
   "outputs": [
    {
     "data": {
      "text/plain": [
       "'구본혁'"
      ]
     },
     "execution_count": 43,
     "metadata": {},
     "output_type": "execute_result"
    }
   ],
   "source": [
    "kbo_df.loc[4, 'name']"
   ]
  },
  {
   "cell_type": "code",
   "execution_count": 46,
   "id": "d9b01bf8",
   "metadata": {},
   "outputs": [
    {
     "data": {
      "text/plain": [
       "'태전초(경기광주시리틀)-모가중-야로고BC-동원대'"
      ]
     },
     "execution_count": 46,
     "metadata": {},
     "output_type": "execute_result"
    }
   ],
   "source": [
    "kbo_df.loc[2, 'career']"
   ]
  },
  {
   "cell_type": "code",
   "execution_count": 49,
   "id": "a0ab7dbb",
   "metadata": {},
   "outputs": [
    {
     "data": {
      "text/html": [
       "<div>\n",
       "<style scoped>\n",
       "    .dataframe tbody tr th:only-of-type {\n",
       "        vertical-align: middle;\n",
       "    }\n",
       "\n",
       "    .dataframe tbody tr th {\n",
       "        vertical-align: top;\n",
       "    }\n",
       "\n",
       "    .dataframe thead th {\n",
       "        text-align: right;\n",
       "    }\n",
       "</style>\n",
       "<table border=\"1\" class=\"dataframe\">\n",
       "  <thead>\n",
       "    <tr style=\"text-align: right;\">\n",
       "      <th></th>\n",
       "      <th>name</th>\n",
       "      <th>kbo_id</th>\n",
       "      <th>team</th>\n",
       "      <th>position</th>\n",
       "      <th>birthday</th>\n",
       "      <th>height</th>\n",
       "      <th>weight</th>\n",
       "      <th>career</th>\n",
       "    </tr>\n",
       "  </thead>\n",
       "  <tbody>\n",
       "    <tr>\n",
       "      <th>2</th>\n",
       "      <td>고영웅</td>\n",
       "      <td>55116</td>\n",
       "      <td>LG</td>\n",
       "      <td>투수</td>\n",
       "      <td>2004-07-29</td>\n",
       "      <td>180.0</td>\n",
       "      <td>90.0</td>\n",
       "      <td>태전초(경기광주시리틀)-모가중-야로고BC-동원대</td>\n",
       "    </tr>\n",
       "    <tr>\n",
       "      <th>3</th>\n",
       "      <td>곽민호</td>\n",
       "      <td>53104</td>\n",
       "      <td>LG</td>\n",
       "      <td>내야수</td>\n",
       "      <td>2004-12-23</td>\n",
       "      <td>184.0</td>\n",
       "      <td>90.0</td>\n",
       "      <td>역삼초-자양중-배명고</td>\n",
       "    </tr>\n",
       "    <tr>\n",
       "      <th>4</th>\n",
       "      <td>구본혁</td>\n",
       "      <td>69100</td>\n",
       "      <td>LG</td>\n",
       "      <td>내야수</td>\n",
       "      <td>1997-01-11</td>\n",
       "      <td>177.0</td>\n",
       "      <td>75.0</td>\n",
       "      <td>중대초-잠신중-장충고-동국대-LG-상무</td>\n",
       "    </tr>\n",
       "    <tr>\n",
       "      <th>5</th>\n",
       "      <td>김강률</td>\n",
       "      <td>77263</td>\n",
       "      <td>LG</td>\n",
       "      <td>투수</td>\n",
       "      <td>1988-08-28</td>\n",
       "      <td>187.0</td>\n",
       "      <td>95.0</td>\n",
       "      <td>문촌초(일산리틀)-장성중-경기고-두산-상무-두산</td>\n",
       "    </tr>\n",
       "  </tbody>\n",
       "</table>\n",
       "</div>"
      ],
      "text/plain": [
       "  name kbo_id team position    birthday  height  weight  \\\n",
       "2  고영웅  55116   LG       투수  2004-07-29   180.0    90.0   \n",
       "3  곽민호  53104   LG      내야수  2004-12-23   184.0    90.0   \n",
       "4  구본혁  69100   LG      내야수  1997-01-11   177.0    75.0   \n",
       "5  김강률  77263   LG       투수  1988-08-28   187.0    95.0   \n",
       "\n",
       "                       career  \n",
       "2  태전초(경기광주시리틀)-모가중-야로고BC-동원대  \n",
       "3                 역삼초-자양중-배명고  \n",
       "4       중대초-잠신중-장충고-동국대-LG-상무  \n",
       "5  문촌초(일산리틀)-장성중-경기고-두산-상무-두산  "
      ]
     },
     "execution_count": 49,
     "metadata": {},
     "output_type": "execute_result"
    }
   ],
   "source": [
    "kbo_df.loc[2:5, 'name':'career']"
   ]
  },
  {
   "cell_type": "code",
   "execution_count": 50,
   "id": "dc931cae",
   "metadata": {},
   "outputs": [],
   "source": [
    "import numpy as np "
   ]
  },
  {
   "cell_type": "code",
   "execution_count": 52,
   "id": "81b40ac6",
   "metadata": {},
   "outputs": [
    {
     "data": {
      "text/plain": [
       "array([ True, False, False, False])"
      ]
     },
     "execution_count": 52,
     "metadata": {},
     "output_type": "execute_result"
    }
   ],
   "source": [
    "np.array([1,2,3,4]) == 1"
   ]
  },
  {
   "cell_type": "code",
   "execution_count": null,
   "id": "e8abe184",
   "metadata": {},
   "outputs": [],
   "source": [
    "# and -> &, or -> | , not -> !\n",
    "masked = (kbo_df['position'] == \"투수\") & (kbo_df['team'] == '두산')"
   ]
  },
  {
   "cell_type": "code",
   "execution_count": 66,
   "id": "a66ca8d8",
   "metadata": {},
   "outputs": [
    {
     "data": {
      "text/html": [
       "<div>\n",
       "<style scoped>\n",
       "    .dataframe tbody tr th:only-of-type {\n",
       "        vertical-align: middle;\n",
       "    }\n",
       "\n",
       "    .dataframe tbody tr th {\n",
       "        vertical-align: top;\n",
       "    }\n",
       "\n",
       "    .dataframe thead th {\n",
       "        text-align: right;\n",
       "    }\n",
       "</style>\n",
       "<table border=\"1\" class=\"dataframe\">\n",
       "  <thead>\n",
       "    <tr style=\"text-align: right;\">\n",
       "      <th></th>\n",
       "      <th>player_number</th>\n",
       "      <th>name</th>\n",
       "      <th>kbo_id</th>\n",
       "      <th>team</th>\n",
       "      <th>position</th>\n",
       "      <th>birthday</th>\n",
       "      <th>height</th>\n",
       "      <th>weight</th>\n",
       "      <th>career</th>\n",
       "    </tr>\n",
       "  </thead>\n",
       "  <tbody>\n",
       "    <tr>\n",
       "      <th>355</th>\n",
       "      <td>127.0</td>\n",
       "      <td>강민성</td>\n",
       "      <td>55427</td>\n",
       "      <td>삼성</td>\n",
       "      <td>내야수</td>\n",
       "      <td>2006-02-22</td>\n",
       "      <td>183.0</td>\n",
       "      <td>85.0</td>\n",
       "      <td>연현초-잠신중-안산공고</td>\n",
       "    </tr>\n",
       "    <tr>\n",
       "      <th>356</th>\n",
       "      <td>47.0</td>\n",
       "      <td>강민호</td>\n",
       "      <td>74540</td>\n",
       "      <td>삼성</td>\n",
       "      <td>포수</td>\n",
       "      <td>1985-08-18</td>\n",
       "      <td>185.0</td>\n",
       "      <td>100.0</td>\n",
       "      <td>제주신광초-포철중-포철공고-(국제디지털대)-롯데</td>\n",
       "    </tr>\n",
       "    <tr>\n",
       "      <th>357</th>\n",
       "      <td>6.0</td>\n",
       "      <td>강한울</td>\n",
       "      <td>64610</td>\n",
       "      <td>삼성</td>\n",
       "      <td>내야수</td>\n",
       "      <td>1991-09-12</td>\n",
       "      <td>181.0</td>\n",
       "      <td>66.0</td>\n",
       "      <td>사당초-중앙중-안산공고-원광대-KIA-삼성-상무</td>\n",
       "    </tr>\n",
       "    <tr>\n",
       "      <th>358</th>\n",
       "      <td>9.0</td>\n",
       "      <td>공민규</td>\n",
       "      <td>68407</td>\n",
       "      <td>삼성</td>\n",
       "      <td>내야수</td>\n",
       "      <td>1999-09-27</td>\n",
       "      <td>183.0</td>\n",
       "      <td>85.0</td>\n",
       "      <td>서화초-동산중-인천고-삼성-상무</td>\n",
       "    </tr>\n",
       "    <tr>\n",
       "      <th>359</th>\n",
       "      <td>5.0</td>\n",
       "      <td>구자욱</td>\n",
       "      <td>62404</td>\n",
       "      <td>삼성</td>\n",
       "      <td>외야수</td>\n",
       "      <td>1993-02-12</td>\n",
       "      <td>189.0</td>\n",
       "      <td>75.0</td>\n",
       "      <td>본리초-경복중-대구고-삼성-상무</td>\n",
       "    </tr>\n",
       "    <tr>\n",
       "      <th>...</th>\n",
       "      <td>...</td>\n",
       "      <td>...</td>\n",
       "      <td>...</td>\n",
       "      <td>...</td>\n",
       "      <td>...</td>\n",
       "      <td>...</td>\n",
       "      <td>...</td>\n",
       "      <td>...</td>\n",
       "      <td>...</td>\n",
       "    </tr>\n",
       "    <tr>\n",
       "      <th>804</th>\n",
       "      <td>114.0</td>\n",
       "      <td>한다현</td>\n",
       "      <td>55214</td>\n",
       "      <td>두산</td>\n",
       "      <td>내야수</td>\n",
       "      <td>2006-08-25</td>\n",
       "      <td>181.0</td>\n",
       "      <td>85.0</td>\n",
       "      <td>백문초-구리인창중-라온고</td>\n",
       "    </tr>\n",
       "    <tr>\n",
       "      <th>805</th>\n",
       "      <td>17.0</td>\n",
       "      <td>홍건희</td>\n",
       "      <td>61643</td>\n",
       "      <td>두산</td>\n",
       "      <td>투수</td>\n",
       "      <td>1992-09-29</td>\n",
       "      <td>187.0</td>\n",
       "      <td>97.0</td>\n",
       "      <td>화순초-화순중-화순고-KIA-상무-KIA</td>\n",
       "    </tr>\n",
       "    <tr>\n",
       "      <th>806</th>\n",
       "      <td>67.0</td>\n",
       "      <td>홍민규</td>\n",
       "      <td>55267</td>\n",
       "      <td>두산</td>\n",
       "      <td>투수</td>\n",
       "      <td>2006-09-11</td>\n",
       "      <td>183.0</td>\n",
       "      <td>87.0</td>\n",
       "      <td>서울논현초(용산구리틀)-대원중-야탑고</td>\n",
       "    </tr>\n",
       "    <tr>\n",
       "      <th>807</th>\n",
       "      <td>34.0</td>\n",
       "      <td>홍성호</td>\n",
       "      <td>66233</td>\n",
       "      <td>두산</td>\n",
       "      <td>외야수</td>\n",
       "      <td>1997-07-15</td>\n",
       "      <td>187.0</td>\n",
       "      <td>98.0</td>\n",
       "      <td>인헌초-선린중-선린인터넷고</td>\n",
       "    </tr>\n",
       "    <tr>\n",
       "      <th>808</th>\n",
       "      <td>58.0</td>\n",
       "      <td>황희천</td>\n",
       "      <td>55258</td>\n",
       "      <td>두산</td>\n",
       "      <td>투수</td>\n",
       "      <td>2006-11-06</td>\n",
       "      <td>190.0</td>\n",
       "      <td>93.0</td>\n",
       "      <td>부산수영초-개성중-충암고</td>\n",
       "    </tr>\n",
       "  </tbody>\n",
       "</table>\n",
       "<p>179 rows × 9 columns</p>\n",
       "</div>"
      ],
      "text/plain": [
       "     player_number name kbo_id team position    birthday  height  weight  \\\n",
       "355          127.0  강민성  55427   삼성      내야수  2006-02-22   183.0    85.0   \n",
       "356           47.0  강민호  74540   삼성       포수  1985-08-18   185.0   100.0   \n",
       "357            6.0  강한울  64610   삼성      내야수  1991-09-12   181.0    66.0   \n",
       "358            9.0  공민규  68407   삼성      내야수  1999-09-27   183.0    85.0   \n",
       "359            5.0  구자욱  62404   삼성      외야수  1993-02-12   189.0    75.0   \n",
       "..             ...  ...    ...  ...      ...         ...     ...     ...   \n",
       "804          114.0  한다현  55214   두산      내야수  2006-08-25   181.0    85.0   \n",
       "805           17.0  홍건희  61643   두산       투수  1992-09-29   187.0    97.0   \n",
       "806           67.0  홍민규  55267   두산       투수  2006-09-11   183.0    87.0   \n",
       "807           34.0  홍성호  66233   두산      외야수  1997-07-15   187.0    98.0   \n",
       "808           58.0  황희천  55258   두산       투수  2006-11-06   190.0    93.0   \n",
       "\n",
       "                         career  \n",
       "355                연현초-잠신중-안산공고  \n",
       "356  제주신광초-포철중-포철공고-(국제디지털대)-롯데  \n",
       "357  사당초-중앙중-안산공고-원광대-KIA-삼성-상무  \n",
       "358           서화초-동산중-인천고-삼성-상무  \n",
       "359           본리초-경복중-대구고-삼성-상무  \n",
       "..                          ...  \n",
       "804               백문초-구리인창중-라온고  \n",
       "805      화순초-화순중-화순고-KIA-상무-KIA  \n",
       "806        서울논현초(용산구리틀)-대원중-야탑고  \n",
       "807              인헌초-선린중-선린인터넷고  \n",
       "808               부산수영초-개성중-충암고  \n",
       "\n",
       "[179 rows x 9 columns]"
      ]
     },
     "execution_count": 66,
     "metadata": {},
     "output_type": "execute_result"
    }
   ],
   "source": [
    "# 키와 몸무게 180cm, 100kg 이상인 \n",
    "# 두산, 삼성\n",
    "#kbo_df[(kbo_df['height'] >= 180 ) & (kbo_df['weight'] >= 100)]\n",
    "kbo_df[(kbo_df['team'] == '두산' ) | (kbo_df['team'] == '삼성')]"
   ]
  },
  {
   "cell_type": "code",
   "execution_count": 69,
   "id": "925ce196",
   "metadata": {},
   "outputs": [],
   "source": [
    "from datetime import date, datetime"
   ]
  },
  {
   "cell_type": "code",
   "execution_count": null,
   "id": "41dabd97",
   "metadata": {},
   "outputs": [
    {
     "data": {
      "text/plain": [
       "2025"
      ]
     },
     "execution_count": 71,
     "metadata": {},
     "output_type": "execute_result"
    }
   ],
   "source": []
  },
  {
   "cell_type": "code",
   "execution_count": 83,
   "id": "36c9131c",
   "metadata": {},
   "outputs": [],
   "source": [
    "def tmp(x):\n",
    "    return date.today().year - x.year"
   ]
  },
  {
   "cell_type": "code",
   "execution_count": 86,
   "id": "6af1abe2",
   "metadata": {},
   "outputs": [],
   "source": [
    "kbo_df['age'] = kbo_df['birthday'].apply(lambda x : date.today().year - x.year)"
   ]
  },
  {
   "cell_type": "code",
   "execution_count": 97,
   "id": "e54365ed",
   "metadata": {},
   "outputs": [],
   "source": [
    "# bmi -> \n",
    "kbo_df['bmi'] = kbo_df['weight'] / (kbo_df['height'] / 100) ** 2"
   ]
  },
  {
   "cell_type": "code",
   "execution_count": 99,
   "id": "e53ccf97",
   "metadata": {},
   "outputs": [
    {
     "data": {
      "text/plain": [
       "position\n",
       "투수     462\n",
       "내야수    207\n",
       "외야수    149\n",
       "포수      74\n",
       "Name: count, dtype: int64"
      ]
     },
     "execution_count": 99,
     "metadata": {},
     "output_type": "execute_result"
    }
   ],
   "source": [
    "kbo_df['position'].value_counts()"
   ]
  },
  {
   "cell_type": "code",
   "execution_count": 107,
   "id": "fecceb6a",
   "metadata": {},
   "outputs": [],
   "source": [
    "kbo_agg = kbo_df.groupby(['team'])[['height', 'weight']].mean()"
   ]
  },
  {
   "cell_type": "code",
   "execution_count": 109,
   "id": "b2db411f",
   "metadata": {},
   "outputs": [
    {
     "data": {
      "text/plain": [
       "Index(['KIA', 'KT', 'LG', 'NC', 'SSG', '고양', '두산', '롯데', '삼성', '키움', '한화'], dtype='object', name='team')"
      ]
     },
     "execution_count": 109,
     "metadata": {},
     "output_type": "execute_result"
    }
   ],
   "source": [
    "kbo_agg.index"
   ]
  },
  {
   "cell_type": "code",
   "execution_count": 113,
   "id": "26c4e2fd",
   "metadata": {},
   "outputs": [
    {
     "data": {
      "text/plain": [
       "height    183.574713\n",
       "weight     88.977011\n",
       "Name: 한화, dtype: float64"
      ]
     },
     "execution_count": 113,
     "metadata": {},
     "output_type": "execute_result"
    }
   ],
   "source": [
    "# 한화 \n",
    "kbo_agg.loc[ '한화',  ]"
   ]
  },
  {
   "cell_type": "code",
   "execution_count": 116,
   "id": "eff65195",
   "metadata": {},
   "outputs": [
    {
     "data": {
      "text/html": [
       "<div>\n",
       "<style scoped>\n",
       "    .dataframe tbody tr th:only-of-type {\n",
       "        vertical-align: middle;\n",
       "    }\n",
       "\n",
       "    .dataframe tbody tr th {\n",
       "        vertical-align: top;\n",
       "    }\n",
       "\n",
       "    .dataframe thead th {\n",
       "        text-align: right;\n",
       "    }\n",
       "</style>\n",
       "<table border=\"1\" class=\"dataframe\">\n",
       "  <thead>\n",
       "    <tr style=\"text-align: right;\">\n",
       "      <th></th>\n",
       "      <th>height</th>\n",
       "      <th>weight</th>\n",
       "    </tr>\n",
       "    <tr>\n",
       "      <th>team</th>\n",
       "      <th></th>\n",
       "      <th></th>\n",
       "    </tr>\n",
       "  </thead>\n",
       "  <tbody>\n",
       "    <tr>\n",
       "      <th>KT</th>\n",
       "      <td>182.988889</td>\n",
       "      <td>85.633333</td>\n",
       "    </tr>\n",
       "    <tr>\n",
       "      <th>LG</th>\n",
       "      <td>183.553191</td>\n",
       "      <td>87.053191</td>\n",
       "    </tr>\n",
       "    <tr>\n",
       "      <th>NC</th>\n",
       "      <td>182.630435</td>\n",
       "      <td>87.467391</td>\n",
       "    </tr>\n",
       "  </tbody>\n",
       "</table>\n",
       "</div>"
      ],
      "text/plain": [
       "          height     weight\n",
       "team                       \n",
       "KT    182.988889  85.633333\n",
       "LG    183.553191  87.053191\n",
       "NC    182.630435  87.467391"
      ]
     },
     "execution_count": 116,
     "metadata": {},
     "output_type": "execute_result"
    }
   ],
   "source": [
    "kbo_agg.loc['KT':\"NC\",]"
   ]
  },
  {
   "cell_type": "code",
   "execution_count": 118,
   "id": "3585271b",
   "metadata": {},
   "outputs": [
    {
     "data": {
      "text/html": [
       "<div>\n",
       "<style scoped>\n",
       "    .dataframe tbody tr th:only-of-type {\n",
       "        vertical-align: middle;\n",
       "    }\n",
       "\n",
       "    .dataframe tbody tr th {\n",
       "        vertical-align: top;\n",
       "    }\n",
       "\n",
       "    .dataframe thead th {\n",
       "        text-align: right;\n",
       "    }\n",
       "</style>\n",
       "<table border=\"1\" class=\"dataframe\">\n",
       "  <thead>\n",
       "    <tr style=\"text-align: right;\">\n",
       "      <th></th>\n",
       "      <th>height</th>\n",
       "      <th>weight</th>\n",
       "    </tr>\n",
       "    <tr>\n",
       "      <th>team</th>\n",
       "      <th></th>\n",
       "      <th></th>\n",
       "    </tr>\n",
       "  </thead>\n",
       "  <tbody>\n",
       "    <tr>\n",
       "      <th>KT</th>\n",
       "      <td>182.988889</td>\n",
       "      <td>85.633333</td>\n",
       "    </tr>\n",
       "    <tr>\n",
       "      <th>LG</th>\n",
       "      <td>183.553191</td>\n",
       "      <td>87.053191</td>\n",
       "    </tr>\n",
       "    <tr>\n",
       "      <th>NC</th>\n",
       "      <td>182.630435</td>\n",
       "      <td>87.467391</td>\n",
       "    </tr>\n",
       "  </tbody>\n",
       "</table>\n",
       "</div>"
      ],
      "text/plain": [
       "          height     weight\n",
       "team                       \n",
       "KT    182.988889  85.633333\n",
       "LG    183.553191  87.053191\n",
       "NC    182.630435  87.467391"
      ]
     },
     "execution_count": 118,
     "metadata": {},
     "output_type": "execute_result"
    }
   ],
   "source": [
    "kbo_agg.iloc[1:4]"
   ]
  },
  {
   "cell_type": "code",
   "execution_count": null,
   "id": "182193ec",
   "metadata": {},
   "outputs": [],
   "source": [
    "import requests \n",
    "url = \"https://www.starbucks.co.kr/store/getStore.do?r=86N465IIB2\"\n",
    "payload = {\"in_biz_cds\": \"0\",\n",
    "\"in_scodes\": \"0\",\n",
    "\"ins_lat\": \"37.4745\",\n",
    "\"ins_lng\": \"126.8918\",\n",
    "\"search_text\": \"\",\n",
    "\"p_sido_cd\": \"01\",\n",
    "\"p_gugun_cd\": \"\",\n",
    "\"in_distance\": \"0\",\n",
    "\"in_biz_cd\": \"\",\n",
    "\"isError\": \"true\",\n",
    "\"searchType\": \"C\",\n",
    "\"set_date\": \"\",\n",
    "\"all_store\": \"0\",\n",
    "\"T03\": \"0\",\n",
    "\"T01\": \"0\",\n",
    "\"T27\": \"0\",\n",
    "\"T12\": \"0\",\n",
    "\"T09\": \"0\",\n",
    "\"T30\": \"0\",\n",
    "\"T05\": \"0\",\n",
    "\"T22\": \"0\",\n",
    "\"T21\": \"0\",\n",
    "\"T36\": \"0\",\n",
    "\"T43\": \"0\",\n",
    "\"Z9999\": \"0\",\n",
    "\"T64\": \"0\",\n",
    "\"T66\": \"0\",\n",
    "\"P02\": \"0\",\n",
    "\"P10\": \"0\",\n",
    "\"P50\": \"0\",\n",
    "\"P20\": \"0\",\n",
    "\"P60\": \"0\",\n",
    "\"P30\": \"0\",\n",
    "\"P70\": \"0\",\n",
    "\"P40\": \"0\",\n",
    "\"P80\": \"0\",\n",
    "\"whcroad_yn\": \"0\",\n",
    "\"P90\": \"0\",\n",
    "\"P01\": \"0\",\n",
    "\"new_bool\": \"0\",\n",
    "\"iend\": \"1000\",\n",
    "\"rndCod\": \"XW4W0LA4X8\",}\n",
    "r = requests.post(url, data=payload)\n",
    "star = r.json()\n",
    "star_df = pd.DataFrame(star['list'])\n"
   ]
  },
  {
   "cell_type": "code",
   "execution_count": 131,
   "id": "fc676632",
   "metadata": {},
   "outputs": [],
   "source": [
    "pd.set_option('display.max_rows', None)\n",
    "pd.set_option('display.max_columns', None)\n"
   ]
  },
  {
   "cell_type": "code",
   "execution_count": 136,
   "id": "e477b5eb",
   "metadata": {},
   "outputs": [],
   "source": [
    "star_df2 = star_df[[\"s_name\" , \"s_code\",  \"addr\",  \"defaultimage\", \"doro_address\", \"lat\",  \"lot\", \"open_dt\", ]].copy()"
   ]
  },
  {
   "cell_type": "code",
   "execution_count": null,
   "id": "4a0d0278",
   "metadata": {},
   "outputs": [
    {
     "data": {
      "text/plain": [
       "array(['20190613', '20181123', '20191219', '20190731', '20190214',\n",
       "       '20200528', '20200529', '20200416', '20181123', '20180831',\n",
       "       '20180627', '20180824', '20180330', '20180306', '20170818',\n",
       "       '20170502', '20170323', '20170825', '20170816', '20160812',\n",
       "       '20161223', '20160623', '20161227', '20161214', '20161110',\n",
       "       '20150911', '20160512', '20160224', '20150422', '20141211',\n",
       "       '20140828', '20140731', '20140220', '20131108', '20140326',\n",
       "       '20140301', '20131004', '20130625', '20130709', '20130620',\n",
       "       '20130917', '20130723', '20130423', '20040830', '20030509',\n",
       "       '20030115', '20020329', '20011110', '20010310', '20071221',\n",
       "       '20080528', '20050310', '20050420', '20050510', '20050530',\n",
       "       '20060421', '20060223', '20150922', '20081205', '20050806',\n",
       "       '20041210', '20041119', '20120227', '20120110', '20110607',\n",
       "       '20091223', '20120330', '20100831', '20100325', '20100714',\n",
       "       '20121114', '20110829', '20110907', '20240910', '20210128',\n",
       "       '20230421', '20210929', '20201104', '20210727', '20210610',\n",
       "       '20210422', '20201008', '20221124', '20220512', '20220707',\n",
       "       '20210107', '20211216', '20210806', '20250429', '20241227',\n",
       "       '20231101', '20240304', '20240929', '20201127', '20241122',\n",
       "       '20231130', '20161007', '20150818', '20141223', '20041014',\n",
       "       '20120425', '20240905', '20210827', '20190930', '20200409',\n",
       "       '20180626', '20180731', '20171213', '20170907', '20170510',\n",
       "       '20170331', '20161011', '20161013', '20150327', '20150227',\n",
       "       '20131213', '20140207', '20120905', '20240628', '20231013',\n",
       "       '20220801', '20220712', '20210303', '20250417', '20210806',\n",
       "       '20250523', '20211209', '20220323', '20220714', '20210915',\n",
       "       '20250207', '20250416', '20210415', '20231011', '20210224',\n",
       "       '20190927', '20190531', '20180208', '20161209', '20160729',\n",
       "       '20140213', '20130709', '20090317', '20090227', '20120106',\n",
       "       '20230714', '20220429', '20241106', '20191004', '20190115',\n",
       "       '20180912', '20170926', '20150429', '20150115', '20140411',\n",
       "       '20130829', '20070319', '20090924', '20120229', '20120515',\n",
       "       '20120629', '20220127', '20220324', '20200813', '20220316',\n",
       "       '20240321', '20210429', '20200429', '20180827', '20170519',\n",
       "       '20170315', '20160615', '20140521', '20060125', '20120919',\n",
       "       '20110127', '20220225', '20240807', '20220603', '20231101',\n",
       "       '20240927', '20200218', '20190314', '20190411', '20180628',\n",
       "       '20170912', '20170718', '20080229', '20120802', '20120404',\n",
       "       '20130104', '20130320', '20130205', '20210520', '20221007',\n",
       "       '20240912', '20190613', '20131206', '20231208', '20210429',\n",
       "       '20230323', '20220420', '20230901', '20191025', '20190823',\n",
       "       '20200611', '20190130', '20181130', '20180412', '20170928',\n",
       "       '20161028', '20151216', '20060228', '20091224', '20250416',\n",
       "       '20250530', '20191016', '20190429', '20181030', '20180111',\n",
       "       '20180126', '20180116', '20180514', '20171025', '20161019',\n",
       "       '20161222', '20160621', '20161129', '20160126', '20160527',\n",
       "       '20160524', '20150327', '20150624', '20150714', '20140624',\n",
       "       '20140630', '20131029', '20130724', '20081112', '20071008',\n",
       "       '20080917', '20070918', '20110621', '20101215', '20120110',\n",
       "       '20120831', '20220512', '20220608', '20210114', '20220707',\n",
       "       '20230330', '20211105', '20240712', '20190621', '20200630',\n",
       "       '20171114', '20170609', '20170328', '20151007', '20150331',\n",
       "       '20060517', '20020130', '19990727', '20080430', '20080430',\n",
       "       '20111014', '20120228', '20111130', '20101126', '20100715',\n",
       "       '20250529', '20221213', '20241213', '20220128', '20210203',\n",
       "       '20191024', '20180626', '20180426', '20180328', '20180329',\n",
       "       '20180119', '20171128', '20170803', '20170330', '20170331',\n",
       "       '20151210', '20151223', '20160510', '20160331', '20150915',\n",
       "       '20140729', '20140923', '20140924', '20140724', '20140327',\n",
       "       '20140128', '20140325', '20140128', '20130905', '20040316',\n",
       "       '20051021', '20040220', '20011222', '20031219', '20030821',\n",
       "       '20050327', '20090319', '20071129', '20080808', '20071025',\n",
       "       '20090317', '20110615', '20120228', '20111221', '20100715',\n",
       "       '20130322', '20220113', '20240929', '20240929', '20240430',\n",
       "       '20241227', '20230525', '20250418', '20210226', '20200929',\n",
       "       '20070730', '20140428', '20191203', '20190906', '20180530',\n",
       "       '20170428', '20160620', '20151022', '20140127', '20130516',\n",
       "       '20030705', '20070409', '20120427', '20120927', '20111230',\n",
       "       '20250228', '20220729', '20210624', '20240710', '20190321',\n",
       "       '20200429', '20181127', '20180817', '20180323', '20170531',\n",
       "       '20170523', '20170330', '20170628', '20160909', '20151106',\n",
       "       '20160405', '20150714', '20150326', '20150106', '20140722',\n",
       "       '20140526', '20131219', '20131210', '20130906', '20130912',\n",
       "       '20030930', '20050330', '20050609', '20130228', '20120413',\n",
       "       '20100917', '20120120', '20110630', '20240530', '20230530',\n",
       "       '20210719', '20220616', '20200717', '20210910', '20230519',\n",
       "       '20200825', '20191017', '20181012', '20180828', '20171222',\n",
       "       '20170816', '20160922', '20161221', '20150729', '20150723',\n",
       "       '20141128', '20130610', '20040723', '20020830', '20230921',\n",
       "       '20200728', '20210628', '20210528', '20191030', '20190508',\n",
       "       '20190124', '20180626', '20180320', '20180124', '20180105',\n",
       "       '20170704', '20161215', '20161222', '20161020', '20160217',\n",
       "       '20160324', '20150130', '20141114', '20141030', '20141104',\n",
       "       '20140127', '20140124', '20131212', '20070625', '20001009',\n",
       "       '20050715', '20100617', '20110329', '20110704', '20100722',\n",
       "       '20090916', '20100915', '20121224', '20240619', '20210325',\n",
       "       '20220421', '20210305', '20210819', '20210319', '20210224',\n",
       "       '20240529', '20240529', '20200929', '20230830', '20190613',\n",
       "       '20180202', '20171204', '20170228', '20150723', '20140515',\n",
       "       '20051011', '20120629', '20231110', '20250328', '20220420',\n",
       "       '20230215', '20230215', '20221006', '20220405', '20250321',\n",
       "       '20190227', '20181106', '20190808', '20200319', '20181031',\n",
       "       '20180410', '20171220', '20180109', '20180122', '20160412',\n",
       "       '20141021', '20140929', '20140630', '20140619', '20140612',\n",
       "       '20150826', '20020915', '20010810', '20020225', '20080530',\n",
       "       '20080130', '20061123', '20060726', '20110907', '20101124',\n",
       "       '20101119', '20110628', '20091222', '20100723', '20130115',\n",
       "       '20110414', '20121221', '20220831', '20250529', '20210526',\n",
       "       '20210728', '20210713', '20200619', '20201203', '20241226',\n",
       "       '20210428', '20181031', '20191114', '20190919', '20190529',\n",
       "       '20181012', '20180524', '20170228', '20170725', '20161208',\n",
       "       '20160728', '20160818', '20151103', '20151028', '20160525',\n",
       "       '20160512', '20151027', '20160328', '20150428', '20150122',\n",
       "       '20141223', '20141217', '20141029', '20131022', '20140520',\n",
       "       '20040329', '20070615', '20051020', '20020308', '20020627',\n",
       "       '20020418', '20031027', '20090929', '20080725', '20120320',\n",
       "       '20130125', '20110411', '20120502', '20130130', '20240912',\n",
       "       '20230922', '20230502', '20240307', '20201029', '20220318',\n",
       "       '20200820', '20221026', '20221026', '20210326', '20210708',\n",
       "       '20201015', '20181213', '20190613', '20190228', '20200522',\n",
       "       '20160825', '20160322', '20150728', '20140228', '20140613',\n",
       "       '20131023', '20140424', '20210115', '20200730', '20220802',\n",
       "       '20210805', '20241220', '20250417', '20240822', '20201008',\n",
       "       '20090508', '20170308', '20140610', '20130827', '20060516',\n",
       "       '20100819', '20121126', '20210909', '20200907', '20221007',\n",
       "       '20220630', '20230119', '20240627', '20110826', '20110826',\n",
       "       '20170411', '20170523', '20170125', '20150722', '20140528',\n",
       "       '20120227', '20100930', '20231219', '20250228', '20221216',\n",
       "       '20241029', '20210422', '20240307', '20231128', '20191128',\n",
       "       '20191224', '20171107', '20170421', '20170725', '20170117',\n",
       "       '20150428', '20010420', '20080909', '20221213', '20241115',\n",
       "       '20221110', '20220225', '20210902', '20200929', '20191115',\n",
       "       '20200611', '20180913', '20180222', '20180228', '20170929',\n",
       "       '20170816', '20170125', '20160928', '20160720', '20160229',\n",
       "       '20140317', '20130503', '20080829', '20110316', '20041029',\n",
       "       '20120530', '20220908', '20201210', '20220616', '20210422',\n",
       "       '20200715', '20211108', '20241227', '20241129', '20160414',\n",
       "       '20150807', '20150325', '20141002', '20120323', '20200630',\n",
       "       '20241128', '20220825', '20201222'], dtype=object)"
      ]
     },
     "execution_count": 142,
     "metadata": {},
     "output_type": "execute_result"
    }
   ],
   "source": [
    "# open_dt를 파이썬의 날짜 타입으로 변경 \n",
    "star_df2.open_dt.values\n",
    "# open_year 파생 변수  (년도 입력 )\n",
    "# 년도별 스타벅스 매장 오픈수 "
   ]
  },
  {
   "cell_type": "code",
   "execution_count": null,
   "id": "3b4a7236",
   "metadata": {},
   "outputs": [],
   "source": []
  }
 ],
 "metadata": {
  "kernelspec": {
   "display_name": "pandas",
   "language": "python",
   "name": "python3"
  },
  "language_info": {
   "codemirror_mode": {
    "name": "ipython",
    "version": 3
   },
   "file_extension": ".py",
   "mimetype": "text/x-python",
   "name": "python",
   "nbconvert_exporter": "python",
   "pygments_lexer": "ipython3",
   "version": "3.12.11"
  }
 },
 "nbformat": 4,
 "nbformat_minor": 5
}
