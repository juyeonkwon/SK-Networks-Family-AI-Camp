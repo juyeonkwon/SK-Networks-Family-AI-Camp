{
 "cells": [
  {
   "cell_type": "markdown",
   "id": "cdecfad2",
   "metadata": {},
   "source": [
    "pip install llama-index"
   ]
  },
  {
   "cell_type": "code",
   "execution_count": 1,
   "id": "47db8300",
   "metadata": {},
   "outputs": [],
   "source": [
    "from llama_index.core.readers import SimpleDirectoryReader"
   ]
  },
  {
   "cell_type": "code",
   "execution_count": 2,
   "id": "d1fafd88",
   "metadata": {},
   "outputs": [],
   "source": [
    "documents = SimpleDirectoryReader(\"llama_data\").load_data()"
   ]
  },
  {
   "cell_type": "code",
   "execution_count": 3,
   "id": "40e4ae4e",
   "metadata": {},
   "outputs": [],
   "source": [
    "from llama_index.core import VectorStoreIndex, ServiceContext\n",
    "from llama_index.llms.openai import OpenAI"
   ]
  },
  {
   "cell_type": "code",
   "execution_count": null,
   "id": "68cb484e",
   "metadata": {},
   "outputs": [],
   "source": []
  },
  {
   "cell_type": "code",
   "execution_count": 4,
   "id": "f8014845",
   "metadata": {},
   "outputs": [],
   "source": [
    "from llama_index.core import Settings"
   ]
  },
  {
   "cell_type": "code",
   "execution_count": 5,
   "id": "2f1c77b9",
   "metadata": {},
   "outputs": [],
   "source": [
    "Settings.llm = OpenAI(\n",
    "    model='gpt-4.1'\n",
    ")"
   ]
  },
  {
   "cell_type": "code",
   "execution_count": 6,
   "id": "6047927e",
   "metadata": {},
   "outputs": [],
   "source": [
    "index = VectorStoreIndex.from_documents(\n",
    "    documents\n",
    ")"
   ]
  },
  {
   "cell_type": "code",
   "execution_count": 7,
   "id": "f0520bf6",
   "metadata": {},
   "outputs": [],
   "source": [
    "engine = index.as_query_engine()"
   ]
  },
  {
   "cell_type": "code",
   "execution_count": 8,
   "id": "370023a2",
   "metadata": {},
   "outputs": [],
   "source": [
    "rt = engine.query(\"자소서를 분석해줘\")"
   ]
  },
  {
   "cell_type": "code",
   "execution_count": 10,
   "id": "c05d85b6",
   "metadata": {},
   "outputs": [
    {
     "name": "stdout",
     "output_type": "stream",
     "text": [
      "이 자기소개서는 지원자가 IT 산업의 발전과 본인의 경험을 바탕으로 성장 의지와 목표를 명확하게 드러내고 있습니다. 지원자는 전자공학도로서 스마트폰과 도어락을 연동하는 프로젝트 경험을 통해 기술적 도전과 협업의 즐거움을 느꼈고, 이를 계기로 백엔드 개발자로서의 진로를 확고히 하게 되었다고 밝히고 있습니다.\n",
      "\n",
      "또한, 지원자는 백엔드 개발의 중요성을 강조하며, 효율적이고 효과적인 프로그램을 만들고자 하는 목표를 가지고 있습니다. 지원하는 회사의 밝은 분위기와 다양한 기술 스택, 수평적인 조직 문화를 긍정적으로 평가하며, 그 환경에서 함께 성장하고 싶다는 의지를 표현하고 있습니다.\n",
      "\n",
      "특히, 자신이 공부해온 Java Spring을 활용할 수 있는 직무에 지원하게 된 동기와, 멘토에게 배운 경험을 바탕으로 회사에서 배우고 성장하여 다른 이에게도 도움을 주고 싶다는 포부를 담고 있습니다.\n",
      "\n",
      "전반적으로 지원자의 성장 경험, 직무에 대한 열정, 회사에 대한 관심과 기대, 그리고 협업과 배움에 대한 긍정적인 태도가 잘 드러난 자기소개서입니다.\n"
     ]
    }
   ],
   "source": [
    "print(rt.response)"
   ]
  },
  {
   "cell_type": "code",
   "execution_count": 11,
   "id": "2cdac2d9",
   "metadata": {},
   "outputs": [],
   "source": [
    "from llama_index.core.prompts import PromptTemplate"
   ]
  },
  {
   "cell_type": "code",
   "execution_count": 22,
   "id": "17b691d4",
   "metadata": {},
   "outputs": [],
   "source": [
    "system_prompt = \"\"\"당신은 인사담당자입니다. 비판적인 시각을 가지고 있는 인사담당자입니다. 그에 따라 행동하세요.\n",
    "{context_str}\n",
    "질문:{query_str}\n",
    "인사담당자 답변:\"\"\""
   ]
  },
  {
   "cell_type": "code",
   "execution_count": 23,
   "id": "fbea1356",
   "metadata": {},
   "outputs": [],
   "source": [
    "custom = PromptTemplate(system_prompt)"
   ]
  },
  {
   "cell_type": "code",
   "execution_count": 24,
   "id": "009784ac",
   "metadata": {},
   "outputs": [],
   "source": [
    "query = index.as_query_engine(text_qa_tmplate=custom)"
   ]
  },
  {
   "cell_type": "code",
   "execution_count": 28,
   "id": "dce09837",
   "metadata": {},
   "outputs": [],
   "source": [
    "rt = query.query(\"이 자소서에 평가?\")"
   ]
  },
  {
   "cell_type": "code",
   "execution_count": 29,
   "id": "c9950a4a",
   "metadata": {},
   "outputs": [
    {
     "name": "stdout",
     "output_type": "stream",
     "text": [
      "이 자기소개서는 지원자의 경험과 목표, 그리고 지원 동기를 구체적으로 잘 드러내고 있습니다. IT 산업의 발전과 본인의 전공, 그리고 프로젝트 경험을 통해 얻은 보람과 성장에 대해 진솔하게 서술하고 있습니다. 특히 스마트폰과 도어락을 연동한 프로젝트 경험을 통해 기술적 역량과 협업 능력을 강조한 점이 인상적입니다.\n",
      "\n",
      "또한, 지원하는 회사의 특징과 분위기를 구체적으로 언급하며, 회사에 대한 관심과 이해도를 보여주고 있습니다. Java Spring을 활용한 개발 경험과 회사의 채용 포지션이 잘 맞는다는 점을 어필한 부분도 긍정적입니다. 마지막으로, 멘토에게 받은 긍정적인 영향을 바탕으로, 본인도 회사에서 배우고 성장하며 다른 이에게 도움을 주고 싶다는 포부를 밝힌 점이 지원자의 성장 의지와 협업 태도를 잘 보여줍니다.\n",
      "\n",
      "전반적으로 경험, 동기, 목표, 회사에 대한 이해와 열정이 잘 드러난 자기소개서로 평가할 수 있습니다. 다만, 문장 구조나 표현을 조금 더 다듬으면 더욱 명확하고 설득력 있는 글이 될 수 있습니다.\n"
     ]
    }
   ],
   "source": [
    "print(rt.response)"
   ]
  },
  {
   "cell_type": "code",
   "execution_count": null,
   "id": "0a3e637d",
   "metadata": {},
   "outputs": [],
   "source": [
    "pip install llama-index-readers-web"
   ]
  },
  {
   "cell_type": "code",
   "execution_count": 33,
   "id": "db6f7cfa",
   "metadata": {},
   "outputs": [],
   "source": [
    "from llama_index.readers.web import BeautifulSoupWebReader\n",
    "\n",
    "loader = BeautifulSoupWebReader()"
   ]
  },
  {
   "cell_type": "code",
   "execution_count": 34,
   "id": "a93bbdde",
   "metadata": {},
   "outputs": [],
   "source": [
    "docu = loader.load_data(urls=['https://m.sports.naver.com/wfootball/article/311/0001895943'])"
   ]
  },
  {
   "cell_type": "code",
   "execution_count": 35,
   "id": "2f735fbe",
   "metadata": {},
   "outputs": [
    {
     "data": {
      "text/plain": [
       "[Document(id_='5aa7ea96-6b32-4541-bab3-a72eccbb719c', embedding=None, metadata={'URL': 'https://m.sports.naver.com/wfootball/article/311/0001895943'}, excluded_embed_metadata_keys=[], excluded_llm_metadata_keys=[], relationships={}, metadata_template='{key}: {value}', metadata_separator='\\n', text_resource=MediaResource(embeddings=None, data=None, text='르브론→오타니→손흥민…SON, 美 LA 입단 급물살! 279억 초대박→\"새로운 슈퍼스타 온다\"NAVER스포츠메뉴홈야구해외야구축구해외축구농구배구N골프일반e스포츠아웃도어NEW뉴스영상일정순위포토홈 바로가기NAVER스포츠마이팀팀 추가응원하는 팀을 구독해보세요!스포츠야구해외야구축구해외축구농구배구N골프일반e스포츠아웃도어콘텐츠오늘의 경기승부예측연재이슈톡대학스포츠랭킹기타고객센터공식 블로그메뉴 닫기본문 바로가기르브론→오타니→손흥민…SON, 美 LA 입단 급물살! 279억 초대박→\"새로운 슈퍼스타 온다\"입력2025.07.25. 오전 11:20수정2025.07.25. 오전 11:37기사원문공감좋아요0슬퍼요0화나요0팬이에요0후속기사 원해요0텍스트 음성 변환 서비스본문 듣기를 종료하였습니다.글자 크기 변경공유하기\\u200b(엑스포츠뉴스 김현기 기자) 손흥민 차기 행선지가 미국 로스앤젤레스(LA)로 굳어지는 분위기다.손흥민의 결단만 남은 것으로 보인다. 토트넘은 그의 이적료를 합리적인 수준으로 책정해 새출발을 돕기로 했다.지난달 국제축구연맹(FIFA) 2025 클럽월드컵미국 LA FC가 손흥민에게 강하게 달려들고 있다.영국 공영방송 BBC와 유력지 \\'데일리 텔레그래프\\', 대중지 \\'더선\\', 뉴욕타임스 산하 글로벌 스포츠 매체 \\'디 애슬레틱\\' 등이 연달아 손흥민의 LA 이적 가능성이 크다고 알린 가운데, 이번엔 이적시장 전문가인 파브리치오 로마노까지 가세했다.로마노 기자는 25일(이하 한국시간) 자신의 SNS를 통해 \"LA FC는 이미 손흥민에게 프로젝트의 새로운 스타로서 첫 제안을 보냈다. 손흥민은 향후 거취에 대해 조만간 토마스 프랑크 감독과 직접 대화를 나눈 후 결정할 예정\"이라면서 \"현재 협상은 손흥민에게 달려 있다. 토트넘은 이제 손흥민이 다음 단계를 정할 수 있도록 할 방침이다\"고 주장했다.로마노를 지난 24일엔 \"LA FC가 새로운 슈퍼스타를 영입하기 위해 손흥민에게 접근했다\"고 했다.토트넘은 손흥민이 추후 행선지를 고를 경우, 지난 10년간 구단에 헌신한 점과 지난 2년간 주장으로 리더십 발휘한 점을 높이 평가해 이적료 규모가 자신들이 생각하는 것과 크게 어긋나지 않는다면 앞길을 흔쾌히 열어주겠다는 상황이다.\\xa0로마노 이전에 영국을 중심으로 외신들이 손흥민의 LA FC 이적 가능성을 일제히 보도하고 나서 시선을 끈다.영국 유력지 \\'데일리 텔레그래프\\'는 24일 \"손흥민은 다음 달 서울에서 열리는 프리시즌 친선경기에 출전해야 하는 계약상 의무가 있지만, 10년 만에 팀을 떠날 수도 있다\"라고 보도했다.토트넘은 7월31일 홍콩에서 아스널과 역사상 첫 친선경기 북런던 더비를 치른 뒤 8월3일 서울월드컵경기장에서 프리미어리그 강팀 뉴캐슬 유나이티드와 한국 투어를 벌인다.이 경기에 손흥민이 빠질 경우 토트넘이 위약금을 크게 물어야 하기 때문에 8월 초중순까지는 손흥민이 토트넘에 잔류하지만 이후 행방을 알 수 없고, LA FC로 갈 수 있다는 게 영국 언론과 로마노의 주장이다.매체에 따르면 토트넘은 미국 메이저리그사커(MLS) 클럽 LA FC로부터 손흥민 영입 제안을 받았다.\\'데일리 텔레그래프\\'는 \"토트넘은 LA FC로부터 클럽의 주장 손흥민에 대한 제안을 받았다\"며 \"손흥민의 미래는 이번 여름 내내 불확실했고, LA FC는 이제 손흥민을 영입하기 위한 움직임을 보였다\"라고 설명했다.이어 \"하지만 손흥민의 상황은 클럽의 프리시즌 투어가 끝날 때까지 해결될 가능성이 낮다\"라며 \"이는 주로 여름 한국 원정에 포함된 \\'핵심 선수 조항\\' 때문이다\"라고 덧붙였다.토트넘과 손흥민 간의 계약 기간은 2026년 6월에 만료될 예정이다. 당초 지난 6월 30일 계약이 끝날 것으로 보였으나 토트넘이 1년 연장 옵션을 발동함에 따라 내년 6월에 계약이 마무리된다.다만 이번 연장을 두고 토트넘이 손흥민을 1년 더 데리고 가겠다는 차원보다는 올여름 한 푼도 받지 못하고 그를 내주는 것 막기 위한 차원이라는 해석이 더 컸다.결국 한국 투어 직후 손흥민이 프리미어리그를 떠날 가능성이 커졌다.글로벌 매체 \\'ESPN\\'는 \"LA FC는 토트넘 슈퍼스타 손흥민에게 두 자리가 비어 었는 지정 선수 자리 중 하나를 채우고 싶어 한다\"라며 \"토트넘은 신임 감독 토마스 프랑크 체제에서 재건 과정에 있으며, 손흥민이 MLS에서 새로운 도전에 열려 있기를 기대하고 있다\"라고 전했다.지정 선수는 미국 구단이 샐러리캡에 구애받지 않고 데려올 수 있는 선수를 뜻한다.글로벌 스포츠 매체 \\'디 애슬레틱\\' 역시 \"LA FC는 손흥민을 설득할 수 있을 것으로 희망한다\"라며 \"손흥민은 프랑크 감독의 계획 내에 들어있지 않은 것으로 보인다\"라고 했다.손흥민의 이적료는 300억원 안팎이 될 전망이다.\\'더선\\'은 24일 \"토트넘은 주장 손흥민에 대해 1500만 파운드(약 279억원)의 제안을 고려하고 있다\"며 \"LA FC가 손흥민을 타깃으로 삼으면서 토트넘에서의 손흥민의 미래가 불투명해졌다\"라고 설명했다.손흥민의 경우 10년 전 이적료 400억원에 토트넘에 온 뒤 막대한 마케팅 수입과 위상 제고로 구단에 기여했다. 마지막까지 훌륭한 이적료를 남기고 떠날 가능성이 커졌다.LA는 미국에서도 한인들이 가장 많이 사는 곳이라 손흥민의 LA FC는 구단 흥행에도 큰 역할 할 수 있을 것으로 보인다.손흥민이 LA FC에 입성할 경우, 스포츠 천국 LA에 새로운 스타가 가세하는 셈이 된다. 이미 농구의 르브론 제임스(LA 레이커스), 야구의 오타니 쇼헤이(LA 다저스)가 LA를 빛내는 슈퍼스타로 자리잡은 가운데 축구에선 아시아 축구사 최고의 선수 손흥민이 이름을 올리게 된다.사진=발롱도르 / 토트넘 / 파브리치오 로마노 SNS / 연합뉴스김현기 기자구독 0응원 0구독[속보] 대충격! \\'평점 최하위\\' 손흥민, 2진으로 밀렸다?…토트넘 26일 2경기 한다→\"후보급 선수들, 비공개 경기할 수도\"안세영 너무 잘하네, 세계 1강! 이의 있습니까?…2위 中 왕즈이 2-0 완파+올해 \\'5전 전승\\'→일본오픈 정상 등극+6관왕엑스포츠뉴스언론사홈 바로가기Copyright ⓒ 엑스포츠뉴스. All rights reserved. 무단 전재 및 재배포 금지.기사 섹션 분류 가이드기사 섹션 분류 안내스포츠 기사 섹션(종목) 정보는 언론사 분류와 기술 기반의 자동 분류 시스템을 따르고 있습니다. 오분류에 대한 건은 네이버스포츠로 제보 부탁드립니다.오분류 제보하기닫기2024년 오늘의 무료 운세·사주·타로 확인!2024년 오늘의 별자리 운세 확인!주요뉴스해당 언론사에서 선정하며 언론사 페이지(아웃링크)로 이동해 볼 수 있습니다.\\'성폭행 논란 후 잠적\\' 김건모, 이혼까지…요즘 뭐하나 보니치어리더 이주은, 박수종과 ♥열애설…스킨십 사진 유출\\'결별\\' 성해은, 비키니 자태 적나라…노출 수위에 \\'술렁\\'이병헌♥이민정, \\'26억 저택\\' 털렸다…가구 부서지고 철근 설치\\'맥심\\'이 반한 치어리더, 표지 장식…반전 매력 \\'아찔\\'좋아요0슬퍼요0화나요0팬이에요0후속기사 원해요0', path=None, url=None, mimetype=None), image_resource=None, audio_resource=None, video_resource=None, text_template='{metadata_str}\\n\\n{content}')]"
      ]
     },
     "execution_count": 35,
     "metadata": {},
     "output_type": "execute_result"
    }
   ],
   "source": [
    "docu"
   ]
  },
  {
   "cell_type": "code",
   "execution_count": 37,
   "id": "83b14f8d",
   "metadata": {},
   "outputs": [],
   "source": [
    "url_index = VectorStoreIndex.from_documents(\n",
    "    docu\n",
    ")"
   ]
  },
  {
   "cell_type": "code",
   "execution_count": 38,
   "id": "c242908c",
   "metadata": {},
   "outputs": [],
   "source": [
    "url_query = url_index.as_query_engine()"
   ]
  },
  {
   "cell_type": "code",
   "execution_count": 42,
   "id": "d22b62be",
   "metadata": {},
   "outputs": [
    {
     "data": {
      "text/plain": [
       "'토트넘이 주장 손흥민에 대해 1500만 파운드(약 279억 원)의 이적 제안을 고려하고 있으며, LA FC가 손흥민 영입을 노리고 있어 그의 토트넘 미래가 불투명해졌다. 손흥민은 토트넘에서 10년간 활약하며 구단의 마케팅과 위상에 크게 기여했다. LA는 한인 인구가 많아 손흥민이 LA FC에 입단할 경우 구단 흥행에도 긍정적인 영향을 줄 것으로 보인다. LA에는 이미 르브론 제임스, 오타니 쇼헤이 등 스포츠 스타들이 활약 중이며, 손흥민이 합류하면 축구에서도 새로운 스타가 탄생하게 된다.'"
      ]
     },
     "execution_count": 42,
     "metadata": {},
     "output_type": "execute_result"
    }
   ],
   "source": [
    "url_query.query(\"신문 기사 요약\").response"
   ]
  },
  {
   "cell_type": "code",
   "execution_count": null,
   "id": "e23f0b21",
   "metadata": {},
   "outputs": [],
   "source": []
  }
 ],
 "metadata": {
  "kernelspec": {
   "display_name": "openai",
   "language": "python",
   "name": "python3"
  },
  "language_info": {
   "codemirror_mode": {
    "name": "ipython",
    "version": 3
   },
   "file_extension": ".py",
   "mimetype": "text/x-python",
   "name": "python",
   "nbconvert_exporter": "python",
   "pygments_lexer": "ipython3",
   "version": "3.12.11"
  }
 },
 "nbformat": 4,
 "nbformat_minor": 5
}
