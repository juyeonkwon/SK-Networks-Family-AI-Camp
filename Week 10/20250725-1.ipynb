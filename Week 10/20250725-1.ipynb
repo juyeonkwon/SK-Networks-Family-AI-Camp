{
 "cells": [
  {
   "cell_type": "code",
   "execution_count": 1,
   "id": "3f0ef262",
   "metadata": {},
   "outputs": [],
   "source": [
    "from langchain_core.output_parsers import CommaSeparatedListOutputParser\n",
    "from langchain_core.prompts import PromptTemplate\n",
    "from langchain_openai import ChatOpenAI"
   ]
  },
  {
   "cell_type": "code",
   "execution_count": 2,
   "id": "03599c17",
   "metadata": {},
   "outputs": [],
   "source": [
    "output_parser = CommaSeparatedListOutputParser()"
   ]
  },
  {
   "cell_type": "code",
   "execution_count": 10,
   "id": "2841b108",
   "metadata": {},
   "outputs": [],
   "source": [
    "format_instructions = output_parser.get_format_instructions()\n",
    "\n",
    "prompt = PromptTemplate(\n",
    "    template=\"List ten {subject}.\\n{format_instructions}\",\n",
    "    input_variables=['subject'],\n",
    "    partial_variables={'format_instructions' : format_instructions}\n",
    ")\n",
    "\n",
    "model = ChatOpenAI(\n",
    "    model='gpt-4.1',\n",
    "    temperature=0\n",
    ")\n",
    "\n",
    "chain = prompt  |  model  | output_parser"
   ]
  },
  {
   "cell_type": "code",
   "execution_count": 11,
   "id": "cba89b36",
   "metadata": {},
   "outputs": [
    {
     "data": {
      "text/plain": [
       "['팔당초계국수',\n",
       " '팔당원조능이버섯칼국수',\n",
       " '팔당연가',\n",
       " '팔당가든',\n",
       " '팔당닭발',\n",
       " '팔당숯불장어',\n",
       " '팔당민물매운탕',\n",
       " '팔당한정식',\n",
       " '팔당초밥',\n",
       " '팔당막국수']"
      ]
     },
     "execution_count": 11,
     "metadata": {},
     "output_type": "execute_result"
    }
   ],
   "source": [
    "chain.invoke({\"subject\" : \"팔당댐 근처 맛집\"})"
   ]
  },
  {
   "cell_type": "code",
   "execution_count": 12,
   "id": "ea28a933",
   "metadata": {},
   "outputs": [],
   "source": [
    "from langchain.output_parsers import ResponseSchema, StructuredOutputParser"
   ]
  },
  {
   "cell_type": "code",
   "execution_count": 13,
   "id": "fdd955e9",
   "metadata": {},
   "outputs": [],
   "source": [
    "response_list = [\n",
    "    ResponseSchema(name='answer', description=\"사용자 질문에 대한 답변\"),\n",
    "    ResponseSchema(\n",
    "        name='source',\n",
    "        description='사용자의 질문에 답하기 위해 사용된 `출처`, `웹사이트주소` 이어야 한다'\n",
    "    )\n",
    "]"
   ]
  },
  {
   "cell_type": "code",
   "execution_count": 14,
   "id": "876fb462",
   "metadata": {},
   "outputs": [],
   "source": [
    "output_parser = StructuredOutputParser.from_response_schemas(response_list)"
   ]
  },
  {
   "cell_type": "code",
   "execution_count": 17,
   "id": "5791d64e",
   "metadata": {},
   "outputs": [],
   "source": [
    "format_instructions = output_parser.get_format_instructions()\n",
    "prompt = PromptTemplate(\n",
    "    template=\"answer the users question as best as possible.\\n{format_instructions}\\n{question}\",\n",
    "    input_variables=['question'],\n",
    "    partial_variables={'format_instructions' :format_instructions }\n",
    ")"
   ]
  },
  {
   "cell_type": "code",
   "execution_count": 18,
   "id": "7b9769fe",
   "metadata": {},
   "outputs": [],
   "source": [
    "chain = prompt  |  model  | output_parser"
   ]
  },
  {
   "cell_type": "code",
   "execution_count": 22,
   "id": "51cd17ce",
   "metadata": {},
   "outputs": [
    {
     "data": {
      "text/plain": [
       "{'answer': '아리계곡 주점은 강원도 정선군에 위치한 아리계곡 인근에 있는 음식점 또는 주점으로, 계곡의 자연경관을 감상하며 식사나 음료를 즐길 수 있는 곳입니다. 특히 여름철에는 계곡 물놀이와 함께 방문하는 사람들이 많으며, 주로 산채비빔밥, 막걸리, 닭백숙 등 지역 특색 음식을 제공합니다. 정확한 위치나 영업 정보는 방문 전 확인이 필요합니다.',\n",
       " 'source': 'https://map.naver.com/p/search/%EC%95%84%EB%A6%AC%EA%B3%84%EA%B3%A1%20%EC%A3%BC%EC%A0%90'}"
      ]
     },
     "execution_count": 22,
     "metadata": {},
     "output_type": "execute_result"
    }
   ],
   "source": [
    "text = input(\"질의 : \")\n",
    "chain.invoke({\"question\" : text})"
   ]
  },
  {
   "cell_type": "code",
   "execution_count": 24,
   "id": "12e9eee1",
   "metadata": {},
   "outputs": [],
   "source": [
    "from langchain_core.output_parsers import JsonOutputParser\n",
    "from pydantic import BaseModel, Field"
   ]
  },
  {
   "cell_type": "code",
   "execution_count": 25,
   "id": "2c381fb4",
   "metadata": {},
   "outputs": [],
   "source": [
    "class Topic(BaseModel):\n",
    "    description : str = Field(description='주제에 대한 간결한 설명'),\n",
    "    hashtags : str = Field(description=\"해시태그 형식의 키워드(2개 이상)\")"
   ]
  },
  {
   "cell_type": "code",
   "execution_count": 26,
   "id": "930f8605",
   "metadata": {},
   "outputs": [],
   "source": [
    "parser = JsonOutputParser(pydantic_object=Topic)"
   ]
  },
  {
   "cell_type": "code",
   "execution_count": 27,
   "id": "0eef48d8",
   "metadata": {},
   "outputs": [],
   "source": [
    "from langchain_core.prompts import ChatPromptTemplate\n"
   ]
  },
  {
   "cell_type": "code",
   "execution_count": 38,
   "id": "f2720c3e",
   "metadata": {},
   "outputs": [],
   "source": [
    "prompt = ChatPromptTemplate(\n",
    "    [\n",
    "        (\"system\", \"당신은 친구같은 AI 어시스턴트입니다. 당신은 여성입니다.\"),\n",
    "        (\"user\", \"#FORMAT: {format_instructions}\\n\\n#Question: {question}\")\n",
    "    ]\n",
    ")"
   ]
  },
  {
   "cell_type": "code",
   "execution_count": 39,
   "id": "0ae126c4",
   "metadata": {},
   "outputs": [
    {
     "name": "stderr",
     "output_type": "stream",
     "text": [
      "/home/play/miniconda3/envs/openai/lib/python3.12/site-packages/pydantic/json_schema.py:2324: PydanticJsonSchemaWarning: Default value (FieldInfo(annotation=NoneType, required=True, description='주제에 대한 간결한 설명'),) is not JSON serializable; excluding default from JSON schema [non-serializable-default]\n",
      "  warnings.warn(message, PydanticJsonSchemaWarning)\n"
     ]
    }
   ],
   "source": [
    "prompt = prompt.partial(format_instructions=parser.get_format_instructions())"
   ]
  },
  {
   "cell_type": "code",
   "execution_count": 40,
   "id": "51ca21ba",
   "metadata": {},
   "outputs": [],
   "source": [
    "chain = prompt | model | parser"
   ]
  },
  {
   "cell_type": "code",
   "execution_count": 41,
   "id": "5d55d550",
   "metadata": {},
   "outputs": [
    {
     "data": {
      "text/plain": [
       "{'description': '오늘 점심 메뉴로는 김치찌개, 제육볶음, 샐러드, 또는 비빔밥을 추천해! 한식이 땡기지 않는다면 파스타나 샌드위치도 좋아.',\n",
       " 'hashtags': '#점메추 #점심추천 #오늘뭐먹지 #한식 #양식'}"
      ]
     },
     "execution_count": 41,
     "metadata": {},
     "output_type": "execute_result"
    }
   ],
   "source": [
    "text = input(\"질의 :\")\n",
    "chain.invoke({\"question\" : text})"
   ]
  },
  {
   "cell_type": "code",
   "execution_count": null,
   "id": "89860ff1",
   "metadata": {},
   "outputs": [],
   "source": []
  }
 ],
 "metadata": {
  "kernelspec": {
   "display_name": "openai",
   "language": "python",
   "name": "python3"
  },
  "language_info": {
   "codemirror_mode": {
    "name": "ipython",
    "version": 3
   },
   "file_extension": ".py",
   "mimetype": "text/x-python",
   "name": "python",
   "nbconvert_exporter": "python",
   "pygments_lexer": "ipython3",
   "version": "3.12.11"
  }
 },
 "nbformat": 4,
 "nbformat_minor": 5
}
