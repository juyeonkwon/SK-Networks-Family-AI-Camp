{
  "nbformat": 4,
  "nbformat_minor": 0,
  "metadata": {
    "colab": {
      "provenance": []
    },
    "kernelspec": {
      "name": "python3",
      "display_name": "Python 3"
    },
    "language_info": {
      "name": "python"
    }
  },
  "cells": [
    {
      "cell_type": "code",
      "execution_count": 1,
      "metadata": {
        "id": "SeJC6IVktMDd"
      },
      "outputs": [],
      "source": [
        "import torchvision"
      ]
    },
    {
      "cell_type": "code",
      "source": [
        "mnist_dataset = torchvision.datasets.MNIST(\"./mnist\", 'train', download=True)"
      ],
      "metadata": {
        "id": "-_cvhe4uuRZu"
      },
      "execution_count": 2,
      "outputs": []
    },
    {
      "cell_type": "code",
      "source": [
        "examples = next(iter(mnist_dataset))"
      ],
      "metadata": {
        "id": "LRMfXzPjuniW"
      },
      "execution_count": 3,
      "outputs": []
    },
    {
      "cell_type": "code",
      "source": [
        "print(examples)"
      ],
      "metadata": {
        "colab": {
          "base_uri": "https://localhost:8080/"
        },
        "id": "QjAGM5ASvGPu",
        "outputId": "a665d81e-cef0-403d-8fa9-e9ebd9fb8ba7"
      },
      "execution_count": 4,
      "outputs": [
        {
          "output_type": "stream",
          "name": "stdout",
          "text": [
            "(<PIL.Image.Image image mode=L size=28x28 at 0x7FC628BAF0D0>, 5)\n"
          ]
        }
      ]
    },
    {
      "cell_type": "code",
      "source": [
        "import matplotlib.pyplot as plt\n",
        "from itertools import islice\n",
        "fig = plt.figure(figsize=(15, 6))\n",
        "for i, (image, label) in islice(enumerate(mnist_dataset), 10):\n",
        "    ax = fig.add_subplot(2, 5, i+1)\n",
        "    ax.set_xticks([]); ax.set_yticks([])\n",
        "    ax.imshow(image, cmap='gray_r')\n",
        "    ax.set_title(f'{label}', size=15)\n",
        "\n",
        "#plt.savefig('figures/12_06.pdf')\n",
        "plt.show()"
      ],
      "metadata": {
        "colab": {
          "base_uri": "https://localhost:8080/",
          "height": 426
        },
        "id": "IWHRiAmMvTnh",
        "outputId": "0323a925-b854-4e1d-94e7-a66929c43088"
      },
      "execution_count": 5,
      "outputs": [
        {
          "output_type": "display_data",
          "data": {
            "text/plain": [
              "<Figure size 1500x600 with 10 Axes>"
            ],
            "image/png": "[encoded data removed]"
          },
          "metadata": {}
        }
      ]
    },
    {
      "cell_type": "code",
      "source": [
        "from torchvision import transforms\n",
        "train_dataset = torchvision.datasets.MNIST(\"./data/MNIST\", train=True, download=True, transform=transforms.ToTensor())"
      ],
      "metadata": {
        "id": "nodbNDJSvgRJ"
      },
      "execution_count": 6,
      "outputs": []
    },
    {
      "cell_type": "code",
      "source": [
        "test_dataset = torchvision.datasets.MNIST(\"./data/MNIST\", train=False, download=True, transform=transforms.ToTensor())"
      ],
      "metadata": {
        "id": "hEg4AJx0w7f-"
      },
      "execution_count": 7,
      "outputs": []
    },
    {
      "cell_type": "code",
      "source": [
        "import torch\n",
        "\n",
        "train_loader = torch.utils.data.DataLoader(dataset=train_dataset, batch_size= 32, shuffle=True)"
      ],
      "metadata": {
        "id": "sDie_MCoxKPF"
      },
      "execution_count": 8,
      "outputs": []
    },
    {
      "cell_type": "code",
      "source": [
        "test_loader = torch.utils.data.DataLoader(dataset=test_dataset, batch_size= 32, shuffle=True)"
      ],
      "metadata": {
        "id": "hsaGdmNmxtk1"
      },
      "execution_count": 9,
      "outputs": []
    },
    {
      "cell_type": "code",
      "source": [
        "for  X_train, y_train   in train_loader:\n",
        "  print('x_train : ', X_train.size())\n",
        "  print('y_train : ', y_train.shape)\n",
        "  print(y_train)\n",
        "  break"
      ],
      "metadata": {
        "colab": {
          "base_uri": "https://localhost:8080/"
        },
        "id": "2G61vAxQyYO0",
        "outputId": "8181f012-75ad-42ba-9c9a-a51c2fb49121"
      },
      "execution_count": 10,
      "outputs": [
        {
          "output_type": "stream",
          "name": "stdout",
          "text": [
            "x_train :  torch.Size([32, 1, 28, 28])\n",
            "y_train :  torch.Size([32])\n",
            "tensor([3, 8, 4, 3, 3, 1, 3, 1, 9, 4, 4, 0, 7, 0, 5, 3, 4, 9, 0, 0, 5, 4, 7, 2,\n",
            "        1, 2, 4, 2, 6, 9, 2, 3])\n"
          ]
        }
      ]
    },
    {
      "cell_type": "code",
      "source": [
        "28 * 28 * 512"
      ],
      "metadata": {
        "colab": {
          "base_uri": "https://localhost:8080/"
        },
        "id": "kfFxlhdF09pg",
        "outputId": "c913cf54-5a62-4101-a599-609631847519"
      },
      "execution_count": 11,
      "outputs": [
        {
          "output_type": "execute_result",
          "data": {
            "text/plain": [
              "401408"
            ]
          },
          "metadata": {},
          "execution_count": 11
        }
      ]
    },
    {
      "cell_type": "code",
      "source": [
        "import torch.nn as nn"
      ],
      "metadata": {
        "id": "SewOzVxm0HEx"
      },
      "execution_count": 12,
      "outputs": []
    },
    {
      "cell_type": "code",
      "source": [
        "# DNN(Deep Neural Network)\n",
        "# 완전 연결층\n",
        "import torch.nn.functional as F\n",
        "class Net(nn.Module):\n",
        "  def __init__(self):\n",
        "    super(Net, self).__init__()\n",
        "    self.fc1 = nn.Linear(28 * 28, 512)\n",
        "    self.fc2 = nn.Linear(512, 256)\n",
        "    self.fc3 = nn.Linear(256, 10)\n",
        "\n",
        "  def forward(self, x ):\n",
        "    x = x.view(-1, 28 * 28)\n",
        "    x = self.fc1(x)\n",
        "    x = F.sigmoid(x) # 활성화 함수\n",
        "    x = self.fc2(x)\n",
        "    x = F.sigmoid(x)\n",
        "    x = self.fc3(x)\n",
        "    x = F.log_softmax(x)\n",
        "    return x"
      ],
      "metadata": {
        "id": "4bRICXoD0GsU"
      },
      "execution_count": 13,
      "outputs": []
    },
    {
      "cell_type": "code",
      "source": [
        "model = Net()"
      ],
      "metadata": {
        "id": "n4UW6yaMX-US"
      },
      "execution_count": 14,
      "outputs": []
    },
    {
      "cell_type": "code",
      "source": [
        "pip install torchinfo"
      ],
      "metadata": {
        "colab": {
          "base_uri": "https://localhost:8080/"
        },
        "id": "CmnRzUkCYOY7",
        "outputId": "742de97c-1f5a-4c8d-9a43-cd1aab9b16b7"
      },
      "execution_count": 15,
      "outputs": [
        {
          "output_type": "stream",
          "name": "stdout",
          "text": [
            "Requirement already satisfied: torchinfo in /usr/local/lib/python3.11/dist-packages (1.8.0)\n"
          ]
        }
      ]
    },
    {
      "cell_type": "code",
      "source": [
        "from torchinfo import summary"
      ],
      "metadata": {
        "id": "EGAdjF3BYiU9"
      },
      "execution_count": 16,
      "outputs": []
    },
    {
      "cell_type": "code",
      "source": [
        "256 * 10  + 10"
      ],
      "metadata": {
        "colab": {
          "base_uri": "https://localhost:8080/"
        },
        "id": "POu7L7DWZOe5",
        "outputId": "b2bb532b-4105-419a-bbd7-8b3b5fed25b5"
      },
      "execution_count": 17,
      "outputs": [
        {
          "output_type": "execute_result",
          "data": {
            "text/plain": [
              "2570"
            ]
          },
          "metadata": {},
          "execution_count": 17
        }
      ]
    },
    {
      "cell_type": "code",
      "source": [
        "summary(model)"
      ],
      "metadata": {
        "colab": {
          "base_uri": "https://localhost:8080/"
        },
        "id": "62TN9MoeYkyt",
        "outputId": "9dc67498-d81c-4134-d2a7-ae7f629868d1"
      },
      "execution_count": 18,
      "outputs": [
        {
          "output_type": "execute_result",
          "data": {
            "text/plain": [
              "=================================================================\n",
              "Layer (type:depth-idx)                   Param #\n",
              "=================================================================\n",
              "Net                                      --\n",
              "├─Linear: 1-1                            401,920\n",
              "├─Linear: 1-2                            131,328\n",
              "├─Linear: 1-3                            2,570\n",
              "=================================================================\n",
              "Total params: 535,818\n",
              "Trainable params: 535,818\n",
              "Non-trainable params: 0\n",
              "================================================================="
            ]
          },
          "metadata": {},
          "execution_count": 18
        }
      ]
    },
    {
      "cell_type": "code",
      "source": [
        "criterion = nn.CrossEntropyLoss()\n",
        "epoch = 10\n",
        "def train(model, train_loader, optimizer, log_interval):\n",
        "    model.train()\n",
        "    for batch_idx, (image, label) in enumerate(train_loader):\n",
        "        optimizer.zero_grad()\n",
        "        output = model(image)\n",
        "        loss = criterion(output, label)\n",
        "        loss.backward()\n",
        "        optimizer.step()\n",
        "\n",
        "        if batch_idx % log_interval == 0:\n",
        "            print(\"Train Epoch: {} [{}/{} ({:.0f}%)]\\tTrain Loss: {:.6f}\".format(\n",
        "                epoch, batch_idx * len(image),\n",
        "                len(train_loader.dataset), 100. * batch_idx / len(train_loader),\n",
        "                loss.item()))"
      ],
      "metadata": {
        "id": "2VmMBpUTbrbd"
      },
      "execution_count": 19,
      "outputs": []
    },
    {
      "cell_type": "code",
      "source": [
        "BATCH_SIZE = 32\n",
        "def evaluate(model, test_loader):\n",
        "    model.eval()\n",
        "    test_loss = 0\n",
        "    correct = 0\n",
        "\n",
        "    with torch.no_grad():\n",
        "        for image, label in test_loader:\n",
        "            output = model(image)\n",
        "            test_loss += criterion(output, label).item()\n",
        "            prediction = output.max(1, keepdim = True)[1]\n",
        "            correct += prediction.eq(label.view_as(prediction)).sum().item()\n",
        "\n",
        "    test_loss /= (len(test_loader.dataset) / BATCH_SIZE)\n",
        "    test_accuracy = 100. * correct / len(test_loader.dataset)\n",
        "    return test_loss, test_accuracy"
      ],
      "metadata": {
        "id": "urc4LETJb6M3"
      },
      "execution_count": 20,
      "outputs": []
    },
    {
      "cell_type": "code",
      "source": [
        "optimizer = torch.optim.SGD(model.parameters(), lr = 0.01, momentum = 0.5)"
      ],
      "metadata": {
        "id": "hC2uAtTj1pCQ"
      },
      "execution_count": 21,
      "outputs": []
    },
    {
      "cell_type": "code",
      "source": [
        "EPOCHS = 10\n",
        "for epoch in range(1, EPOCHS + 1):\n",
        "    train(model, train_loader, optimizer, log_interval = 200)\n",
        "    test_loss, test_accuracy = evaluate(model, test_loader)\n",
        "    print(\"\\n[EPOCH: {}], \\tTest Loss: {:.4f}, \\tTest Accuracy: {:.2f} % \\n\".format(\n",
        "        epoch, test_loss, test_accuracy))"
      ],
      "metadata": {
        "colab": {
          "base_uri": "https://localhost:8080/"
        },
        "id": "mDcuCeWm2Lf1",
        "outputId": "8aabcb98-445d-4947-dbe2-3315da7cbd5f"
      },
      "execution_count": 22,
      "outputs": [
        {
          "output_type": "stream",
          "name": "stderr",
          "text": [
            "/tmp/ipython-input-13-1413823927.py:18: UserWarning: Implicit dimension choice for log_softmax has been deprecated. Change the call to include dim=X as an argument.\n",
            "  x = F.log_softmax(x)\n"
          ]
        },
        {
          "output_type": "stream",
          "name": "stdout",
          "text": [
            "Train Epoch: 1 [0/60000 (0%)]\tTrain Loss: 2.310694\n",
            "Train Epoch: 1 [6400/60000 (11%)]\tTrain Loss: 2.355605\n",
            "Train Epoch: 1 [12800/60000 (21%)]\tTrain Loss: 2.312575\n",
            "Train Epoch: 1 [19200/60000 (32%)]\tTrain Loss: 2.311646\n",
            "Train Epoch: 1 [25600/60000 (43%)]\tTrain Loss: 2.298285\n",
            "Train Epoch: 1 [32000/60000 (53%)]\tTrain Loss: 2.261649\n",
            "Train Epoch: 1 [38400/60000 (64%)]\tTrain Loss: 2.276131\n",
            "Train Epoch: 1 [44800/60000 (75%)]\tTrain Loss: 2.245548\n",
            "Train Epoch: 1 [51200/60000 (85%)]\tTrain Loss: 2.282028\n",
            "Train Epoch: 1 [57600/60000 (96%)]\tTrain Loss: 2.252125\n",
            "\n",
            "[EPOCH: 1], \tTest Loss: 2.2299, \tTest Accuracy: 21.64 % \n",
            "\n",
            "Train Epoch: 2 [0/60000 (0%)]\tTrain Loss: 2.237760\n",
            "Train Epoch: 2 [6400/60000 (11%)]\tTrain Loss: 2.278750\n",
            "Train Epoch: 2 [12800/60000 (21%)]\tTrain Loss: 2.104239\n",
            "Train Epoch: 2 [19200/60000 (32%)]\tTrain Loss: 2.176349\n",
            "Train Epoch: 2 [25600/60000 (43%)]\tTrain Loss: 1.936395\n",
            "Train Epoch: 2 [32000/60000 (53%)]\tTrain Loss: 1.811860\n",
            "Train Epoch: 2 [38400/60000 (64%)]\tTrain Loss: 1.464969\n",
            "Train Epoch: 2 [44800/60000 (75%)]\tTrain Loss: 1.629924\n",
            "Train Epoch: 2 [51200/60000 (85%)]\tTrain Loss: 1.294591\n",
            "Train Epoch: 2 [57600/60000 (96%)]\tTrain Loss: 1.245066\n",
            "\n",
            "[EPOCH: 2], \tTest Loss: 1.2483, \tTest Accuracy: 62.43 % \n",
            "\n",
            "Train Epoch: 3 [0/60000 (0%)]\tTrain Loss: 1.155151\n",
            "Train Epoch: 3 [6400/60000 (11%)]\tTrain Loss: 1.135643\n",
            "Train Epoch: 3 [12800/60000 (21%)]\tTrain Loss: 1.076041\n",
            "Train Epoch: 3 [19200/60000 (32%)]\tTrain Loss: 1.056872\n",
            "Train Epoch: 3 [25600/60000 (43%)]\tTrain Loss: 0.867783\n",
            "Train Epoch: 3 [32000/60000 (53%)]\tTrain Loss: 0.983461\n",
            "Train Epoch: 3 [38400/60000 (64%)]\tTrain Loss: 1.136752\n",
            "Train Epoch: 3 [44800/60000 (75%)]\tTrain Loss: 0.785280\n",
            "Train Epoch: 3 [51200/60000 (85%)]\tTrain Loss: 0.692152\n",
            "Train Epoch: 3 [57600/60000 (96%)]\tTrain Loss: 0.683476\n",
            "\n",
            "[EPOCH: 3], \tTest Loss: 0.7466, \tTest Accuracy: 77.22 % \n",
            "\n",
            "Train Epoch: 4 [0/60000 (0%)]\tTrain Loss: 0.710997\n",
            "Train Epoch: 4 [6400/60000 (11%)]\tTrain Loss: 0.782928\n",
            "Train Epoch: 4 [12800/60000 (21%)]\tTrain Loss: 0.740459\n",
            "Train Epoch: 4 [19200/60000 (32%)]\tTrain Loss: 0.540779\n",
            "Train Epoch: 4 [25600/60000 (43%)]\tTrain Loss: 0.745970\n",
            "Train Epoch: 4 [32000/60000 (53%)]\tTrain Loss: 0.615274\n",
            "Train Epoch: 4 [38400/60000 (64%)]\tTrain Loss: 0.512541\n",
            "Train Epoch: 4 [44800/60000 (75%)]\tTrain Loss: 0.326128\n",
            "Train Epoch: 4 [51200/60000 (85%)]\tTrain Loss: 0.683860\n",
            "Train Epoch: 4 [57600/60000 (96%)]\tTrain Loss: 0.585713\n",
            "\n",
            "[EPOCH: 4], \tTest Loss: 0.5518, \tTest Accuracy: 84.14 % \n",
            "\n",
            "Train Epoch: 5 [0/60000 (0%)]\tTrain Loss: 0.479132\n",
            "Train Epoch: 5 [6400/60000 (11%)]\tTrain Loss: 0.524183\n",
            "Train Epoch: 5 [12800/60000 (21%)]\tTrain Loss: 0.605694\n",
            "Train Epoch: 5 [19200/60000 (32%)]\tTrain Loss: 0.505266\n",
            "Train Epoch: 5 [25600/60000 (43%)]\tTrain Loss: 0.556068\n",
            "Train Epoch: 5 [32000/60000 (53%)]\tTrain Loss: 0.471118\n",
            "Train Epoch: 5 [38400/60000 (64%)]\tTrain Loss: 0.429116\n",
            "Train Epoch: 5 [44800/60000 (75%)]\tTrain Loss: 0.337008\n",
            "Train Epoch: 5 [51200/60000 (85%)]\tTrain Loss: 0.293286\n",
            "Train Epoch: 5 [57600/60000 (96%)]\tTrain Loss: 0.555678\n",
            "\n",
            "[EPOCH: 5], \tTest Loss: 0.4541, \tTest Accuracy: 86.94 % \n",
            "\n",
            "Train Epoch: 6 [0/60000 (0%)]\tTrain Loss: 0.269166\n",
            "Train Epoch: 6 [6400/60000 (11%)]\tTrain Loss: 0.438851\n",
            "Train Epoch: 6 [12800/60000 (21%)]\tTrain Loss: 0.553659\n",
            "Train Epoch: 6 [19200/60000 (32%)]\tTrain Loss: 0.311279\n",
            "Train Epoch: 6 [25600/60000 (43%)]\tTrain Loss: 0.344947\n",
            "Train Epoch: 6 [32000/60000 (53%)]\tTrain Loss: 0.323000\n",
            "Train Epoch: 6 [38400/60000 (64%)]\tTrain Loss: 0.336411\n",
            "Train Epoch: 6 [44800/60000 (75%)]\tTrain Loss: 0.274358\n",
            "Train Epoch: 6 [51200/60000 (85%)]\tTrain Loss: 0.324881\n",
            "Train Epoch: 6 [57600/60000 (96%)]\tTrain Loss: 0.663392\n",
            "\n",
            "[EPOCH: 6], \tTest Loss: 0.4055, \tTest Accuracy: 88.30 % \n",
            "\n",
            "Train Epoch: 7 [0/60000 (0%)]\tTrain Loss: 0.203502\n",
            "Train Epoch: 7 [6400/60000 (11%)]\tTrain Loss: 0.707708\n",
            "Train Epoch: 7 [12800/60000 (21%)]\tTrain Loss: 0.539849\n",
            "Train Epoch: 7 [19200/60000 (32%)]\tTrain Loss: 0.298173\n",
            "Train Epoch: 7 [25600/60000 (43%)]\tTrain Loss: 0.391290\n",
            "Train Epoch: 7 [32000/60000 (53%)]\tTrain Loss: 0.776059\n",
            "Train Epoch: 7 [38400/60000 (64%)]\tTrain Loss: 0.333278\n",
            "Train Epoch: 7 [44800/60000 (75%)]\tTrain Loss: 0.151179\n",
            "Train Epoch: 7 [51200/60000 (85%)]\tTrain Loss: 0.142983\n",
            "Train Epoch: 7 [57600/60000 (96%)]\tTrain Loss: 0.384117\n",
            "\n",
            "[EPOCH: 7], \tTest Loss: 0.3775, \tTest Accuracy: 89.09 % \n",
            "\n",
            "Train Epoch: 8 [0/60000 (0%)]\tTrain Loss: 0.587732\n",
            "Train Epoch: 8 [6400/60000 (11%)]\tTrain Loss: 0.168265\n",
            "Train Epoch: 8 [12800/60000 (21%)]\tTrain Loss: 0.560275\n",
            "Train Epoch: 8 [19200/60000 (32%)]\tTrain Loss: 0.460063\n",
            "Train Epoch: 8 [25600/60000 (43%)]\tTrain Loss: 0.323328\n",
            "Train Epoch: 8 [32000/60000 (53%)]\tTrain Loss: 0.338929\n",
            "Train Epoch: 8 [38400/60000 (64%)]\tTrain Loss: 0.429600\n",
            "Train Epoch: 8 [44800/60000 (75%)]\tTrain Loss: 0.466125\n",
            "Train Epoch: 8 [51200/60000 (85%)]\tTrain Loss: 0.623104\n",
            "Train Epoch: 8 [57600/60000 (96%)]\tTrain Loss: 0.143786\n",
            "\n",
            "[EPOCH: 8], \tTest Loss: 0.3591, \tTest Accuracy: 89.50 % \n",
            "\n",
            "Train Epoch: 9 [0/60000 (0%)]\tTrain Loss: 0.203509\n",
            "Train Epoch: 9 [6400/60000 (11%)]\tTrain Loss: 0.576226\n",
            "Train Epoch: 9 [12800/60000 (21%)]\tTrain Loss: 0.252708\n",
            "Train Epoch: 9 [19200/60000 (32%)]\tTrain Loss: 0.503324\n",
            "Train Epoch: 9 [25600/60000 (43%)]\tTrain Loss: 0.386149\n",
            "Train Epoch: 9 [32000/60000 (53%)]\tTrain Loss: 0.333833\n",
            "Train Epoch: 9 [38400/60000 (64%)]\tTrain Loss: 0.249696\n",
            "Train Epoch: 9 [44800/60000 (75%)]\tTrain Loss: 0.461467\n",
            "Train Epoch: 9 [51200/60000 (85%)]\tTrain Loss: 0.681424\n",
            "Train Epoch: 9 [57600/60000 (96%)]\tTrain Loss: 0.128087\n",
            "\n",
            "[EPOCH: 9], \tTest Loss: 0.3446, \tTest Accuracy: 90.08 % \n",
            "\n",
            "Train Epoch: 10 [0/60000 (0%)]\tTrain Loss: 0.363061\n",
            "Train Epoch: 10 [6400/60000 (11%)]\tTrain Loss: 0.489082\n",
            "Train Epoch: 10 [12800/60000 (21%)]\tTrain Loss: 0.307307\n",
            "Train Epoch: 10 [19200/60000 (32%)]\tTrain Loss: 0.542964\n",
            "Train Epoch: 10 [25600/60000 (43%)]\tTrain Loss: 0.195701\n",
            "Train Epoch: 10 [32000/60000 (53%)]\tTrain Loss: 0.547075\n",
            "Train Epoch: 10 [38400/60000 (64%)]\tTrain Loss: 0.321166\n",
            "Train Epoch: 10 [44800/60000 (75%)]\tTrain Loss: 0.175293\n",
            "Train Epoch: 10 [51200/60000 (85%)]\tTrain Loss: 0.381472\n",
            "Train Epoch: 10 [57600/60000 (96%)]\tTrain Loss: 0.624164\n",
            "\n",
            "[EPOCH: 10], \tTest Loss: 0.3312, \tTest Accuracy: 90.42 % \n",
            "\n"
          ]
        }
      ]
    }
  ]
}